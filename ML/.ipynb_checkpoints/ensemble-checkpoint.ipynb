{
 "cells": [
  {
   "cell_type": "code",
   "execution_count": 149,
   "id": "d61b5f27-7d49-49f6-baa9-25236dc59182",
   "metadata": {},
   "outputs": [],
   "source": [
    "import pandas as pd\n",
    "from sklearn.model_selection import train_test_split\n",
    "from sklearn.tree import DecisionTreeClassifier\n",
    "from sklearn.metrics import accuracy_score\n"
   ]
  },
  {
   "cell_type": "code",
   "execution_count": 150,
   "id": "6db602d3-894f-4d2a-88a3-eaf034b2c1c7",
   "metadata": {},
   "outputs": [],
   "source": [
    "data_load = pd.read_csv(\"C:/Users/kakan/Documents/Edubridge/Datasets/IRIS.csv\")\n"
   ]
  },
  {
   "cell_type": "code",
   "execution_count": 151,
   "id": "65362b37-d630-4c28-bed0-01cedc4e0621",
   "metadata": {},
   "outputs": [
    {
     "data": {
      "text/plain": [
       "Index(['sepal_length', 'sepal_width', 'petal_length', 'petal_width',\n",
       "       'species'],\n",
       "      dtype='object')"
      ]
     },
     "execution_count": 151,
     "metadata": {},
     "output_type": "execute_result"
    }
   ],
   "source": [
    "data_load.columns"
   ]
  },
  {
   "cell_type": "markdown",
   "id": "5d5cae8e-6049-487b-b11e-59e8d56661fd",
   "metadata": {},
   "source": [
    "# DecisionTreeClassifier"
   ]
  },
  {
   "cell_type": "code",
   "execution_count": 152,
   "id": "d22f0a00-7d19-443a-a6d9-1393bccbd460",
   "metadata": {},
   "outputs": [
    {
     "name": "stdout",
     "output_type": "stream",
     "text": [
      "90.0\n"
     ]
    }
   ],
   "source": [
    "\n",
    "# Load your dataset\n",
    "data_load = pd.read_csv(\"C:/Users/kakan/Documents/Edubridge/Datasets/IRIS.csv\")\n",
    "\n",
    "# Prepare features and target\n",
    "X = data_load.drop('species', axis=1)  # Features\n",
    "y = data_load['species']                # Target variable\n",
    "\n",
    "# Split the data\n",
    "X_train, X_test, y_train, y_test = train_test_split(X, y, test_size=0.2)\n",
    "\n",
    "# Train the model\n",
    "model = DecisionTreeClassifier()\n",
    "model.fit(X_train, y_train)\n",
    "\n",
    "# Make predictions\n",
    "y_pred = model.predict(X_test)\n",
    "\n",
    "# Evaluate performance\n",
    "accuracy = accuracy_score(y_test, y_pred)\n",
    "print(accuracy*100)\n",
    "\n"
   ]
  },
  {
   "cell_type": "markdown",
   "id": "09f7f8ec-6031-4b78-ba73-db99017a02b1",
   "metadata": {},
   "source": [
    "# RandomForestClassifier"
   ]
  },
  {
   "cell_type": "code",
   "execution_count": 153,
   "id": "2f589ef7-5251-41ed-99a2-20586cc7d10f",
   "metadata": {},
   "outputs": [
    {
     "name": "stdout",
     "output_type": "stream",
     "text": [
      "Accuracy: 90.0\n"
     ]
    }
   ],
   "source": [
    "from sklearn.ensemble import RandomForestClassifier\n",
    "model = RandomForestClassifier(n_estimators=25)  \n",
    "model.fit(X_train, y_train)\n",
    "\n",
    "y_pred = model.predict(X_test)\n",
    "\n",
    "# Evaluate performance\n",
    "accuracy = accuracy_score(y_test, y_pred)\n",
    "print(f'Accuracy: {accuracy*100}')"
   ]
  },
  {
   "cell_type": "code",
   "execution_count": 154,
   "id": "7d1c31f9-314d-4e5e-9128-407669ed9d82",
   "metadata": {},
   "outputs": [
    {
     "name": "stdout",
     "output_type": "stream",
     "text": [
      "90.0\n"
     ]
    },
    {
     "name": "stderr",
     "output_type": "stream",
     "text": [
      "C:\\ProgramData\\anaconda3\\Lib\\site-packages\\sklearn\\ensemble\\_weight_boosting.py:519: FutureWarning: The SAMME.R algorithm (the default) is deprecated and will be removed in 1.6. Use the SAMME algorithm to circumvent this warning.\n",
      "  warnings.warn(\n"
     ]
    }
   ],
   "source": [
    "from sklearn.ensemble import  AdaBoostClassifier\n",
    "model = AdaBoostClassifier()\n",
    "model.fit(X_train, y_train)\n",
    "y_pred = model.predict(X_test)\n",
    "accuracy = accuracy_score(y_test, y_pred)\n",
    "print(accuracy*100)\n"
   ]
  },
  {
   "cell_type": "code",
   "execution_count": 155,
   "id": "df4739bf-d71e-4bbc-a92a-aac8c6941348",
   "metadata": {},
   "outputs": [],
   "source": [
    "mob_data_load  = pd.read_csv(\"C:/Users/kakan/Documents/Edubridge/Datasets/mobile.csv\") "
   ]
  },
  {
   "cell_type": "code",
   "execution_count": 156,
   "id": "fb7455ca-1e5b-402f-9b0f-226cd4329a21",
   "metadata": {},
   "outputs": [
    {
     "data": {
      "text/plain": [
       "battery_power    0\n",
       "blue             0\n",
       "clock_speed      0\n",
       "dual_sim         0\n",
       "fc               0\n",
       "four_g           0\n",
       "int_memory       0\n",
       "m_dep            0\n",
       "mobile_wt        0\n",
       "n_cores          0\n",
       "pc               0\n",
       "px_height        0\n",
       "px_width         0\n",
       "ram              0\n",
       "sc_h             0\n",
       "sc_w             0\n",
       "talk_time        0\n",
       "three_g          0\n",
       "touch_screen     0\n",
       "wifi             0\n",
       "price_range      0\n",
       "dtype: int64"
      ]
     },
     "execution_count": 156,
     "metadata": {},
     "output_type": "execute_result"
    }
   ],
   "source": [
    "mob_data_load.isna().sum()"
   ]
  },
  {
   "cell_type": "code",
   "execution_count": 157,
   "id": "ba44fde6-efda-4764-9b47-eb61d352b30b",
   "metadata": {},
   "outputs": [
    {
     "data": {
      "text/plain": [
       "array([1, 2, 3, 0], dtype=int64)"
      ]
     },
     "execution_count": 157,
     "metadata": {},
     "output_type": "execute_result"
    }
   ],
   "source": [
    "mob_data_load.price_range.unique()"
   ]
  },
  {
   "cell_type": "code",
   "execution_count": 158,
   "id": "27300126-a5ae-4829-b86b-81cda9a2b176",
   "metadata": {},
   "outputs": [],
   "source": [
    "X = mob_data_load.iloc[:,:-1]\n",
    "y= mob_data_load.price_range"
   ]
  },
  {
   "cell_type": "code",
   "execution_count": 159,
   "id": "cb6705bb-9a79-41b6-97d0-851cad151d4e",
   "metadata": {},
   "outputs": [
    {
     "name": "stdout",
     "output_type": "stream",
     "text": [
      "Feature columns:\n",
      "Index(['battery_power', 'blue', 'clock_speed', 'dual_sim', 'fc', 'four_g',\n",
      "       'int_memory', 'm_dep', 'mobile_wt', 'n_cores', 'pc', 'px_height',\n",
      "       'px_width', 'ram', 'sc_h', 'sc_w', 'talk_time', 'three_g',\n",
      "       'touch_screen', 'wifi'],\n",
      "      dtype='object')\n",
      "\n",
      "Target column:\n",
      "price_range\n"
     ]
    }
   ],
   "source": [
    "# Features\n",
    "print(\"Feature columns:\")\n",
    "print(X.columns)\n",
    "\n",
    "# Target variable\n",
    "print(\"\\nTarget column:\")\n",
    "print(y.name)  # This will print the name of the target column\n"
   ]
  },
  {
   "cell_type": "code",
   "execution_count": 160,
   "id": "0c1571bf-17ae-4df9-a94f-4137e1cc5c8c",
   "metadata": {},
   "outputs": [
    {
     "name": "stdout",
     "output_type": "stream",
     "text": [
      "63.0\n"
     ]
    },
    {
     "name": "stderr",
     "output_type": "stream",
     "text": [
      "C:\\ProgramData\\anaconda3\\Lib\\site-packages\\sklearn\\linear_model\\_logistic.py:469: ConvergenceWarning: lbfgs failed to converge (status=1):\n",
      "STOP: TOTAL NO. of ITERATIONS REACHED LIMIT.\n",
      "\n",
      "Increase the number of iterations (max_iter) or scale the data as shown in:\n",
      "    https://scikit-learn.org/stable/modules/preprocessing.html\n",
      "Please also refer to the documentation for alternative solver options:\n",
      "    https://scikit-learn.org/stable/modules/linear_model.html#logistic-regression\n",
      "  n_iter_i = _check_optimize_result(\n"
     ]
    }
   ],
   "source": [
    "from sklearn.linear_model import LogisticRegression\n",
    "\n",
    "# Assuming X and y are already defined\n",
    "X_train, X_test, y_train, y_test = train_test_split(X, y, test_size=0.2)\n",
    "\n",
    "model = LogisticRegression()\n",
    "model.fit(X_train, y_train)  \n",
    "\n",
    "y_pred = model.predict(X_test) \n",
    "accuracy = accuracy_score(y_test, y_pred)  \n",
    "print(accuracy*100)  "
   ]
  },
  {
   "cell_type": "markdown",
   "id": "e55be5bb-13b2-43fd-82cc-5b72f9d8f172",
   "metadata": {},
   "source": [
    "# RandomForestClassifier"
   ]
  },
  {
   "cell_type": "code",
   "execution_count": 161,
   "id": "0f7333a8-51c0-4f04-a766-8791b42bec75",
   "metadata": {},
   "outputs": [
    {
     "name": "stdout",
     "output_type": "stream",
     "text": [
      "Accuracy: 87.00%\n"
     ]
    }
   ],
   "source": [
    "model = RandomForestClassifier(max_depth=8)\n",
    "model.fit(X_train, y_train)\n",
    "y_pred = model.predict(X_test)\n",
    "\n",
    "accuracy = accuracy_score(y_test, y_pred)\n",
    "\n",
    "print(f\"Accuracy: {accuracy * 100:.2f}%\")\n"
   ]
  },
  {
   "cell_type": "markdown",
   "id": "80c1e668-c008-445b-b29d-9614978e71ec",
   "metadata": {},
   "source": [
    "# GradientBoostingClassifier"
   ]
  },
  {
   "cell_type": "code",
   "execution_count": 162,
   "id": "3c3c06b1-26b5-4e7c-b4b6-d4e70ca43d9b",
   "metadata": {},
   "outputs": [
    {
     "name": "stdout",
     "output_type": "stream",
     "text": [
      "Accuracy: 89.75%\n"
     ]
    }
   ],
   "source": [
    "from sklearn.ensemble import GradientBoostingClassifier\n",
    "\n",
    "model = GradientBoostingClassifier()\n",
    "\n",
    "model.fit(X_train, y_train)\n",
    "\n",
    "y_pred = model.predict(X_test)\n",
    "\n",
    "accuracy = accuracy_score(y_test, y_pred)\n",
    "\n",
    "print(f\"Accuracy: {accuracy * 100:.2f}%\")\n"
   ]
  },
  {
   "cell_type": "markdown",
   "id": "32be9e50-bfcb-4444-95e6-b92dd08d8962",
   "metadata": {},
   "source": [
    "# AdaBoostClassifier"
   ]
  },
  {
   "cell_type": "code",
   "execution_count": 163,
   "id": "2d6a1836-eaf7-440e-a2ad-89200ceb4a08",
   "metadata": {},
   "outputs": [
    {
     "name": "stdout",
     "output_type": "stream",
     "text": [
      "AdaBoostClassifier\n",
      "Accuracy: 51.25%\n"
     ]
    },
    {
     "name": "stderr",
     "output_type": "stream",
     "text": [
      "C:\\ProgramData\\anaconda3\\Lib\\site-packages\\sklearn\\ensemble\\_weight_boosting.py:519: FutureWarning: The SAMME.R algorithm (the default) is deprecated and will be removed in 1.6. Use the SAMME algorithm to circumvent this warning.\n",
      "  warnings.warn(\n"
     ]
    }
   ],
   "source": [
    "from sklearn.ensemble import AdaBoostClassifier\n",
    "\n",
    "model = AdaBoostClassifier()\n",
    "\n",
    "model.fit(X_train, y_train)\n",
    "\n",
    "y_pred = model.predict(X_test)\n",
    "\n",
    "accuracy = accuracy_score(y_test, y_pred)\n",
    "\n",
    "print('AdaBoostClassifier')\n",
    "print(f\"Accuracy: {accuracy * 100:.2f}%\")\n"
   ]
  },
  {
   "cell_type": "markdown",
   "id": "04b737f5-4a44-4d78-9ec0-ade138f89365",
   "metadata": {},
   "source": [
    "# hear _data_set"
   ]
  },
  {
   "cell_type": "code",
   "execution_count": 164,
   "id": "fa2fa193-3d19-4dca-b5a1-5ec3ee0e74be",
   "metadata": {},
   "outputs": [],
   "source": [
    "hear_data_load = pd.read_csv(\"C:/Users/kakan/Documents/Edubridge/Datasets/heart.csv\")\n"
   ]
  },
  {
   "cell_type": "code",
   "execution_count": 165,
   "id": "9dd1ba2b-7283-49e3-b420-25ca4e165392",
   "metadata": {},
   "outputs": [
    {
     "data": {
      "text/plain": [
       "Age               4\n",
       "Sex               3\n",
       "ChestPainType     0\n",
       "RestingBP         0\n",
       "Cholesterol       0\n",
       "FastingBS         0\n",
       "RestingECG        0\n",
       "MaxHR             0\n",
       "ExerciseAngina    0\n",
       "Oldpeak           0\n",
       "ST_Slope          0\n",
       "HeartDisease      0\n",
       "dtype: int64"
      ]
     },
     "execution_count": 165,
     "metadata": {},
     "output_type": "execute_result"
    }
   ],
   "source": [
    "hear_data_load.isna().sum()"
   ]
  },
  {
   "cell_type": "code",
   "execution_count": 166,
   "id": "088286f4-45a2-4ba0-bc45-2872765d18f1",
   "metadata": {},
   "outputs": [
    {
     "name": "stderr",
     "output_type": "stream",
     "text": [
      "C:\\Users\\kakan\\AppData\\Local\\Temp\\ipykernel_2564\\3864331150.py:1: FutureWarning: A value is trying to be set on a copy of a DataFrame or Series through chained assignment using an inplace method.\n",
      "The behavior will change in pandas 3.0. This inplace method will never work because the intermediate object on which we are setting values always behaves as a copy.\n",
      "\n",
      "For example, when doing 'df[col].method(value, inplace=True)', try using 'df.method({col: value}, inplace=True)' or df[col] = df[col].method(value) instead, to perform the operation inplace on the original object.\n",
      "\n",
      "\n",
      "  hear_data_load['Age'].fillna(hear_data_load['Age'].mean(), inplace=True)\n"
     ]
    }
   ],
   "source": [
    "hear_data_load['Age'].fillna(hear_data_load['Age'].mean(), inplace=True)\n"
   ]
  },
  {
   "cell_type": "code",
   "execution_count": 167,
   "id": "acce9e0a-7301-45fe-ae67-05ade09c49d4",
   "metadata": {},
   "outputs": [],
   "source": [
    "hear_data_load['Sex'] = hear_data_load['Sex'].fillna(hear_data_load['Sex'].mode()[0])\n"
   ]
  },
  {
   "cell_type": "code",
   "execution_count": 168,
   "id": "51380aa1-e473-4529-8f99-4060daf9c642",
   "metadata": {},
   "outputs": [],
   "source": [
    "from sklearn.preprocessing import  LabelEncoder"
   ]
  },
  {
   "cell_type": "code",
   "execution_count": 169,
   "id": "407e0d30-6de2-4c37-b90e-6f905253d89e",
   "metadata": {},
   "outputs": [],
   "source": [
    "from sklearn.preprocessing import LabelEncoder\n",
    "\n",
    "encode = LabelEncoder()\n",
    "hear_data_load['Sex'] = encode.fit_transform(hear_data_load['Sex'])\n",
    "hear_data_load['ChestPainType'] = encode.fit_transform(hear_data_load['ChestPainType'])\n",
    "hear_data_load['RestingECG'] = encode.fit_transform(hear_data_load['RestingECG'])\n",
    "hear_data_load['ExerciseAngina'] = encode.fit_transform(hear_data_load['ExerciseAngina'])\n",
    "hear_data_load['ST_Slope'] = encode.fit_transform(hear_data_load['ST_Slope'])\n"
   ]
  },
  {
   "cell_type": "code",
   "execution_count": 170,
   "id": "d2a46f9b-a688-4196-b5bb-1d9bf6677c2b",
   "metadata": {},
   "outputs": [
    {
     "data": {
      "text/plain": [
       "Index(['Age', 'Sex', 'ChestPainType', 'RestingBP', 'Cholesterol', 'FastingBS',\n",
       "       'RestingECG', 'MaxHR', 'ExerciseAngina', 'Oldpeak', 'ST_Slope',\n",
       "       'HeartDisease'],\n",
       "      dtype='object')"
      ]
     },
     "execution_count": 170,
     "metadata": {},
     "output_type": "execute_result"
    }
   ],
   "source": [
    "hear_data_load.columns"
   ]
  },
  {
   "cell_type": "code",
   "execution_count": 171,
   "id": "7cb31244-bbca-457c-aaa9-b6c561a88682",
   "metadata": {},
   "outputs": [],
   "source": [
    "# Features (X) - all columns except 'HeartDisease'\n",
    "X = hear_data_load.drop(columns=['HeartDisease'])\n",
    "\n",
    "# Target variable (y)\n",
    "y = hear_data_load['HeartDisease']\n"
   ]
  },
  {
   "cell_type": "code",
   "execution_count": 172,
   "id": "904944e9-2e27-4bd6-8f4a-8869bc4e447a",
   "metadata": {},
   "outputs": [],
   "source": [
    "X_train, X_test, y_train, y_test = train_test_split(X, y, test_size=0.2, random_state=42)\n"
   ]
  },
  {
   "cell_type": "code",
   "execution_count": 173,
   "id": "b7d0bfed-510a-4b3f-9d6a-594d9750f440",
   "metadata": {},
   "outputs": [
    {
     "name": "stdout",
     "output_type": "stream",
     "text": [
      "X_train shape: (734, 11)\n",
      "X_test shape: (184, 11)\n",
      "y_train shape: (734,)\n",
      "y_test shape: (184,)\n"
     ]
    }
   ],
   "source": [
    "# Sizes of the training and test sets\n",
    "print(\"X_train shape:\", X_train.shape)\n",
    "print(\"X_test shape:\", X_test.shape)\n",
    "print(\"y_train shape:\", y_train.shape)\n",
    "print(\"y_test shape:\", y_test.shape)\n"
   ]
  },
  {
   "cell_type": "markdown",
   "id": "810b498a-526c-483f-9f1a-61c82854294d",
   "metadata": {},
   "source": [
    "# RandomForestClassifier"
   ]
  },
  {
   "cell_type": "code",
   "execution_count": 174,
   "id": "df3451dd-acd1-42c2-b566-d0eed6026269",
   "metadata": {},
   "outputs": [
    {
     "name": "stdout",
     "output_type": "stream",
     "text": [
      "Accuracy: 87.50%\n"
     ]
    }
   ],
   "source": [
    "model = RandomForestClassifier(max_depth=8)\n",
    "model.fit(X_train, y_train)\n",
    "y_pred = model.predict(X_test)\n",
    "\n",
    "accuracy = accuracy_score(y_test, y_pred)\n",
    "\n",
    "print(f\"Accuracy: {accuracy * 100:.2f}%\")\n"
   ]
  },
  {
   "cell_type": "code",
   "execution_count": 175,
   "id": "d398351c-8b66-4b82-b56c-3f3e7955b8c6",
   "metadata": {},
   "outputs": [
    {
     "name": "stdout",
     "output_type": "stream",
     "text": [
      "{'RandomForestClassifier (max_depth=8)': 87.5}\n"
     ]
    }
   ],
   "source": [
    "# Initialize an empty dictionary to store model results\n",
    "model_results = {}\n",
    "\n",
    "# Specify the model name and accuracy\n",
    "model_name = \"RandomForestClassifier (max_depth=8)\"\n",
    "accuracy_value = accuracy * 100  # Convert to percentage\n",
    "\n",
    "# Append the model name and accuracy to the dictionary\n",
    "model_results[model_name] = accuracy_value\n",
    "\n",
    "# Print the results\n",
    "print(model_results)\n"
   ]
  },
  {
   "cell_type": "markdown",
   "id": "3c663756-7cf4-4422-a7ae-de07151e49ac",
   "metadata": {},
   "source": [
    "# GradientBoostingClassifier"
   ]
  },
  {
   "cell_type": "code",
   "execution_count": 176,
   "id": "4372beef-60f5-4c43-93b9-ab92b3891698",
   "metadata": {},
   "outputs": [
    {
     "name": "stdout",
     "output_type": "stream",
     "text": [
      "Accuracy: 88.59%\n"
     ]
    }
   ],
   "source": [
    "from sklearn.ensemble import GradientBoostingClassifier\n",
    "\n",
    "model = GradientBoostingClassifier()\n",
    "\n",
    "model.fit(X_train, y_train)\n",
    "\n",
    "y_pred = model.predict(X_test)\n",
    "\n",
    "accuracy = accuracy_score(y_test, y_pred)\n",
    "\n",
    "print(f\"Accuracy: {accuracy * 100:.2f}%\")\n"
   ]
  },
  {
   "cell_type": "code",
   "execution_count": 177,
   "id": "d48769b4-8737-4c00-8209-70664b391e43",
   "metadata": {},
   "outputs": [
    {
     "name": "stdout",
     "output_type": "stream",
     "text": [
      "{'RandomForestClassifier (max_depth=8)': 87.5, 'GradientBoostingClassifier': 88.58695652173914}\n"
     ]
    }
   ],
   "source": [
    "\n",
    "# Specify the model name and accuracy\n",
    "model_name = \"GradientBoostingClassifier\"\n",
    "accuracy_value = accuracy * 100  # Convert to percentage\n",
    "\n",
    "# Append the model name and accuracy to the dictionary\n",
    "model_results[model_name] = accuracy_value\n",
    "\n",
    "# Print the results\n",
    "print(model_results)"
   ]
  },
  {
   "cell_type": "markdown",
   "id": "02cb8301-496b-42e3-a06c-bd2cbc4e3bad",
   "metadata": {},
   "source": [
    "# AdaBoostClassifier"
   ]
  },
  {
   "cell_type": "code",
   "execution_count": 178,
   "id": "3612c614-0d74-48bc-823d-b3254625f90e",
   "metadata": {},
   "outputs": [
    {
     "name": "stdout",
     "output_type": "stream",
     "text": [
      "AdaBoostClassifier\n",
      "Accuracy: 84.78%\n"
     ]
    },
    {
     "name": "stderr",
     "output_type": "stream",
     "text": [
      "C:\\ProgramData\\anaconda3\\Lib\\site-packages\\sklearn\\ensemble\\_weight_boosting.py:519: FutureWarning: The SAMME.R algorithm (the default) is deprecated and will be removed in 1.6. Use the SAMME algorithm to circumvent this warning.\n",
      "  warnings.warn(\n"
     ]
    }
   ],
   "source": [
    "from sklearn.ensemble import AdaBoostClassifier\n",
    "\n",
    "model = AdaBoostClassifier()\n",
    "\n",
    "model.fit(X_train, y_train)\n",
    "\n",
    "y_pred = model.predict(X_test)\n",
    "\n",
    "accuracy = accuracy_score(y_test, y_pred)\n",
    "\n",
    "print('AdaBoostClassifier')\n",
    "print(f\"Accuracy: {accuracy * 100:.2f}%\")\n"
   ]
  },
  {
   "cell_type": "code",
   "execution_count": 179,
   "id": "a1ad1d8b-2632-4f2f-90f8-45d7e3044d38",
   "metadata": {},
   "outputs": [
    {
     "name": "stdout",
     "output_type": "stream",
     "text": [
      "{'RandomForestClassifier (max_depth=8)': 87.5, 'GradientBoostingClassifier': 88.58695652173914, 'AdaBoostClassifier': 84.78260869565217}\n"
     ]
    }
   ],
   "source": [
    "\n",
    "# Specify the model name and accuracy\n",
    "model_name = \"AdaBoostClassifier\"\n",
    "accuracy_value = accuracy * 100  # Convert to percentage\n",
    "\n",
    "# Append the model name and accuracy to the dictionary\n",
    "model_results[model_name] = accuracy_value\n",
    "\n",
    "# Print the results\n",
    "print(model_results)"
   ]
  },
  {
   "cell_type": "code",
   "execution_count": 180,
   "id": "1e1c6472-c0e2-4ccc-a1c6-541a9fe87910",
   "metadata": {},
   "outputs": [],
   "source": [
    "\n",
    "results_df = pd.DataFrame(list(model_results.items()), columns=['Model', 'Accuracy'])"
   ]
  },
  {
   "cell_type": "code",
   "execution_count": 181,
   "id": "f9e3a596-7883-4ceb-b814-90cbe1836f0b",
   "metadata": {},
   "outputs": [
    {
     "data": {
      "text/html": [
       "<div>\n",
       "<style scoped>\n",
       "    .dataframe tbody tr th:only-of-type {\n",
       "        vertical-align: middle;\n",
       "    }\n",
       "\n",
       "    .dataframe tbody tr th {\n",
       "        vertical-align: top;\n",
       "    }\n",
       "\n",
       "    .dataframe thead th {\n",
       "        text-align: right;\n",
       "    }\n",
       "</style>\n",
       "<table border=\"1\" class=\"dataframe\">\n",
       "  <thead>\n",
       "    <tr style=\"text-align: right;\">\n",
       "      <th></th>\n",
       "      <th>Model</th>\n",
       "      <th>Accuracy</th>\n",
       "    </tr>\n",
       "  </thead>\n",
       "  <tbody>\n",
       "    <tr>\n",
       "      <th>0</th>\n",
       "      <td>RandomForestClassifier (max_depth=8)</td>\n",
       "      <td>87.500000</td>\n",
       "    </tr>\n",
       "    <tr>\n",
       "      <th>1</th>\n",
       "      <td>GradientBoostingClassifier</td>\n",
       "      <td>88.586957</td>\n",
       "    </tr>\n",
       "    <tr>\n",
       "      <th>2</th>\n",
       "      <td>AdaBoostClassifier</td>\n",
       "      <td>84.782609</td>\n",
       "    </tr>\n",
       "  </tbody>\n",
       "</table>\n",
       "</div>"
      ],
      "text/plain": [
       "                                  Model   Accuracy\n",
       "0  RandomForestClassifier (max_depth=8)  87.500000\n",
       "1            GradientBoostingClassifier  88.586957\n",
       "2                    AdaBoostClassifier  84.782609"
      ]
     },
     "execution_count": 181,
     "metadata": {},
     "output_type": "execute_result"
    }
   ],
   "source": [
    "results_df"
   ]
  }
 ],
 "metadata": {
  "kernelspec": {
   "display_name": "Python 3 (ipykernel)",
   "language": "python",
   "name": "python3"
  },
  "language_info": {
   "codemirror_mode": {
    "name": "ipython",
    "version": 3
   },
   "file_extension": ".py",
   "mimetype": "text/x-python",
   "name": "python",
   "nbconvert_exporter": "python",
   "pygments_lexer": "ipython3",
   "version": "3.12.4"
  }
 },
 "nbformat": 4,
 "nbformat_minor": 5
}
