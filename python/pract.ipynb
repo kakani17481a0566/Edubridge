{
 "cells": [
  {
   "cell_type": "code",
   "execution_count": 3,
   "metadata": {},
   "outputs": [
    {
     "name": "stdout",
     "output_type": "stream",
     "text": [
      "0\n"
     ]
    }
   ],
   "source": [
    "s = input()\n",
    "p = input()\n",
    "if 'i' in s or 'i' in p:\n",
    "    print(1)\n",
    "else:\n",
    "    print(0)"
   ]
  },
  {
   "cell_type": "markdown",
   "metadata": {},
   "source": [
    "Find whether the given string has a character 'i' in it.\n",
    "you are given 2 strings\n",
    "first line of input has string s\n",
    "second line of input has string p\n",
    "Output: Print 0 if there is no 'i' in a string else print 1.\n",
    "Sample Input\n",
    "Hello World\n",
    "Edubridge"
   ]
  },
  {
   "cell_type": "code",
   "execution_count": 24,
   "metadata": {},
   "outputs": [
    {
     "name": "stdout",
     "output_type": "stream",
     "text": [
      "di\n",
      "1\n",
      "1\n"
     ]
    }
   ],
   "source": [
    "s = input()\n",
    "p = input()\n",
    "wordl_list = []\n",
    "wordl_list.append(s)\n",
    "wordl_list.append(p)\n",
    "wordl_list\n",
    "\n",
    "for word in wordl_list:\n",
    "    #print(word)\n",
    "    if word == s:\n",
    "        print(word)\n",
    "        if 'i' in word:\n",
    "            print(1)\n",
    "        else:\n",
    "            print(0)\n",
    "            \n",
    "    \n",
    "    elif word == p:\n",
    "        if 'i' in  word:\n",
    "            print(1)\n",
    "        else:\n",
    "            print(0)\n",
    "\n"
   ]
  },
  {
   "cell_type": "code",
   "execution_count": 9,
   "metadata": {},
   "outputs": [
    {
     "name": "stdout",
     "output_type": "stream",
     "text": [
      "0\n",
      "1\n"
     ]
    }
   ],
   "source": [
    "s = 'Hello World'\n",
    "p = 'Edubridge'\n",
    "wordl_list = []\n",
    "wordl_list.append(s)\n",
    "wordl_list.append(p)\n",
    "wordl_list\n",
    "for word in wordl_list:\n",
    "    if 'i' in word:\n",
    "        print(1)\n",
    "    else:\n",
    "        print(0)\n"
   ]
  },
  {
   "cell_type": "code",
   "execution_count": 12,
   "metadata": {},
   "outputs": [
    {
     "name": "stdout",
     "output_type": "stream",
     "text": [
      "0\n",
      "1\n"
     ]
    }
   ],
   "source": [
    "def find_i(s,p):\n",
    "    wordl_list = []\n",
    "    wordl_list.append(s)\n",
    "    wordl_list.append(p)\n",
    "    #wordl_list\n",
    "    for word in wordl_list:\n",
    "        if 'i' in word:\n",
    "            print(1) \n",
    "        else:\n",
    "            print(0)\n",
    "\n",
    "s = 'Hello World'\n",
    "p = 'Edubridge'\n",
    "result = find_i(s,p)\n",
    "\n"
   ]
  },
  {
   "cell_type": "code",
   "execution_count": 15,
   "metadata": {},
   "outputs": [
    {
     "name": "stdout",
     "output_type": "stream",
     "text": [
      "1\n"
     ]
    }
   ],
   "source": [
    "word = 'abc'\n",
    "count = 0\n",
    "\n",
    "for i in range(len(word)):\n",
    "    if word[i]=='c':\n",
    "        count = count+1\n",
    "\n",
    "print(count)"
   ]
  },
  {
   "cell_type": "code",
   "execution_count": 17,
   "metadata": {},
   "outputs": [],
   "source": [
    "def coun_letter(word_):\n",
    "    count_c = 0\n",
    "    for i in range(len(word_)):\n",
    "        if word_[i] == 'c':\n",
    "            count_c = count_c +1\n",
    "    \n",
    "    print(count_c)\n",
    "\n"
   ]
  },
  {
   "cell_type": "code",
   "execution_count": 18,
   "metadata": {},
   "outputs": [
    {
     "name": "stdout",
     "output_type": "stream",
     "text": [
      "1\n"
     ]
    }
   ],
   "source": [
    "coun_letter('abc')"
   ]
  }
 ],
 "metadata": {
  "kernelspec": {
   "display_name": "Python 3",
   "language": "python",
   "name": "python3"
  },
  "language_info": {
   "codemirror_mode": {
    "name": "ipython",
    "version": 3
   },
   "file_extension": ".py",
   "mimetype": "text/x-python",
   "name": "python",
   "nbconvert_exporter": "python",
   "pygments_lexer": "ipython3",
   "version": "3.12.6"
  }
 },
 "nbformat": 4,
 "nbformat_minor": 2
}
