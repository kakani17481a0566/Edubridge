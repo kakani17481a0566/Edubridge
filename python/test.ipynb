{
 "cells": [
  {
   "cell_type": "code",
   "execution_count": null,
   "metadata": {
    "vscode": {
     "languageId": "plaintext"
    }
   },
   "outputs": [],
   "source": [
    "\n"
   ]
  },
  {
   "cell_type": "code",
   "execution_count": 1,
   "metadata": {},
   "outputs": [
    {
     "name": "stdout",
     "output_type": "stream",
     "text": [
      "['Monday', 'Tuesday', 'Wednesday', 'Thursday', 'Friday', 'Saturday', 'Sunday']\n"
     ]
    },
    {
     "data": {
      "text/plain": [
       "'Thursday'"
      ]
     },
     "execution_count": 1,
     "metadata": {},
     "output_type": "execute_result"
    }
   ],
   "source": [
    "D = \"Monday\"\n",
    "N = 18\n",
    "great_days = [ \"Monday\",\"Tuesday\", \"Wednesday\", \"Thursday\", \"Friday\", \"Saturday\", \"Sunday\"]\n",
    "\n",
    "stop = 0\n",
    "print(great_days)\n",
    "find_day=[]\n",
    "if D == \"Monday\":\n",
    "    while stop < N:  # Loop until stop reaches N\n",
    "        for day in great_days:\n",
    "            if stop < N:  # Check again to avoid going over N\n",
    "                value = day\n",
    "                find_day.append(day)  # Corrected 'appended' to 'append'\n",
    "                stop += 1  # Increment stop\n",
    "            else:\n",
    "               \n",
    "                break  # Exit if stop has reached N\n",
    "\n",
    "find_day[-1]"
   ]
  },
  {
   "cell_type": "code",
   "execution_count": 9,
   "metadata": {},
   "outputs": [
    {
     "data": {
      "text/plain": [
       "'penpen'"
      ]
     },
     "execution_count": 9,
     "metadata": {},
     "output_type": "execute_result"
    }
   ],
   "source": [
    "n = 2\n",
    "word = 'pen' \n",
    "\n",
    "out = (word ) * n\n",
    "out"
   ]
  },
  {
   "cell_type": "code",
   "execution_count": 27,
   "metadata": {},
   "outputs": [
    {
     "name": "stdout",
     "output_type": "stream",
     "text": [
      "0sa1sa2sa3sa4sa5sa6sa7sa8sa9\n"
     ]
    }
   ],
   "source": [
    "output = []  # Create an empty list to store the numbers\n",
    "\n",
    "for i in range(10):\n",
    "    output.append(str(i))  # Convert i to a string and add it to the list\n",
    "\n",
    "# Join the list with \"sa\" and print the result\n",
    "result = 'sa'.join(output)\n",
    "print(result)\n"
   ]
  },
  {
   "cell_type": "code",
   "execution_count": 7,
   "metadata": {},
   "outputs": [
    {
     "data": {
      "text/plain": [
       "33.42857142857143"
      ]
     },
     "execution_count": 7,
     "metadata": {},
     "output_type": "execute_result"
    }
   ],
   "source": [
    "n = 1329\n",
    "\n",
    "Year = n/365\n",
    "Year = int(Year)\n",
    "\n",
    "pending = n -(Year * 365)\n",
    "pending\n",
    "temp_weeks = pending /7\n",
    "temp_weeks\n",
    "\n",
    "pend\n",
    "\n"
   ]
  }
 ],
 "metadata": {
  "kernelspec": {
   "display_name": "Python 3 (ipykernel)",
   "language": "python",
   "name": "python3"
  },
  "language_info": {
   "codemirror_mode": {
    "name": "ipython",
    "version": 3
   },
   "file_extension": ".py",
   "mimetype": "text/x-python",
   "name": "python",
   "nbconvert_exporter": "python",
   "pygments_lexer": "ipython3",
   "version": "3.12.4"
  }
 },
 "nbformat": 4,
 "nbformat_minor": 4
}
