{
 "cells": [
  {
   "cell_type": "code",
   "execution_count": 17,
   "metadata": {},
   "outputs": [],
   "source": [
    "import pandas as  pd"
   ]
  },
  {
   "cell_type": "code",
   "execution_count": 18,
   "metadata": {},
   "outputs": [],
   "source": [
    "movie_df = pd.read_csv('16k_Movies.csv')"
   ]
  },
  {
   "cell_type": "code",
   "execution_count": 19,
   "metadata": {},
   "outputs": [],
   "source": [
    "line_break = ('===================================================================================================================================')"
   ]
  },
  {
   "cell_type": "code",
   "execution_count": 20,
   "metadata": {},
   "outputs": [
    {
     "data": {
      "text/plain": [
       "Index(['Unnamed: 0', 'Title', 'Release Date', 'Description', 'Rating',\n",
       "       'No of Persons Voted', 'Directed by', 'Written by', 'Duration',\n",
       "       'Genres'],\n",
       "      dtype='object')"
      ]
     },
     "execution_count": 20,
     "metadata": {},
     "output_type": "execute_result"
    }
   ],
   "source": [
    "movie_df.columns"
   ]
  },
  {
   "cell_type": "code",
   "execution_count": 21,
   "metadata": {},
   "outputs": [
    {
     "data": {
      "text/plain": [
       "Unnamed: 0               int64\n",
       "Title                   object\n",
       "Release Date            object\n",
       "Description             object\n",
       "Rating                 float64\n",
       "No of Persons Voted     object\n",
       "Directed by             object\n",
       "Written by              object\n",
       "Duration                object\n",
       "Genres                  object\n",
       "dtype: object"
      ]
     },
     "execution_count": 21,
     "metadata": {},
     "output_type": "execute_result"
    }
   ],
   "source": [
    "#datatypes\n",
    "movie_df.dtypes"
   ]
  },
  {
   "cell_type": "code",
   "execution_count": 22,
   "metadata": {},
   "outputs": [
    {
     "name": "stdout",
     "output_type": "stream",
     "text": [
      "Index(['Unnamed: 0', 'Title', 'Release Date', 'Description', 'Rating',\n",
      "       'No of Persons Voted', 'Directed by', 'Written by', 'Duration',\n",
      "       'Genres'],\n",
      "      dtype='object')\n",
      "===================================================================================================================================\n",
      "Index(['s_no', 'Title', 'Release Date', 'Description', 'Rating',\n",
      "       'No of Persons Voted', 'Directed by', 'Written by', 'Duration',\n",
      "       'Genres'],\n",
      "      dtype='object')\n"
     ]
    }
   ],
   "source": [
    "print(movie_df.columns)\n",
    "\n",
    "print(line_break)\n",
    "movie_df = movie_df.rename(columns={'Unnamed: 0':'s_no'})\n",
    "\n",
    "print(movie_df.columns)"
   ]
  },
  {
   "cell_type": "code",
   "execution_count": 28,
   "metadata": {},
   "outputs": [
    {
     "data": {
      "text/plain": [
       "7380"
      ]
     },
     "execution_count": 28,
     "metadata": {},
     "output_type": "execute_result"
    }
   ],
   "source": [
    "len(movie_df['Directed by'].unique())"
   ]
  },
  {
   "cell_type": "code",
   "execution_count": null,
   "metadata": {},
   "outputs": [],
   "source": []
  }
 ],
 "metadata": {
  "kernelspec": {
   "display_name": "Python 3 (ipykernel)",
   "language": "python",
   "name": "python3"
  },
  "language_info": {
   "codemirror_mode": {
    "name": "ipython",
    "version": 3
   },
   "file_extension": ".py",
   "mimetype": "text/x-python",
   "name": "python",
   "nbconvert_exporter": "python",
   "pygments_lexer": "ipython3",
   "version": "3.12.4"
  }
 },
 "nbformat": 4,
 "nbformat_minor": 4
}
