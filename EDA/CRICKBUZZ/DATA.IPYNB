{
 "cells": [
  {
   "cell_type": "code",
   "execution_count": 3,
   "metadata": {},
   "outputs": [
    {
     "name": "stdout",
     "output_type": "stream",
     "text": [
      "Requirement already satisfied: pyCricbuzz in c:\\users\\kakan\\appdata\\local\\programs\\python\\python312\\lib\\site-packages (2.4)\n",
      "Requirement already satisfied: requests in c:\\users\\kakan\\appdata\\local\\programs\\python\\python312\\lib\\site-packages (from pyCricbuzz) (2.32.3)\n",
      "Requirement already satisfied: charset-normalizer<4,>=2 in c:\\users\\kakan\\appdata\\local\\programs\\python\\python312\\lib\\site-packages (from requests->pyCricbuzz) (3.3.2)\n",
      "Requirement already satisfied: idna<4,>=2.5 in c:\\users\\kakan\\appdata\\local\\programs\\python\\python312\\lib\\site-packages (from requests->pyCricbuzz) (3.10)\n",
      "Requirement already satisfied: urllib3<3,>=1.21.1 in c:\\users\\kakan\\appdata\\local\\programs\\python\\python312\\lib\\site-packages (from requests->pyCricbuzz) (2.2.3)\n",
      "Requirement already satisfied: certifi>=2017.4.17 in c:\\users\\kakan\\appdata\\local\\programs\\python\\python312\\lib\\site-packages (from requests->pyCricbuzz) (2024.8.30)\n",
      "Note: you may need to restart the kernel to use updated packages.\n"
     ]
    }
   ],
   "source": [
    "#pip install pyCricbuzz"
   ]
  },
  {
   "cell_type": "code",
   "execution_count": 2,
   "metadata": {},
   "outputs": [
    {
     "name": "stdout",
     "output_type": "stream",
     "text": [
      "Requirement already satisfied: pycricbuzz in c:\\users\\kakan\\appdata\\local\\programs\\python\\python312\\lib\\site-packages (2.4)\n",
      "Requirement already satisfied: requests in c:\\users\\kakan\\appdata\\local\\programs\\python\\python312\\lib\\site-packages (from pycricbuzz) (2.32.3)\n",
      "Requirement already satisfied: charset-normalizer<4,>=2 in c:\\users\\kakan\\appdata\\local\\programs\\python\\python312\\lib\\site-packages (from requests->pycricbuzz) (3.3.2)\n",
      "Requirement already satisfied: idna<4,>=2.5 in c:\\users\\kakan\\appdata\\local\\programs\\python\\python312\\lib\\site-packages (from requests->pycricbuzz) (3.10)\n",
      "Requirement already satisfied: urllib3<3,>=1.21.1 in c:\\users\\kakan\\appdata\\local\\programs\\python\\python312\\lib\\site-packages (from requests->pycricbuzz) (2.2.3)\n",
      "Requirement already satisfied: certifi>=2017.4.17 in c:\\users\\kakan\\appdata\\local\\programs\\python\\python312\\lib\\site-packages (from requests->pycricbuzz) (2024.8.30)\n",
      "Note: you may need to restart the kernel to use updated packages.\n"
     ]
    }
   ],
   "source": [
    "pip install pycricbuzz"
   ]
  },
  {
   "cell_type": "code",
   "execution_count": 5,
   "metadata": {},
   "outputs": [],
   "source": [
    "pip uninstall pyCricbuzz\n"
   ]
  }
 ],
 "metadata": {
  "kernelspec": {
   "display_name": "Python 3",
   "language": "python",
   "name": "python3"
  },
  "language_info": {
   "codemirror_mode": {
    "name": "ipython",
    "version": 3
   },
   "file_extension": ".py",
   "mimetype": "text/x-python",
   "name": "python",
   "nbconvert_exporter": "python",
   "pygments_lexer": "ipython3",
   "version": "3.12.6"
  }
 },
 "nbformat": 4,
 "nbformat_minor": 2
}
