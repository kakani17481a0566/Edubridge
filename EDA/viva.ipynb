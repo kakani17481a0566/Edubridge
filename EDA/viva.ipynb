{
 "cells": [
  {
   "cell_type": "code",
   "execution_count": 13,
   "metadata": {},
   "outputs": [
    {
     "name": "stdout",
     "output_type": "stream",
     "text": [
      "10  not Armstrong number\n"
     ]
    }
   ],
   "source": [
    "num = int(input())\n",
    "word = str(num)\n",
    "num_is = len(word)\n",
    "sum = 0\n",
    "\n",
    "for i in word:\n",
    "    mul = int(i) ** num_is\n",
    "    sum = sum + mul\n",
    "\n",
    "if sum == num:\n",
    "    print(f\"{num}  Armstrong number\")\n",
    "else:\n",
    "    print(f\"{num}  not Armstrong number\")\n"
   ]
  },
  {
   "cell_type": "code",
   "execution_count": 1,
   "metadata": {},
   "outputs": [
    {
     "name": "stdout",
     "output_type": "stream",
     "text": [
      "7\n",
      "1\n"
     ]
    }
   ],
   "source": [
    "def count_e(word):\n",
    "    \n",
    "    if 1 <= len(word) <= 100000:\n",
    "        result = word.upper().count('E')\n",
    "        return(result)\n",
    "\n",
    "res= count_e('eeeeeeeg')\n",
    "print(res)\n",
    "res = count_e('e')\n",
    "print(res)"
   ]
  },
  {
   "cell_type": "code",
   "execution_count": 3,
   "metadata": {},
   "outputs": [
    {
     "name": "stdout",
     "output_type": "stream",
     "text": [
      "0\n"
     ]
    }
   ],
   "source": [
    "def S_T(S,T):\n",
    "\n",
    "    if len(S) <= 100 and len(T) <= 100:\n",
    "        if 'o' in S or 'o' in T:\n",
    "            print(1)\n",
    "        else:\n",
    "            print(0) \n",
    "      \n",
    "S_T('hELLO','wORLD')  \n",
    "\n"
   ]
  },
  {
   "cell_type": "code",
   "execution_count": 1,
   "metadata": {},
   "outputs": [
    {
     "name": "stdout",
     "output_type": "stream",
     "text": [
      "AM\n"
     ]
    }
   ],
   "source": [
    "def d(i):\n",
    "        h = int(i[:2])\n",
    "        m = int(i[3:])\n",
    "        if h <= 12:\n",
    "            return \"AM\"\n",
    "        else:\n",
    "            return \"PM\"\n",
    "\n",
    "\n",
    "i = \"12:00\"\n",
    "\n",
    "result = d(i)\n",
    "print(result)\n"
   ]
  }
 ],
 "metadata": {
  "kernelspec": {
   "display_name": "Python 3",
   "language": "python",
   "name": "python3"
  },
  "language_info": {
   "codemirror_mode": {
    "name": "ipython",
    "version": 3
   },
   "file_extension": ".py",
   "mimetype": "text/x-python",
   "name": "python",
   "nbconvert_exporter": "python",
   "pygments_lexer": "ipython3",
   "version": "3.12.6"
  }
 },
 "nbformat": 4,
 "nbformat_minor": 2
}
