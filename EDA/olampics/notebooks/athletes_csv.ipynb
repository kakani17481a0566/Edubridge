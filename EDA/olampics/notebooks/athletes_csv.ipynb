{
 "cells": [
  {
   "cell_type": "code",
   "execution_count": 1,
   "metadata": {},
   "outputs": [],
   "source": [
    "#ip install plotly pandas"
   ]
  },
  {
   "cell_type": "code",
   "execution_count": 2,
   "metadata": {},
   "outputs": [],
   "source": [
    "import geopandas as gpd\n",
    "import pandas as pd\n",
    "import matplotlib.pyplot as plt\n",
    "import plotly.express as px\n"
   ]
  },
  {
   "cell_type": "code",
   "execution_count": 3,
   "metadata": {},
   "outputs": [],
   "source": [
    "line_break = '========================================================================================================================================================================'\n",
    "colors = ['lightcoral', 'lightblue', 'lightgreen', 'peachpuff', 'lavender', 'mintcream', 'palegoldenrod', 'thistle', 'lightyellow', 'skyblue', 'lightpink', 'honeydew', 'lavenderblush']\n",
    "\n"
   ]
  },
  {
   "cell_type": "code",
   "execution_count": 4,
   "metadata": {},
   "outputs": [],
   "source": [
    "athletes_df = pd.read_csv('//192.168.0.1/g/INE/olampics/athletes.csv')"
   ]
  },
  {
   "cell_type": "code",
   "execution_count": 5,
   "metadata": {},
   "outputs": [],
   "source": [
    "col= athletes_df.columns.sort_values()"
   ]
  },
  {
   "cell_type": "markdown",
   "metadata": {},
   "source": [
    "### The residence country and place are typically the same as the participation country in the Olympics."
   ]
  },
  {
   "cell_type": "code",
   "execution_count": 6,
   "metadata": {},
   "outputs": [
    {
     "name": "stdout",
     "output_type": "stream",
     "text": [
      "residence_place\n",
      "False    6804\n",
      "True     4309\n",
      "Name: count, dtype: int64\n",
      "country            Armenia\n",
      "residence_place        NaN\n",
      "Name: 4, dtype: object\n",
      "========================================================================================================================================================================\n",
      "residence_place\n",
      "False    11113\n",
      "Name: count, dtype: int64\n",
      "count of updated values ==> 4309\n"
     ]
    }
   ],
   "source": [
    "## residence_place country \n",
    "\n",
    "temp_= athletes_df[athletes_df['residence_place'].isna()][['country','residence_place']]\n",
    "\n",
    "temp_ = temp_.reset_index()\n",
    "temp_.columns\n",
    "\n",
    "\n",
    "print(athletes_df['residence_place'].isna().value_counts())\n",
    "\n",
    "\n",
    "print(athletes_df.iloc[4][['country','residence_place']])\n",
    "print(line_break)\n",
    "\n",
    "count = 0\n",
    "\n",
    "for i in  temp_['index']:\n",
    "    #print(athletes_df.iloc[i][['country','residence_place']])\n",
    "   # print(line_break)\n",
    "\n",
    "\n",
    "\n",
    "    assign_value = athletes_df.iloc[i]['country']\n",
    "    athletes_df.loc[i, 'residence_place'] = assign_value\n",
    "    count += 1\n",
    "\n",
    "   # print(athletes_df.iloc[i][['country','residence_place']])\n",
    "   # print(line_break)\n",
    "    #print('End')\n",
    "    \n",
    "\n",
    "print(athletes_df['residence_place'].isna().value_counts())\n",
    "print(f'count of updated values ==> {count}')"
   ]
  },
  {
   "cell_type": "code",
   "execution_count": 7,
   "metadata": {},
   "outputs": [
    {
     "name": "stdout",
     "output_type": "stream",
     "text": [
      "ritual                10256\n",
      "other_sports          10053\n",
      "influence              8958\n",
      "sporting_relatives     8595\n",
      "philosophy             8330\n",
      "nickname               8147\n",
      "hero                   7798\n",
      "hobbies                6906\n",
      "education              5575\n",
      "family                 5552\n",
      "reason                 5267\n",
      "coach                  2891\n",
      "residence_country      2825\n",
      "birth_place            2386\n",
      "birth_country          1638\n",
      "occupation             1529\n",
      "lang                    508\n",
      "weight                    5\n",
      "height                    3\n",
      "name_short                3\n",
      "name_tv                   3\n",
      "nationality               3\n",
      "nationality_long          3\n",
      "nationality_code          3\n",
      "dtype: int64\n"
     ]
    }
   ],
   "source": [
    "null_columns = athletes_df.isna().sum().sort_values(ascending=False)\n",
    "\n",
    "print(null_columns[null_columns.values > 0])"
   ]
  },
  {
   "cell_type": "code",
   "execution_count": 8,
   "metadata": {},
   "outputs": [
    {
     "data": {
      "text/html": [
       "<div>\n",
       "<style scoped>\n",
       "    .dataframe tbody tr th:only-of-type {\n",
       "        vertical-align: middle;\n",
       "    }\n",
       "\n",
       "    .dataframe tbody tr th {\n",
       "        vertical-align: top;\n",
       "    }\n",
       "\n",
       "    .dataframe thead th {\n",
       "        text-align: right;\n",
       "    }\n",
       "</style>\n",
       "<table border=\"1\" class=\"dataframe\">\n",
       "  <thead>\n",
       "    <tr style=\"text-align: right;\">\n",
       "      <th></th>\n",
       "      <th>code</th>\n",
       "      <th>current</th>\n",
       "      <th>name</th>\n",
       "      <th>name_short</th>\n",
       "      <th>name_tv</th>\n",
       "      <th>gender</th>\n",
       "      <th>function</th>\n",
       "      <th>country_code</th>\n",
       "      <th>country</th>\n",
       "      <th>country_long</th>\n",
       "      <th>...</th>\n",
       "      <th>family</th>\n",
       "      <th>lang</th>\n",
       "      <th>coach</th>\n",
       "      <th>reason</th>\n",
       "      <th>hero</th>\n",
       "      <th>influence</th>\n",
       "      <th>philosophy</th>\n",
       "      <th>sporting_relatives</th>\n",
       "      <th>ritual</th>\n",
       "      <th>other_sports</th>\n",
       "    </tr>\n",
       "  </thead>\n",
       "  <tbody>\n",
       "    <tr>\n",
       "      <th>0</th>\n",
       "      <td>1532872</td>\n",
       "      <td>True</td>\n",
       "      <td>ALEKSANYAN Artur</td>\n",
       "      <td>ALEKSANYAN A</td>\n",
       "      <td>Artur ALEKSANYAN</td>\n",
       "      <td>Male</td>\n",
       "      <td>Athlete</td>\n",
       "      <td>ARM</td>\n",
       "      <td>Armenia</td>\n",
       "      <td>Armenia</td>\n",
       "      <td>...</td>\n",
       "      <td>Father, Gevorg Aleksanyan</td>\n",
       "      <td>Armenian, English, Russian</td>\n",
       "      <td>Gevorg Aleksanyan (ARM), father</td>\n",
       "      <td>He followed his father and his uncle into the ...</td>\n",
       "      <td>Footballer Zinedine Zidane (FRA), World Cup wi...</td>\n",
       "      <td>His father, Gevorg Aleksanyan</td>\n",
       "      <td>\"Wrestling is my life.\" (mediamax.am. 18 May 2...</td>\n",
       "      <td>NaN</td>\n",
       "      <td>NaN</td>\n",
       "      <td>NaN</td>\n",
       "    </tr>\n",
       "    <tr>\n",
       "      <th>1</th>\n",
       "      <td>1532873</td>\n",
       "      <td>True</td>\n",
       "      <td>AMOYAN Malkhas</td>\n",
       "      <td>AMOYAN M</td>\n",
       "      <td>Malkhas AMOYAN</td>\n",
       "      <td>Male</td>\n",
       "      <td>Athlete</td>\n",
       "      <td>ARM</td>\n",
       "      <td>Armenia</td>\n",
       "      <td>Armenia</td>\n",
       "      <td>...</td>\n",
       "      <td>NaN</td>\n",
       "      <td>Armenian</td>\n",
       "      <td>NaN</td>\n",
       "      <td>NaN</td>\n",
       "      <td>NaN</td>\n",
       "      <td>NaN</td>\n",
       "      <td>\"To become a good athlete, you first have to b...</td>\n",
       "      <td>Uncle, Roman Amoyan (wrestling), 2008 Olympic ...</td>\n",
       "      <td>NaN</td>\n",
       "      <td>NaN</td>\n",
       "    </tr>\n",
       "    <tr>\n",
       "      <th>2</th>\n",
       "      <td>1532874</td>\n",
       "      <td>True</td>\n",
       "      <td>GALSTYAN Slavik</td>\n",
       "      <td>GALSTYAN S</td>\n",
       "      <td>Slavik GALSTYAN</td>\n",
       "      <td>Male</td>\n",
       "      <td>Athlete</td>\n",
       "      <td>ARM</td>\n",
       "      <td>Armenia</td>\n",
       "      <td>Armenia</td>\n",
       "      <td>...</td>\n",
       "      <td>NaN</td>\n",
       "      <td>Armenian</td>\n",
       "      <td>Personal: Martin Alekhanyan (ARM).&lt;br&gt;National...</td>\n",
       "      <td>NaN</td>\n",
       "      <td>NaN</td>\n",
       "      <td>NaN</td>\n",
       "      <td>NaN</td>\n",
       "      <td>NaN</td>\n",
       "      <td>NaN</td>\n",
       "      <td>NaN</td>\n",
       "    </tr>\n",
       "    <tr>\n",
       "      <th>3</th>\n",
       "      <td>1532944</td>\n",
       "      <td>True</td>\n",
       "      <td>HARUTYUNYAN Arsen</td>\n",
       "      <td>HARUTYUNYAN A</td>\n",
       "      <td>Arsen HARUTYUNYAN</td>\n",
       "      <td>Male</td>\n",
       "      <td>Athlete</td>\n",
       "      <td>ARM</td>\n",
       "      <td>Armenia</td>\n",
       "      <td>Armenia</td>\n",
       "      <td>...</td>\n",
       "      <td>Wife, Diana (married October 2022). Daughter, ...</td>\n",
       "      <td>Armenian</td>\n",
       "      <td>National: Habetnak Kurghinyan</td>\n",
       "      <td>While doing karate he noticed wrestlers traini...</td>\n",
       "      <td>Wrestler Armen Nazaryan (ARM, BUL), two-time O...</td>\n",
       "      <td>NaN</td>\n",
       "      <td>“Nothing is impossible, set goals in front of ...</td>\n",
       "      <td>NaN</td>\n",
       "      <td>NaN</td>\n",
       "      <td>NaN</td>\n",
       "    </tr>\n",
       "    <tr>\n",
       "      <th>4</th>\n",
       "      <td>1532945</td>\n",
       "      <td>True</td>\n",
       "      <td>TEVANYAN Vazgen</td>\n",
       "      <td>TEVANYAN V</td>\n",
       "      <td>Vazgen TEVANYAN</td>\n",
       "      <td>Male</td>\n",
       "      <td>Athlete</td>\n",
       "      <td>ARM</td>\n",
       "      <td>Armenia</td>\n",
       "      <td>Armenia</td>\n",
       "      <td>...</td>\n",
       "      <td>Wife, Sona (married November 2023)</td>\n",
       "      <td>Armenian, Russian</td>\n",
       "      <td>National: Habetnak Kurghinyan (ARM)</td>\n",
       "      <td>“My family did not like wrestling very much. A...</td>\n",
       "      <td>NaN</td>\n",
       "      <td>NaN</td>\n",
       "      <td>NaN</td>\n",
       "      <td>NaN</td>\n",
       "      <td>NaN</td>\n",
       "      <td>NaN</td>\n",
       "    </tr>\n",
       "    <tr>\n",
       "      <th>5</th>\n",
       "      <td>1532951</td>\n",
       "      <td>True</td>\n",
       "      <td>ARENAS Lorena</td>\n",
       "      <td>ARENAS L</td>\n",
       "      <td>Lorena ARENAS</td>\n",
       "      <td>Female</td>\n",
       "      <td>Athlete</td>\n",
       "      <td>COL</td>\n",
       "      <td>Colombia</td>\n",
       "      <td>Colombia</td>\n",
       "      <td>...</td>\n",
       "      <td>Father, Jose Otoniel. Mother, Maria Rudy. Has ...</td>\n",
       "      <td>Spanish</td>\n",
       "      <td>Personal: Brent Vallance (AUS)</td>\n",
       "      <td>NaN</td>\n",
       "      <td>Race walker Luis Fernando Lopez (COL), four-ti...</td>\n",
       "      <td>NaN</td>\n",
       "      <td>NaN</td>\n",
       "      <td>NaN</td>\n",
       "      <td>In competition she wears a ring or earrings he...</td>\n",
       "      <td>NaN</td>\n",
       "    </tr>\n",
       "    <tr>\n",
       "      <th>6</th>\n",
       "      <td>1533112</td>\n",
       "      <td>True</td>\n",
       "      <td>McKENZIE Ashley</td>\n",
       "      <td>McKENZIE A</td>\n",
       "      <td>Ashley McKENZIE</td>\n",
       "      <td>Male</td>\n",
       "      <td>Athlete</td>\n",
       "      <td>JAM</td>\n",
       "      <td>Jamaica</td>\n",
       "      <td>Jamaica</td>\n",
       "      <td>...</td>\n",
       "      <td>One daughter, Lana-Rose, who lives in France</td>\n",
       "      <td>English</td>\n",
       "      <td>Personal and National: Luke Preston (GBR)</td>\n",
       "      <td>\"I was thrown over [an argument about] a Pokem...</td>\n",
       "      <td>Boxer Muhammad Ali, born Cassius Clay (USA), f...</td>\n",
       "      <td>\"My coach Luke Preston. We've been a team for ...</td>\n",
       "      <td>NaN</td>\n",
       "      <td>NaN</td>\n",
       "      <td>NaN</td>\n",
       "      <td>NaN</td>\n",
       "    </tr>\n",
       "    <tr>\n",
       "      <th>7</th>\n",
       "      <td>1533136</td>\n",
       "      <td>True</td>\n",
       "      <td>BASS BITTAYE Gina Mariam</td>\n",
       "      <td>BASS BITTAYE GM</td>\n",
       "      <td>Gina Mariam BASS BITTAYE</td>\n",
       "      <td>Female</td>\n",
       "      <td>Athlete</td>\n",
       "      <td>GAM</td>\n",
       "      <td>Gambia</td>\n",
       "      <td>Gambia</td>\n",
       "      <td>...</td>\n",
       "      <td>Husband, Mustapha Bittaye - physical education...</td>\n",
       "      <td>English, French</td>\n",
       "      <td>Personal: Christophe Belliard (FRA)</td>\n",
       "      <td>“I started running when I was in primary schoo...</td>\n",
       "      <td>Sprinter Shelly-Ann Fraser-Pryce (JAM), three ...</td>\n",
       "      <td>NaN</td>\n",
       "      <td>\"If you believe in yourself, never be discoura...</td>\n",
       "      <td>NaN</td>\n",
       "      <td>NaN</td>\n",
       "      <td>NaN</td>\n",
       "    </tr>\n",
       "    <tr>\n",
       "      <th>8</th>\n",
       "      <td>1533176</td>\n",
       "      <td>True</td>\n",
       "      <td>CAMARA Ebrahima</td>\n",
       "      <td>CAMARA E</td>\n",
       "      <td>Ebrahima CAMARA</td>\n",
       "      <td>Male</td>\n",
       "      <td>Athlete</td>\n",
       "      <td>GAM</td>\n",
       "      <td>Gambia</td>\n",
       "      <td>Gambia</td>\n",
       "      <td>...</td>\n",
       "      <td>Married. One daughter. Has three brothers</td>\n",
       "      <td>Arabic, English, French, Mandinka, Wolof</td>\n",
       "      <td>Personal: Christophe Belliard (FRA)</td>\n",
       "      <td>\"I love running and I was fast a child.\" (Athl...</td>\n",
       "      <td>Sprinter Gina Mariam Bass Bittaye (GAM), two-t...</td>\n",
       "      <td>Momodou Lamin Kujabi, a former international a...</td>\n",
       "      <td>\"What does not kill you makes you stronger.\" (...</td>\n",
       "      <td>NaN</td>\n",
       "      <td>NaN</td>\n",
       "      <td>NaN</td>\n",
       "    </tr>\n",
       "    <tr>\n",
       "      <th>9</th>\n",
       "      <td>1533188</td>\n",
       "      <td>True</td>\n",
       "      <td>RUEDA SANTOS Lizeth</td>\n",
       "      <td>RUEDA SANTOS L</td>\n",
       "      <td>Lizeth RUEDA SANTOS</td>\n",
       "      <td>Female</td>\n",
       "      <td>Athlete</td>\n",
       "      <td>MEX</td>\n",
       "      <td>Mexico</td>\n",
       "      <td>Mexico</td>\n",
       "      <td>...</td>\n",
       "      <td>NaN</td>\n",
       "      <td>Spanish</td>\n",
       "      <td>Personal: Eugenio Chimal (MEX)</td>\n",
       "      <td>Was a competitive swimmer from age 12 and went...</td>\n",
       "      <td>NaN</td>\n",
       "      <td>NaN</td>\n",
       "      <td>NaN</td>\n",
       "      <td>NaN</td>\n",
       "      <td>NaN</td>\n",
       "      <td>Competed in marathon swimming at London 2012. ...</td>\n",
       "    </tr>\n",
       "  </tbody>\n",
       "</table>\n",
       "<p>10 rows × 36 columns</p>\n",
       "</div>"
      ],
      "text/plain": [
       "      code  current                      name       name_short  \\\n",
       "0  1532872     True          ALEKSANYAN Artur     ALEKSANYAN A   \n",
       "1  1532873     True            AMOYAN Malkhas         AMOYAN M   \n",
       "2  1532874     True           GALSTYAN Slavik       GALSTYAN S   \n",
       "3  1532944     True         HARUTYUNYAN Arsen    HARUTYUNYAN A   \n",
       "4  1532945     True           TEVANYAN Vazgen       TEVANYAN V   \n",
       "5  1532951     True             ARENAS Lorena         ARENAS L   \n",
       "6  1533112     True           McKENZIE Ashley       McKENZIE A   \n",
       "7  1533136     True  BASS BITTAYE Gina Mariam  BASS BITTAYE GM   \n",
       "8  1533176     True           CAMARA Ebrahima         CAMARA E   \n",
       "9  1533188     True       RUEDA SANTOS Lizeth   RUEDA SANTOS L   \n",
       "\n",
       "                    name_tv  gender function country_code   country  \\\n",
       "0          Artur ALEKSANYAN    Male  Athlete          ARM   Armenia   \n",
       "1            Malkhas AMOYAN    Male  Athlete          ARM   Armenia   \n",
       "2           Slavik GALSTYAN    Male  Athlete          ARM   Armenia   \n",
       "3         Arsen HARUTYUNYAN    Male  Athlete          ARM   Armenia   \n",
       "4           Vazgen TEVANYAN    Male  Athlete          ARM   Armenia   \n",
       "5             Lorena ARENAS  Female  Athlete          COL  Colombia   \n",
       "6           Ashley McKENZIE    Male  Athlete          JAM   Jamaica   \n",
       "7  Gina Mariam BASS BITTAYE  Female  Athlete          GAM    Gambia   \n",
       "8           Ebrahima CAMARA    Male  Athlete          GAM    Gambia   \n",
       "9       Lizeth RUEDA SANTOS  Female  Athlete          MEX    Mexico   \n",
       "\n",
       "  country_long  ...                                             family  \\\n",
       "0      Armenia  ...                          Father, Gevorg Aleksanyan   \n",
       "1      Armenia  ...                                                NaN   \n",
       "2      Armenia  ...                                                NaN   \n",
       "3      Armenia  ...  Wife, Diana (married October 2022). Daughter, ...   \n",
       "4      Armenia  ...                 Wife, Sona (married November 2023)   \n",
       "5     Colombia  ...  Father, Jose Otoniel. Mother, Maria Rudy. Has ...   \n",
       "6      Jamaica  ...       One daughter, Lana-Rose, who lives in France   \n",
       "7       Gambia  ...  Husband, Mustapha Bittaye - physical education...   \n",
       "8       Gambia  ...          Married. One daughter. Has three brothers   \n",
       "9       Mexico  ...                                                NaN   \n",
       "\n",
       "                                       lang  \\\n",
       "0                Armenian, English, Russian   \n",
       "1                                  Armenian   \n",
       "2                                  Armenian   \n",
       "3                                  Armenian   \n",
       "4                         Armenian, Russian   \n",
       "5                                   Spanish   \n",
       "6                                   English   \n",
       "7                           English, French   \n",
       "8  Arabic, English, French, Mandinka, Wolof   \n",
       "9                                   Spanish   \n",
       "\n",
       "                                               coach  \\\n",
       "0                    Gevorg Aleksanyan (ARM), father   \n",
       "1                                                NaN   \n",
       "2  Personal: Martin Alekhanyan (ARM).<br>National...   \n",
       "3                      National: Habetnak Kurghinyan   \n",
       "4                National: Habetnak Kurghinyan (ARM)   \n",
       "5                     Personal: Brent Vallance (AUS)   \n",
       "6          Personal and National: Luke Preston (GBR)   \n",
       "7                Personal: Christophe Belliard (FRA)   \n",
       "8                Personal: Christophe Belliard (FRA)   \n",
       "9                     Personal: Eugenio Chimal (MEX)   \n",
       "\n",
       "                                              reason  \\\n",
       "0  He followed his father and his uncle into the ...   \n",
       "1                                                NaN   \n",
       "2                                                NaN   \n",
       "3  While doing karate he noticed wrestlers traini...   \n",
       "4  “My family did not like wrestling very much. A...   \n",
       "5                                                NaN   \n",
       "6  \"I was thrown over [an argument about] a Pokem...   \n",
       "7  “I started running when I was in primary schoo...   \n",
       "8  \"I love running and I was fast a child.\" (Athl...   \n",
       "9  Was a competitive swimmer from age 12 and went...   \n",
       "\n",
       "                                                hero  \\\n",
       "0  Footballer Zinedine Zidane (FRA), World Cup wi...   \n",
       "1                                                NaN   \n",
       "2                                                NaN   \n",
       "3  Wrestler Armen Nazaryan (ARM, BUL), two-time O...   \n",
       "4                                                NaN   \n",
       "5  Race walker Luis Fernando Lopez (COL), four-ti...   \n",
       "6  Boxer Muhammad Ali, born Cassius Clay (USA), f...   \n",
       "7  Sprinter Shelly-Ann Fraser-Pryce (JAM), three ...   \n",
       "8  Sprinter Gina Mariam Bass Bittaye (GAM), two-t...   \n",
       "9                                                NaN   \n",
       "\n",
       "                                           influence  \\\n",
       "0                      His father, Gevorg Aleksanyan   \n",
       "1                                                NaN   \n",
       "2                                                NaN   \n",
       "3                                                NaN   \n",
       "4                                                NaN   \n",
       "5                                                NaN   \n",
       "6  \"My coach Luke Preston. We've been a team for ...   \n",
       "7                                                NaN   \n",
       "8  Momodou Lamin Kujabi, a former international a...   \n",
       "9                                                NaN   \n",
       "\n",
       "                                          philosophy  \\\n",
       "0  \"Wrestling is my life.\" (mediamax.am. 18 May 2...   \n",
       "1  \"To become a good athlete, you first have to b...   \n",
       "2                                                NaN   \n",
       "3  “Nothing is impossible, set goals in front of ...   \n",
       "4                                                NaN   \n",
       "5                                                NaN   \n",
       "6                                                NaN   \n",
       "7  \"If you believe in yourself, never be discoura...   \n",
       "8  \"What does not kill you makes you stronger.\" (...   \n",
       "9                                                NaN   \n",
       "\n",
       "                                  sporting_relatives  \\\n",
       "0                                                NaN   \n",
       "1  Uncle, Roman Amoyan (wrestling), 2008 Olympic ...   \n",
       "2                                                NaN   \n",
       "3                                                NaN   \n",
       "4                                                NaN   \n",
       "5                                                NaN   \n",
       "6                                                NaN   \n",
       "7                                                NaN   \n",
       "8                                                NaN   \n",
       "9                                                NaN   \n",
       "\n",
       "                                              ritual  \\\n",
       "0                                                NaN   \n",
       "1                                                NaN   \n",
       "2                                                NaN   \n",
       "3                                                NaN   \n",
       "4                                                NaN   \n",
       "5  In competition she wears a ring or earrings he...   \n",
       "6                                                NaN   \n",
       "7                                                NaN   \n",
       "8                                                NaN   \n",
       "9                                                NaN   \n",
       "\n",
       "                                        other_sports  \n",
       "0                                                NaN  \n",
       "1                                                NaN  \n",
       "2                                                NaN  \n",
       "3                                                NaN  \n",
       "4                                                NaN  \n",
       "5                                                NaN  \n",
       "6                                                NaN  \n",
       "7                                                NaN  \n",
       "8                                                NaN  \n",
       "9  Competed in marathon swimming at London 2012. ...  \n",
       "\n",
       "[10 rows x 36 columns]"
      ]
     },
     "execution_count": 8,
     "metadata": {},
     "output_type": "execute_result"
    }
   ],
   "source": [
    "athletes_df.head(10)"
   ]
  },
  {
   "cell_type": "markdown",
   "metadata": {},
   "source": [
    "### General Overview"
   ]
  },
  {
   "cell_type": "markdown",
   "metadata": {},
   "source": [
    "## What are the dimensions of the dataset (number of rows and columns)?\n"
   ]
  },
  {
   "cell_type": "code",
   "execution_count": 9,
   "metadata": {},
   "outputs": [
    {
     "data": {
      "text/plain": [
       "(11113, 36)"
      ]
     },
     "execution_count": 9,
     "metadata": {},
     "output_type": "execute_result"
    }
   ],
   "source": [
    "athletes_df.shape"
   ]
  },
  {
   "cell_type": "markdown",
   "metadata": {},
   "source": [
    "## What are the data types of each column?"
   ]
  },
  {
   "cell_type": "code",
   "execution_count": 10,
   "metadata": {},
   "outputs": [
    {
     "data": {
      "text/plain": [
       "code                    int64\n",
       "current                  bool\n",
       "name                   object\n",
       "name_short             object\n",
       "name_tv                object\n",
       "gender                 object\n",
       "function               object\n",
       "country_code           object\n",
       "country                object\n",
       "country_long           object\n",
       "nationality            object\n",
       "nationality_long       object\n",
       "nationality_code       object\n",
       "height                float64\n",
       "weight                float64\n",
       "disciplines            object\n",
       "events                 object\n",
       "birth_date             object\n",
       "birth_place            object\n",
       "birth_country          object\n",
       "residence_place        object\n",
       "residence_country      object\n",
       "nickname               object\n",
       "hobbies                object\n",
       "occupation             object\n",
       "education              object\n",
       "family                 object\n",
       "lang                   object\n",
       "coach                  object\n",
       "reason                 object\n",
       "hero                   object\n",
       "influence              object\n",
       "philosophy             object\n",
       "sporting_relatives     object\n",
       "ritual                 object\n",
       "other_sports           object\n",
       "dtype: object"
      ]
     },
     "execution_count": 10,
     "metadata": {},
     "output_type": "execute_result"
    }
   ],
   "source": [
    "athletes_df.dtypes"
   ]
  },
  {
   "cell_type": "markdown",
   "metadata": {},
   "source": [
    "## Are there any missing values in the dataset? If so, in which columns?\n"
   ]
  },
  {
   "cell_type": "code",
   "execution_count": 11,
   "metadata": {},
   "outputs": [
    {
     "name": "stdout",
     "output_type": "stream",
     "text": [
      "Index(['code', 'current', 'name', 'name_short', 'name_tv', 'gender',\n",
      "       'function', 'country_code', 'country', 'country_long', 'nationality',\n",
      "       'nationality_long', 'nationality_code', 'height', 'weight',\n",
      "       'disciplines', 'events', 'birth_date', 'birth_place', 'birth_country',\n",
      "       'residence_place', 'residence_country', 'nickname', 'hobbies',\n",
      "       'occupation', 'education', 'family', 'lang', 'coach', 'reason', 'hero',\n",
      "       'influence', 'philosophy', 'sporting_relatives', 'ritual',\n",
      "       'other_sports'],\n",
      "      dtype='object')\n",
      "========================================================================================================================================================================\n",
      "ritual                10256\n",
      "other_sports          10053\n",
      "influence              8958\n",
      "sporting_relatives     8595\n",
      "philosophy             8330\n",
      "nickname               8147\n",
      "hero                   7798\n",
      "hobbies                6906\n",
      "education              5575\n",
      "family                 5552\n",
      "reason                 5267\n",
      "coach                  2891\n",
      "residence_country      2825\n",
      "birth_place            2386\n",
      "birth_country          1638\n",
      "occupation             1529\n",
      "lang                    508\n",
      "weight                    5\n",
      "height                    3\n",
      "name_short                3\n",
      "name_tv                   3\n",
      "nationality               3\n",
      "nationality_long          3\n",
      "nationality_code          3\n",
      "dtype: int64\n"
     ]
    }
   ],
   "source": [
    "print(athletes_df.columns)\n",
    "print(line_break)\n",
    "\n",
    "null_columns = athletes_df.isna().sum().sort_values(ascending=False)\n",
    "\n",
    "print(null_columns[null_columns.values > 0])"
   ]
  },
  {
   "cell_type": "markdown",
   "metadata": {},
   "source": [
    "## What are the unique values in the 'gender' column?"
   ]
  },
  {
   "cell_type": "code",
   "execution_count": 12,
   "metadata": {},
   "outputs": [
    {
     "data": {
      "text/plain": [
       "array(['Male', 'Female'], dtype=object)"
      ]
     },
     "execution_count": 12,
     "metadata": {},
     "output_type": "execute_result"
    }
   ],
   "source": [
    "athletes_df['gender'].unique()"
   ]
  },
  {
   "cell_type": "markdown",
   "metadata": {},
   "source": [
    "## What is the distribution of athletes across different 'countries'?\n"
   ]
  },
  {
   "cell_type": "code",
   "execution_count": 13,
   "metadata": {},
   "outputs": [
    {
     "name": "stdout",
     "output_type": "stream",
     "text": [
      "Index(['Country', 'Number of Athletes'], dtype='object')\n"
     ]
    }
   ],
   "source": [
    "con = athletes_df['country'].value_counts()\n",
    "con_df = con.reset_index()\n",
    "con_df.columns = ['Country', 'Number of Athletes']\n",
    "print(con_df .columns)"
   ]
  },
  {
   "cell_type": "code",
   "execution_count": 14,
   "metadata": {},
   "outputs": [
    {
     "data": {
      "application/vnd.plotly.v1+json": {
       "config": {
        "plotlyServerURL": "https://plot.ly"
       },
       "data": [
        {
         "coloraxis": "coloraxis",
         "geo": "geo",
         "hovertemplate": "Country=%{location}<br>Number of Athletes=%{z}<extra></extra>",
         "locationmode": "country names",
         "locations": [
          "United States",
          "France",
          "Australia",
          "Germany",
          "Japan",
          "Spain",
          "China",
          "Italy",
          "Great Britain",
          "Canada",
          "Netherlands",
          "Brazil",
          "Poland",
          "New Zealand",
          "Hungary",
          "Belgium",
          "Egypt",
          "Korea",
          "Argentina",
          "Ireland",
          "Ukraine",
          "South Africa",
          "Switzerland",
          "Denmark",
          "Sweden",
          "Serbia",
          "India",
          "Czechia",
          "Norway",
          "Mexico",
          "Türkiye",
          "Greece",
          "Romania",
          "Slovenia",
          "Israel",
          "Uzbekistan",
          "Colombia",
          "Nigeria",
          "Austria",
          "Kazakhstan",
          "Portugal",
          "Kenya",
          "Croatia",
          "Jamaica",
          "Morocco",
          "Cuba",
          "Chinese Taipei",
          "Dominican Republic",
          "Finland",
          "Thailand",
          "Lithuania",
          "Puerto Rico",
          "Chile",
          "Azerbaijan",
          "Algeria",
          "Bulgaria",
          "IR Iran",
          "Ecuador",
          "EOR",
          "Fiji",
          "Hong Kong, China",
          "Ethiopia",
          "AIN",
          "Mongolia",
          "Zambia",
          "Venezuela",
          "Indonesia",
          "Paraguay",
          "Latvia",
          "Slovakia",
          "Georgia",
          "Uruguay",
          "Tunisia",
          "Republic of Moldova",
          "Peru",
          "Malaysia",
          "Angola",
          "Guinea",
          "Uganda",
          "Samoa",
          "Estonia",
          "Mali",
          "Singapore",
          "Iraq",
          "Philippines",
          "Montenegro",
          "Bahamas",
          "Trinidad and Tobago",
          "Kyrgyzstan",
          "Guatemala",
          "Vietnam",
          "Cyprus",
          "Armenia",
          "Bahrain",
          "Botswana",
          "Tajikistan",
          "DPR Korea",
          "South Sudan",
          "UA Emirates",
          "Qatar",
          "Côte d'Ivoire",
          "Luxembourg",
          "Mauritius",
          "Jordan",
          "Senegal",
          "Eritrea",
          "Ghana",
          "Lebanon",
          "Kuwait",
          "Kosovo",
          "Burkina Faso",
          "Bermuda",
          "Panama",
          "Albania",
          "El Salvador",
          "Palestine",
          "Saudi Arabia",
          "Liberia",
          "Guam",
          "Djibouti",
          "Madagascar",
          "Nicaragua",
          "Nepal",
          "Haiti",
          "Papua New Guinea",
          "Burundi",
          "Tanzania",
          "Zimbabwe",
          "Cabo Verde",
          "Rwanda",
          "Niger",
          "Pakistan",
          "Mozambique",
          "Gambia",
          "Afghanistan",
          "Vanuatu",
          "Turkmenistan",
          "Costa Rica",
          "Aruba",
          "Libya",
          "Guinea-Bissau",
          "Monaco",
          "Grenada",
          "Sri Lanka",
          "Cameroon",
          "North Macedonia",
          "Syria",
          "DR Congo",
          "Suriname",
          "Guyana",
          "Iceland",
          "Bosnia & Herzegovina",
          "Togo",
          "Malta",
          "San Marino",
          "Maldives",
          "Benin",
          "Antigua and Barbuda",
          "Gabon",
          "Bangladesh",
          "Virgin Islands, US",
          "Comoros",
          "Oman",
          "Congo",
          "Dominica",
          "Lao PDR",
          "Tonga",
          "Marshall Islands",
          "Cayman Islands",
          "StVincent&Grenadines",
          "Yemen",
          "Namibia",
          "Timor-Leste",
          "Saint Lucia",
          "Virgin Islands, B",
          "Sudan",
          "Barbados",
          "Bolivia",
          "Centr Afric Re",
          "Sierra Leone",
          "Honduras",
          "Micronesia",
          "Malawi",
          "Eswatini",
          "Cambodia",
          "Bhutan",
          "Kiribati",
          "St Kitts and Nevis",
          "Sao Tome & Principe",
          "Lesotho",
          "Seychelles",
          "Equatorial Guinea",
          "Brunei Darussalam",
          "Palau",
          "Chad",
          "Mauritania",
          "Andorra",
          "Cook Islands",
          "American Samoa",
          "Myanmar",
          "Solomon Islands",
          "Tuvalu",
          "Liechtenstein",
          "Belize",
          "Somalia",
          "Nauru"
         ],
         "name": "",
         "type": "choropleth",
         "z": [
          619,
          601,
          475,
          457,
          431,
          401,
          398,
          397,
          343,
          332,
          290,
          290,
          226,
          208,
          177,
          177,
          157,
          147,
          143,
          143,
          141,
          141,
          137,
          131,
          125,
          114,
          112,
          111,
          109,
          108,
          101,
          100,
          96,
          95,
          89,
          88,
          88,
          86,
          84,
          79,
          75,
          74,
          73,
          65,
          61,
          61,
          60,
          59,
          57,
          52,
          51,
          51,
          48,
          48,
          46,
          46,
          41,
          40,
          37,
          36,
          34,
          33,
          32,
          32,
          31,
          31,
          29,
          29,
          29,
          28,
          28,
          27,
          26,
          26,
          26,
          26,
          25,
          25,
          25,
          24,
          24,
          24,
          23,
          23,
          22,
          19,
          19,
          17,
          16,
          16,
          16,
          15,
          15,
          14,
          14,
          14,
          14,
          14,
          13,
          13,
          13,
          13,
          12,
          12,
          11,
          11,
          9,
          9,
          9,
          9,
          8,
          8,
          8,
          8,
          8,
          8,
          8,
          8,
          8,
          7,
          7,
          7,
          7,
          7,
          7,
          7,
          7,
          7,
          7,
          7,
          7,
          7,
          7,
          7,
          6,
          6,
          6,
          6,
          6,
          6,
          6,
          6,
          6,
          6,
          6,
          6,
          6,
          6,
          5,
          5,
          5,
          5,
          5,
          5,
          5,
          5,
          5,
          5,
          5,
          5,
          5,
          4,
          4,
          4,
          4,
          4,
          4,
          4,
          4,
          4,
          4,
          4,
          4,
          4,
          4,
          4,
          4,
          4,
          4,
          4,
          4,
          3,
          3,
          3,
          3,
          3,
          3,
          3,
          3,
          3,
          3,
          3,
          3,
          3,
          3,
          2,
          2,
          2,
          2,
          2,
          2,
          2,
          1,
          1,
          1,
          1
         ]
        }
       ],
       "layout": {
        "coloraxis": {
         "colorbar": {
          "title": {
           "text": "Number of Athletes"
          }
         },
         "colorscale": [
          [
           0,
           "#0d0887"
          ],
          [
           0.1111111111111111,
           "#46039f"
          ],
          [
           0.2222222222222222,
           "#7201a8"
          ],
          [
           0.3333333333333333,
           "#9c179e"
          ],
          [
           0.4444444444444444,
           "#bd3786"
          ],
          [
           0.5555555555555556,
           "#d8576b"
          ],
          [
           0.6666666666666666,
           "#ed7953"
          ],
          [
           0.7777777777777778,
           "#fb9f3a"
          ],
          [
           0.8888888888888888,
           "#fdca26"
          ],
          [
           1,
           "#f0f921"
          ]
         ]
        },
        "geo": {
         "center": {},
         "domain": {
          "x": [
           0,
           1
          ],
          "y": [
           0,
           1
          ]
         }
        },
        "legend": {
         "tracegroupgap": 0
        },
        "template": {
         "data": {
          "bar": [
           {
            "error_x": {
             "color": "#2a3f5f"
            },
            "error_y": {
             "color": "#2a3f5f"
            },
            "marker": {
             "line": {
              "color": "#E5ECF6",
              "width": 0.5
             },
             "pattern": {
              "fillmode": "overlay",
              "size": 10,
              "solidity": 0.2
             }
            },
            "type": "bar"
           }
          ],
          "barpolar": [
           {
            "marker": {
             "line": {
              "color": "#E5ECF6",
              "width": 0.5
             },
             "pattern": {
              "fillmode": "overlay",
              "size": 10,
              "solidity": 0.2
             }
            },
            "type": "barpolar"
           }
          ],
          "carpet": [
           {
            "aaxis": {
             "endlinecolor": "#2a3f5f",
             "gridcolor": "white",
             "linecolor": "white",
             "minorgridcolor": "white",
             "startlinecolor": "#2a3f5f"
            },
            "baxis": {
             "endlinecolor": "#2a3f5f",
             "gridcolor": "white",
             "linecolor": "white",
             "minorgridcolor": "white",
             "startlinecolor": "#2a3f5f"
            },
            "type": "carpet"
           }
          ],
          "choropleth": [
           {
            "colorbar": {
             "outlinewidth": 0,
             "ticks": ""
            },
            "type": "choropleth"
           }
          ],
          "contour": [
           {
            "colorbar": {
             "outlinewidth": 0,
             "ticks": ""
            },
            "colorscale": [
             [
              0,
              "#0d0887"
             ],
             [
              0.1111111111111111,
              "#46039f"
             ],
             [
              0.2222222222222222,
              "#7201a8"
             ],
             [
              0.3333333333333333,
              "#9c179e"
             ],
             [
              0.4444444444444444,
              "#bd3786"
             ],
             [
              0.5555555555555556,
              "#d8576b"
             ],
             [
              0.6666666666666666,
              "#ed7953"
             ],
             [
              0.7777777777777778,
              "#fb9f3a"
             ],
             [
              0.8888888888888888,
              "#fdca26"
             ],
             [
              1,
              "#f0f921"
             ]
            ],
            "type": "contour"
           }
          ],
          "contourcarpet": [
           {
            "colorbar": {
             "outlinewidth": 0,
             "ticks": ""
            },
            "type": "contourcarpet"
           }
          ],
          "heatmap": [
           {
            "colorbar": {
             "outlinewidth": 0,
             "ticks": ""
            },
            "colorscale": [
             [
              0,
              "#0d0887"
             ],
             [
              0.1111111111111111,
              "#46039f"
             ],
             [
              0.2222222222222222,
              "#7201a8"
             ],
             [
              0.3333333333333333,
              "#9c179e"
             ],
             [
              0.4444444444444444,
              "#bd3786"
             ],
             [
              0.5555555555555556,
              "#d8576b"
             ],
             [
              0.6666666666666666,
              "#ed7953"
             ],
             [
              0.7777777777777778,
              "#fb9f3a"
             ],
             [
              0.8888888888888888,
              "#fdca26"
             ],
             [
              1,
              "#f0f921"
             ]
            ],
            "type": "heatmap"
           }
          ],
          "heatmapgl": [
           {
            "colorbar": {
             "outlinewidth": 0,
             "ticks": ""
            },
            "colorscale": [
             [
              0,
              "#0d0887"
             ],
             [
              0.1111111111111111,
              "#46039f"
             ],
             [
              0.2222222222222222,
              "#7201a8"
             ],
             [
              0.3333333333333333,
              "#9c179e"
             ],
             [
              0.4444444444444444,
              "#bd3786"
             ],
             [
              0.5555555555555556,
              "#d8576b"
             ],
             [
              0.6666666666666666,
              "#ed7953"
             ],
             [
              0.7777777777777778,
              "#fb9f3a"
             ],
             [
              0.8888888888888888,
              "#fdca26"
             ],
             [
              1,
              "#f0f921"
             ]
            ],
            "type": "heatmapgl"
           }
          ],
          "histogram": [
           {
            "marker": {
             "pattern": {
              "fillmode": "overlay",
              "size": 10,
              "solidity": 0.2
             }
            },
            "type": "histogram"
           }
          ],
          "histogram2d": [
           {
            "colorbar": {
             "outlinewidth": 0,
             "ticks": ""
            },
            "colorscale": [
             [
              0,
              "#0d0887"
             ],
             [
              0.1111111111111111,
              "#46039f"
             ],
             [
              0.2222222222222222,
              "#7201a8"
             ],
             [
              0.3333333333333333,
              "#9c179e"
             ],
             [
              0.4444444444444444,
              "#bd3786"
             ],
             [
              0.5555555555555556,
              "#d8576b"
             ],
             [
              0.6666666666666666,
              "#ed7953"
             ],
             [
              0.7777777777777778,
              "#fb9f3a"
             ],
             [
              0.8888888888888888,
              "#fdca26"
             ],
             [
              1,
              "#f0f921"
             ]
            ],
            "type": "histogram2d"
           }
          ],
          "histogram2dcontour": [
           {
            "colorbar": {
             "outlinewidth": 0,
             "ticks": ""
            },
            "colorscale": [
             [
              0,
              "#0d0887"
             ],
             [
              0.1111111111111111,
              "#46039f"
             ],
             [
              0.2222222222222222,
              "#7201a8"
             ],
             [
              0.3333333333333333,
              "#9c179e"
             ],
             [
              0.4444444444444444,
              "#bd3786"
             ],
             [
              0.5555555555555556,
              "#d8576b"
             ],
             [
              0.6666666666666666,
              "#ed7953"
             ],
             [
              0.7777777777777778,
              "#fb9f3a"
             ],
             [
              0.8888888888888888,
              "#fdca26"
             ],
             [
              1,
              "#f0f921"
             ]
            ],
            "type": "histogram2dcontour"
           }
          ],
          "mesh3d": [
           {
            "colorbar": {
             "outlinewidth": 0,
             "ticks": ""
            },
            "type": "mesh3d"
           }
          ],
          "parcoords": [
           {
            "line": {
             "colorbar": {
              "outlinewidth": 0,
              "ticks": ""
             }
            },
            "type": "parcoords"
           }
          ],
          "pie": [
           {
            "automargin": true,
            "type": "pie"
           }
          ],
          "scatter": [
           {
            "fillpattern": {
             "fillmode": "overlay",
             "size": 10,
             "solidity": 0.2
            },
            "type": "scatter"
           }
          ],
          "scatter3d": [
           {
            "line": {
             "colorbar": {
              "outlinewidth": 0,
              "ticks": ""
             }
            },
            "marker": {
             "colorbar": {
              "outlinewidth": 0,
              "ticks": ""
             }
            },
            "type": "scatter3d"
           }
          ],
          "scattercarpet": [
           {
            "marker": {
             "colorbar": {
              "outlinewidth": 0,
              "ticks": ""
             }
            },
            "type": "scattercarpet"
           }
          ],
          "scattergeo": [
           {
            "marker": {
             "colorbar": {
              "outlinewidth": 0,
              "ticks": ""
             }
            },
            "type": "scattergeo"
           }
          ],
          "scattergl": [
           {
            "marker": {
             "colorbar": {
              "outlinewidth": 0,
              "ticks": ""
             }
            },
            "type": "scattergl"
           }
          ],
          "scattermapbox": [
           {
            "marker": {
             "colorbar": {
              "outlinewidth": 0,
              "ticks": ""
             }
            },
            "type": "scattermapbox"
           }
          ],
          "scatterpolar": [
           {
            "marker": {
             "colorbar": {
              "outlinewidth": 0,
              "ticks": ""
             }
            },
            "type": "scatterpolar"
           }
          ],
          "scatterpolargl": [
           {
            "marker": {
             "colorbar": {
              "outlinewidth": 0,
              "ticks": ""
             }
            },
            "type": "scatterpolargl"
           }
          ],
          "scatterternary": [
           {
            "marker": {
             "colorbar": {
              "outlinewidth": 0,
              "ticks": ""
             }
            },
            "type": "scatterternary"
           }
          ],
          "surface": [
           {
            "colorbar": {
             "outlinewidth": 0,
             "ticks": ""
            },
            "colorscale": [
             [
              0,
              "#0d0887"
             ],
             [
              0.1111111111111111,
              "#46039f"
             ],
             [
              0.2222222222222222,
              "#7201a8"
             ],
             [
              0.3333333333333333,
              "#9c179e"
             ],
             [
              0.4444444444444444,
              "#bd3786"
             ],
             [
              0.5555555555555556,
              "#d8576b"
             ],
             [
              0.6666666666666666,
              "#ed7953"
             ],
             [
              0.7777777777777778,
              "#fb9f3a"
             ],
             [
              0.8888888888888888,
              "#fdca26"
             ],
             [
              1,
              "#f0f921"
             ]
            ],
            "type": "surface"
           }
          ],
          "table": [
           {
            "cells": {
             "fill": {
              "color": "#EBF0F8"
             },
             "line": {
              "color": "white"
             }
            },
            "header": {
             "fill": {
              "color": "#C8D4E3"
             },
             "line": {
              "color": "white"
             }
            },
            "type": "table"
           }
          ]
         },
         "layout": {
          "annotationdefaults": {
           "arrowcolor": "#2a3f5f",
           "arrowhead": 0,
           "arrowwidth": 1
          },
          "autotypenumbers": "strict",
          "coloraxis": {
           "colorbar": {
            "outlinewidth": 0,
            "ticks": ""
           }
          },
          "colorscale": {
           "diverging": [
            [
             0,
             "#8e0152"
            ],
            [
             0.1,
             "#c51b7d"
            ],
            [
             0.2,
             "#de77ae"
            ],
            [
             0.3,
             "#f1b6da"
            ],
            [
             0.4,
             "#fde0ef"
            ],
            [
             0.5,
             "#f7f7f7"
            ],
            [
             0.6,
             "#e6f5d0"
            ],
            [
             0.7,
             "#b8e186"
            ],
            [
             0.8,
             "#7fbc41"
            ],
            [
             0.9,
             "#4d9221"
            ],
            [
             1,
             "#276419"
            ]
           ],
           "sequential": [
            [
             0,
             "#0d0887"
            ],
            [
             0.1111111111111111,
             "#46039f"
            ],
            [
             0.2222222222222222,
             "#7201a8"
            ],
            [
             0.3333333333333333,
             "#9c179e"
            ],
            [
             0.4444444444444444,
             "#bd3786"
            ],
            [
             0.5555555555555556,
             "#d8576b"
            ],
            [
             0.6666666666666666,
             "#ed7953"
            ],
            [
             0.7777777777777778,
             "#fb9f3a"
            ],
            [
             0.8888888888888888,
             "#fdca26"
            ],
            [
             1,
             "#f0f921"
            ]
           ],
           "sequentialminus": [
            [
             0,
             "#0d0887"
            ],
            [
             0.1111111111111111,
             "#46039f"
            ],
            [
             0.2222222222222222,
             "#7201a8"
            ],
            [
             0.3333333333333333,
             "#9c179e"
            ],
            [
             0.4444444444444444,
             "#bd3786"
            ],
            [
             0.5555555555555556,
             "#d8576b"
            ],
            [
             0.6666666666666666,
             "#ed7953"
            ],
            [
             0.7777777777777778,
             "#fb9f3a"
            ],
            [
             0.8888888888888888,
             "#fdca26"
            ],
            [
             1,
             "#f0f921"
            ]
           ]
          },
          "colorway": [
           "#636efa",
           "#EF553B",
           "#00cc96",
           "#ab63fa",
           "#FFA15A",
           "#19d3f3",
           "#FF6692",
           "#B6E880",
           "#FF97FF",
           "#FECB52"
          ],
          "font": {
           "color": "#2a3f5f"
          },
          "geo": {
           "bgcolor": "white",
           "lakecolor": "white",
           "landcolor": "#E5ECF6",
           "showlakes": true,
           "showland": true,
           "subunitcolor": "white"
          },
          "hoverlabel": {
           "align": "left"
          },
          "hovermode": "closest",
          "mapbox": {
           "style": "light"
          },
          "paper_bgcolor": "white",
          "plot_bgcolor": "#E5ECF6",
          "polar": {
           "angularaxis": {
            "gridcolor": "white",
            "linecolor": "white",
            "ticks": ""
           },
           "bgcolor": "#E5ECF6",
           "radialaxis": {
            "gridcolor": "white",
            "linecolor": "white",
            "ticks": ""
           }
          },
          "scene": {
           "xaxis": {
            "backgroundcolor": "#E5ECF6",
            "gridcolor": "white",
            "gridwidth": 2,
            "linecolor": "white",
            "showbackground": true,
            "ticks": "",
            "zerolinecolor": "white"
           },
           "yaxis": {
            "backgroundcolor": "#E5ECF6",
            "gridcolor": "white",
            "gridwidth": 2,
            "linecolor": "white",
            "showbackground": true,
            "ticks": "",
            "zerolinecolor": "white"
           },
           "zaxis": {
            "backgroundcolor": "#E5ECF6",
            "gridcolor": "white",
            "gridwidth": 2,
            "linecolor": "white",
            "showbackground": true,
            "ticks": "",
            "zerolinecolor": "white"
           }
          },
          "shapedefaults": {
           "line": {
            "color": "#2a3f5f"
           }
          },
          "ternary": {
           "aaxis": {
            "gridcolor": "white",
            "linecolor": "white",
            "ticks": ""
           },
           "baxis": {
            "gridcolor": "white",
            "linecolor": "white",
            "ticks": ""
           },
           "bgcolor": "#E5ECF6",
           "caxis": {
            "gridcolor": "white",
            "linecolor": "white",
            "ticks": ""
           }
          },
          "title": {
           "x": 0.05
          },
          "xaxis": {
           "automargin": true,
           "gridcolor": "white",
           "linecolor": "white",
           "ticks": "",
           "title": {
            "standoff": 15
           },
           "zerolinecolor": "white",
           "zerolinewidth": 2
          },
          "yaxis": {
           "automargin": true,
           "gridcolor": "white",
           "linecolor": "white",
           "ticks": "",
           "title": {
            "standoff": 15
           },
           "zerolinecolor": "white",
           "zerolinewidth": 2
          }
         }
        },
        "title": {
         "text": "Number of Athletes by Country"
        }
       }
      }
     },
     "metadata": {},
     "output_type": "display_data"
    }
   ],
   "source": [
    "fig = px.choropleth(con_df,\n",
    "                    locations='Country',\n",
    "                    locationmode='country names',\n",
    "                    color='Number of Athletes',\n",
    "                    color_continuous_scale=px.colors.sequential.Plasma,\n",
    "                    title='Number of Athletes by Country'\n",
    "                    )\n",
    "\n",
    "# Show the map\n",
    "fig.show()\n"
   ]
  },
  {
   "cell_type": "markdown",
   "metadata": {},
   "source": [
    "## How many unique 'sports' are represented in the dataset?\n"
   ]
  },
  {
   "cell_type": "code",
   "execution_count": 15,
   "metadata": {},
   "outputs": [
    {
     "name": "stdout",
     "output_type": "stream",
     "text": [
      "Index(['birth_country', 'birth_date', 'birth_place', 'coach', 'code',\n",
      "       'country', 'country_code', 'country_long', 'current', 'disciplines',\n",
      "       'education', 'events', 'family', 'function', 'gender', 'height', 'hero',\n",
      "       'hobbies', 'influence', 'lang', 'name', 'name_short', 'name_tv',\n",
      "       'nationality', 'nationality_code', 'nationality_long', 'nickname',\n",
      "       'occupation', 'other_sports', 'philosophy', 'reason',\n",
      "       'residence_country', 'residence_place', 'ritual', 'sporting_relatives',\n",
      "       'weight'],\n",
      "      dtype='object')\n",
      "========================================================================================================================================================================\n",
      "[\"['3x3 Basketball', 'Basketball']\", \"['3x3 Basketball']\", \"['Archery']\", \"['Artistic Gymnastics']\", \"['Artistic Swimming']\", \"['Athletics']\", \"['Badminton']\", \"['Basketball']\", \"['Beach Volleyball']\", \"['Boxing']\", \"['Breaking']\", \"['Canoe Slalom']\", \"['Canoe Sprint']\", \"['Cycling BMX Freestyle']\", \"['Cycling BMX Racing']\", \"['Cycling Mountain Bike']\", \"['Cycling Road', 'Cycling Mountain Bike']\", \"['Cycling Road', 'Cycling Track']\", \"['Cycling Road', 'Triathlon']\", \"['Cycling Road']\", \"['Cycling Track']\", \"['Diving']\", \"['Equestrian']\", \"['Fencing']\", \"['Football']\", \"['Golf']\", \"['Handball']\", \"['Hockey']\", \"['Judo']\", \"['Marathon Swimming', 'Swimming']\", \"['Marathon Swimming']\", \"['Modern Pentathlon']\", \"['Rhythmic Gymnastics']\", \"['Rowing']\", \"['Rugby Sevens']\", \"['Sailing']\", \"['Shooting']\", \"['Skateboarding']\", \"['Sport Climbing']\", \"['Surfing']\", \"['Swimming']\", \"['Table Tennis']\", \"['Taekwondo']\", \"['Tennis']\", \"['Trampoline Gymnastics']\", \"['Triathlon']\", \"['Volleyball']\", \"['Water Polo']\", \"['Weightlifting']\", \"['Wrestling']\", '[Athletics]', '[Equestrian]']\n"
     ]
    }
   ],
   "source": [
    "print(col)\n",
    "\n",
    "print(line_break)\n",
    "a = athletes_df['disciplines'].unique()\n",
    "\n",
    "unique_sport = sorted(a)\n",
    "print(unique_sport)"
   ]
  },
  {
   "cell_type": "markdown",
   "metadata": {},
   "source": [
    "## What is the range of 'height' and 'weight' values?\n"
   ]
  },
  {
   "cell_type": "code",
   "execution_count": 16,
   "metadata": {},
   "outputs": [
    {
     "name": "stdout",
     "output_type": "stream",
     "text": [
      "MAX HEIGHT --> 222.0\n",
      "MIN HEIGHT ---> 140.0\n",
      "========================================================================================================================================================================\n",
      "max WEIGHT --> 113.0\n",
      "MIN WEIGHT --> 51.0\n"
     ]
    }
   ],
   "source": [
    "max_height = athletes_df['height'].max()\n",
    "min_height = athletes_df[athletes_df['height']>0]['height'].min()\n",
    "\n",
    "min_weight = athletes_df[athletes_df['weight']>0]['weight'].min()\n",
    "max_weight = athletes_df['weight'].max()\n",
    "print('MAX HEIGHT -->',max_height)\n",
    "print('MIN HEIGHT --->',min_height)\n",
    "print(line_break)\n",
    "print('max WEIGHT -->', max_weight )\n",
    "print('MIN WEIGHT -->', min_weight)\n"
   ]
  },
  {
   "cell_type": "markdown",
   "metadata": {},
   "source": [
    "## What is the distribution of 'birth_date' across the dataset?\n"
   ]
  },
  {
   "cell_type": "code",
   "execution_count": 17,
   "metadata": {},
   "outputs": [
    {
     "name": "stdout",
     "output_type": "stream",
     "text": [
      "Index(['birth_country', 'birth_date', 'birth_place', 'coach', 'code',\n",
      "       'country', 'country_code', 'country_long', 'current', 'disciplines',\n",
      "       'education', 'events', 'family', 'function', 'gender', 'height', 'hero',\n",
      "       'hobbies', 'influence', 'lang', 'name', 'name_short', 'name_tv',\n",
      "       'nationality', 'nationality_code', 'nationality_long', 'nickname',\n",
      "       'occupation', 'other_sports', 'philosophy', 'reason',\n",
      "       'residence_country', 'residence_place', 'ritual', 'sporting_relatives',\n",
      "       'weight'],\n",
      "      dtype='object')\n",
      "========================================================================================================================================================================\n"
     ]
    },
    {
     "data": {
      "image/png": "[encoded data removed]",
      "text/plain": [
       "<Figure size 1500x500 with 1 Axes>"
      ]
     },
     "metadata": {},
     "output_type": "display_data"
    }
   ],
   "source": [
    "print(col)\n",
    "print(line_break)\n",
    "\n",
    "birth_date_df = athletes_df['birth_date'].value_counts().head(50)\n",
    "\n",
    "birth_date_df.plot(kind='line',\n",
    "                   figsize=(15,5)\n",
    "                   )\n",
    "\n",
    "plt.show()"
   ]
  },
  {
   "cell_type": "markdown",
   "metadata": {},
   "source": [
    "# Statistical Analysis"
   ]
  },
  {
   "cell_type": "markdown",
   "metadata": {},
   "source": [
    " ## What are the summary statistics (mean, median, mode, etc.) for 'height' and 'weight'?\n"
   ]
  },
  {
   "cell_type": "code",
   "execution_count": 18,
   "metadata": {},
   "outputs": [
    {
     "data": {
      "text/plain": [
       "height\n",
       "False    11110\n",
       "True         3\n",
       "Name: count, dtype: int64"
      ]
     },
     "execution_count": 18,
     "metadata": {},
     "output_type": "execute_result"
    }
   ],
   "source": [
    "athletes_df['height'].isna().value_counts()\n"
   ]
  },
  {
   "cell_type": "code",
   "execution_count": 19,
   "metadata": {},
   "outputs": [
    {
     "name": "stdout",
     "output_type": "stream",
     "text": [
      "height\n",
      "False    11110\n",
      "True         3\n",
      "Name: count, dtype: int64\n",
      "========================================================================================================================================================================\n",
      "avg_height --> 181.0\n",
      "avg_weight --> 82.0\n",
      "========================================================================================================================================================================\n",
      "height\n",
      "False    11113\n",
      "Name: count, dtype: int64\n",
      "========================================================================================================================================================================\n"
     ]
    }
   ],
   "source": [
    "print(athletes_df['height'].isna().value_counts())\n",
    "print(line_break)\n",
    "avg_height = (min_height + max_height)/ 2\n",
    "\n",
    "avg_weight = (min_weight + max_weight)/2\n",
    "\n",
    "\n",
    "\n",
    "print(f'avg_height --> {avg_height}')\n",
    "print(f'avg_weight --> {avg_weight}')\n",
    "\n",
    "print(line_break)\n",
    "\n",
    "\n",
    "#athletes_df.loc['height'].fillna(avg_height)  \n",
    "\n",
    "for i in (athletes_df[athletes_df['height'].isna()].index):\n",
    "    #print(i)\n",
    "   # print(athletes_df.iloc[i]['height'] )\n",
    "    #print('fill_start')\n",
    "    athletes_df.loc[i, 'height']= avg_height  \n",
    "    #print(athletes_df.loc[i, 'height'])\n",
    "    #print(line_break)\n",
    "\n",
    "print(athletes_df['height'].isna().value_counts())\n",
    "print(line_break)"
   ]
  },
  {
   "cell_type": "code",
   "execution_count": 20,
   "metadata": {},
   "outputs": [
    {
     "name": "stdout",
     "output_type": "stream",
     "text": [
      "weight\n",
      "False    11108\n",
      "True         5\n",
      "Name: count, dtype: int64\n",
      "========================================================================================================================================================================\n",
      "avg_weight--> 82.0\n",
      "========================================================================================================================================================================\n",
      "weight\n",
      "False    11113\n",
      "Name: count, dtype: int64\n",
      "========================================================================================================================================================================\n"
     ]
    }
   ],
   "source": [
    "print(athletes_df['weight'].isna().value_counts())\n",
    "print(line_break)\n",
    "print('avg_weight-->',avg_weight)\n",
    "print(line_break)\n",
    "\n",
    "athletes_df[athletes_df['weight'].isna()].index\n",
    "\n",
    "for i in (athletes_df[athletes_df['weight'].isna()].index):\n",
    "    #print(i)\n",
    "    \n",
    "    athletes_df.loc[i, 'weight'] = avg_weight\n",
    "    #print(athletes_df.loc[i, 'weight'])\n",
    "    #print(line_break)\n",
    "\n",
    "print(athletes_df['weight'].isna().value_counts())\n",
    "print(line_break)\n",
    "\n"
   ]
  },
  {
   "cell_type": "code",
   "execution_count": 21,
   "metadata": {},
   "outputs": [
    {
     "name": "stdout",
     "output_type": "stream",
     "text": [
      "HEIGHT\n",
      "height_mean --> 178.9663452076363\n",
      "height_median --> 178.0\n",
      "height_median --> 0    170.0\n",
      "Name: height, dtype: float64\n",
      "========================================================================================================================================================================\n",
      "weight\n",
      "weight_mean --> 77.81931464174455\n",
      "weight_median --> 77.0\n",
      "weight_median --> 0    70.0\n",
      "Name: weight, dtype: float64\n"
     ]
    }
   ],
   "source": [
    "\n",
    "\n",
    "\n",
    "height_mean=  athletes_df[athletes_df['height']>0]['height'].mean()\n",
    "height_median = athletes_df[athletes_df['height']>0]['height'].sort_values().median()\n",
    "height_mode = athletes_df[athletes_df['height']>0]['height'].mode()\n",
    "\n",
    "\n",
    "\n",
    "\n",
    "print(f'HEIGHT')\n",
    "print(f'height_mean --> {height_mean}')\n",
    "print(f'height_median --> {height_median}')\n",
    "print(f'height_median --> {height_mode}')\n",
    "\n",
    "\n",
    "weight_mean=  athletes_df[athletes_df['weight']>0]['weight'].mean()\n",
    "weight_median = athletes_df[athletes_df['weight']>0]['weight'].sort_values().median()\n",
    "weight_mode = athletes_df[athletes_df['weight']>0]['weight'].mode()\n",
    "\n",
    "print(line_break)\n",
    "\n",
    "print(f'weight')\n",
    "print(f'weight_mean --> {weight_mean}')\n",
    "print(f'weight_median --> {weight_median}')\n",
    "print(f'weight_median --> {weight_mode}')\n",
    "\n"
   ]
  },
  {
   "cell_type": "markdown",
   "metadata": {},
   "source": [
    "## What is the average age of athletes based on their 'birth_date'?\n"
   ]
  },
  {
   "cell_type": "code",
   "execution_count": 22,
   "metadata": {},
   "outputs": [
    {
     "name": "stdout",
     "output_type": "stream",
     "text": [
      "Today date is:  2024-09-24 10:06:29.511182\n"
     ]
    }
   ],
   "source": [
    "# Import date class from datetime module\n",
    "from datetime import date\n",
    "\n",
    "# Returns the current local date\n",
    "today =  pd.Timestamp.today().today()\n",
    "print(\"Today date is: \", today)\n"
   ]
  },
  {
   "cell_type": "code",
   "execution_count": 23,
   "metadata": {},
   "outputs": [],
   "source": [
    "athletes_df['birth_date'] = pd.to_datetime(athletes_df['birth_date'])"
   ]
  },
  {
   "cell_type": "code",
   "execution_count": 24,
   "metadata": {},
   "outputs": [
    {
     "data": {
      "text/plain": [
       "32"
      ]
     },
     "execution_count": 24,
     "metadata": {},
     "output_type": "execute_result"
    }
   ],
   "source": [
    "in_timestam  = today - athletes_df['birth_date'].iloc[0]\n",
    "\n",
    "in_timestam =  pd.Timedelta(in_timestam.value)\n",
    "\n",
    "years = in_timestam.days//365.25\n",
    "\n",
    "int(years)"
   ]
  },
  {
   "cell_type": "code",
   "execution_count": 25,
   "metadata": {},
   "outputs": [],
   "source": [
    "athletes_df['age'] = 0\n",
    "\n",
    "for i in athletes_df.index:\n",
    "    in_timestam  = today - athletes_df['birth_date'].iloc[i]\n",
    "\n",
    "    in_timestam =  pd.Timedelta(in_timestam.value)\n",
    "\n",
    "    years = in_timestam.days//365.25\n",
    "    \n",
    "    athletes_df.loc[i, 'age'] = years"
   ]
  },
  {
   "cell_type": "code",
   "execution_count": 26,
   "metadata": {},
   "outputs": [
    {
     "data": {
      "text/plain": [
       "count    11113.000000\n",
       "mean        26.720957\n",
       "std          5.413713\n",
       "min         12.000000\n",
       "25%         23.000000\n",
       "50%         26.000000\n",
       "75%         30.000000\n",
       "max         69.000000\n",
       "Name: age, dtype: float64"
      ]
     },
     "execution_count": 26,
     "metadata": {},
     "output_type": "execute_result"
    }
   ],
   "source": [
    "athletes_df['age'].describe()"
   ]
  },
  {
   "cell_type": "markdown",
   "metadata": {},
   "source": [
    "## What are the top 5 most common 'nationalities' in the dataset?\n"
   ]
  },
  {
   "cell_type": "code",
   "execution_count": 27,
   "metadata": {},
   "outputs": [
    {
     "data": {
      "text/plain": [
       "<Axes: xlabel='country'>"
      ]
     },
     "execution_count": 27,
     "metadata": {},
     "output_type": "execute_result"
    },
    {
     "data": {
      "image/png": "[encoded data removed]",
      "text/plain": [
       "<Figure size 640x480 with 1 Axes>"
      ]
     },
     "metadata": {},
     "output_type": "display_data"
    }
   ],
   "source": [
    "athletes_df['country'].value_counts().head(5).plot(kind='bar', color = colors, edgecolor = 'black')"
   ]
  },
  {
   "cell_type": "markdown",
   "metadata": {},
   "source": [
    "## What is the distribution of 'disciplines' among athletes?\n"
   ]
  },
  {
   "cell_type": "code",
   "execution_count": 28,
   "metadata": {},
   "outputs": [
    {
     "data": {
      "text/plain": [
       "<Axes: xlabel='disciplines'>"
      ]
     },
     "execution_count": 28,
     "metadata": {},
     "output_type": "execute_result"
    },
    {
     "data": {
      "image/png": "[encoded data removed]",
      "text/plain": [
       "<Figure size 1500x500 with 1 Axes>"
      ]
     },
     "metadata": {},
     "output_type": "display_data"
    }
   ],
   "source": [
    "athletes_df['disciplines'].value_counts().plot(kind='bar', figsize=(15,5), color=colors, edgecolor = 'black')\n"
   ]
  },
  {
   "cell_type": "markdown",
   "metadata": {},
   "source": [
    "# Relationships and Trends\n"
   ]
  },
  {
   "cell_type": "markdown",
   "metadata": {},
   "source": [
    "## Is there a correlation between 'height' and 'sport'?"
   ]
  },
  {
   "cell_type": "code",
   "execution_count": 29,
   "metadata": {},
   "outputs": [
    {
     "name": "stdout",
     "output_type": "stream",
     "text": [
      "Index(['disciplines', 'height'], dtype='object')\n",
      "========================================================================================================================================================================\n",
      "                         disciplines      height\n",
      "0   ['3x3 Basketball', 'Basketball']  183.000000\n",
      "1                 ['3x3 Basketball']  190.046875\n",
      "2                      ['Athletics']  175.950251\n",
      "3                      ['Badminton']  173.902857\n",
      "4                     ['Basketball']  191.547038\n",
      "5               ['Beach Volleyball']  188.312500\n",
      "6                         ['Boxing']  173.068548\n",
      "7                       ['Football']  175.085145\n",
      "8                           ['Golf']  175.200000\n",
      "9                       ['Handball']  183.689119\n",
      "10                          ['Judo']  180.000000\n",
      "11                  ['Rugby Sevens']  175.250000\n",
      "12                ['Sport Climbing']  168.808824\n",
      "13                        ['Tennis']  180.585227\n",
      "14                    ['Volleyball']  190.945338\n",
      "15                    ['Water Polo']  185.076923\n",
      "16                       [Athletics]  181.000000\n",
      "17                      [Equestrian]  181.000000\n"
     ]
    }
   ],
   "source": [
    "#athletes_df[athletes_df['disciplines'] == '[\\'Athletics\\']'].plot()\n",
    "groupby_game = athletes_df[athletes_df['height'] > 0][['disciplines', 'height']].groupby('disciplines').mean().reset_index()\n",
    "\n",
    "\n",
    "#groupby_game = athletes_df[['disciplines', 'height']].groupby('disciplines').mean().reset_index()\n",
    "\n",
    "print(groupby_game.columns)\n",
    "print(line_break)\n",
    "print(groupby_game)\n"
   ]
  },
  {
   "cell_type": "code",
   "execution_count": 30,
   "metadata": {},
   "outputs": [
    {
     "data": {
      "text/plain": [
       "<Axes: xlabel='disciplines'>"
      ]
     },
     "execution_count": 30,
     "metadata": {},
     "output_type": "execute_result"
    },
    {
     "data": {
      "image/png": "[encoded data removed]",
      "text/plain": [
       "<Figure size 1500x500 with 1 Axes>"
      ]
     },
     "metadata": {},
     "output_type": "display_data"
    }
   ],
   "source": [
    "groupby_game.plot(kind='bar'\n",
    "                  ,x='disciplines'\n",
    "                  ,y='height'\n",
    "                  ,figsize= (15,5)\n",
    "                  ,color = colors\n",
    "                  ,edgecolor = 'black'\n",
    "                  )"
   ]
  },
  {
   "cell_type": "markdown",
   "metadata": {},
   "source": [
    "## Do certain countries dominate specific 'disciplines'?\n"
   ]
  },
  {
   "cell_type": "code",
   "execution_count": 33,
   "metadata": {},
   "outputs": [
    {
     "name": "stdout",
     "output_type": "stream",
     "text": [
      "========================================================================================================================================================================\n"
     ]
    },
    {
     "data": {
      "text/plain": [
       "<Axes: xlabel='country'>"
      ]
     },
     "execution_count": 33,
     "metadata": {},
     "output_type": "execute_result"
    },
    {
     "data": {
      "image/png": "[encoded data removed]",
      "text/plain": [
       "<Figure size 640x480 with 1 Axes>"
      ]
     },
     "metadata": {},
     "output_type": "display_data"
    }
   ],
   "source": [
    "#print(col)\n",
    "print(line_break)\n",
    "dominate_game = athletes_df[['country', 'disciplines']].groupby(['disciplines']).value_counts().reset_index().sort_values('count', ascending=False).head(10)\n",
    "#dominate_game[dominate_game['count'] == dominate_game['count'].max()]\n",
    "dominate_game.plot(kind= 'bar',x='country', y = 'count', color=colors, edgecolor = 'black', legend='disciplines')\n",
    "\n",
    "\n"
   ]
  },
  {
   "cell_type": "code",
   "execution_count": 32,
   "metadata": {},
   "outputs": [
    {
     "data": {
      "text/html": [
       "<div>\n",
       "<style scoped>\n",
       "    .dataframe tbody tr th:only-of-type {\n",
       "        vertical-align: middle;\n",
       "    }\n",
       "\n",
       "    .dataframe tbody tr th {\n",
       "        vertical-align: top;\n",
       "    }\n",
       "\n",
       "    .dataframe thead th {\n",
       "        text-align: right;\n",
       "    }\n",
       "</style>\n",
       "<table border=\"1\" class=\"dataframe\">\n",
       "  <thead>\n",
       "    <tr style=\"text-align: right;\">\n",
       "      <th></th>\n",
       "      <th>disciplines</th>\n",
       "      <th>country</th>\n",
       "      <th>count</th>\n",
       "    </tr>\n",
       "  </thead>\n",
       "  <tbody>\n",
       "    <tr>\n",
       "      <th>135</th>\n",
       "      <td>['Athletics']</td>\n",
       "      <td>United States</td>\n",
       "      <td>126</td>\n",
       "    </tr>\n",
       "    <tr>\n",
       "      <th>136</th>\n",
       "      <td>['Athletics']</td>\n",
       "      <td>France</td>\n",
       "      <td>87</td>\n",
       "    </tr>\n",
       "    <tr>\n",
       "      <th>137</th>\n",
       "      <td>['Athletics']</td>\n",
       "      <td>Germany</td>\n",
       "      <td>85</td>\n",
       "    </tr>\n",
       "    <tr>\n",
       "      <th>138</th>\n",
       "      <td>['Athletics']</td>\n",
       "      <td>Italy</td>\n",
       "      <td>79</td>\n",
       "    </tr>\n",
       "    <tr>\n",
       "      <th>139</th>\n",
       "      <td>['Athletics']</td>\n",
       "      <td>Australia</td>\n",
       "      <td>78</td>\n",
       "    </tr>\n",
       "    <tr>\n",
       "      <th>140</th>\n",
       "      <td>['Athletics']</td>\n",
       "      <td>Great Britain</td>\n",
       "      <td>67</td>\n",
       "    </tr>\n",
       "    <tr>\n",
       "      <th>141</th>\n",
       "      <td>['Athletics']</td>\n",
       "      <td>Poland</td>\n",
       "      <td>62</td>\n",
       "    </tr>\n",
       "    <tr>\n",
       "      <th>142</th>\n",
       "      <td>['Athletics']</td>\n",
       "      <td>Jamaica</td>\n",
       "      <td>61</td>\n",
       "    </tr>\n",
       "    <tr>\n",
       "      <th>143</th>\n",
       "      <td>['Athletics']</td>\n",
       "      <td>Spain</td>\n",
       "      <td>60</td>\n",
       "    </tr>\n",
       "    <tr>\n",
       "      <th>144</th>\n",
       "      <td>['Athletics']</td>\n",
       "      <td>Japan</td>\n",
       "      <td>56</td>\n",
       "    </tr>\n",
       "  </tbody>\n",
       "</table>\n",
       "</div>"
      ],
      "text/plain": [
       "       disciplines        country  count\n",
       "135  ['Athletics']  United States    126\n",
       "136  ['Athletics']         France     87\n",
       "137  ['Athletics']        Germany     85\n",
       "138  ['Athletics']          Italy     79\n",
       "139  ['Athletics']      Australia     78\n",
       "140  ['Athletics']  Great Britain     67\n",
       "141  ['Athletics']         Poland     62\n",
       "142  ['Athletics']        Jamaica     61\n",
       "143  ['Athletics']          Spain     60\n",
       "144  ['Athletics']          Japan     56"
      ]
     },
     "execution_count": 32,
     "metadata": {},
     "output_type": "execute_result"
    }
   ],
   "source": [
    "dominate_game"
   ]
  }
 ],
 "metadata": {
  "kernelspec": {
   "display_name": "Python 3",
   "language": "python",
   "name": "python3"
  },
  "language_info": {
   "codemirror_mode": {
    "name": "ipython",
    "version": 3
   },
   "file_extension": ".py",
   "mimetype": "text/x-python",
   "name": "python",
   "nbconvert_exporter": "python",
   "pygments_lexer": "ipython3",
   "version": "3.12.6"
  }
 },
 "nbformat": 4,
 "nbformat_minor": 2
}
