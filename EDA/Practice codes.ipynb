{
 "cells": [
  {
   "cell_type": "code",
   "execution_count": 18,
   "metadata": {},
   "outputs": [
    {
     "name": "stdout",
     "output_type": "stream",
     "text": [
      "Enter a number4\n",
      "4 is not a prime number\n"
     ]
    }
   ],
   "source": [
    "#Program for prime number\n",
    "num = int(input('Enter a number'))\n",
    "flag = 10\n",
    "for i in range(2,num):\n",
    "    if num % i == 0:\n",
    "        flag = 15\n",
    "        break\n",
    "    \n",
    "if flag == 15:\n",
    "    print(num,'is not a prime number')\n",
    "else: \n",
    "    print(num, 'is prime')"
   ]
  },
  {
   "cell_type": "code",
   "execution_count": 2,
   "metadata": {},
   "outputs": [
    {
     "data": {
      "text/plain": [
       "[3, 5, 43]"
      ]
     },
     "execution_count": 2,
     "metadata": {},
     "output_type": "execute_result"
    }
   ],
   "source": [
    "#Print all odd numners from given list of numbers\n",
    "numbers = [12,14,16,3,8,5,34,46,43]\n",
    "odd_values = []\n",
    "for i in numbers:\n",
    "    if i%2 != 0:\n",
    "        odd_values.append(i)\n",
    "        \n",
    "odd_values"
   ]
  },
  {
   "cell_type": "code",
   "execution_count": 3,
   "metadata": {},
   "outputs": [
    {
     "name": "stdout",
     "output_type": "stream",
     "text": [
      "3\n",
      "5\n",
      "43\n"
     ]
    }
   ],
   "source": [
    "numbers = [12,14,16,3,8,5,34,46,43]\n",
    "odd_values = []\n",
    "for i in numbers:\n",
    "    if i%2 != 0:\n",
    "        print(i)"
   ]
  },
  {
   "cell_type": "code",
   "execution_count": 9,
   "metadata": {
    "collapsed": true
   },
   "outputs": [
    {
     "name": "stdout",
     "output_type": "stream",
     "text": [
      "Enter numbers of values5\n",
      "2\n",
      "36\n",
      "43\n",
      "26\n",
      "43\n",
      "Enter a value to search100\n",
      "100 is not present in the list\n"
     ]
    }
   ],
   "source": [
    "# Take a list of numbers from users and find a value in that list entered by user\n",
    "n = int(input('Enter numbers of values'))\n",
    "numbers = []\n",
    "for i in range(n):\n",
    "    val = int(input())\n",
    "    numbers.append(val)\n",
    "\n",
    "search = int(input('Enter a value to search'))\n",
    "\n",
    "for i in numbers:   #[12,43,54,34,27]    55\n",
    "    if search == i:\n",
    "        break\n",
    "\n",
    "if search == i:\n",
    "    print(search,'is present in the list')\n",
    "else:\n",
    "    print(search,'is not present in the list')"
   ]
  },
  {
   "cell_type": "code",
   "execution_count": 16,
   "metadata": {},
   "outputs": [
    {
     "name": "stdout",
     "output_type": "stream",
     "text": [
      "Enter a number153\n"
     ]
    }
   ],
   "source": [
    "#To find number of digits in a given value\n",
    "#Approach one\n",
    "arm = input('Enter a number')\n",
    "n = len(arm)\n",
    "arm = int(arm)"
   ]
  },
  {
   "cell_type": "code",
   "execution_count": 15,
   "metadata": {},
   "outputs": [
    {
     "name": "stdout",
     "output_type": "stream",
     "text": [
      "Enter a value153\n"
     ]
    },
    {
     "data": {
      "text/plain": [
       "3"
      ]
     },
     "execution_count": 15,
     "metadata": {},
     "output_type": "execute_result"
    }
   ],
   "source": [
    "#Approach second\n",
    "n = 0\n",
    "val = int(input('Enter a value'))     #153\n",
    "temp = val\n",
    "while(temp > 0):\n",
    "    temp = temp//10\n",
    "    n = n+1\n"
   ]
  },
  {
   "cell_type": "code",
   "execution_count": 20,
   "metadata": {},
   "outputs": [
    {
     "name": "stdout",
     "output_type": "stream",
     "text": [
      "Enter a value8208\n",
      "8208 is an Armstrong number\n"
     ]
    }
   ],
   "source": [
    "#Program for Armstrong number\n",
    "number = int(input('Enter a value'))\n",
    "temp = number\n",
    "n = 0\n",
    "#Count the digits in given number\n",
    "while(temp > 0):\n",
    "    temp = temp//10\n",
    "    n = n+1\n",
    "#Logic for Armstrong \n",
    "arm = 0\n",
    "temp = number\n",
    "for i in range(n):\n",
    "    rem = temp % 10\n",
    "    arm = arm +(rem**n)\n",
    "    temp = temp // 10\n",
    "    \n",
    "if number == arm:\n",
    "    print(number,'is an Armstrong number')\n",
    "else:\n",
    "    print(number,'is not an Armstrong number')"
   ]
  },
  {
   "cell_type": "code",
   "execution_count": 21,
   "metadata": {},
   "outputs": [],
   "source": [
    "#Find number of occurances of each value in a list\n",
    "fruits = ['Apple','Banana','Apple','Mango','Apple','Mango','Watermelon','Watermelon','Mango','Apple']"
   ]
  },
  {
   "cell_type": "code",
   "execution_count": 24,
   "metadata": {},
   "outputs": [
    {
     "name": "stdout",
     "output_type": "stream",
     "text": [
      "Apple : 4\n",
      "Banana : 1\n",
      "Mango : 3\n",
      "Watermelon : 2\n"
     ]
    }
   ],
   "source": [
    "fruit_count = {}\n",
    "for val in fruits:\n",
    "    if val in fruit_count.keys():         #friut_count{'Apple':3, 'Banana':1, 'Mango':2,'Watermelon':1}\n",
    "        fruit_count[val] = fruit_count[val]+1\n",
    "    else:\n",
    "        fruit_count[val] = 1\n",
    "        \n",
    "for k,v in fruit_count.items():\n",
    "    print(k,\":\",v)"
   ]
  },
  {
   "cell_type": "code",
   "execution_count": 36,
   "metadata": {},
   "outputs": [
    {
     "name": "stdout",
     "output_type": "stream",
     "text": [
      "21:45\n",
      "PM\n"
     ]
    }
   ],
   "source": [
    "#Print whether the given time in AM or PM\n",
    "time = input()\n",
    "hour = int(time.split(':')[0])\n",
    "if hour < 12:\n",
    "    print('AM')\n",
    "else:\n",
    "    print('PM')"
   ]
  },
  {
   "cell_type": "code",
   "execution_count": 40,
   "metadata": {},
   "outputs": [],
   "source": [
    "#Same above code with function\n",
    "def am_pm(x):\n",
    "    hour = int(time.split(':')[0])\n",
    "    if hour < 12:\n",
    "        print('AM')\n",
    "    elif hour >=12 and hour < 24:\n",
    "        print('PM')\n",
    "    else:\n",
    "        print(\"Invalid time\")"
   ]
  },
  {
   "cell_type": "code",
   "execution_count": 41,
   "metadata": {},
   "outputs": [
    {
     "name": "stdout",
     "output_type": "stream",
     "text": [
      "Enter a time35:50\n",
      "Invalid time\n"
     ]
    }
   ],
   "source": [
    "time = input('Enter a time')\n",
    "am_pm(time)"
   ]
  },
  {
   "cell_type": "markdown",
   "metadata": {},
   "source": [
    "## Password Authenticator program\n",
    "- Minimum one small letter\n",
    "- Minimum one capital letter\n",
    "- Atleast one digit\n",
    "- atleast one special symbol out of (@,#,&,*,_)\n",
    "- No white space is allowed"
   ]
  },
  {
   "cell_type": "code",
   "execution_count": 21,
   "metadata": {},
   "outputs": [
    {
     "name": "stdout",
     "output_type": "stream",
     "text": [
      "nitT@12,yhG %6,Abc#1,yW@,yu#R2\n"
     ]
    },
    {
     "data": {
      "text/plain": [
       "'nitT@12,yhG %6,Abc#1,yW@,yu#R2'"
      ]
     },
     "execution_count": 21,
     "metadata": {},
     "output_type": "execute_result"
    }
   ],
   "source": [
    "passwords = input()\n",
    "passwords"
   ]
  },
  {
   "cell_type": "code",
   "execution_count": 27,
   "metadata": {},
   "outputs": [
    {
     "data": {
      "text/plain": [
       "['nitT@12', 'yhG %6', 'Abc#1', 'yW@', 'yu#R2']"
      ]
     },
     "execution_count": 27,
     "metadata": {},
     "output_type": "execute_result"
    }
   ],
   "source": [
    "pass_list = passwords.split(\",\")\n",
    "pass_list"
   ]
  },
  {
   "cell_type": "code",
   "execution_count": 23,
   "metadata": {},
   "outputs": [],
   "source": [
    "valid_pass = []\n",
    "for password in pass_list:\n",
    "    is_4to6 = False\n",
    "    is_capital = False\n",
    "    is_small = False\n",
    "    is_digit = False\n",
    "    is_symbol = False\n",
    "    is_no_space = True\n",
    "    if len(password) >=4 and len(password)<=6:\n",
    "        is_4to6 = True\n",
    "    for letter in password:\n",
    "        if letter.isupper() == True:\n",
    "            is_capital = True\n",
    "        if letter.islower() == True:\n",
    "            is_small = True\n",
    "        if letter.isdigit() == True:\n",
    "            is_digit = True\n",
    "        if letter == '@' or letter == '#' or letter =='&' or letter == '*' or letter == '_':\n",
    "            is_symbol = True\n",
    "        if letter == ' ':\n",
    "            is_no_space = False\n",
    "    if is_capital==True and is_small==True and is_digit==True and is_symbol==True and is_no_space==True and is_4to6==True:\n",
    "        valid_pass.append(password)"
   ]
  },
  {
   "cell_type": "code",
   "execution_count": 24,
   "metadata": {},
   "outputs": [
    {
     "name": "stdout",
     "output_type": "stream",
     "text": [
      "Abc#1,yu#R2\n"
     ]
    }
   ],
   "source": [
    "final_pass = ','.join(valid_pass)\n",
    "print(final_pass)"
   ]
  },
  {
   "cell_type": "code",
   "execution_count": 25,
   "metadata": {},
   "outputs": [
    {
     "name": "stdout",
     "output_type": "stream",
     "text": [
      "['Abc#1', 'yu#R2']\n"
     ]
    }
   ],
   "source": []
  },
  {
   "cell_type": "markdown",
   "metadata": {},
   "source": [
    "## Sort alphabetically"
   ]
  },
  {
   "cell_type": "code",
   "execution_count": 33,
   "metadata": {},
   "outputs": [
    {
     "name": "stdout",
     "output_type": "stream",
     "text": [
      "orders,hello,machines,papers,carrom\n"
     ]
    },
    {
     "data": {
      "text/plain": [
       "['orders', 'hello', 'machines', 'papers', 'carrom']"
      ]
     },
     "execution_count": 33,
     "metadata": {},
     "output_type": "execute_result"
    }
   ],
   "source": [
    "values = input()\n",
    "val_list = values.split(\",\")\n"
   ]
  },
  {
   "cell_type": "code",
   "execution_count": 34,
   "metadata": {},
   "outputs": [
    {
     "name": "stdout",
     "output_type": "stream",
     "text": [
      "carrom, hello, machines, orders, papers\n"
     ]
    }
   ],
   "source": [
    "sorted_vals = sorted(val_list)\n",
    "final_result = \", \".join(sorted_vals)\n",
    "print(final_result)"
   ]
  },
  {
   "cell_type": "markdown",
   "metadata": {},
   "source": [
    "## Find biggest N digit number divisible by N"
   ]
  },
  {
   "cell_type": "code",
   "execution_count": 20,
   "metadata": {},
   "outputs": [
    {
     "name": "stdout",
     "output_type": "stream",
     "text": [
      "5\n",
      "The biggest 5 digit number divisible by 5 is 99995\n"
     ]
    }
   ],
   "source": [
    "n = int(input())\n",
    "biggest_n = (10**n)-1\n",
    "while biggest_n:\n",
    "    if(biggest_n % n == 0):\n",
    "        break\n",
    "    else:\n",
    "        biggest_n = biggest_n - 1\n",
    "        \n",
    "print(f\"The biggest {n} digit number divisible by {n} is {biggest_n}\")"
   ]
  },
  {
   "cell_type": "markdown",
   "metadata": {},
   "source": [
    "## Find biggest value in a list"
   ]
  },
  {
   "cell_type": "code",
   "execution_count": 29,
   "metadata": {},
   "outputs": [
    {
     "name": "stdout",
     "output_type": "stream",
     "text": [
      "58\n",
      "The biggest value is: 58\n"
     ]
    }
   ],
   "source": [
    "vals = [12,45,32,27,58,7,54]\n",
    "print(max(vals))  #Built in function\n",
    "\n",
    "#Without using built in function\n",
    "big = vals[0]\n",
    "for i in range(1,len(vals)):  #1,2,3,4,5,6\n",
    "    if vals[i] > big:\n",
    "        big = vals[i]\n",
    "\n",
    "print(\"The biggest value is:\", big)"
   ]
  },
  {
   "cell_type": "code",
   "execution_count": 33,
   "metadata": {},
   "outputs": [
    {
     "name": "stdout",
     "output_type": "stream",
     "text": [
      "54\n",
      "The second biggest number is: 58\n"
     ]
    }
   ],
   "source": [
    "#Second biggest number\n",
    "#Using sorting\n",
    "sorted_list = sorted(vals, reverse=True)\n",
    "second_biggest = sorted_list[1]\n",
    "print(second_biggest)  \n",
    "\n",
    "#Without using built in methode\n",
    "vals = [12,45,65,27,58,7,54]\n",
    "if(vals[0] > vals[1]):\n",
    "    big = vals[0]\n",
    "    sec_big = vals[1]\n",
    "else:\n",
    "    big = vals[1]\n",
    "    sec_big = vals[0] \n",
    "    \n",
    "for i in range(2,len(vals)):\n",
    "    if vals[i] > big:\n",
    "        sec_big = big\n",
    "        big = vals[i]\n",
    "    elif vals[i] > sec_big:\n",
    "        sec_big = vals[i]\n",
    "    else:\n",
    "        pass\n",
    "    \n",
    "print(\"The second biggest number is:\",sec_big)"
   ]
  },
  {
   "cell_type": "code",
   "execution_count": 39,
   "metadata": {},
   "outputs": [
    {
     "name": "stdout",
     "output_type": "stream",
     "text": [
      "Enter a value 4\n",
      "The factorial of 4 is 24\n"
     ]
    }
   ],
   "source": [
    "#Factorial using recursion\n",
    "def factorial(n):\n",
    "    if n == 1:\n",
    "        return 1\n",
    "    else:\n",
    "        return n*factorial(n-1)\n",
    "    \n",
    "val = int(input('Enter a value '))\n",
    "fact = factorial(val)\n",
    "print(f\"The factorial of {val} is {fact}\")"
   ]
  },
  {
   "cell_type": "code",
   "execution_count": 53,
   "metadata": {},
   "outputs": [
    {
     "name": "stdout",
     "output_type": "stream",
     "text": [
      "11\n"
     ]
    }
   ],
   "source": [
    "#Bitwise to be explained\n",
    "x=7\n",
    "y=2\n",
    "print(x >> 1 | y << 2)"
   ]
  },
  {
   "cell_type": "markdown",
   "metadata": {},
   "source": [
    "# Program to find variance and std dev\n",
    "- variance=summation(individual value - mean)square / total numbers\n",
    "- Standard dev = root of variance"
   ]
  },
  {
   "cell_type": "code",
   "execution_count": 3,
   "metadata": {},
   "outputs": [
    {
     "name": "stdout",
     "output_type": "stream",
     "text": [
      "Average is: 26.9\n"
     ]
    }
   ],
   "source": [
    "nums = [23,21,26,32,15,28,30,38,31,25]\n",
    "average = 0\n",
    "count = 0\n",
    "for i in nums:\n",
    "    average = average+i\n",
    "    count = count+1\n",
    "    \n",
    "average = average/count   \n",
    "print(\"Average is:\",average)"
   ]
  },
  {
   "cell_type": "code",
   "execution_count": 6,
   "metadata": {},
   "outputs": [
    {
     "name": "stdout",
     "output_type": "stream",
     "text": [
      "The variance is: 37.290000000000006\n",
      "The standard deviation is: 6.10655385630881\n"
     ]
    }
   ],
   "source": [
    "variance = 0\n",
    "for i in nums:\n",
    "    variance = variance+(i-average)**2\n",
    "variance = variance/count\n",
    "print(\"The variance is:\",variance)\n",
    "print(\"The standard deviation is:\",variance**0.5)\n"
   ]
  },
  {
   "cell_type": "code",
   "execution_count": 7,
   "metadata": {},
   "outputs": [],
   "source": [
    "#Calculate covariance and corelation of following data\n",
    "study_hours = [1,2,3,4,5,6]\n",
    "marks = [60,68,75,83,90,96]"
   ]
  },
  {
   "cell_type": "markdown",
   "metadata": {},
   "source": [
    "#### Find whether the given string has a character 'i' in it.\n",
    "- you are given 2 strings\n",
    "- first line of input has string s\n",
    "- second line of input has string p\n",
    "- Output: Print 0 if there is no 'i' in a string else print 1.\n",
    "\n",
    "Sample Input\n",
    "1. Hello World\n",
    "2. Edubridge\n",
    "\n",
    "Sample Output: \n",
    "1"
   ]
  },
  {
   "cell_type": "code",
   "execution_count": 1,
   "metadata": {},
   "outputs": [
    {
     "name": "stdout",
     "output_type": "stream",
     "text": [
      "Hello World\n",
      "Edubridge\n"
     ]
    }
   ],
   "source": [
    "str1 = input()\n",
    "str2 = input()"
   ]
  },
  {
   "cell_type": "code",
   "execution_count": 2,
   "metadata": {},
   "outputs": [
    {
     "name": "stdout",
     "output_type": "stream",
     "text": [
      "1\n"
     ]
    }
   ],
   "source": [
    "if 'i' in str1 or 'i' in str2:\n",
    "    print(1)\n",
    "else:\n",
    "    print(0)"
   ]
  },
  {
   "cell_type": "code",
   "execution_count": 3,
   "metadata": {},
   "outputs": [
    {
     "name": "stdout",
     "output_type": "stream",
     "text": [
      "Hello World\n",
      "Edubridge\n",
      "1\n"
     ]
    }
   ],
   "source": [
    "#Above code using a function\n",
    "def find_i(S,T):\n",
    "    if 'i' in S or 'i' in T:\n",
    "        return 1\n",
    "    else:\n",
    "        return 0\n",
    "    \n",
    "str1 = input()\n",
    "str2 = input()\n",
    "result = find_i(str1, str2)\n",
    "print(result)"
   ]
  },
  {
   "cell_type": "code",
   "execution_count": 6,
   "metadata": {},
   "outputs": [],
   "source": [
    "def find_i_new(S):\n",
    "    if 'i' in S:\n",
    "        return 1\n",
    "    else:\n",
    "        return 0"
   ]
  },
  {
   "cell_type": "code",
   "execution_count": 7,
   "metadata": {},
   "outputs": [
    {
     "name": "stdout",
     "output_type": "stream",
     "text": [
      "Hello World\n",
      "Edubridge\n",
      "0\n",
      "1\n"
     ]
    }
   ],
   "source": [
    "str1 = input()\n",
    "str2 = input()\n",
    "\n",
    "print(find_i_new(str1))\n",
    "print(find_i_new(str2))"
   ]
  },
  {
   "cell_type": "markdown",
   "metadata": {},
   "source": [
    "## Find occurances of letter c in the given word\n",
    "- Sample Input - chincherinchy\n",
    "- Sample Ouptput - 3"
   ]
  },
  {
   "cell_type": "code",
   "execution_count": 8,
   "metadata": {},
   "outputs": [
    {
     "name": "stdout",
     "output_type": "stream",
     "text": [
      "chincherinchy\n",
      "3\n"
     ]
    }
   ],
   "source": [
    "word = input()\n",
    "count_c = 0\n",
    "for letter in word:\n",
    "    if letter == 'c' or letter == 'C':\n",
    "        count_c = count_c+1\n",
    "        \n",
    "print(count_c)"
   ]
  },
  {
   "cell_type": "code",
   "execution_count": null,
   "metadata": {},
   "outputs": [],
   "source": []
  }
 ],
 "metadata": {
  "kernelspec": {
   "display_name": "Python 3",
   "language": "python",
   "name": "python3"
  },
  "language_info": {
   "codemirror_mode": {
    "name": "ipython",
    "version": 3
   },
   "file_extension": ".py",
   "mimetype": "text/x-python",
   "name": "python",
   "nbconvert_exporter": "python",
   "pygments_lexer": "ipython3",
   "version": "3.7.6"
  }
 },
 "nbformat": 4,
 "nbformat_minor": 4
}
