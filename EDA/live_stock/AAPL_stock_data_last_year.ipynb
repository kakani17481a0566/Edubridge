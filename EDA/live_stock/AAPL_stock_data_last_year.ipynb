{
 "cells": [
  {
   "cell_type": "code",
   "execution_count": 1,
   "id": "37617dff-9d89-4e44-ab2d-a7ef44e2d972",
   "metadata": {},
   "outputs": [
    {
     "name": "stderr",
     "output_type": "stream",
     "text": [
      "[*********************100%***********************]  1 of 1 completed"
     ]
    },
    {
     "name": "stdout",
     "output_type": "stream",
     "text": [
      "Data for AAPL saved to AAPL_stock_data_last_year.csv\n"
     ]
    },
    {
     "name": "stderr",
     "output_type": "stream",
     "text": [
      "\n"
     ]
    }
   ],
   "source": [
    "import yfinance as yf\n",
    "from datetime import datetime, timedelta\n",
    "\n",
    "def download_stock_data(ticker, filename):\n",
    "    # Calculate the dates for the last year\n",
    "    end_date = datetime.now()\n",
    "    start_date = end_date - timedelta(days=365)\n",
    "\n",
    "    # Fetch historical stock data\n",
    "    stock_data = yf.download(ticker, start=start_date.strftime('%Y-%m-%d'), end=end_date.strftime('%Y-%m-%d'))\n",
    "    \n",
    "    # Save the data to a CSV file\n",
    "    stock_data.to_csv(filename)\n",
    "    print(f\"Data for {ticker} saved to {filename}\")\n",
    "\n",
    "# Example usage\n",
    "if __name__ == \"__main__\":\n",
    "    ticker_symbol = \"AAPL\"  # Example: Apple Inc.\n",
    "    filename = \"AAPL_stock_data_last_year.csv\"  # Output filename\n",
    "\n",
    "    download_stock_data(ticker_symbol, filename)\n"
   ]
  },
  {
   "cell_type": "code",
   "execution_count": null,
   "id": "b139bf50-4fbe-41fc-9565-3b9729e51f79",
   "metadata": {},
   "outputs": [],
   "source": [
    "import yfinance as yf\n",
    "from datetime import datetime, timedelta"
   ]
  }
 ],
 "metadata": {
  "kernelspec": {
   "display_name": "Python 3 (ipykernel)",
   "language": "python",
   "name": "python3"
  },
  "language_info": {
   "codemirror_mode": {
    "name": "ipython",
    "version": 3
   },
   "file_extension": ".py",
   "mimetype": "text/x-python",
   "name": "python",
   "nbconvert_exporter": "python",
   "pygments_lexer": "ipython3",
   "version": "3.12.6"
  }
 },
 "nbformat": 4,
 "nbformat_minor": 5
}
