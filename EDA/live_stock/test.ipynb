{
 "cells": [
  {
   "cell_type": "code",
   "execution_count": 9,
   "id": "e245bb4d-aeb0-4767-9842-38d9467bbb80",
   "metadata": {},
   "outputs": [
    {
     "ename": "AttributeError",
     "evalue": "'Ticker' object has no attribute 'constituents'",
     "output_type": "error",
     "traceback": [
      "\u001b[1;31m---------------------------------------------------------------------------\u001b[0m",
      "\u001b[1;31mAttributeError\u001b[0m                            Traceback (most recent call last)",
      "Cell \u001b[1;32mIn[9], line 30\u001b[0m\n\u001b[0;32m     28\u001b[0m \u001b[38;5;66;03m# Example usage\u001b[39;00m\n\u001b[0;32m     29\u001b[0m \u001b[38;5;28;01mif\u001b[39;00m \u001b[38;5;18m__name__\u001b[39m \u001b[38;5;241m==\u001b[39m \u001b[38;5;124m\"\u001b[39m\u001b[38;5;124m__main__\u001b[39m\u001b[38;5;124m\"\u001b[39m:\n\u001b[1;32m---> 30\u001b[0m     symbols \u001b[38;5;241m=\u001b[39m \u001b[43mget_stock_symbols\u001b[49m\u001b[43m(\u001b[49m\u001b[43m)\u001b[49m\n\u001b[0;32m     31\u001b[0m     \u001b[38;5;28mprint\u001b[39m(\u001b[38;5;124m\"\u001b[39m\u001b[38;5;124mStock Symbols:\u001b[39m\u001b[38;5;124m\"\u001b[39m)\n\u001b[0;32m     32\u001b[0m     \u001b[38;5;28mprint\u001b[39m(symbols)\n",
      "Cell \u001b[1;32mIn[9], line 9\u001b[0m, in \u001b[0;36mget_stock_symbols\u001b[1;34m()\u001b[0m\n\u001b[0;32m      6\u001b[0m nasdaq_100 \u001b[38;5;241m=\u001b[39m yf\u001b[38;5;241m.\u001b[39mTicker(\u001b[38;5;124m\"\u001b[39m\u001b[38;5;124m^NDX\u001b[39m\u001b[38;5;124m\"\u001b[39m)\n\u001b[0;32m      8\u001b[0m \u001b[38;5;66;03m# The NASDAQ-100 symbols can be accessed from its components\u001b[39;00m\n\u001b[1;32m----> 9\u001b[0m nasdaq_symbols \u001b[38;5;241m=\u001b[39m \u001b[43mnasdaq_100\u001b[49m\u001b[38;5;241;43m.\u001b[39;49m\u001b[43mconstituents\u001b[49m\n\u001b[0;32m     10\u001b[0m stock_symbols \u001b[38;5;241m=\u001b[39m \u001b[38;5;28mlist\u001b[39m(nasdaq_symbols\u001b[38;5;241m.\u001b[39mkeys())\n\u001b[0;32m     12\u001b[0m \u001b[38;5;66;03m# Now get S&P 500 and NYSE symbols from Wikipedia\u001b[39;00m\n",
      "\u001b[1;31mAttributeError\u001b[0m: 'Ticker' object has no attribute 'constituents'"
     ]
    }
   ],
   "source": [
    "import yfinance as yf\n",
    "import pandas as pd\n",
    "\n",
    "def get_stock_symbols():\n",
    "    # Fetch the NASDAQ-100 tickers using yfinance\n",
    "    nasdaq_100 = yf.Ticker(\"^NDX\")\n",
    "    \n",
    "    # The NASDAQ-100 symbols can be accessed from its components\n",
    "    nasdaq_symbols = nasdaq_100.constituents\n",
    "    stock_symbols = list(nasdaq_symbols.keys())\n",
    "\n",
    "    # Now get S&P 500 and NYSE symbols from Wikipedia\n",
    "    exchanges = {\n",
    "        'S&P_500': 'https://en.wikipedia.org/wiki/List_of_S%26P_500_companies',\n",
    "        'NYSE': 'https://en.wikipedia.org/wiki/List_of_NYSE_stocks',\n",
    "    }\n",
    "\n",
    "    for index, url in exchanges.items():\n",
    "        dfs = pd.read_html(url)\n",
    "        \n",
    "        if index == 'S&P_500':\n",
    "            stock_symbols += dfs[0]['Symbol'].tolist()\n",
    "        elif index == 'NYSE':\n",
    "            stock_symbols += dfs[0]['Symbol'].tolist()\n",
    "\n",
    "    return list(set(stock_symbols))  # Remove duplicates\n",
    "\n",
    "# Example usage\n",
    "if __name__ == \"__main__\":\n",
    "    symbols = get_stock_symbols()\n",
    "    print(\"Stock Symbols:\")\n",
    "    print(symbols)\n"
   ]
  },
  {
   "cell_type": "code",
   "execution_count": 5,
   "id": "e08bc7ef-a2cb-4cdd-8904-eb221b250fa0",
   "metadata": {},
   "outputs": [
    {
     "ename": "NameError",
     "evalue": "name 'stock_symbols' is not defined",
     "output_type": "error",
     "traceback": [
      "\u001b[1;31m---------------------------------------------------------------------------\u001b[0m",
      "\u001b[1;31mNameError\u001b[0m                                 Traceback (most recent call last)",
      "Cell \u001b[1;32mIn[5], line 1\u001b[0m\n\u001b[1;32m----> 1\u001b[0m \u001b[43mstock_symbols\u001b[49m\n",
      "\u001b[1;31mNameError\u001b[0m: name 'stock_symbols' is not defined"
     ]
    }
   ],
   "source": [
    "stock_symbols"
   ]
  }
 ],
 "metadata": {
  "kernelspec": {
   "display_name": "Python 3 (ipykernel)",
   "language": "python",
   "name": "python3"
  },
  "language_info": {
   "codemirror_mode": {
    "name": "ipython",
    "version": 3
   },
   "file_extension": ".py",
   "mimetype": "text/x-python",
   "name": "python",
   "nbconvert_exporter": "python",
   "pygments_lexer": "ipython3",
   "version": "3.12.4"
  }
 },
 "nbformat": 4,
 "nbformat_minor": 5
}
