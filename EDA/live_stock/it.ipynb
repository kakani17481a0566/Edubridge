{
 "cells": [
  {
   "cell_type": "markdown",
   "metadata": {},
   "source": [
    "pip install yfinance"
   ]
  },
  {
   "cell_type": "markdown",
   "metadata": {},
   "source": [
    "pip install pandas"
   ]
  },
  {
   "cell_type": "code",
   "execution_count": 25,
   "metadata": {},
   "outputs": [
    {
     "name": "stdout",
     "output_type": "stream",
     "text": [
      "                          Date         Open         High          Low  \\\n",
      "0    2023-10-09 00:00:00+05:30  3584.435949  3617.821341  3570.619540   \n",
      "1    2023-10-10 00:00:00+05:30  3579.519173  3587.336923  3541.462768   \n",
      "2    2023-10-11 00:00:00+05:30  3589.303629  3589.303629  3545.051940   \n",
      "3    2023-10-12 00:00:00+05:30  3515.550963  3528.973879  3479.264673   \n",
      "4    2023-10-13 00:00:00+05:30  3471.299175  3517.517606  3466.382320   \n",
      "...                        ...          ...          ...          ...   \n",
      "1220 2024-10-01 00:00:00+05:30  1580.000000  1642.900024  1580.000000   \n",
      "1221 2024-10-03 00:00:00+05:30  1615.000000  1631.150024  1596.150024   \n",
      "1222 2024-10-04 00:00:00+05:30  1591.000000  1648.400024  1591.000000   \n",
      "1223 2024-10-07 00:00:00+05:30  1624.949951  1632.050049  1600.199951   \n",
      "1224 2024-10-08 00:00:00+05:30  1625.000000  1635.000000  1603.599976   \n",
      "\n",
      "            Close   Volume  Dividends  Stock Splits    Ticker  \n",
      "0     3577.847412  4233074        0.0           0.0    TCS.NS  \n",
      "1     3568.554443  1848148        0.0           0.0    TCS.NS  \n",
      "2     3549.870361  2426417        0.0           0.0    TCS.NS  \n",
      "3     3483.640625  4241281        0.0           0.0    TCS.NS  \n",
      "4     3511.469971  2890357        0.0           0.0    TCS.NS  \n",
      "...           ...      ...        ...           ...       ...  \n",
      "1220  1625.400024  5176596        0.0           0.0  TECHM.NS  \n",
      "1221  1604.050049  2332279        0.0           0.0  TECHM.NS  \n",
      "1222  1616.449951  2927576        0.0           0.0  TECHM.NS  \n",
      "1223  1618.550049  1619326        0.0           0.0  TECHM.NS  \n",
      "1224  1629.099976  1311331        0.0           0.0  TECHM.NS  \n",
      "\n",
      "[1225 rows x 9 columns]\n",
      "Data exported to it_stocks_historical_data.csv\n"
     ]
    }
   ],
   "source": [
    "import yfinance as yf\n",
    "import pandas as pd\n",
    "import time\n",
    "\n",
    "# List of tickers for Indian IT companies\n",
    "tickers = ['TCS.NS', 'INFY.NS', 'WIPRO.NS', 'HCLTECH.NS', 'TECHM.NS']  # Add more tickers as needed\n",
    "\n",
    "# Create a list to store individual DataFrames\n",
    "dataframes = []\n",
    "\n",
    "# Loop through each ticker and fetch the historical data\n",
    "for ticker in tickers:\n",
    "    try:\n",
    "        stock = yf.Ticker(ticker)\n",
    "        hist = stock.history(period=\"1y\")  # Fetch historical data for the last year\n",
    "        \n",
    "        # Reset index to make date a column\n",
    "        hist.reset_index(inplace=True)\n",
    "        \n",
    "        # Add a column for the ticker symbol\n",
    "        hist['Ticker'] = ticker\n",
    "        \n",
    "        # Append the DataFrame to the list\n",
    "        dataframes.append(hist)\n",
    "        \n",
    "        # Sleep for a short time to avoid hitting API limits\n",
    "        time.sleep(1)\n",
    "\n",
    "    except Exception as e:\n",
    "        print(f\"Error fetching data for {ticker}: {e}\")\n",
    "\n",
    "# Concatenate all DataFrames into a single DataFrame\n",
    "all_hist = pd.concat(dataframes, ignore_index=True)\n",
    "\n",
    "# Print the combined historical market data\n",
    "print(all_hist)\n",
    "\n",
    "# Export the data to a CSV file\n",
    "all_hist.to_csv('it_stocks_historical_data.csv', index=False)\n",
    "\n",
    "print(\"Data exported to it_stocks_historical_data.csv\")\n"
   ]
  },
  {
   "cell_type": "code",
   "execution_count": 26,
   "metadata": {},
   "outputs": [],
   "source": [
    "import pandas as ps\n",
    "import numpy as np\n",
    "import matplotlib.pyplot as olt\n",
    "import seaborn as sns"
   ]
  },
  {
   "cell_type": "code",
   "execution_count": 27,
   "metadata": {},
   "outputs": [],
   "source": [
    "data_load = pd.read_csv('it_stocks_historical_data.csv')"
   ]
  },
  {
   "cell_type": "code",
   "execution_count": 28,
   "metadata": {},
   "outputs": [
    {
     "data": {
      "text/plain": [
       "Date             object\n",
       "Open            float64\n",
       "High            float64\n",
       "Low             float64\n",
       "Close           float64\n",
       "Volume            int64\n",
       "Dividends       float64\n",
       "Stock Splits    float64\n",
       "Ticker           object\n",
       "dtype: object"
      ]
     },
     "execution_count": 28,
     "metadata": {},
     "output_type": "execute_result"
    }
   ],
   "source": [
    "data_load.dtypes"
   ]
  },
  {
   "cell_type": "code",
   "execution_count": 29,
   "metadata": {},
   "outputs": [
    {
     "data": {
      "text/plain": [
       "0   2023-10-09\n",
       "Name: Date, dtype: datetime64[ns]"
      ]
     },
     "execution_count": 29,
     "metadata": {},
     "output_type": "execute_result"
    }
   ],
   "source": [
    "data_load['Date'] = pd.to_datetime(data_load['Date'])\n",
    "data_load['Date'].head(1)\n",
    "data_load['Date'] = data_load['Date'].dt.strftime('%Y-%m-%d')\n",
    "\n",
    "data_load['Date'].head(1)\n",
    "data_load['Date'] = pd.to_datetime(data_load['Date'])\n",
    "data_load['Date'].head(1)"
   ]
  },
  {
   "cell_type": "code",
   "execution_count": 30,
   "metadata": {},
   "outputs": [
    {
     "data": {
      "text/html": [
       "<div>\n",
       "<style scoped>\n",
       "    .dataframe tbody tr th:only-of-type {\n",
       "        vertical-align: middle;\n",
       "    }\n",
       "\n",
       "    .dataframe tbody tr th {\n",
       "        vertical-align: top;\n",
       "    }\n",
       "\n",
       "    .dataframe thead th {\n",
       "        text-align: right;\n",
       "    }\n",
       "</style>\n",
       "<table border=\"1\" class=\"dataframe\">\n",
       "  <thead>\n",
       "    <tr style=\"text-align: right;\">\n",
       "      <th></th>\n",
       "      <th>Date</th>\n",
       "      <th>Open</th>\n",
       "      <th>High</th>\n",
       "      <th>Low</th>\n",
       "      <th>Close</th>\n",
       "      <th>Volume</th>\n",
       "      <th>Dividends</th>\n",
       "      <th>Stock Splits</th>\n",
       "      <th>Ticker</th>\n",
       "    </tr>\n",
       "  </thead>\n",
       "  <tbody>\n",
       "    <tr>\n",
       "      <th>0</th>\n",
       "      <td>2023-10-09</td>\n",
       "      <td>3584.435949</td>\n",
       "      <td>3617.821341</td>\n",
       "      <td>3570.619540</td>\n",
       "      <td>3577.847412</td>\n",
       "      <td>4233074</td>\n",
       "      <td>0.0</td>\n",
       "      <td>0.0</td>\n",
       "      <td>TCS.NS</td>\n",
       "    </tr>\n",
       "    <tr>\n",
       "      <th>1</th>\n",
       "      <td>2023-10-10</td>\n",
       "      <td>3579.519173</td>\n",
       "      <td>3587.336923</td>\n",
       "      <td>3541.462768</td>\n",
       "      <td>3568.554443</td>\n",
       "      <td>1848148</td>\n",
       "      <td>0.0</td>\n",
       "      <td>0.0</td>\n",
       "      <td>TCS.NS</td>\n",
       "    </tr>\n",
       "  </tbody>\n",
       "</table>\n",
       "</div>"
      ],
      "text/plain": [
       "        Date         Open         High          Low        Close   Volume  \\\n",
       "0 2023-10-09  3584.435949  3617.821341  3570.619540  3577.847412  4233074   \n",
       "1 2023-10-10  3579.519173  3587.336923  3541.462768  3568.554443  1848148   \n",
       "\n",
       "   Dividends  Stock Splits  Ticker  \n",
       "0        0.0           0.0  TCS.NS  \n",
       "1        0.0           0.0  TCS.NS  "
      ]
     },
     "execution_count": 30,
     "metadata": {},
     "output_type": "execute_result"
    }
   ],
   "source": [
    "data_load.head(2)"
   ]
  }
 ],
 "metadata": {
  "kernelspec": {
   "display_name": "Python 3 (ipykernel)",
   "language": "python",
   "name": "python3"
  },
  "language_info": {
   "codemirror_mode": {
    "name": "ipython",
    "version": 3
   },
   "file_extension": ".py",
   "mimetype": "text/x-python",
   "name": "python",
   "nbconvert_exporter": "python",
   "pygments_lexer": "ipython3",
   "version": "3.12.4"
  }
 },
 "nbformat": 4,
 "nbformat_minor": 4
}
