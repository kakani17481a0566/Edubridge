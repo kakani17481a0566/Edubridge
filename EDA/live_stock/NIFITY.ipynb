{
 "cells": [
  {
   "cell_type": "code",
   "execution_count": 1,
   "id": "20609477-0b65-4366-9f2d-1cedb58c0a54",
   "metadata": {},
   "outputs": [],
   "source": [
    "import pandas as pd\n",
    "import numpy as np\n",
    "import matplotlib.pyplot as plt\n",
    "import seaborn as sns"
   ]
  },
  {
   "cell_type": "code",
   "execution_count": 3,
   "id": "bca75fe9-fd2b-4915-8173-f3bb9a4702e1",
   "metadata": {},
   "outputs": [],
   "source": [
    "nifity_50 = pd.read_csv('nifty_50_historical_data_5y.csv')"
   ]
  },
  {
   "cell_type": "code",
   "execution_count": 5,
   "id": "95b3dca8-a732-486c-949d-971ebd764712",
   "metadata": {},
   "outputs": [
    {
     "data": {
      "text/plain": [
       "Index(['Date', 'Open', 'High', 'Low', 'Close', 'Volume', 'Dividends',\n",
       "       'Stock Splits'],\n",
       "      dtype='object')"
      ]
     },
     "execution_count": 5,
     "metadata": {},
     "output_type": "execute_result"
    }
   ],
   "source": [
    "nifity_50.columns"
   ]
  },
  {
   "cell_type": "code",
   "execution_count": 7,
   "id": "08765496-fd26-488a-9b39-4524d9ca4d8d",
   "metadata": {},
   "outputs": [
    {
     "data": {
      "text/html": [
       "<div>\n",
       "<style scoped>\n",
       "    .dataframe tbody tr th:only-of-type {\n",
       "        vertical-align: middle;\n",
       "    }\n",
       "\n",
       "    .dataframe tbody tr th {\n",
       "        vertical-align: top;\n",
       "    }\n",
       "\n",
       "    .dataframe thead th {\n",
       "        text-align: right;\n",
       "    }\n",
       "</style>\n",
       "<table border=\"1\" class=\"dataframe\">\n",
       "  <thead>\n",
       "    <tr style=\"text-align: right;\">\n",
       "      <th></th>\n",
       "      <th>Date</th>\n",
       "      <th>Open</th>\n",
       "      <th>High</th>\n",
       "      <th>Low</th>\n",
       "      <th>Close</th>\n",
       "      <th>Volume</th>\n",
       "      <th>Dividends</th>\n",
       "      <th>Stock Splits</th>\n",
       "    </tr>\n",
       "  </thead>\n",
       "  <tbody>\n",
       "    <tr>\n",
       "      <th>0</th>\n",
       "      <td>2019-09-27 00:00:00+05:30</td>\n",
       "      <td>11556.349609</td>\n",
       "      <td>11593.599609</td>\n",
       "      <td>11499.750000</td>\n",
       "      <td>11512.400391</td>\n",
       "      <td>650000</td>\n",
       "      <td>0.0</td>\n",
       "      <td>0.0</td>\n",
       "    </tr>\n",
       "    <tr>\n",
       "      <th>1</th>\n",
       "      <td>2019-09-30 00:00:00+05:30</td>\n",
       "      <td>11491.150391</td>\n",
       "      <td>11508.250000</td>\n",
       "      <td>11390.799805</td>\n",
       "      <td>11474.450195</td>\n",
       "      <td>756800</td>\n",
       "      <td>0.0</td>\n",
       "      <td>0.0</td>\n",
       "    </tr>\n",
       "    <tr>\n",
       "      <th>2</th>\n",
       "      <td>2019-10-01 00:00:00+05:30</td>\n",
       "      <td>11515.400391</td>\n",
       "      <td>11554.200195</td>\n",
       "      <td>11247.900391</td>\n",
       "      <td>11359.900391</td>\n",
       "      <td>1305400</td>\n",
       "      <td>0.0</td>\n",
       "      <td>0.0</td>\n",
       "    </tr>\n",
       "    <tr>\n",
       "      <th>3</th>\n",
       "      <td>2019-10-03 00:00:00+05:30</td>\n",
       "      <td>11322.250000</td>\n",
       "      <td>11370.400391</td>\n",
       "      <td>11257.349609</td>\n",
       "      <td>11314.000000</td>\n",
       "      <td>1017500</td>\n",
       "      <td>0.0</td>\n",
       "      <td>0.0</td>\n",
       "    </tr>\n",
       "    <tr>\n",
       "      <th>4</th>\n",
       "      <td>2019-10-04 00:00:00+05:30</td>\n",
       "      <td>11388.450195</td>\n",
       "      <td>11400.299805</td>\n",
       "      <td>11158.349609</td>\n",
       "      <td>11174.750000</td>\n",
       "      <td>928500</td>\n",
       "      <td>0.0</td>\n",
       "      <td>0.0</td>\n",
       "    </tr>\n",
       "  </tbody>\n",
       "</table>\n",
       "</div>"
      ],
      "text/plain": [
       "                        Date          Open          High           Low  \\\n",
       "0  2019-09-27 00:00:00+05:30  11556.349609  11593.599609  11499.750000   \n",
       "1  2019-09-30 00:00:00+05:30  11491.150391  11508.250000  11390.799805   \n",
       "2  2019-10-01 00:00:00+05:30  11515.400391  11554.200195  11247.900391   \n",
       "3  2019-10-03 00:00:00+05:30  11322.250000  11370.400391  11257.349609   \n",
       "4  2019-10-04 00:00:00+05:30  11388.450195  11400.299805  11158.349609   \n",
       "\n",
       "          Close   Volume  Dividends  Stock Splits  \n",
       "0  11512.400391   650000        0.0           0.0  \n",
       "1  11474.450195   756800        0.0           0.0  \n",
       "2  11359.900391  1305400        0.0           0.0  \n",
       "3  11314.000000  1017500        0.0           0.0  \n",
       "4  11174.750000   928500        0.0           0.0  "
      ]
     },
     "execution_count": 7,
     "metadata": {},
     "output_type": "execute_result"
    }
   ],
   "source": [
    "nifity_50.head()"
   ]
  }
 ],
 "metadata": {
  "kernelspec": {
   "display_name": "Python 3 (ipykernel)",
   "language": "python",
   "name": "python3"
  },
  "language_info": {
   "codemirror_mode": {
    "name": "ipython",
    "version": 3
   },
   "file_extension": ".py",
   "mimetype": "text/x-python",
   "name": "python",
   "nbconvert_exporter": "python",
   "pygments_lexer": "ipython3",
   "version": "3.12.4"
  }
 },
 "nbformat": 4,
 "nbformat_minor": 5
}
