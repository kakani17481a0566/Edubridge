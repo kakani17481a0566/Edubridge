{
 "cells": [
  {
   "cell_type": "code",
   "execution_count": 71,
   "metadata": {},
   "outputs": [],
   "source": [
    "#pip install seaborn"
   ]
  },
  {
   "cell_type": "code",
   "execution_count": 72,
   "metadata": {},
   "outputs": [],
   "source": [
    "import pandas as pd\n",
    "import numpy as np\n",
    "import matplotlib.pyplot as plt\n",
    "import seaborn as sns"
   ]
  },
  {
   "cell_type": "code",
   "execution_count": 73,
   "metadata": {},
   "outputs": [
    {
     "name": "stdout",
     "output_type": "stream",
     "text": [
      "                                  Open         High          Low        Close  \\\n",
      "Date                                                                            \n",
      "2019-09-27 00:00:00+05:30  1198.293233  1203.333121  1188.069438  1194.405273   \n",
      "2019-09-30 00:00:00+05:30  1179.621748  1190.373462  1167.813965  1178.325684   \n",
      "2019-10-01 00:00:00+05:30  1182.213613  1204.773109  1172.229812  1198.821289   \n",
      "2019-10-03 00:00:00+05:30  1190.325341  1194.021353  1167.669871  1174.581787   \n",
      "2019-10-04 00:00:00+05:30  1187.157616  1189.989506  1137.862736  1142.086548   \n",
      "...                                ...          ...          ...          ...   \n",
      "2024-09-23 00:00:00+05:30  1251.500000  1252.449951  1240.550049  1246.800049   \n",
      "2024-09-24 00:00:00+05:30  1241.099976  1247.099976  1235.349976  1239.550049   \n",
      "2024-09-25 00:00:00+05:30  1238.000000  1271.000000  1231.099976  1268.099976   \n",
      "2024-09-26 00:00:00+05:30  1267.550049  1281.650024  1262.250000  1277.099976   \n",
      "2024-09-27 00:00:00+05:30  1273.000000  1281.550049  1257.250000  1273.150024   \n",
      "\n",
      "                             Volume  Dividends  Stock Splits       Ticker  \n",
      "Date                                                                       \n",
      "2019-09-27 00:00:00+05:30   7436585        0.0           0.0  HDFCBANK.NS  \n",
      "2019-09-30 00:00:00+05:30   9109229        0.0           0.0  HDFCBANK.NS  \n",
      "2019-10-01 00:00:00+05:30   9384176        0.0           0.0  HDFCBANK.NS  \n",
      "2019-10-03 00:00:00+05:30   8149438        0.0           0.0  HDFCBANK.NS  \n",
      "2019-10-04 00:00:00+05:30   9201816        0.0           0.0  HDFCBANK.NS  \n",
      "...                             ...        ...           ...          ...  \n",
      "2024-09-23 00:00:00+05:30   5462814        0.0           0.0  AXISBANK.NS  \n",
      "2024-09-24 00:00:00+05:30   9225946        0.0           0.0  AXISBANK.NS  \n",
      "2024-09-25 00:00:00+05:30   6853324        0.0           0.0  AXISBANK.NS  \n",
      "2024-09-26 00:00:00+05:30   7270078        0.0           0.0  AXISBANK.NS  \n",
      "2024-09-27 00:00:00+05:30  13372000        0.0           0.0  AXISBANK.NS  \n",
      "\n",
      "[6190 rows x 8 columns]\n",
      "Data exported to bank_stocks_historical_data.csv\n"
     ]
    }
   ],
   "source": [
    "import yfinance as yf\n",
    "\n",
    "\n",
    "# List of bank stock tickers (NSE)\n",
    "tickers = [\n",
    "    \"HDFCBANK.NS\",  # HDFC Bank Ltd\n",
    "    \"ICICIBANK.NS\",  # ICICI Bank Ltd\n",
    "    \"KOTAKBANK.NS\",  # Kotak Mahindra Bank Ltd\n",
    "    \"SBIN.NS\",       # State Bank of India\n",
    "    \"AXISBANK.NS\"    # Axis Bank Ltd\n",
    "]\n",
    "\n",
    "# Create a list to store individual DataFrames\n",
    "dataframes = []\n",
    "\n",
    "# Loop through each ticker and fetch the historical data\n",
    "for ticker in tickers:\n",
    "    stock = yf.Ticker(ticker)\n",
    "    hist = stock.history(period=\"5y\")\n",
    "    \n",
    "    # Add a column for the ticker symbol\n",
    "    hist['Ticker'] = ticker\n",
    "    \n",
    "    # Append the DataFrame to the list\n",
    "    dataframes.append(hist)\n",
    "\n",
    "# Concatenate all DataFrames into a single DataFrame\n",
    "all_hist = pd.concat(dataframes)\n",
    "\n",
    "# Print the combined historical market data\n",
    "print(all_hist)\n",
    "\n",
    "# Export the data to a CSV file\n",
    "all_hist.to_csv('bank_stocks_historical_data.csv')\n",
    "\n",
    "print(\"Data exported to bank_stocks_historical_data.csv\")\n"
   ]
  },
  {
   "cell_type": "code",
   "execution_count": 74,
   "metadata": {},
   "outputs": [],
   "source": [
    "df_stock = pd.read_csv('bank_stocks_historical_data.csv')"
   ]
  },
  {
   "cell_type": "code",
   "execution_count": 75,
   "metadata": {},
   "outputs": [],
   "source": [
    "\n",
    "line_brack =\"=================================================================================================================\"\n",
    "colors = ['lightcoral', 'lightblue', 'lightgreen', 'peachpuff', 'lavender', 'mintcream', 'palegoldenrod', 'thistle', 'lightyellow', 'skyblue', 'lightpink', 'honeydew', 'lavenderblush']\n"
   ]
  },
  {
   "cell_type": "code",
   "execution_count": 76,
   "metadata": {},
   "outputs": [
    {
     "name": "stdout",
     "output_type": "stream",
     "text": [
      "['HDFCBANK.NS' 'ICICIBANK.NS' 'KOTAKBANK.NS' 'SBIN.NS' 'AXISBANK.NS']\n",
      "=================================================================================================================\n",
      "Unique Tickers:\n",
      "['HDFCBANK.NS' 'ICICIBANK.NS' 'KOTAKBANK.NS' 'SBIN.NS' 'AXISBANK.NS']\n",
      "\n",
      "\n",
      "Please enter a stock ticker: ['HDFCBANK.NS' 'ICICIBANK.NS' 'KOTAKBANK.NS' 'SBIN.NS' 'AXISBANK.NS']\n"
     ]
    }
   ],
   "source": [
    "v = df_stock['Ticker'].unique()\n",
    "print(df_stock['Ticker'].unique())\n",
    "print(line_brack)\n",
    "\n",
    "\n",
    "# Print unique tickers\n",
    "print(\"Unique Tickers:\")\n",
    "print(df_stock['Ticker'].unique())\n",
    "print(\"\\n\")  # Line break\n",
    "\n",
    "# Take input from user\n",
    "stock_name = input(print(f\"Please enter a stock ticker: {v}\") )"
   ]
  },
  {
   "cell_type": "code",
   "execution_count": 77,
   "metadata": {},
   "outputs": [
    {
     "name": "stdout",
     "output_type": "stream",
     "text": [
      "Index(['Date', 'Open', 'High', 'Low', 'Close', 'Volume', 'Dividends',\n",
      "       'Stock Splits', 'Ticker'],\n",
      "      dtype='object')\n",
      "RangeIndex(start=0, stop=6190, step=1)\n",
      "Date             object\n",
      "Open            float64\n",
      "High            float64\n",
      "Low             float64\n",
      "Close           float64\n",
      "Volume            int64\n",
      "Dividends       float64\n",
      "Stock Splits    float64\n",
      "Ticker           object\n",
      "dtype: object\n"
     ]
    }
   ],
   "source": [
    "print(df_stock.columns)\n",
    "\n",
    "print(df_stock.index)\n",
    "\n",
    "print(df_stock.dtypes)"
   ]
  },
  {
   "cell_type": "markdown",
   "metadata": {},
   "source": [
    "# General Overview"
   ]
  },
  {
   "cell_type": "markdown",
   "metadata": {},
   "source": [
    "### 1. What are the dimensions of the DataFrame?"
   ]
  },
  {
   "cell_type": "code",
   "execution_count": 78,
   "metadata": {},
   "outputs": [
    {
     "data": {
      "text/plain": [
       "(6190, 9)"
      ]
     },
     "execution_count": 78,
     "metadata": {},
     "output_type": "execute_result"
    }
   ],
   "source": [
    "df_stock.shape"
   ]
  },
  {
   "cell_type": "markdown",
   "metadata": {},
   "source": [
    "### 2. What are the column names?"
   ]
  },
  {
   "cell_type": "code",
   "execution_count": 79,
   "metadata": {},
   "outputs": [
    {
     "data": {
      "text/plain": [
       "Index(['Date', 'Open', 'High', 'Low', 'Close', 'Volume', 'Dividends',\n",
       "       'Stock Splits', 'Ticker'],\n",
       "      dtype='object')"
      ]
     },
     "execution_count": 79,
     "metadata": {},
     "output_type": "execute_result"
    }
   ],
   "source": [
    "df_stock.columns"
   ]
  },
  {
   "cell_type": "markdown",
   "metadata": {},
   "source": [
    "### 3. What are the data types of each column?\n"
   ]
  },
  {
   "cell_type": "code",
   "execution_count": 80,
   "metadata": {},
   "outputs": [
    {
     "data": {
      "text/plain": [
       "Date             object\n",
       "Open            float64\n",
       "High            float64\n",
       "Low             float64\n",
       "Close           float64\n",
       "Volume            int64\n",
       "Dividends       float64\n",
       "Stock Splits    float64\n",
       "Ticker           object\n",
       "dtype: object"
      ]
     },
     "execution_count": 80,
     "metadata": {},
     "output_type": "execute_result"
    }
   ],
   "source": [
    "df_stock.dtypes"
   ]
  },
  {
   "cell_type": "markdown",
   "metadata": {},
   "source": [
    "### 4. How many missing values are in each column?\n"
   ]
  },
  {
   "cell_type": "code",
   "execution_count": 81,
   "metadata": {},
   "outputs": [
    {
     "data": {
      "text/plain": [
       "Date            0\n",
       "Open            0\n",
       "High            0\n",
       "Low             0\n",
       "Close           0\n",
       "Volume          0\n",
       "Dividends       0\n",
       "Stock Splits    0\n",
       "Ticker          0\n",
       "dtype: int64"
      ]
     },
     "execution_count": 81,
     "metadata": {},
     "output_type": "execute_result"
    }
   ],
   "source": [
    "df_stock.isna().sum()"
   ]
  },
  {
   "cell_type": "markdown",
   "metadata": {},
   "source": [
    "### 5. What is the summary statistics of numerical columns?\n"
   ]
  },
  {
   "cell_type": "code",
   "execution_count": 82,
   "metadata": {},
   "outputs": [
    {
     "data": {
      "text/html": [
       "<div>\n",
       "<style scoped>\n",
       "    .dataframe tbody tr th:only-of-type {\n",
       "        vertical-align: middle;\n",
       "    }\n",
       "\n",
       "    .dataframe tbody tr th {\n",
       "        vertical-align: top;\n",
       "    }\n",
       "\n",
       "    .dataframe thead th {\n",
       "        text-align: right;\n",
       "    }\n",
       "</style>\n",
       "<table border=\"1\" class=\"dataframe\">\n",
       "  <thead>\n",
       "    <tr style=\"text-align: right;\">\n",
       "      <th></th>\n",
       "      <th>Open</th>\n",
       "      <th>High</th>\n",
       "      <th>Low</th>\n",
       "      <th>Close</th>\n",
       "      <th>Volume</th>\n",
       "      <th>Dividends</th>\n",
       "      <th>Stock Splits</th>\n",
       "    </tr>\n",
       "  </thead>\n",
       "  <tbody>\n",
       "    <tr>\n",
       "      <th>count</th>\n",
       "      <td>6190.000000</td>\n",
       "      <td>6190.000000</td>\n",
       "      <td>6190.000000</td>\n",
       "      <td>6190.000000</td>\n",
       "      <td>6.190000e+03</td>\n",
       "      <td>6190.000000</td>\n",
       "      <td>6190.0</td>\n",
       "    </tr>\n",
       "    <tr>\n",
       "      <th>mean</th>\n",
       "      <td>1026.117843</td>\n",
       "      <td>1036.879321</td>\n",
       "      <td>1014.297875</td>\n",
       "      <td>1025.692287</td>\n",
       "      <td>1.639194e+07</td>\n",
       "      <td>0.022472</td>\n",
       "      <td>0.0</td>\n",
       "    </tr>\n",
       "    <tr>\n",
       "      <th>std</th>\n",
       "      <td>514.235178</td>\n",
       "      <td>518.412692</td>\n",
       "      <td>509.700492</td>\n",
       "      <td>514.111397</td>\n",
       "      <td>1.770663e+07</td>\n",
       "      <td>0.519717</td>\n",
       "      <td>0.0</td>\n",
       "    </tr>\n",
       "    <tr>\n",
       "      <th>min</th>\n",
       "      <td>143.022088</td>\n",
       "      <td>144.198637</td>\n",
       "      <td>140.668959</td>\n",
       "      <td>141.986710</td>\n",
       "      <td>1.976090e+05</td>\n",
       "      <td>0.000000</td>\n",
       "      <td>0.0</td>\n",
       "    </tr>\n",
       "    <tr>\n",
       "      <th>25%</th>\n",
       "      <td>589.350294</td>\n",
       "      <td>593.951164</td>\n",
       "      <td>581.572210</td>\n",
       "      <td>587.958054</td>\n",
       "      <td>6.154360e+06</td>\n",
       "      <td>0.000000</td>\n",
       "      <td>0.0</td>\n",
       "    </tr>\n",
       "    <tr>\n",
       "      <th>50%</th>\n",
       "      <td>920.535227</td>\n",
       "      <td>928.085310</td>\n",
       "      <td>912.381537</td>\n",
       "      <td>920.421539</td>\n",
       "      <td>1.118955e+07</td>\n",
       "      <td>0.000000</td>\n",
       "      <td>0.0</td>\n",
       "    </tr>\n",
       "    <tr>\n",
       "      <th>75%</th>\n",
       "      <td>1487.298459</td>\n",
       "      <td>1502.903209</td>\n",
       "      <td>1475.022846</td>\n",
       "      <td>1489.910889</td>\n",
       "      <td>1.951846e+07</td>\n",
       "      <td>0.000000</td>\n",
       "      <td>0.0</td>\n",
       "    </tr>\n",
       "    <tr>\n",
       "      <th>max</th>\n",
       "      <td>2194.462367</td>\n",
       "      <td>2247.328961</td>\n",
       "      <td>2171.121365</td>\n",
       "      <td>2205.384521</td>\n",
       "      <td>2.868577e+08</td>\n",
       "      <td>19.500000</td>\n",
       "      <td>0.0</td>\n",
       "    </tr>\n",
       "  </tbody>\n",
       "</table>\n",
       "</div>"
      ],
      "text/plain": [
       "              Open         High          Low        Close        Volume  \\\n",
       "count  6190.000000  6190.000000  6190.000000  6190.000000  6.190000e+03   \n",
       "mean   1026.117843  1036.879321  1014.297875  1025.692287  1.639194e+07   \n",
       "std     514.235178   518.412692   509.700492   514.111397  1.770663e+07   \n",
       "min     143.022088   144.198637   140.668959   141.986710  1.976090e+05   \n",
       "25%     589.350294   593.951164   581.572210   587.958054  6.154360e+06   \n",
       "50%     920.535227   928.085310   912.381537   920.421539  1.118955e+07   \n",
       "75%    1487.298459  1502.903209  1475.022846  1489.910889  1.951846e+07   \n",
       "max    2194.462367  2247.328961  2171.121365  2205.384521  2.868577e+08   \n",
       "\n",
       "         Dividends  Stock Splits  \n",
       "count  6190.000000        6190.0  \n",
       "mean      0.022472           0.0  \n",
       "std       0.519717           0.0  \n",
       "min       0.000000           0.0  \n",
       "25%       0.000000           0.0  \n",
       "50%       0.000000           0.0  \n",
       "75%       0.000000           0.0  \n",
       "max      19.500000           0.0  "
      ]
     },
     "execution_count": 82,
     "metadata": {},
     "output_type": "execute_result"
    }
   ],
   "source": [
    "df_stock.describe()"
   ]
  },
  {
   "cell_type": "markdown",
   "metadata": {},
   "source": [
    "### 6. What are the unique values in the `Ticker` column?\n"
   ]
  },
  {
   "cell_type": "code",
   "execution_count": 83,
   "metadata": {},
   "outputs": [
    {
     "data": {
      "text/plain": [
       "array(['HDFCBANK.NS', 'ICICIBANK.NS', 'KOTAKBANK.NS', 'SBIN.NS',\n",
       "       'AXISBANK.NS'], dtype=object)"
      ]
     },
     "execution_count": 83,
     "metadata": {},
     "output_type": "execute_result"
    }
   ],
   "source": [
    "df_stock['Ticker'].unique()"
   ]
  },
  {
   "cell_type": "code",
   "execution_count": 84,
   "metadata": {},
   "outputs": [
    {
     "data": {
      "text/html": [
       "<div>\n",
       "<style scoped>\n",
       "    .dataframe tbody tr th:only-of-type {\n",
       "        vertical-align: middle;\n",
       "    }\n",
       "\n",
       "    .dataframe tbody tr th {\n",
       "        vertical-align: top;\n",
       "    }\n",
       "\n",
       "    .dataframe thead th {\n",
       "        text-align: right;\n",
       "    }\n",
       "</style>\n",
       "<table border=\"1\" class=\"dataframe\">\n",
       "  <thead>\n",
       "    <tr style=\"text-align: right;\">\n",
       "      <th></th>\n",
       "      <th>Date</th>\n",
       "      <th>Open</th>\n",
       "      <th>High</th>\n",
       "      <th>Low</th>\n",
       "      <th>Close</th>\n",
       "      <th>Volume</th>\n",
       "      <th>Dividends</th>\n",
       "      <th>Stock Splits</th>\n",
       "      <th>Ticker</th>\n",
       "    </tr>\n",
       "  </thead>\n",
       "  <tbody>\n",
       "    <tr>\n",
       "      <th>0</th>\n",
       "      <td>2019-09-27 00:00:00+05:30</td>\n",
       "      <td>1198.293233</td>\n",
       "      <td>1203.333121</td>\n",
       "      <td>1188.069438</td>\n",
       "      <td>1194.405273</td>\n",
       "      <td>7436585</td>\n",
       "      <td>0.0</td>\n",
       "      <td>0.0</td>\n",
       "      <td>HDFCBANK.NS</td>\n",
       "    </tr>\n",
       "    <tr>\n",
       "      <th>1</th>\n",
       "      <td>2019-09-30 00:00:00+05:30</td>\n",
       "      <td>1179.621748</td>\n",
       "      <td>1190.373462</td>\n",
       "      <td>1167.813965</td>\n",
       "      <td>1178.325684</td>\n",
       "      <td>9109229</td>\n",
       "      <td>0.0</td>\n",
       "      <td>0.0</td>\n",
       "      <td>HDFCBANK.NS</td>\n",
       "    </tr>\n",
       "    <tr>\n",
       "      <th>2</th>\n",
       "      <td>2019-10-01 00:00:00+05:30</td>\n",
       "      <td>1182.213613</td>\n",
       "      <td>1204.773109</td>\n",
       "      <td>1172.229812</td>\n",
       "      <td>1198.821289</td>\n",
       "      <td>9384176</td>\n",
       "      <td>0.0</td>\n",
       "      <td>0.0</td>\n",
       "      <td>HDFCBANK.NS</td>\n",
       "    </tr>\n",
       "    <tr>\n",
       "      <th>3</th>\n",
       "      <td>2019-10-03 00:00:00+05:30</td>\n",
       "      <td>1190.325341</td>\n",
       "      <td>1194.021353</td>\n",
       "      <td>1167.669871</td>\n",
       "      <td>1174.581787</td>\n",
       "      <td>8149438</td>\n",
       "      <td>0.0</td>\n",
       "      <td>0.0</td>\n",
       "      <td>HDFCBANK.NS</td>\n",
       "    </tr>\n",
       "    <tr>\n",
       "      <th>4</th>\n",
       "      <td>2019-10-04 00:00:00+05:30</td>\n",
       "      <td>1187.157616</td>\n",
       "      <td>1189.989506</td>\n",
       "      <td>1137.862736</td>\n",
       "      <td>1142.086548</td>\n",
       "      <td>9201816</td>\n",
       "      <td>0.0</td>\n",
       "      <td>0.0</td>\n",
       "      <td>HDFCBANK.NS</td>\n",
       "    </tr>\n",
       "    <tr>\n",
       "      <th>...</th>\n",
       "      <td>...</td>\n",
       "      <td>...</td>\n",
       "      <td>...</td>\n",
       "      <td>...</td>\n",
       "      <td>...</td>\n",
       "      <td>...</td>\n",
       "      <td>...</td>\n",
       "      <td>...</td>\n",
       "      <td>...</td>\n",
       "    </tr>\n",
       "    <tr>\n",
       "      <th>1233</th>\n",
       "      <td>2024-09-23 00:00:00+05:30</td>\n",
       "      <td>1749.000000</td>\n",
       "      <td>1766.349976</td>\n",
       "      <td>1740.250000</td>\n",
       "      <td>1759.800049</td>\n",
       "      <td>13482675</td>\n",
       "      <td>0.0</td>\n",
       "      <td>0.0</td>\n",
       "      <td>HDFCBANK.NS</td>\n",
       "    </tr>\n",
       "    <tr>\n",
       "      <th>1234</th>\n",
       "      <td>2024-09-24 00:00:00+05:30</td>\n",
       "      <td>1765.000000</td>\n",
       "      <td>1781.650024</td>\n",
       "      <td>1754.250000</td>\n",
       "      <td>1768.050049</td>\n",
       "      <td>16519518</td>\n",
       "      <td>0.0</td>\n",
       "      <td>0.0</td>\n",
       "      <td>HDFCBANK.NS</td>\n",
       "    </tr>\n",
       "    <tr>\n",
       "      <th>1235</th>\n",
       "      <td>2024-09-25 00:00:00+05:30</td>\n",
       "      <td>1760.150024</td>\n",
       "      <td>1788.000000</td>\n",
       "      <td>1760.150024</td>\n",
       "      <td>1779.099976</td>\n",
       "      <td>15982656</td>\n",
       "      <td>0.0</td>\n",
       "      <td>0.0</td>\n",
       "      <td>HDFCBANK.NS</td>\n",
       "    </tr>\n",
       "    <tr>\n",
       "      <th>1236</th>\n",
       "      <td>2024-09-26 00:00:00+05:30</td>\n",
       "      <td>1773.050049</td>\n",
       "      <td>1788.000000</td>\n",
       "      <td>1768.050049</td>\n",
       "      <td>1783.449951</td>\n",
       "      <td>15949822</td>\n",
       "      <td>0.0</td>\n",
       "      <td>0.0</td>\n",
       "      <td>HDFCBANK.NS</td>\n",
       "    </tr>\n",
       "    <tr>\n",
       "      <th>1237</th>\n",
       "      <td>2024-09-27 00:00:00+05:30</td>\n",
       "      <td>1777.000000</td>\n",
       "      <td>1778.199951</td>\n",
       "      <td>1750.000000</td>\n",
       "      <td>1752.650024</td>\n",
       "      <td>17805173</td>\n",
       "      <td>0.0</td>\n",
       "      <td>0.0</td>\n",
       "      <td>HDFCBANK.NS</td>\n",
       "    </tr>\n",
       "  </tbody>\n",
       "</table>\n",
       "<p>1238 rows × 9 columns</p>\n",
       "</div>"
      ],
      "text/plain": [
       "                           Date         Open         High          Low  \\\n",
       "0     2019-09-27 00:00:00+05:30  1198.293233  1203.333121  1188.069438   \n",
       "1     2019-09-30 00:00:00+05:30  1179.621748  1190.373462  1167.813965   \n",
       "2     2019-10-01 00:00:00+05:30  1182.213613  1204.773109  1172.229812   \n",
       "3     2019-10-03 00:00:00+05:30  1190.325341  1194.021353  1167.669871   \n",
       "4     2019-10-04 00:00:00+05:30  1187.157616  1189.989506  1137.862736   \n",
       "...                         ...          ...          ...          ...   \n",
       "1233  2024-09-23 00:00:00+05:30  1749.000000  1766.349976  1740.250000   \n",
       "1234  2024-09-24 00:00:00+05:30  1765.000000  1781.650024  1754.250000   \n",
       "1235  2024-09-25 00:00:00+05:30  1760.150024  1788.000000  1760.150024   \n",
       "1236  2024-09-26 00:00:00+05:30  1773.050049  1788.000000  1768.050049   \n",
       "1237  2024-09-27 00:00:00+05:30  1777.000000  1778.199951  1750.000000   \n",
       "\n",
       "            Close    Volume  Dividends  Stock Splits       Ticker  \n",
       "0     1194.405273   7436585        0.0           0.0  HDFCBANK.NS  \n",
       "1     1178.325684   9109229        0.0           0.0  HDFCBANK.NS  \n",
       "2     1198.821289   9384176        0.0           0.0  HDFCBANK.NS  \n",
       "3     1174.581787   8149438        0.0           0.0  HDFCBANK.NS  \n",
       "4     1142.086548   9201816        0.0           0.0  HDFCBANK.NS  \n",
       "...           ...       ...        ...           ...          ...  \n",
       "1233  1759.800049  13482675        0.0           0.0  HDFCBANK.NS  \n",
       "1234  1768.050049  16519518        0.0           0.0  HDFCBANK.NS  \n",
       "1235  1779.099976  15982656        0.0           0.0  HDFCBANK.NS  \n",
       "1236  1783.449951  15949822        0.0           0.0  HDFCBANK.NS  \n",
       "1237  1752.650024  17805173        0.0           0.0  HDFCBANK.NS  \n",
       "\n",
       "[1238 rows x 9 columns]"
      ]
     },
     "execution_count": 84,
     "metadata": {},
     "output_type": "execute_result"
    }
   ],
   "source": [
    "df_stock[df_stock['Ticker'] == stock_name]"
   ]
  },
  {
   "cell_type": "markdown",
   "metadata": {},
   "source": [
    "### 7. What is the date range covered in the dataset?\n"
   ]
  },
  {
   "cell_type": "code",
   "execution_count": 85,
   "metadata": {},
   "outputs": [
    {
     "name": "stdout",
     "output_type": "stream",
     "text": [
      " HDFCBANK.NS --> Date Range ==>  2019-09-27 00:00:00+05:30 to 2024-09-27 00:00:00+05:30 \n"
     ]
    }
   ],
   "source": [
    "min_date = df_stock['Date'].min()\n",
    "max_date = df_stock['Date'].max()\n",
    "\n",
    "print(f' {stock_name} --> Date Range ==>  {min_date} to {max_date} ')"
   ]
  },
  {
   "cell_type": "markdown",
   "metadata": {},
   "source": [
    "## 8. Are there any duplicate rows in the dataset?\n"
   ]
  },
  {
   "cell_type": "code",
   "execution_count": 86,
   "metadata": {},
   "outputs": [
    {
     "data": {
      "text/plain": [
       "np.int64(0)"
      ]
     },
     "execution_count": 86,
     "metadata": {},
     "output_type": "execute_result"
    }
   ],
   "source": [
    "df_stock.duplicated().sum()"
   ]
  },
  {
   "cell_type": "markdown",
   "metadata": {},
   "source": [
    "### 9. How can you handle missing values in the dataset?\n"
   ]
  },
  {
   "cell_type": "code",
   "execution_count": 87,
   "metadata": {},
   "outputs": [
    {
     "data": {
      "text/plain": [
       "Date            0\n",
       "Open            0\n",
       "High            0\n",
       "Low             0\n",
       "Close           0\n",
       "Volume          0\n",
       "Dividends       0\n",
       "Stock Splits    0\n",
       "Ticker          0\n",
       "dtype: int64"
      ]
     },
     "execution_count": 87,
     "metadata": {},
     "output_type": "execute_result"
    }
   ],
   "source": [
    "df_stock.isna().sum()"
   ]
  },
  {
   "cell_type": "markdown",
   "metadata": {},
   "source": [
    "### 10. Are there any outliers in numerical columns?"
   ]
  },
  {
   "cell_type": "code",
   "execution_count": 88,
   "metadata": {},
   "outputs": [
    {
     "name": "stdout",
     "output_type": "stream",
     "text": [
      "Index(['Date', 'Open', 'High', 'Low', 'Close', 'Volume', 'Dividends',\n",
      "       'Stock Splits', 'Ticker'],\n",
      "      dtype='object')\n",
      "=================================================================================================================\n"
     ]
    },
    {
     "data": {
      "image/png": "[encoded data removed]",
      "text/plain": [
       "<Figure size 640x480 with 1 Axes>"
      ]
     },
     "metadata": {},
     "output_type": "display_data"
    }
   ],
   "source": [
    "print(df_stock.columns)\n",
    "print(line_brack)\n",
    "plt.boxplot(df_stock[df_stock['Ticker'] == stock_name] ['Open'])\n",
    "plt.title(\"Open\")\n",
    "plt.show()\n",
    "\n"
   ]
  },
  {
   "cell_type": "code",
   "execution_count": 89,
   "metadata": {},
   "outputs": [
    {
     "data": {
      "image/png": "[encoded data removed]",
      "text/plain": [
       "<Figure size 640x480 with 1 Axes>"
      ]
     },
     "metadata": {},
     "output_type": "display_data"
    }
   ],
   "source": [
    "plt.boxplot(df_stock[df_stock['Ticker'] == stock_name] ['High'])\n",
    "plt.title(\"High\")\n",
    "plt.show()\n"
   ]
  },
  {
   "cell_type": "code",
   "execution_count": 90,
   "metadata": {},
   "outputs": [
    {
     "data": {
      "image/png": "[encoded data removed]",
      "text/plain": [
       "<Figure size 640x480 with 1 Axes>"
      ]
     },
     "metadata": {},
     "output_type": "display_data"
    }
   ],
   "source": [
    "\n",
    "plt.boxplot(df_stock[df_stock['Ticker'] == stock_name] ['Low'])\n",
    "plt.title(\"Low\")\n",
    "plt.show()\n",
    "\n"
   ]
  },
  {
   "cell_type": "code",
   "execution_count": 91,
   "metadata": {},
   "outputs": [
    {
     "data": {
      "image/png": "[encoded data removed]",
      "text/plain": [
       "<Figure size 640x480 with 1 Axes>"
      ]
     },
     "metadata": {},
     "output_type": "display_data"
    }
   ],
   "source": [
    "plt.boxplot(df_stock[df_stock['Ticker'] == stock_name] ['Close'])\n",
    "plt.title(\"Close\")\n",
    "plt.show()\n",
    "\n"
   ]
  },
  {
   "cell_type": "code",
   "execution_count": 92,
   "metadata": {},
   "outputs": [
    {
     "data": {
      "image/png": "[encoded data removed]",
      "text/plain": [
       "<Figure size 640x480 with 1 Axes>"
      ]
     },
     "metadata": {},
     "output_type": "display_data"
    }
   ],
   "source": [
    "\n",
    "plt.boxplot(df_stock[df_stock['Ticker'] == stock_name] ['Volume'])\n",
    "plt.title(\"Volume\")\n",
    "plt.show()\n"
   ]
  },
  {
   "cell_type": "code",
   "execution_count": 93,
   "metadata": {},
   "outputs": [
    {
     "data": {
      "image/png": "[encoded data removed]",
      "text/plain": [
       "<Figure size 640x480 with 1 Axes>"
      ]
     },
     "metadata": {},
     "output_type": "display_data"
    }
   ],
   "source": [
    "\n",
    "plt.boxplot(df_stock[df_stock['Ticker'] == stock_name] ['Dividends'])\n",
    "plt.title(\"Dividends\")\n",
    "plt.show()\n",
    "\n"
   ]
  },
  {
   "cell_type": "code",
   "execution_count": 94,
   "metadata": {},
   "outputs": [
    {
     "data": {
      "image/png": "[encoded data removed]",
      "text/plain": [
       "<Figure size 640x480 with 1 Axes>"
      ]
     },
     "metadata": {},
     "output_type": "display_data"
    }
   ],
   "source": [
    "plt.boxplot(df_stock[df_stock['Ticker'] == stock_name] ['Stock Splits'])\n",
    "plt.title(\"Stock Splits\")\n",
    "plt.show()"
   ]
  },
  {
   "cell_type": "markdown",
   "metadata": {},
   "source": [
    "### 11. Are the date formats consistent in the `Date` column?\n"
   ]
  },
  {
   "cell_type": "code",
   "execution_count": 95,
   "metadata": {},
   "outputs": [
    {
     "data": {
      "text/plain": [
       "Date             object\n",
       "Open            float64\n",
       "High            float64\n",
       "Low             float64\n",
       "Close           float64\n",
       "Volume            int64\n",
       "Dividends       float64\n",
       "Stock Splits    float64\n",
       "Ticker           object\n",
       "dtype: object"
      ]
     },
     "execution_count": 95,
     "metadata": {},
     "output_type": "execute_result"
    }
   ],
   "source": [
    "df_stock.dtypes"
   ]
  },
  {
   "cell_type": "markdown",
   "metadata": {},
   "source": [
    "### 12. Should the `Volume` column be transformed (e.g., logarithm)?\n"
   ]
  },
  {
   "cell_type": "markdown",
   "metadata": {},
   "source": [
    "### 13. Is the `Ticker` column case-sensitive, and should it be standardized?\n"
   ]
  },
  {
   "cell_type": "markdown",
   "metadata": {},
   "source": [
    "# Time Series Analysis"
   ]
  },
  {
   "cell_type": "markdown",
   "metadata": {},
   "source": [
    "### 14. How does the stock price change over time?"
   ]
  },
  {
   "cell_type": "code",
   "execution_count": 96,
   "metadata": {},
   "outputs": [
    {
     "name": "stdout",
     "output_type": "stream",
     "text": [
      "Index(['Date', 'Open', 'High', 'Low', 'Close', 'Volume', 'Dividends',\n",
      "       'Stock Splits', 'Ticker'],\n",
      "      dtype='object')\n",
      "=================================================================================================================\n",
      "         Date        Date\n",
      "0  2019-09-27  2019-09-27\n",
      "1  2019-09-30  2019-09-30\n",
      "2  2019-10-01  2019-10-01\n",
      "3  2019-10-03  2019-10-03\n",
      "4  2019-10-04  2019-10-04\n"
     ]
    },
    {
     "name": "stderr",
     "output_type": "stream",
     "text": [
      "C:\\Users\\kakan\\AppData\\Local\\Temp\\ipykernel_13916\\1529059108.py:4: SettingWithCopyWarning: \n",
      "A value is trying to be set on a copy of a slice from a DataFrame.\n",
      "Try using .loc[row_indexer,col_indexer] = value instead\n",
      "\n",
      "See the caveats in the documentation: https://pandas.pydata.org/pandas-docs/stable/user_guide/indexing.html#returning-a-view-versus-a-copy\n",
      "  HDFC['Date'] = pd.to_datetime(HDFC['Date'])\n",
      "C:\\Users\\kakan\\AppData\\Local\\Temp\\ipykernel_13916\\1529059108.py:5: SettingWithCopyWarning: \n",
      "A value is trying to be set on a copy of a slice from a DataFrame.\n",
      "Try using .loc[row_indexer,col_indexer] = value instead\n",
      "\n",
      "See the caveats in the documentation: https://pandas.pydata.org/pandas-docs/stable/user_guide/indexing.html#returning-a-view-versus-a-copy\n",
      "  HDFC['Date'] = HDFC['Date'].dt.strftime('%Y-%m-%d')\n"
     ]
    }
   ],
   "source": [
    "print(df_stock.columns)\n",
    "print(line_brack)\n",
    "HDFC = df_stock[df_stock['Ticker']== stock_name]\n",
    "HDFC['Date'] = pd.to_datetime(HDFC['Date'])\n",
    "HDFC['Date'] = HDFC['Date'].dt.strftime('%Y-%m-%d')\n",
    "print(HDFC[['Date', 'Date']].head())"
   ]
  },
  {
   "cell_type": "code",
   "execution_count": 97,
   "metadata": {},
   "outputs": [
    {
     "name": "stdout",
     "output_type": "stream",
     "text": [
      "=================================================================================================================\n",
      "Index(['Date', 'Open', 'High', 'Low', 'Close', 'Volume', 'Dividends',\n",
      "       'Stock Splits', 'Ticker'],\n",
      "      dtype='object')\n",
      "=================================================================================================================\n"
     ]
    },
    {
     "name": "stderr",
     "output_type": "stream",
     "text": [
      "C:\\Users\\kakan\\AppData\\Local\\Temp\\ipykernel_13916\\4134594684.py:1: SettingWithCopyWarning: \n",
      "A value is trying to be set on a copy of a slice from a DataFrame.\n",
      "Try using .loc[row_indexer,col_indexer] = value instead\n",
      "\n",
      "See the caveats in the documentation: https://pandas.pydata.org/pandas-docs/stable/user_guide/indexing.html#returning-a-view-versus-a-copy\n",
      "  HDFC['Date'] = pd.to_datetime(HDFC['Date'])\n"
     ]
    }
   ],
   "source": [
    "HDFC['Date'] = pd.to_datetime(HDFC['Date'])  \n",
    "HDFC.set_index('Date', inplace=True) \n",
    "print(line_brack) \n",
    "print(df_stock.columns)\n",
    "print(line_brack) "
   ]
  },
  {
   "cell_type": "code",
   "execution_count": 98,
   "metadata": {},
   "outputs": [
    {
     "data": {
      "text/plain": [
       "Date\n",
       "2019-12-31    1250.276123\n",
       "2020-12-31    1384.097046\n",
       "2021-12-31    1628.131836\n",
       "2022-12-31    1621.264526\n",
       "2023-12-31    1704.918579\n",
       "2024-12-31    1783.449951\n",
       "Freq: YE-DEC, Name: Close, dtype: float64"
      ]
     },
     "execution_count": 98,
     "metadata": {},
     "output_type": "execute_result"
    }
   ],
   "source": [
    "year_sampel = HDFC.resample('YE')['Close'].max().sort_index()\n",
    "year_sampel"
   ]
  },
  {
   "cell_type": "code",
   "execution_count": 99,
   "metadata": {},
   "outputs": [
    {
     "data": {
      "image/png": "[encoded data removed]",
      "text/plain": [
       "<Figure size 1500x500 with 1 Axes>"
      ]
     },
     "metadata": {},
     "output_type": "display_data"
    }
   ],
   "source": [
    "\n",
    "plt.figure(figsize=(15,5))\n",
    "plt.plot(year_sampel.index,year_sampel.values, marker = 'o')\n",
    "plt.xlabel(\"YEAR\")\n",
    "plt.ylabel(\"MAX_CLOSING_VALUE\")\n",
    "plt.title(\"yearly_perfomance_hdfc_stock\")\n",
    "plt.show()"
   ]
  },
  {
   "cell_type": "markdown",
   "metadata": {},
   "source": [
    "# All stocks "
   ]
  },
  {
   "cell_type": "code",
   "execution_count": 100,
   "metadata": {},
   "outputs": [
    {
     "name": "stdout",
     "output_type": "stream",
     "text": [
      "Index(['Date', 'Open', 'High', 'Low', 'Close', 'Volume', 'Dividends',\n",
      "       'Stock Splits', 'Ticker'],\n",
      "      dtype='object')\n",
      "=================================================================================================================\n",
      "         Date        Date\n",
      "0  2019-09-27  2019-09-27\n",
      "1  2019-09-30  2019-09-30\n",
      "2  2019-10-01  2019-10-01\n",
      "3  2019-10-03  2019-10-03\n",
      "4  2019-10-04  2019-10-04\n"
     ]
    }
   ],
   "source": [
    "print(df_stock.columns)\n",
    "print(line_brack)\n",
    "all_stocks =df_stock\n",
    "all_stocks['Date'] = pd.to_datetime(all_stocks['Date'])\n",
    "all_stocks['Date'] = all_stocks['Date'].dt.strftime('%Y-%m-%d')\n",
    "print(all_stocks[['Date', 'Date']].head())"
   ]
  },
  {
   "cell_type": "code",
   "execution_count": 101,
   "metadata": {},
   "outputs": [],
   "source": [
    "all_stocks['Date'] = pd.to_datetime(all_stocks['Date'])  \n",
    "all_stocks.set_index('Date', inplace=True) "
   ]
  },
  {
   "cell_type": "code",
   "execution_count": 102,
   "metadata": {},
   "outputs": [
    {
     "name": "stdout",
     "output_type": "stream",
     "text": [
      "Index(['Open', 'High', 'Low', 'Close', 'Volume', 'Dividends', 'Stock Splits',\n",
      "       'Ticker'],\n",
      "      dtype='object')\n",
      "=================================================================================================================\n"
     ]
    },
    {
     "data": {
      "text/plain": [
       "<pandas.core.groupby.generic.DataFrameGroupBy object at 0x0000026C6BE7B380>"
      ]
     },
     "execution_count": 102,
     "metadata": {},
     "output_type": "execute_result"
    }
   ],
   "source": [
    "print(all_stocks.columns)\n",
    "print(line_brack)\n",
    "try_ = all_stocks.groupby('Ticker')\n",
    "try_"
   ]
  },
  {
   "cell_type": "code",
   "execution_count": 103,
   "metadata": {},
   "outputs": [
    {
     "name": "stdout",
     "output_type": "stream",
     "text": [
      "<class 'pandas.core.frame.DataFrame'>\n",
      "Index(['Ticker', 'Date', 'Close'], dtype='object')\n",
      "=================================================================================================================\n"
     ]
    },
    {
     "data": {
      "image/png": "[encoded data removed]",
      "text/plain": [
       "<Figure size 1500x800 with 1 Axes>"
      ]
     },
     "metadata": {},
     "output_type": "display_data"
    }
   ],
   "source": [
    "temp =all_stocks\n",
    "\n",
    "gp = temp[['Ticker','Close']].groupby('Ticker').resample('YE').max('Close')\n",
    "\n",
    "print(type(gp))\n",
    "\n",
    "\n",
    "gp.reset_index(inplace=True)\n",
    "\n",
    "gp.set_index('Ticker')\n",
    "\n",
    "print(gp.columns)\n",
    "print(line_brack)\n",
    "\n",
    "plt.figure(figsize=(15,8))\n",
    "plt.plot(gp['Ticker'], gp['Close'], marker = 'o')\n",
    "plt.grid()"
   ]
  },
  {
   "cell_type": "code",
   "execution_count": 104,
   "metadata": {},
   "outputs": [
    {
     "data": {
      "text/html": [
       "<div>\n",
       "<style scoped>\n",
       "    .dataframe tbody tr th:only-of-type {\n",
       "        vertical-align: middle;\n",
       "    }\n",
       "\n",
       "    .dataframe tbody tr th {\n",
       "        vertical-align: top;\n",
       "    }\n",
       "\n",
       "    .dataframe thead th {\n",
       "        text-align: right;\n",
       "    }\n",
       "</style>\n",
       "<table border=\"1\" class=\"dataframe\">\n",
       "  <thead>\n",
       "    <tr style=\"text-align: right;\">\n",
       "      <th></th>\n",
       "      <th>Ticker</th>\n",
       "      <th>Date</th>\n",
       "      <th>Close</th>\n",
       "    </tr>\n",
       "  </thead>\n",
       "  <tbody>\n",
       "    <tr>\n",
       "      <th>0</th>\n",
       "      <td>AXISBANK.NS</td>\n",
       "      <td>2019-12-31</td>\n",
       "      <td>756.852356</td>\n",
       "    </tr>\n",
       "    <tr>\n",
       "      <th>1</th>\n",
       "      <td>AXISBANK.NS</td>\n",
       "      <td>2020-12-31</td>\n",
       "      <td>753.666138</td>\n",
       "    </tr>\n",
       "    <tr>\n",
       "      <th>2</th>\n",
       "      <td>AXISBANK.NS</td>\n",
       "      <td>2021-12-31</td>\n",
       "      <td>841.433777</td>\n",
       "    </tr>\n",
       "    <tr>\n",
       "      <th>3</th>\n",
       "      <td>AXISBANK.NS</td>\n",
       "      <td>2022-12-31</td>\n",
       "      <td>947.069214</td>\n",
       "    </tr>\n",
       "    <tr>\n",
       "      <th>4</th>\n",
       "      <td>AXISBANK.NS</td>\n",
       "      <td>2023-12-31</td>\n",
       "      <td>1131.576660</td>\n",
       "    </tr>\n",
       "    <tr>\n",
       "      <th>5</th>\n",
       "      <td>AXISBANK.NS</td>\n",
       "      <td>2024-12-31</td>\n",
       "      <td>1317.300049</td>\n",
       "    </tr>\n",
       "    <tr>\n",
       "      <th>6</th>\n",
       "      <td>HDFCBANK.NS</td>\n",
       "      <td>2019-12-31</td>\n",
       "      <td>1250.276123</td>\n",
       "    </tr>\n",
       "    <tr>\n",
       "      <th>7</th>\n",
       "      <td>HDFCBANK.NS</td>\n",
       "      <td>2020-12-31</td>\n",
       "      <td>1384.097046</td>\n",
       "    </tr>\n",
       "    <tr>\n",
       "      <th>8</th>\n",
       "      <td>HDFCBANK.NS</td>\n",
       "      <td>2021-12-31</td>\n",
       "      <td>1628.131836</td>\n",
       "    </tr>\n",
       "    <tr>\n",
       "      <th>9</th>\n",
       "      <td>HDFCBANK.NS</td>\n",
       "      <td>2022-12-31</td>\n",
       "      <td>1621.264526</td>\n",
       "    </tr>\n",
       "    <tr>\n",
       "      <th>10</th>\n",
       "      <td>HDFCBANK.NS</td>\n",
       "      <td>2023-12-31</td>\n",
       "      <td>1704.918579</td>\n",
       "    </tr>\n",
       "    <tr>\n",
       "      <th>11</th>\n",
       "      <td>HDFCBANK.NS</td>\n",
       "      <td>2024-12-31</td>\n",
       "      <td>1783.449951</td>\n",
       "    </tr>\n",
       "    <tr>\n",
       "      <th>12</th>\n",
       "      <td>ICICIBANK.NS</td>\n",
       "      <td>2019-12-31</td>\n",
       "      <td>531.082275</td>\n",
       "    </tr>\n",
       "    <tr>\n",
       "      <th>13</th>\n",
       "      <td>ICICIBANK.NS</td>\n",
       "      <td>2020-12-31</td>\n",
       "      <td>530.985535</td>\n",
       "    </tr>\n",
       "    <tr>\n",
       "      <th>14</th>\n",
       "      <td>ICICIBANK.NS</td>\n",
       "      <td>2021-12-31</td>\n",
       "      <td>816.018921</td>\n",
       "    </tr>\n",
       "    <tr>\n",
       "      <th>15</th>\n",
       "      <td>ICICIBANK.NS</td>\n",
       "      <td>2022-12-31</td>\n",
       "      <td>929.369934</td>\n",
       "    </tr>\n",
       "    <tr>\n",
       "      <th>16</th>\n",
       "      <td>ICICIBANK.NS</td>\n",
       "      <td>2023-12-31</td>\n",
       "      <td>1028.545532</td>\n",
       "    </tr>\n",
       "    <tr>\n",
       "      <th>17</th>\n",
       "      <td>ICICIBANK.NS</td>\n",
       "      <td>2024-12-31</td>\n",
       "      <td>1338.449951</td>\n",
       "    </tr>\n",
       "    <tr>\n",
       "      <th>18</th>\n",
       "      <td>KOTAKBANK.NS</td>\n",
       "      <td>2019-12-31</td>\n",
       "      <td>1724.290283</td>\n",
       "    </tr>\n",
       "    <tr>\n",
       "      <th>19</th>\n",
       "      <td>KOTAKBANK.NS</td>\n",
       "      <td>2020-12-31</td>\n",
       "      <td>2011.871460</td>\n",
       "    </tr>\n",
       "    <tr>\n",
       "      <th>20</th>\n",
       "      <td>KOTAKBANK.NS</td>\n",
       "      <td>2021-12-31</td>\n",
       "      <td>2205.384521</td>\n",
       "    </tr>\n",
       "    <tr>\n",
       "      <th>21</th>\n",
       "      <td>KOTAKBANK.NS</td>\n",
       "      <td>2022-12-31</td>\n",
       "      <td>1962.132080</td>\n",
       "    </tr>\n",
       "    <tr>\n",
       "      <th>22</th>\n",
       "      <td>KOTAKBANK.NS</td>\n",
       "      <td>2023-12-31</td>\n",
       "      <td>2010.489258</td>\n",
       "    </tr>\n",
       "    <tr>\n",
       "      <th>23</th>\n",
       "      <td>KOTAKBANK.NS</td>\n",
       "      <td>2024-12-31</td>\n",
       "      <td>1934.699951</td>\n",
       "    </tr>\n",
       "    <tr>\n",
       "      <th>24</th>\n",
       "      <td>SBIN.NS</td>\n",
       "      <td>2019-12-31</td>\n",
       "      <td>328.776642</td>\n",
       "    </tr>\n",
       "    <tr>\n",
       "      <th>25</th>\n",
       "      <td>SBIN.NS</td>\n",
       "      <td>2020-12-31</td>\n",
       "      <td>319.364166</td>\n",
       "    </tr>\n",
       "    <tr>\n",
       "      <th>26</th>\n",
       "      <td>SBIN.NS</td>\n",
       "      <td>2021-12-31</td>\n",
       "      <td>503.892700</td>\n",
       "    </tr>\n",
       "    <tr>\n",
       "      <th>27</th>\n",
       "      <td>SBIN.NS</td>\n",
       "      <td>2022-12-31</td>\n",
       "      <td>603.456909</td>\n",
       "    </tr>\n",
       "    <tr>\n",
       "      <th>28</th>\n",
       "      <td>SBIN.NS</td>\n",
       "      <td>2023-12-31</td>\n",
       "      <td>644.590454</td>\n",
       "    </tr>\n",
       "    <tr>\n",
       "      <th>29</th>\n",
       "      <td>SBIN.NS</td>\n",
       "      <td>2024-12-31</td>\n",
       "      <td>905.650024</td>\n",
       "    </tr>\n",
       "  </tbody>\n",
       "</table>\n",
       "</div>"
      ],
      "text/plain": [
       "          Ticker       Date        Close\n",
       "0    AXISBANK.NS 2019-12-31   756.852356\n",
       "1    AXISBANK.NS 2020-12-31   753.666138\n",
       "2    AXISBANK.NS 2021-12-31   841.433777\n",
       "3    AXISBANK.NS 2022-12-31   947.069214\n",
       "4    AXISBANK.NS 2023-12-31  1131.576660\n",
       "5    AXISBANK.NS 2024-12-31  1317.300049\n",
       "6    HDFCBANK.NS 2019-12-31  1250.276123\n",
       "7    HDFCBANK.NS 2020-12-31  1384.097046\n",
       "8    HDFCBANK.NS 2021-12-31  1628.131836\n",
       "9    HDFCBANK.NS 2022-12-31  1621.264526\n",
       "10   HDFCBANK.NS 2023-12-31  1704.918579\n",
       "11   HDFCBANK.NS 2024-12-31  1783.449951\n",
       "12  ICICIBANK.NS 2019-12-31   531.082275\n",
       "13  ICICIBANK.NS 2020-12-31   530.985535\n",
       "14  ICICIBANK.NS 2021-12-31   816.018921\n",
       "15  ICICIBANK.NS 2022-12-31   929.369934\n",
       "16  ICICIBANK.NS 2023-12-31  1028.545532\n",
       "17  ICICIBANK.NS 2024-12-31  1338.449951\n",
       "18  KOTAKBANK.NS 2019-12-31  1724.290283\n",
       "19  KOTAKBANK.NS 2020-12-31  2011.871460\n",
       "20  KOTAKBANK.NS 2021-12-31  2205.384521\n",
       "21  KOTAKBANK.NS 2022-12-31  1962.132080\n",
       "22  KOTAKBANK.NS 2023-12-31  2010.489258\n",
       "23  KOTAKBANK.NS 2024-12-31  1934.699951\n",
       "24       SBIN.NS 2019-12-31   328.776642\n",
       "25       SBIN.NS 2020-12-31   319.364166\n",
       "26       SBIN.NS 2021-12-31   503.892700\n",
       "27       SBIN.NS 2022-12-31   603.456909\n",
       "28       SBIN.NS 2023-12-31   644.590454\n",
       "29       SBIN.NS 2024-12-31   905.650024"
      ]
     },
     "execution_count": 104,
     "metadata": {},
     "output_type": "execute_result"
    }
   ],
   "source": [
    "gp "
   ]
  },
  {
   "cell_type": "code",
   "execution_count": 105,
   "metadata": {},
   "outputs": [],
   "source": [
    "year_sampel = df_stock.groupby('Ticker').resample('YE')['Volume'].max().sort_index()\n",
    "year_sampel = pd.DataFrame(year_sampel)\n",
    "\n",
    "year_sampel.reset_index(inplace=True)\n",
    "year_sampel['Ticker'].unique()\n",
    "\n",
    "year_sampel['diff_Volume'] = 0\n"
   ]
  },
  {
   "cell_type": "code",
   "execution_count": 106,
   "metadata": {},
   "outputs": [
    {
     "data": {
      "text/html": [
       "<div>\n",
       "<style scoped>\n",
       "    .dataframe tbody tr th:only-of-type {\n",
       "        vertical-align: middle;\n",
       "    }\n",
       "\n",
       "    .dataframe tbody tr th {\n",
       "        vertical-align: top;\n",
       "    }\n",
       "\n",
       "    .dataframe thead th {\n",
       "        text-align: right;\n",
       "    }\n",
       "</style>\n",
       "<table border=\"1\" class=\"dataframe\">\n",
       "  <thead>\n",
       "    <tr style=\"text-align: right;\">\n",
       "      <th></th>\n",
       "      <th>Ticker</th>\n",
       "      <th>Date</th>\n",
       "      <th>Volume</th>\n",
       "      <th>diff_Volume</th>\n",
       "    </tr>\n",
       "  </thead>\n",
       "  <tbody>\n",
       "    <tr>\n",
       "      <th>6</th>\n",
       "      <td>HDFCBANK.NS</td>\n",
       "      <td>2019-12-31</td>\n",
       "      <td>11256610</td>\n",
       "      <td>0</td>\n",
       "    </tr>\n",
       "    <tr>\n",
       "      <th>7</th>\n",
       "      <td>HDFCBANK.NS</td>\n",
       "      <td>2020-12-31</td>\n",
       "      <td>44318732</td>\n",
       "      <td>0</td>\n",
       "    </tr>\n",
       "    <tr>\n",
       "      <th>8</th>\n",
       "      <td>HDFCBANK.NS</td>\n",
       "      <td>2021-12-31</td>\n",
       "      <td>21412816</td>\n",
       "      <td>0</td>\n",
       "    </tr>\n",
       "    <tr>\n",
       "      <th>9</th>\n",
       "      <td>HDFCBANK.NS</td>\n",
       "      <td>2022-12-31</td>\n",
       "      <td>48725485</td>\n",
       "      <td>0</td>\n",
       "    </tr>\n",
       "    <tr>\n",
       "      <th>10</th>\n",
       "      <td>HDFCBANK.NS</td>\n",
       "      <td>2023-12-31</td>\n",
       "      <td>86705601</td>\n",
       "      <td>0</td>\n",
       "    </tr>\n",
       "    <tr>\n",
       "      <th>11</th>\n",
       "      <td>HDFCBANK.NS</td>\n",
       "      <td>2024-12-31</td>\n",
       "      <td>222671050</td>\n",
       "      <td>0</td>\n",
       "    </tr>\n",
       "  </tbody>\n",
       "</table>\n",
       "</div>"
      ],
      "text/plain": [
       "         Ticker       Date     Volume  diff_Volume\n",
       "6   HDFCBANK.NS 2019-12-31   11256610            0\n",
       "7   HDFCBANK.NS 2020-12-31   44318732            0\n",
       "8   HDFCBANK.NS 2021-12-31   21412816            0\n",
       "9   HDFCBANK.NS 2022-12-31   48725485            0\n",
       "10  HDFCBANK.NS 2023-12-31   86705601            0\n",
       "11  HDFCBANK.NS 2024-12-31  222671050            0"
      ]
     },
     "execution_count": 106,
     "metadata": {},
     "output_type": "execute_result"
    }
   ],
   "source": [
    "\n",
    "diff_volume = year_sampel[year_sampel['Ticker'] == stock_name]\n",
    "diff_volume"
   ]
  },
  {
   "cell_type": "code",
   "execution_count": 107,
   "metadata": {},
   "outputs": [
    {
     "data": {
      "text/html": [
       "<div>\n",
       "<style scoped>\n",
       "    .dataframe tbody tr th:only-of-type {\n",
       "        vertical-align: middle;\n",
       "    }\n",
       "\n",
       "    .dataframe tbody tr th {\n",
       "        vertical-align: top;\n",
       "    }\n",
       "\n",
       "    .dataframe thead th {\n",
       "        text-align: right;\n",
       "    }\n",
       "</style>\n",
       "<table border=\"1\" class=\"dataframe\">\n",
       "  <thead>\n",
       "    <tr style=\"text-align: right;\">\n",
       "      <th></th>\n",
       "      <th>Ticker</th>\n",
       "      <th>Date</th>\n",
       "      <th>Volume</th>\n",
       "      <th>diff_Volume</th>\n",
       "    </tr>\n",
       "  </thead>\n",
       "  <tbody>\n",
       "    <tr>\n",
       "      <th>6</th>\n",
       "      <td>HDFCBANK.NS</td>\n",
       "      <td>2019-12-31</td>\n",
       "      <td>11256610</td>\n",
       "      <td>0</td>\n",
       "    </tr>\n",
       "    <tr>\n",
       "      <th>7</th>\n",
       "      <td>HDFCBANK.NS</td>\n",
       "      <td>2020-12-31</td>\n",
       "      <td>44318732</td>\n",
       "      <td>33062122</td>\n",
       "    </tr>\n",
       "    <tr>\n",
       "      <th>8</th>\n",
       "      <td>HDFCBANK.NS</td>\n",
       "      <td>2021-12-31</td>\n",
       "      <td>21412816</td>\n",
       "      <td>-22905916</td>\n",
       "    </tr>\n",
       "    <tr>\n",
       "      <th>9</th>\n",
       "      <td>HDFCBANK.NS</td>\n",
       "      <td>2022-12-31</td>\n",
       "      <td>48725485</td>\n",
       "      <td>27312669</td>\n",
       "    </tr>\n",
       "    <tr>\n",
       "      <th>10</th>\n",
       "      <td>HDFCBANK.NS</td>\n",
       "      <td>2023-12-31</td>\n",
       "      <td>86705601</td>\n",
       "      <td>37980116</td>\n",
       "    </tr>\n",
       "    <tr>\n",
       "      <th>11</th>\n",
       "      <td>HDFCBANK.NS</td>\n",
       "      <td>2024-12-31</td>\n",
       "      <td>222671050</td>\n",
       "      <td>0</td>\n",
       "    </tr>\n",
       "  </tbody>\n",
       "</table>\n",
       "</div>"
      ],
      "text/plain": [
       "         Ticker       Date     Volume  diff_Volume\n",
       "6   HDFCBANK.NS 2019-12-31   11256610            0\n",
       "7   HDFCBANK.NS 2020-12-31   44318732     33062122\n",
       "8   HDFCBANK.NS 2021-12-31   21412816    -22905916\n",
       "9   HDFCBANK.NS 2022-12-31   48725485     27312669\n",
       "10  HDFCBANK.NS 2023-12-31   86705601     37980116\n",
       "11  HDFCBANK.NS 2024-12-31  222671050            0"
      ]
     },
     "execution_count": 107,
     "metadata": {},
     "output_type": "execute_result"
    }
   ],
   "source": [
    "start_trigger = diff_volume.index.min()\n",
    "end_trigger = diff_volume.index.max()\n",
    "#print(end_trigger)\n",
    "\n",
    "for i in (diff_volume.index):\n",
    "    #print(i)\n",
    "    if start_trigger  < i  < end_trigger:\n",
    "      #  print(i)\n",
    "        k = diff_volume.loc[i]['Volume']-diff_volume.loc[i-1]['Volume']\n",
    "        #print(k)\n",
    "        #print(line_brack)\n",
    "        diff_volume.loc[i, 'diff_Volume'] = k\n",
    "        \n",
    "diff_volume"
   ]
  },
  {
   "cell_type": "code",
   "execution_count": 108,
   "metadata": {},
   "outputs": [
    {
     "data": {
      "text/html": [
       "<div>\n",
       "<style scoped>\n",
       "    .dataframe tbody tr th:only-of-type {\n",
       "        vertical-align: middle;\n",
       "    }\n",
       "\n",
       "    .dataframe tbody tr th {\n",
       "        vertical-align: top;\n",
       "    }\n",
       "\n",
       "    .dataframe thead th {\n",
       "        text-align: right;\n",
       "    }\n",
       "</style>\n",
       "<table border=\"1\" class=\"dataframe\">\n",
       "  <thead>\n",
       "    <tr style=\"text-align: right;\">\n",
       "      <th></th>\n",
       "      <th>Ticker</th>\n",
       "      <th>Date</th>\n",
       "      <th>Volume</th>\n",
       "      <th>diff_Volume</th>\n",
       "    </tr>\n",
       "  </thead>\n",
       "  <tbody>\n",
       "    <tr>\n",
       "      <th>7</th>\n",
       "      <td>HDFCBANK.NS</td>\n",
       "      <td>2020-12-31</td>\n",
       "      <td>44318732</td>\n",
       "      <td>33062122</td>\n",
       "    </tr>\n",
       "    <tr>\n",
       "      <th>8</th>\n",
       "      <td>HDFCBANK.NS</td>\n",
       "      <td>2021-12-31</td>\n",
       "      <td>21412816</td>\n",
       "      <td>-22905916</td>\n",
       "    </tr>\n",
       "    <tr>\n",
       "      <th>9</th>\n",
       "      <td>HDFCBANK.NS</td>\n",
       "      <td>2022-12-31</td>\n",
       "      <td>48725485</td>\n",
       "      <td>27312669</td>\n",
       "    </tr>\n",
       "    <tr>\n",
       "      <th>10</th>\n",
       "      <td>HDFCBANK.NS</td>\n",
       "      <td>2023-12-31</td>\n",
       "      <td>86705601</td>\n",
       "      <td>37980116</td>\n",
       "    </tr>\n",
       "  </tbody>\n",
       "</table>\n",
       "</div>"
      ],
      "text/plain": [
       "         Ticker       Date    Volume  diff_Volume\n",
       "7   HDFCBANK.NS 2020-12-31  44318732     33062122\n",
       "8   HDFCBANK.NS 2021-12-31  21412816    -22905916\n",
       "9   HDFCBANK.NS 2022-12-31  48725485     27312669\n",
       "10  HDFCBANK.NS 2023-12-31  86705601     37980116"
      ]
     },
     "execution_count": 108,
     "metadata": {},
     "output_type": "execute_result"
    }
   ],
   "source": [
    "volumne_ =  diff_volume[diff_volume['diff_Volume'] != 0]\n",
    "volumne_"
   ]
  },
  {
   "cell_type": "code",
   "execution_count": 109,
   "metadata": {},
   "outputs": [
    {
     "data": {
      "image/png": "[encoded data removed]",
      "text/plain": [
       "<Figure size 1000x500 with 1 Axes>"
      ]
     },
     "metadata": {},
     "output_type": "display_data"
    }
   ],
   "source": [
    "volumne_\n",
    "\n",
    "plt.figure(figsize=(10,5))\n",
    "plt.plot(volumne_['Date'], volumne_['diff_Volume'],marker = 'o')\n",
    "plt.grid()\n",
    "\n",
    "plt.title(stock_name)\n",
    "\n",
    "plt.xlabel('Date')\n",
    "plt.ylabel('diff_Volume')\n",
    "\n",
    "plt.show()"
   ]
  },
  {
   "cell_type": "markdown",
   "metadata": {},
   "source": [
    "### 15. What are the average daily returns for each stock?"
   ]
  },
  {
   "cell_type": "code",
   "execution_count": 110,
   "metadata": {},
   "outputs": [],
   "source": [
    "lat_10days_perfomance= HDFC.tail(10)\n",
    "lat_10days_perfomance.reset_index(inplace=True)\n"
   ]
  },
  {
   "cell_type": "code",
   "execution_count": 111,
   "metadata": {},
   "outputs": [
    {
     "name": "stderr",
     "output_type": "stream",
     "text": [
      "C:\\Users\\kakan\\AppData\\Local\\Temp\\ipykernel_13916\\792720248.py:1: SettingWithCopyWarning: \n",
      "A value is trying to be set on a copy of a slice from a DataFrame.\n",
      "Try using .loc[row_indexer,col_indexer] = value instead\n",
      "\n",
      "See the caveats in the documentation: https://pandas.pydata.org/pandas-docs/stable/user_guide/indexing.html#returning-a-view-versus-a-copy\n",
      "  lat_10days_perfomance['Returen'] = 0\n"
     ]
    }
   ],
   "source": [
    "lat_10days_perfomance['Returen'] = 0"
   ]
  },
  {
   "cell_type": "code",
   "execution_count": 112,
   "metadata": {},
   "outputs": [
    {
     "data": {
      "text/html": [
       "<div>\n",
       "<style scoped>\n",
       "    .dataframe tbody tr th:only-of-type {\n",
       "        vertical-align: middle;\n",
       "    }\n",
       "\n",
       "    .dataframe tbody tr th {\n",
       "        vertical-align: top;\n",
       "    }\n",
       "\n",
       "    .dataframe thead th {\n",
       "        text-align: right;\n",
       "    }\n",
       "</style>\n",
       "<table border=\"1\" class=\"dataframe\">\n",
       "  <thead>\n",
       "    <tr style=\"text-align: right;\">\n",
       "      <th></th>\n",
       "      <th>Date</th>\n",
       "      <th>Open</th>\n",
       "      <th>High</th>\n",
       "      <th>Low</th>\n",
       "      <th>Close</th>\n",
       "      <th>Volume</th>\n",
       "      <th>Dividends</th>\n",
       "      <th>Stock Splits</th>\n",
       "      <th>Ticker</th>\n",
       "      <th>Returen</th>\n",
       "    </tr>\n",
       "  </thead>\n",
       "  <tbody>\n",
       "    <tr>\n",
       "      <th>0</th>\n",
       "      <td>2024-09-16</td>\n",
       "      <td>1667.000000</td>\n",
       "      <td>1677.800049</td>\n",
       "      <td>1664.050049</td>\n",
       "      <td>1670.949951</td>\n",
       "      <td>7586410</td>\n",
       "      <td>0.0</td>\n",
       "      <td>0.0</td>\n",
       "      <td>HDFCBANK.NS</td>\n",
       "      <td>0</td>\n",
       "    </tr>\n",
       "    <tr>\n",
       "      <th>1</th>\n",
       "      <td>2024-09-17</td>\n",
       "      <td>1678.000000</td>\n",
       "      <td>1678.000000</td>\n",
       "      <td>1664.150024</td>\n",
       "      <td>1668.800049</td>\n",
       "      <td>10063561</td>\n",
       "      <td>0.0</td>\n",
       "      <td>0.0</td>\n",
       "      <td>HDFCBANK.NS</td>\n",
       "      <td>0</td>\n",
       "    </tr>\n",
       "    <tr>\n",
       "      <th>2</th>\n",
       "      <td>2024-09-18</td>\n",
       "      <td>1671.849976</td>\n",
       "      <td>1698.900024</td>\n",
       "      <td>1671.099976</td>\n",
       "      <td>1694.800049</td>\n",
       "      <td>20458671</td>\n",
       "      <td>0.0</td>\n",
       "      <td>0.0</td>\n",
       "      <td>HDFCBANK.NS</td>\n",
       "      <td>0</td>\n",
       "    </tr>\n",
       "    <tr>\n",
       "      <th>3</th>\n",
       "      <td>2024-09-19</td>\n",
       "      <td>1699.199951</td>\n",
       "      <td>1719.000000</td>\n",
       "      <td>1699.150024</td>\n",
       "      <td>1708.500000</td>\n",
       "      <td>15325888</td>\n",
       "      <td>0.0</td>\n",
       "      <td>0.0</td>\n",
       "      <td>HDFCBANK.NS</td>\n",
       "      <td>0</td>\n",
       "    </tr>\n",
       "    <tr>\n",
       "      <th>4</th>\n",
       "      <td>2024-09-20</td>\n",
       "      <td>1716.500000</td>\n",
       "      <td>1744.949951</td>\n",
       "      <td>1707.550049</td>\n",
       "      <td>1741.199951</td>\n",
       "      <td>30311693</td>\n",
       "      <td>0.0</td>\n",
       "      <td>0.0</td>\n",
       "      <td>HDFCBANK.NS</td>\n",
       "      <td>0</td>\n",
       "    </tr>\n",
       "    <tr>\n",
       "      <th>5</th>\n",
       "      <td>2024-09-23</td>\n",
       "      <td>1749.000000</td>\n",
       "      <td>1766.349976</td>\n",
       "      <td>1740.250000</td>\n",
       "      <td>1759.800049</td>\n",
       "      <td>13482675</td>\n",
       "      <td>0.0</td>\n",
       "      <td>0.0</td>\n",
       "      <td>HDFCBANK.NS</td>\n",
       "      <td>0</td>\n",
       "    </tr>\n",
       "    <tr>\n",
       "      <th>6</th>\n",
       "      <td>2024-09-24</td>\n",
       "      <td>1765.000000</td>\n",
       "      <td>1781.650024</td>\n",
       "      <td>1754.250000</td>\n",
       "      <td>1768.050049</td>\n",
       "      <td>16519518</td>\n",
       "      <td>0.0</td>\n",
       "      <td>0.0</td>\n",
       "      <td>HDFCBANK.NS</td>\n",
       "      <td>0</td>\n",
       "    </tr>\n",
       "    <tr>\n",
       "      <th>7</th>\n",
       "      <td>2024-09-25</td>\n",
       "      <td>1760.150024</td>\n",
       "      <td>1788.000000</td>\n",
       "      <td>1760.150024</td>\n",
       "      <td>1779.099976</td>\n",
       "      <td>15982656</td>\n",
       "      <td>0.0</td>\n",
       "      <td>0.0</td>\n",
       "      <td>HDFCBANK.NS</td>\n",
       "      <td>0</td>\n",
       "    </tr>\n",
       "    <tr>\n",
       "      <th>8</th>\n",
       "      <td>2024-09-26</td>\n",
       "      <td>1773.050049</td>\n",
       "      <td>1788.000000</td>\n",
       "      <td>1768.050049</td>\n",
       "      <td>1783.449951</td>\n",
       "      <td>15949822</td>\n",
       "      <td>0.0</td>\n",
       "      <td>0.0</td>\n",
       "      <td>HDFCBANK.NS</td>\n",
       "      <td>0</td>\n",
       "    </tr>\n",
       "    <tr>\n",
       "      <th>9</th>\n",
       "      <td>2024-09-27</td>\n",
       "      <td>1777.000000</td>\n",
       "      <td>1778.199951</td>\n",
       "      <td>1750.000000</td>\n",
       "      <td>1752.650024</td>\n",
       "      <td>17805173</td>\n",
       "      <td>0.0</td>\n",
       "      <td>0.0</td>\n",
       "      <td>HDFCBANK.NS</td>\n",
       "      <td>0</td>\n",
       "    </tr>\n",
       "  </tbody>\n",
       "</table>\n",
       "</div>"
      ],
      "text/plain": [
       "        Date         Open         High          Low        Close    Volume  \\\n",
       "0 2024-09-16  1667.000000  1677.800049  1664.050049  1670.949951   7586410   \n",
       "1 2024-09-17  1678.000000  1678.000000  1664.150024  1668.800049  10063561   \n",
       "2 2024-09-18  1671.849976  1698.900024  1671.099976  1694.800049  20458671   \n",
       "3 2024-09-19  1699.199951  1719.000000  1699.150024  1708.500000  15325888   \n",
       "4 2024-09-20  1716.500000  1744.949951  1707.550049  1741.199951  30311693   \n",
       "5 2024-09-23  1749.000000  1766.349976  1740.250000  1759.800049  13482675   \n",
       "6 2024-09-24  1765.000000  1781.650024  1754.250000  1768.050049  16519518   \n",
       "7 2024-09-25  1760.150024  1788.000000  1760.150024  1779.099976  15982656   \n",
       "8 2024-09-26  1773.050049  1788.000000  1768.050049  1783.449951  15949822   \n",
       "9 2024-09-27  1777.000000  1778.199951  1750.000000  1752.650024  17805173   \n",
       "\n",
       "   Dividends  Stock Splits       Ticker  Returen  \n",
       "0        0.0           0.0  HDFCBANK.NS        0  \n",
       "1        0.0           0.0  HDFCBANK.NS        0  \n",
       "2        0.0           0.0  HDFCBANK.NS        0  \n",
       "3        0.0           0.0  HDFCBANK.NS        0  \n",
       "4        0.0           0.0  HDFCBANK.NS        0  \n",
       "5        0.0           0.0  HDFCBANK.NS        0  \n",
       "6        0.0           0.0  HDFCBANK.NS        0  \n",
       "7        0.0           0.0  HDFCBANK.NS        0  \n",
       "8        0.0           0.0  HDFCBANK.NS        0  \n",
       "9        0.0           0.0  HDFCBANK.NS        0  "
      ]
     },
     "execution_count": 112,
     "metadata": {},
     "output_type": "execute_result"
    }
   ],
   "source": [
    "lat_10days_perfomance"
   ]
  },
  {
   "cell_type": "markdown",
   "metadata": {},
   "source": [
    "### 16. How does the trading volume change over time?\n"
   ]
  },
  {
   "cell_type": "code",
   "execution_count": 113,
   "metadata": {},
   "outputs": [
    {
     "data": {
      "text/html": [
       "<div>\n",
       "<style scoped>\n",
       "    .dataframe tbody tr th:only-of-type {\n",
       "        vertical-align: middle;\n",
       "    }\n",
       "\n",
       "    .dataframe tbody tr th {\n",
       "        vertical-align: top;\n",
       "    }\n",
       "\n",
       "    .dataframe thead th {\n",
       "        text-align: right;\n",
       "    }\n",
       "</style>\n",
       "<table border=\"1\" class=\"dataframe\">\n",
       "  <thead>\n",
       "    <tr style=\"text-align: right;\">\n",
       "      <th></th>\n",
       "      <th>Ticker</th>\n",
       "      <th>Date</th>\n",
       "      <th>Volume</th>\n",
       "      <th>diff_Volume</th>\n",
       "    </tr>\n",
       "  </thead>\n",
       "  <tbody>\n",
       "    <tr>\n",
       "      <th>0</th>\n",
       "      <td>AXISBANK.NS</td>\n",
       "      <td>2019-12-31</td>\n",
       "      <td>49442205</td>\n",
       "      <td>0</td>\n",
       "    </tr>\n",
       "    <tr>\n",
       "      <th>1</th>\n",
       "      <td>AXISBANK.NS</td>\n",
       "      <td>2020-12-31</td>\n",
       "      <td>96186227</td>\n",
       "      <td>0</td>\n",
       "    </tr>\n",
       "    <tr>\n",
       "      <th>2</th>\n",
       "      <td>AXISBANK.NS</td>\n",
       "      <td>2021-12-31</td>\n",
       "      <td>64303975</td>\n",
       "      <td>0</td>\n",
       "    </tr>\n",
       "    <tr>\n",
       "      <th>3</th>\n",
       "      <td>AXISBANK.NS</td>\n",
       "      <td>2022-12-31</td>\n",
       "      <td>58057724</td>\n",
       "      <td>0</td>\n",
       "    </tr>\n",
       "    <tr>\n",
       "      <th>4</th>\n",
       "      <td>AXISBANK.NS</td>\n",
       "      <td>2023-12-31</td>\n",
       "      <td>36394389</td>\n",
       "      <td>0</td>\n",
       "    </tr>\n",
       "    <tr>\n",
       "      <th>5</th>\n",
       "      <td>AXISBANK.NS</td>\n",
       "      <td>2024-12-31</td>\n",
       "      <td>46136295</td>\n",
       "      <td>0</td>\n",
       "    </tr>\n",
       "    <tr>\n",
       "      <th>6</th>\n",
       "      <td>HDFCBANK.NS</td>\n",
       "      <td>2019-12-31</td>\n",
       "      <td>11256610</td>\n",
       "      <td>0</td>\n",
       "    </tr>\n",
       "    <tr>\n",
       "      <th>7</th>\n",
       "      <td>HDFCBANK.NS</td>\n",
       "      <td>2020-12-31</td>\n",
       "      <td>44318732</td>\n",
       "      <td>0</td>\n",
       "    </tr>\n",
       "    <tr>\n",
       "      <th>8</th>\n",
       "      <td>HDFCBANK.NS</td>\n",
       "      <td>2021-12-31</td>\n",
       "      <td>21412816</td>\n",
       "      <td>0</td>\n",
       "    </tr>\n",
       "    <tr>\n",
       "      <th>9</th>\n",
       "      <td>HDFCBANK.NS</td>\n",
       "      <td>2022-12-31</td>\n",
       "      <td>48725485</td>\n",
       "      <td>0</td>\n",
       "    </tr>\n",
       "    <tr>\n",
       "      <th>10</th>\n",
       "      <td>HDFCBANK.NS</td>\n",
       "      <td>2023-12-31</td>\n",
       "      <td>86705601</td>\n",
       "      <td>0</td>\n",
       "    </tr>\n",
       "    <tr>\n",
       "      <th>11</th>\n",
       "      <td>HDFCBANK.NS</td>\n",
       "      <td>2024-12-31</td>\n",
       "      <td>222671050</td>\n",
       "      <td>0</td>\n",
       "    </tr>\n",
       "    <tr>\n",
       "      <th>12</th>\n",
       "      <td>ICICIBANK.NS</td>\n",
       "      <td>2019-12-31</td>\n",
       "      <td>286857658</td>\n",
       "      <td>0</td>\n",
       "    </tr>\n",
       "    <tr>\n",
       "      <th>13</th>\n",
       "      <td>ICICIBANK.NS</td>\n",
       "      <td>2020-12-31</td>\n",
       "      <td>125939354</td>\n",
       "      <td>0</td>\n",
       "    </tr>\n",
       "    <tr>\n",
       "      <th>14</th>\n",
       "      <td>ICICIBANK.NS</td>\n",
       "      <td>2021-12-31</td>\n",
       "      <td>96124084</td>\n",
       "      <td>0</td>\n",
       "    </tr>\n",
       "    <tr>\n",
       "      <th>15</th>\n",
       "      <td>ICICIBANK.NS</td>\n",
       "      <td>2022-12-31</td>\n",
       "      <td>35959638</td>\n",
       "      <td>0</td>\n",
       "    </tr>\n",
       "    <tr>\n",
       "      <th>16</th>\n",
       "      <td>ICICIBANK.NS</td>\n",
       "      <td>2023-12-31</td>\n",
       "      <td>41383839</td>\n",
       "      <td>0</td>\n",
       "    </tr>\n",
       "    <tr>\n",
       "      <th>17</th>\n",
       "      <td>ICICIBANK.NS</td>\n",
       "      <td>2024-12-31</td>\n",
       "      <td>73257767</td>\n",
       "      <td>0</td>\n",
       "    </tr>\n",
       "    <tr>\n",
       "      <th>18</th>\n",
       "      <td>KOTAKBANK.NS</td>\n",
       "      <td>2019-12-31</td>\n",
       "      <td>5487681</td>\n",
       "      <td>0</td>\n",
       "    </tr>\n",
       "    <tr>\n",
       "      <th>19</th>\n",
       "      <td>KOTAKBANK.NS</td>\n",
       "      <td>2020-12-31</td>\n",
       "      <td>78702124</td>\n",
       "      <td>0</td>\n",
       "    </tr>\n",
       "    <tr>\n",
       "      <th>20</th>\n",
       "      <td>KOTAKBANK.NS</td>\n",
       "      <td>2021-12-31</td>\n",
       "      <td>16268336</td>\n",
       "      <td>0</td>\n",
       "    </tr>\n",
       "    <tr>\n",
       "      <th>21</th>\n",
       "      <td>KOTAKBANK.NS</td>\n",
       "      <td>2022-12-31</td>\n",
       "      <td>19710178</td>\n",
       "      <td>0</td>\n",
       "    </tr>\n",
       "    <tr>\n",
       "      <th>22</th>\n",
       "      <td>KOTAKBANK.NS</td>\n",
       "      <td>2023-12-31</td>\n",
       "      <td>88598126</td>\n",
       "      <td>0</td>\n",
       "    </tr>\n",
       "    <tr>\n",
       "      <th>23</th>\n",
       "      <td>KOTAKBANK.NS</td>\n",
       "      <td>2024-12-31</td>\n",
       "      <td>66179079</td>\n",
       "      <td>0</td>\n",
       "    </tr>\n",
       "    <tr>\n",
       "      <th>24</th>\n",
       "      <td>SBIN.NS</td>\n",
       "      <td>2019-12-31</td>\n",
       "      <td>128449327</td>\n",
       "      <td>0</td>\n",
       "    </tr>\n",
       "    <tr>\n",
       "      <th>25</th>\n",
       "      <td>SBIN.NS</td>\n",
       "      <td>2020-12-31</td>\n",
       "      <td>201321234</td>\n",
       "      <td>0</td>\n",
       "    </tr>\n",
       "    <tr>\n",
       "      <th>26</th>\n",
       "      <td>SBIN.NS</td>\n",
       "      <td>2021-12-31</td>\n",
       "      <td>214955688</td>\n",
       "      <td>0</td>\n",
       "    </tr>\n",
       "    <tr>\n",
       "      <th>27</th>\n",
       "      <td>SBIN.NS</td>\n",
       "      <td>2022-12-31</td>\n",
       "      <td>61403008</td>\n",
       "      <td>0</td>\n",
       "    </tr>\n",
       "    <tr>\n",
       "      <th>28</th>\n",
       "      <td>SBIN.NS</td>\n",
       "      <td>2023-12-31</td>\n",
       "      <td>52725616</td>\n",
       "      <td>0</td>\n",
       "    </tr>\n",
       "    <tr>\n",
       "      <th>29</th>\n",
       "      <td>SBIN.NS</td>\n",
       "      <td>2024-12-31</td>\n",
       "      <td>122381193</td>\n",
       "      <td>0</td>\n",
       "    </tr>\n",
       "  </tbody>\n",
       "</table>\n",
       "</div>"
      ],
      "text/plain": [
       "          Ticker       Date     Volume  diff_Volume\n",
       "0    AXISBANK.NS 2019-12-31   49442205            0\n",
       "1    AXISBANK.NS 2020-12-31   96186227            0\n",
       "2    AXISBANK.NS 2021-12-31   64303975            0\n",
       "3    AXISBANK.NS 2022-12-31   58057724            0\n",
       "4    AXISBANK.NS 2023-12-31   36394389            0\n",
       "5    AXISBANK.NS 2024-12-31   46136295            0\n",
       "6    HDFCBANK.NS 2019-12-31   11256610            0\n",
       "7    HDFCBANK.NS 2020-12-31   44318732            0\n",
       "8    HDFCBANK.NS 2021-12-31   21412816            0\n",
       "9    HDFCBANK.NS 2022-12-31   48725485            0\n",
       "10   HDFCBANK.NS 2023-12-31   86705601            0\n",
       "11   HDFCBANK.NS 2024-12-31  222671050            0\n",
       "12  ICICIBANK.NS 2019-12-31  286857658            0\n",
       "13  ICICIBANK.NS 2020-12-31  125939354            0\n",
       "14  ICICIBANK.NS 2021-12-31   96124084            0\n",
       "15  ICICIBANK.NS 2022-12-31   35959638            0\n",
       "16  ICICIBANK.NS 2023-12-31   41383839            0\n",
       "17  ICICIBANK.NS 2024-12-31   73257767            0\n",
       "18  KOTAKBANK.NS 2019-12-31    5487681            0\n",
       "19  KOTAKBANK.NS 2020-12-31   78702124            0\n",
       "20  KOTAKBANK.NS 2021-12-31   16268336            0\n",
       "21  KOTAKBANK.NS 2022-12-31   19710178            0\n",
       "22  KOTAKBANK.NS 2023-12-31   88598126            0\n",
       "23  KOTAKBANK.NS 2024-12-31   66179079            0\n",
       "24       SBIN.NS 2019-12-31  128449327            0\n",
       "25       SBIN.NS 2020-12-31  201321234            0\n",
       "26       SBIN.NS 2021-12-31  214955688            0\n",
       "27       SBIN.NS 2022-12-31   61403008            0\n",
       "28       SBIN.NS 2023-12-31   52725616            0\n",
       "29       SBIN.NS 2024-12-31  122381193            0"
      ]
     },
     "execution_count": 113,
     "metadata": {},
     "output_type": "execute_result"
    }
   ],
   "source": [
    "year_sampel"
   ]
  },
  {
   "cell_type": "code",
   "execution_count": 114,
   "metadata": {},
   "outputs": [
    {
     "data": {
      "text/plain": [
       "Index(['Open', 'High', 'Low', 'Close', 'Volume', 'Dividends', 'Stock Splits',\n",
       "       'Ticker'],\n",
       "      dtype='object')"
      ]
     },
     "execution_count": 114,
     "metadata": {},
     "output_type": "execute_result"
    }
   ],
   "source": [
    "df_stock.columns"
   ]
  },
  {
   "cell_type": "code",
   "execution_count": 115,
   "metadata": {},
   "outputs": [],
   "source": [
    "year_sampel = df_stock.groupby('Ticker').resample('YE')['Volume'].max().sort_index()\n",
    "year_sampel = pd.DataFrame(year_sampel)\n",
    "\n",
    "year_sampel.reset_index(inplace=True)\n",
    "year_sampel['Ticker'].unique()\n",
    "\n",
    "year_sampel['diff_Volume'] = 0\n"
   ]
  },
  {
   "cell_type": "code",
   "execution_count": 116,
   "metadata": {},
   "outputs": [
    {
     "data": {
      "text/html": [
       "<div>\n",
       "<style scoped>\n",
       "    .dataframe tbody tr th:only-of-type {\n",
       "        vertical-align: middle;\n",
       "    }\n",
       "\n",
       "    .dataframe tbody tr th {\n",
       "        vertical-align: top;\n",
       "    }\n",
       "\n",
       "    .dataframe thead th {\n",
       "        text-align: right;\n",
       "    }\n",
       "</style>\n",
       "<table border=\"1\" class=\"dataframe\">\n",
       "  <thead>\n",
       "    <tr style=\"text-align: right;\">\n",
       "      <th></th>\n",
       "      <th>Ticker</th>\n",
       "      <th>Date</th>\n",
       "      <th>Volume</th>\n",
       "      <th>diff_Volume</th>\n",
       "    </tr>\n",
       "  </thead>\n",
       "  <tbody>\n",
       "    <tr>\n",
       "      <th>6</th>\n",
       "      <td>HDFCBANK.NS</td>\n",
       "      <td>2019-12-31</td>\n",
       "      <td>11256610</td>\n",
       "      <td>0</td>\n",
       "    </tr>\n",
       "    <tr>\n",
       "      <th>7</th>\n",
       "      <td>HDFCBANK.NS</td>\n",
       "      <td>2020-12-31</td>\n",
       "      <td>44318732</td>\n",
       "      <td>0</td>\n",
       "    </tr>\n",
       "    <tr>\n",
       "      <th>8</th>\n",
       "      <td>HDFCBANK.NS</td>\n",
       "      <td>2021-12-31</td>\n",
       "      <td>21412816</td>\n",
       "      <td>0</td>\n",
       "    </tr>\n",
       "    <tr>\n",
       "      <th>9</th>\n",
       "      <td>HDFCBANK.NS</td>\n",
       "      <td>2022-12-31</td>\n",
       "      <td>48725485</td>\n",
       "      <td>0</td>\n",
       "    </tr>\n",
       "    <tr>\n",
       "      <th>10</th>\n",
       "      <td>HDFCBANK.NS</td>\n",
       "      <td>2023-12-31</td>\n",
       "      <td>86705601</td>\n",
       "      <td>0</td>\n",
       "    </tr>\n",
       "    <tr>\n",
       "      <th>11</th>\n",
       "      <td>HDFCBANK.NS</td>\n",
       "      <td>2024-12-31</td>\n",
       "      <td>222671050</td>\n",
       "      <td>0</td>\n",
       "    </tr>\n",
       "  </tbody>\n",
       "</table>\n",
       "</div>"
      ],
      "text/plain": [
       "         Ticker       Date     Volume  diff_Volume\n",
       "6   HDFCBANK.NS 2019-12-31   11256610            0\n",
       "7   HDFCBANK.NS 2020-12-31   44318732            0\n",
       "8   HDFCBANK.NS 2021-12-31   21412816            0\n",
       "9   HDFCBANK.NS 2022-12-31   48725485            0\n",
       "10  HDFCBANK.NS 2023-12-31   86705601            0\n",
       "11  HDFCBANK.NS 2024-12-31  222671050            0"
      ]
     },
     "execution_count": 116,
     "metadata": {},
     "output_type": "execute_result"
    }
   ],
   "source": [
    "#array(['AXISBANK.NS', 'HDFCBANK.NS', 'ICICIBANK.NS', 'KOTAKBANK.NS',   'SBIN.NS'], dtype=object)\n",
    "\n",
    "diff_volume = year_sampel[year_sampel['Ticker'] == stock_name]\n",
    "diff_volume"
   ]
  },
  {
   "cell_type": "code",
   "execution_count": 117,
   "metadata": {},
   "outputs": [
    {
     "data": {
      "text/html": [
       "<div>\n",
       "<style scoped>\n",
       "    .dataframe tbody tr th:only-of-type {\n",
       "        vertical-align: middle;\n",
       "    }\n",
       "\n",
       "    .dataframe tbody tr th {\n",
       "        vertical-align: top;\n",
       "    }\n",
       "\n",
       "    .dataframe thead th {\n",
       "        text-align: right;\n",
       "    }\n",
       "</style>\n",
       "<table border=\"1\" class=\"dataframe\">\n",
       "  <thead>\n",
       "    <tr style=\"text-align: right;\">\n",
       "      <th></th>\n",
       "      <th>Ticker</th>\n",
       "      <th>Date</th>\n",
       "      <th>Volume</th>\n",
       "      <th>diff_Volume</th>\n",
       "    </tr>\n",
       "  </thead>\n",
       "  <tbody>\n",
       "    <tr>\n",
       "      <th>6</th>\n",
       "      <td>HDFCBANK.NS</td>\n",
       "      <td>2019-12-31</td>\n",
       "      <td>11256610</td>\n",
       "      <td>0</td>\n",
       "    </tr>\n",
       "    <tr>\n",
       "      <th>7</th>\n",
       "      <td>HDFCBANK.NS</td>\n",
       "      <td>2020-12-31</td>\n",
       "      <td>44318732</td>\n",
       "      <td>33062122</td>\n",
       "    </tr>\n",
       "    <tr>\n",
       "      <th>8</th>\n",
       "      <td>HDFCBANK.NS</td>\n",
       "      <td>2021-12-31</td>\n",
       "      <td>21412816</td>\n",
       "      <td>-22905916</td>\n",
       "    </tr>\n",
       "    <tr>\n",
       "      <th>9</th>\n",
       "      <td>HDFCBANK.NS</td>\n",
       "      <td>2022-12-31</td>\n",
       "      <td>48725485</td>\n",
       "      <td>27312669</td>\n",
       "    </tr>\n",
       "    <tr>\n",
       "      <th>10</th>\n",
       "      <td>HDFCBANK.NS</td>\n",
       "      <td>2023-12-31</td>\n",
       "      <td>86705601</td>\n",
       "      <td>37980116</td>\n",
       "    </tr>\n",
       "    <tr>\n",
       "      <th>11</th>\n",
       "      <td>HDFCBANK.NS</td>\n",
       "      <td>2024-12-31</td>\n",
       "      <td>222671050</td>\n",
       "      <td>0</td>\n",
       "    </tr>\n",
       "  </tbody>\n",
       "</table>\n",
       "</div>"
      ],
      "text/plain": [
       "         Ticker       Date     Volume  diff_Volume\n",
       "6   HDFCBANK.NS 2019-12-31   11256610            0\n",
       "7   HDFCBANK.NS 2020-12-31   44318732     33062122\n",
       "8   HDFCBANK.NS 2021-12-31   21412816    -22905916\n",
       "9   HDFCBANK.NS 2022-12-31   48725485     27312669\n",
       "10  HDFCBANK.NS 2023-12-31   86705601     37980116\n",
       "11  HDFCBANK.NS 2024-12-31  222671050            0"
      ]
     },
     "execution_count": 117,
     "metadata": {},
     "output_type": "execute_result"
    }
   ],
   "source": [
    "start_trigger = diff_volume.index.min()\n",
    "end_trigger = diff_volume.index.max()\n",
    "#print(end_trigger)\n",
    "\n",
    "for i in (diff_volume.index):\n",
    "    #print(i)\n",
    "    if start_trigger  < i  < end_trigger:\n",
    "      #  print(i)\n",
    "        k = diff_volume.loc[i]['Volume']-diff_volume.loc[i-1]['Volume']\n",
    "        #print(k)\n",
    "        #print(line_brack)\n",
    "        diff_volume.loc[i, 'diff_Volume'] = k\n",
    "        \n",
    "diff_volume\n",
    "    "
   ]
  },
  {
   "cell_type": "code",
   "execution_count": 118,
   "metadata": {},
   "outputs": [
    {
     "data": {
      "text/html": [
       "<div>\n",
       "<style scoped>\n",
       "    .dataframe tbody tr th:only-of-type {\n",
       "        vertical-align: middle;\n",
       "    }\n",
       "\n",
       "    .dataframe tbody tr th {\n",
       "        vertical-align: top;\n",
       "    }\n",
       "\n",
       "    .dataframe thead th {\n",
       "        text-align: right;\n",
       "    }\n",
       "</style>\n",
       "<table border=\"1\" class=\"dataframe\">\n",
       "  <thead>\n",
       "    <tr style=\"text-align: right;\">\n",
       "      <th></th>\n",
       "      <th>Ticker</th>\n",
       "      <th>Date</th>\n",
       "      <th>Volume</th>\n",
       "      <th>diff_Volume</th>\n",
       "    </tr>\n",
       "  </thead>\n",
       "  <tbody>\n",
       "    <tr>\n",
       "      <th>7</th>\n",
       "      <td>HDFCBANK.NS</td>\n",
       "      <td>2020-12-31</td>\n",
       "      <td>44318732</td>\n",
       "      <td>33062122</td>\n",
       "    </tr>\n",
       "    <tr>\n",
       "      <th>8</th>\n",
       "      <td>HDFCBANK.NS</td>\n",
       "      <td>2021-12-31</td>\n",
       "      <td>21412816</td>\n",
       "      <td>-22905916</td>\n",
       "    </tr>\n",
       "    <tr>\n",
       "      <th>9</th>\n",
       "      <td>HDFCBANK.NS</td>\n",
       "      <td>2022-12-31</td>\n",
       "      <td>48725485</td>\n",
       "      <td>27312669</td>\n",
       "    </tr>\n",
       "    <tr>\n",
       "      <th>10</th>\n",
       "      <td>HDFCBANK.NS</td>\n",
       "      <td>2023-12-31</td>\n",
       "      <td>86705601</td>\n",
       "      <td>37980116</td>\n",
       "    </tr>\n",
       "  </tbody>\n",
       "</table>\n",
       "</div>"
      ],
      "text/plain": [
       "         Ticker       Date    Volume  diff_Volume\n",
       "7   HDFCBANK.NS 2020-12-31  44318732     33062122\n",
       "8   HDFCBANK.NS 2021-12-31  21412816    -22905916\n",
       "9   HDFCBANK.NS 2022-12-31  48725485     27312669\n",
       "10  HDFCBANK.NS 2023-12-31  86705601     37980116"
      ]
     },
     "execution_count": 118,
     "metadata": {},
     "output_type": "execute_result"
    }
   ],
   "source": [
    "volumne_ =  diff_volume[diff_volume['diff_Volume'] != 0]\n",
    "volumne_"
   ]
  },
  {
   "cell_type": "code",
   "execution_count": 119,
   "metadata": {},
   "outputs": [
    {
     "data": {
      "image/png": "[encoded data removed]",
      "text/plain": [
       "<Figure size 1000x500 with 1 Axes>"
      ]
     },
     "metadata": {},
     "output_type": "display_data"
    }
   ],
   "source": [
    "volumne_\n",
    "\n",
    "plt.figure(figsize=(10,5))\n",
    "plt.plot(volumne_['Date'], volumne_['diff_Volume'],marker = 'o')\n",
    "plt.grid()\n",
    "\n",
    "plt.title(stock_name)\n",
    "\n",
    "plt.xlabel('Date')\n",
    "plt.ylabel('diff_Volume')\n",
    "\n",
    "plt.show()"
   ]
  },
  {
   "cell_type": "markdown",
   "metadata": {},
   "source": [
    "### 17. What is the trend in stock prices over different time periods (daily, weekly, monthly)?\n"
   ]
  },
  {
   "cell_type": "code",
   "execution_count": 120,
   "metadata": {},
   "outputs": [
    {
     "data": {
      "text/html": [
       "<div>\n",
       "<style scoped>\n",
       "    .dataframe tbody tr th:only-of-type {\n",
       "        vertical-align: middle;\n",
       "    }\n",
       "\n",
       "    .dataframe tbody tr th {\n",
       "        vertical-align: top;\n",
       "    }\n",
       "\n",
       "    .dataframe thead th {\n",
       "        text-align: right;\n",
       "    }\n",
       "</style>\n",
       "<table border=\"1\" class=\"dataframe\">\n",
       "  <thead>\n",
       "    <tr style=\"text-align: right;\">\n",
       "      <th></th>\n",
       "      <th>Open</th>\n",
       "      <th>High</th>\n",
       "      <th>Low</th>\n",
       "      <th>Close</th>\n",
       "      <th>Volume</th>\n",
       "      <th>Dividends</th>\n",
       "      <th>Stock Splits</th>\n",
       "      <th>Ticker</th>\n",
       "    </tr>\n",
       "    <tr>\n",
       "      <th>Date</th>\n",
       "      <th></th>\n",
       "      <th></th>\n",
       "      <th></th>\n",
       "      <th></th>\n",
       "      <th></th>\n",
       "      <th></th>\n",
       "      <th></th>\n",
       "      <th></th>\n",
       "    </tr>\n",
       "  </thead>\n",
       "  <tbody>\n",
       "    <tr>\n",
       "      <th>2024-08-29</th>\n",
       "      <td>1642.000000</td>\n",
       "      <td>1644.400024</td>\n",
       "      <td>1631.150024</td>\n",
       "      <td>1638.550049</td>\n",
       "      <td>24526302.0</td>\n",
       "      <td>0.0</td>\n",
       "      <td>0.0</td>\n",
       "      <td>HDFCBANK.NS</td>\n",
       "    </tr>\n",
       "    <tr>\n",
       "      <th>2024-08-30</th>\n",
       "      <td>1656.000000</td>\n",
       "      <td>1662.000000</td>\n",
       "      <td>1621.150024</td>\n",
       "      <td>1636.900024</td>\n",
       "      <td>222671050.0</td>\n",
       "      <td>0.0</td>\n",
       "      <td>0.0</td>\n",
       "      <td>HDFCBANK.NS</td>\n",
       "    </tr>\n",
       "    <tr>\n",
       "      <th>2024-09-02</th>\n",
       "      <td>1646.800049</td>\n",
       "      <td>1646.800049</td>\n",
       "      <td>1623.199951</td>\n",
       "      <td>1626.949951</td>\n",
       "      <td>17024840.0</td>\n",
       "      <td>0.0</td>\n",
       "      <td>0.0</td>\n",
       "      <td>HDFCBANK.NS</td>\n",
       "    </tr>\n",
       "    <tr>\n",
       "      <th>2024-09-03</th>\n",
       "      <td>1634.000000</td>\n",
       "      <td>1639.949951</td>\n",
       "      <td>1624.599976</td>\n",
       "      <td>1637.349976</td>\n",
       "      <td>18641430.0</td>\n",
       "      <td>0.0</td>\n",
       "      <td>0.0</td>\n",
       "      <td>HDFCBANK.NS</td>\n",
       "    </tr>\n",
       "    <tr>\n",
       "      <th>2024-09-04</th>\n",
       "      <td>1639.000000</td>\n",
       "      <td>1644.800049</td>\n",
       "      <td>1632.000000</td>\n",
       "      <td>1641.800049</td>\n",
       "      <td>12341372.0</td>\n",
       "      <td>0.0</td>\n",
       "      <td>0.0</td>\n",
       "      <td>HDFCBANK.NS</td>\n",
       "    </tr>\n",
       "    <tr>\n",
       "      <th>2024-09-05</th>\n",
       "      <td>1646.000000</td>\n",
       "      <td>1649.900024</td>\n",
       "      <td>1642.000000</td>\n",
       "      <td>1645.449951</td>\n",
       "      <td>11438159.0</td>\n",
       "      <td>0.0</td>\n",
       "      <td>0.0</td>\n",
       "      <td>HDFCBANK.NS</td>\n",
       "    </tr>\n",
       "    <tr>\n",
       "      <th>2024-09-06</th>\n",
       "      <td>1638.300049</td>\n",
       "      <td>1647.750000</td>\n",
       "      <td>1634.099976</td>\n",
       "      <td>1636.949951</td>\n",
       "      <td>13014801.0</td>\n",
       "      <td>0.0</td>\n",
       "      <td>0.0</td>\n",
       "      <td>HDFCBANK.NS</td>\n",
       "    </tr>\n",
       "    <tr>\n",
       "      <th>2024-09-09</th>\n",
       "      <td>1638.000000</td>\n",
       "      <td>1648.500000</td>\n",
       "      <td>1630.099976</td>\n",
       "      <td>1646.500000</td>\n",
       "      <td>11896457.0</td>\n",
       "      <td>0.0</td>\n",
       "      <td>0.0</td>\n",
       "      <td>HDFCBANK.NS</td>\n",
       "    </tr>\n",
       "    <tr>\n",
       "      <th>2024-09-10</th>\n",
       "      <td>1654.000000</td>\n",
       "      <td>1654.000000</td>\n",
       "      <td>1638.000000</td>\n",
       "      <td>1650.349976</td>\n",
       "      <td>13303323.0</td>\n",
       "      <td>0.0</td>\n",
       "      <td>0.0</td>\n",
       "      <td>HDFCBANK.NS</td>\n",
       "    </tr>\n",
       "    <tr>\n",
       "      <th>2024-09-11</th>\n",
       "      <td>1650.400024</td>\n",
       "      <td>1652.500000</td>\n",
       "      <td>1639.199951</td>\n",
       "      <td>1643.900024</td>\n",
       "      <td>11113342.0</td>\n",
       "      <td>0.0</td>\n",
       "      <td>0.0</td>\n",
       "      <td>HDFCBANK.NS</td>\n",
       "    </tr>\n",
       "    <tr>\n",
       "      <th>2024-09-12</th>\n",
       "      <td>1654.000000</td>\n",
       "      <td>1670.000000</td>\n",
       "      <td>1647.050049</td>\n",
       "      <td>1666.599976</td>\n",
       "      <td>16212023.0</td>\n",
       "      <td>0.0</td>\n",
       "      <td>0.0</td>\n",
       "      <td>HDFCBANK.NS</td>\n",
       "    </tr>\n",
       "    <tr>\n",
       "      <th>2024-09-13</th>\n",
       "      <td>1674.000000</td>\n",
       "      <td>1674.000000</td>\n",
       "      <td>1657.050049</td>\n",
       "      <td>1665.949951</td>\n",
       "      <td>11930266.0</td>\n",
       "      <td>0.0</td>\n",
       "      <td>0.0</td>\n",
       "      <td>HDFCBANK.NS</td>\n",
       "    </tr>\n",
       "    <tr>\n",
       "      <th>2024-09-16</th>\n",
       "      <td>1667.000000</td>\n",
       "      <td>1677.800049</td>\n",
       "      <td>1664.050049</td>\n",
       "      <td>1670.949951</td>\n",
       "      <td>7586410.0</td>\n",
       "      <td>0.0</td>\n",
       "      <td>0.0</td>\n",
       "      <td>HDFCBANK.NS</td>\n",
       "    </tr>\n",
       "    <tr>\n",
       "      <th>2024-09-17</th>\n",
       "      <td>1678.000000</td>\n",
       "      <td>1678.000000</td>\n",
       "      <td>1664.150024</td>\n",
       "      <td>1668.800049</td>\n",
       "      <td>10063561.0</td>\n",
       "      <td>0.0</td>\n",
       "      <td>0.0</td>\n",
       "      <td>HDFCBANK.NS</td>\n",
       "    </tr>\n",
       "    <tr>\n",
       "      <th>2024-09-18</th>\n",
       "      <td>1671.849976</td>\n",
       "      <td>1698.900024</td>\n",
       "      <td>1671.099976</td>\n",
       "      <td>1694.800049</td>\n",
       "      <td>20458671.0</td>\n",
       "      <td>0.0</td>\n",
       "      <td>0.0</td>\n",
       "      <td>HDFCBANK.NS</td>\n",
       "    </tr>\n",
       "    <tr>\n",
       "      <th>2024-09-19</th>\n",
       "      <td>1699.199951</td>\n",
       "      <td>1719.000000</td>\n",
       "      <td>1699.150024</td>\n",
       "      <td>1708.500000</td>\n",
       "      <td>15325888.0</td>\n",
       "      <td>0.0</td>\n",
       "      <td>0.0</td>\n",
       "      <td>HDFCBANK.NS</td>\n",
       "    </tr>\n",
       "    <tr>\n",
       "      <th>2024-09-20</th>\n",
       "      <td>1716.500000</td>\n",
       "      <td>1744.949951</td>\n",
       "      <td>1707.550049</td>\n",
       "      <td>1741.199951</td>\n",
       "      <td>30311693.0</td>\n",
       "      <td>0.0</td>\n",
       "      <td>0.0</td>\n",
       "      <td>HDFCBANK.NS</td>\n",
       "    </tr>\n",
       "    <tr>\n",
       "      <th>2024-09-23</th>\n",
       "      <td>1749.000000</td>\n",
       "      <td>1766.349976</td>\n",
       "      <td>1740.250000</td>\n",
       "      <td>1759.800049</td>\n",
       "      <td>13482675.0</td>\n",
       "      <td>0.0</td>\n",
       "      <td>0.0</td>\n",
       "      <td>HDFCBANK.NS</td>\n",
       "    </tr>\n",
       "    <tr>\n",
       "      <th>2024-09-24</th>\n",
       "      <td>1765.000000</td>\n",
       "      <td>1781.650024</td>\n",
       "      <td>1754.250000</td>\n",
       "      <td>1768.050049</td>\n",
       "      <td>16519518.0</td>\n",
       "      <td>0.0</td>\n",
       "      <td>0.0</td>\n",
       "      <td>HDFCBANK.NS</td>\n",
       "    </tr>\n",
       "    <tr>\n",
       "      <th>2024-09-25</th>\n",
       "      <td>1760.150024</td>\n",
       "      <td>1788.000000</td>\n",
       "      <td>1760.150024</td>\n",
       "      <td>1779.099976</td>\n",
       "      <td>15982656.0</td>\n",
       "      <td>0.0</td>\n",
       "      <td>0.0</td>\n",
       "      <td>HDFCBANK.NS</td>\n",
       "    </tr>\n",
       "    <tr>\n",
       "      <th>2024-09-26</th>\n",
       "      <td>1773.050049</td>\n",
       "      <td>1788.000000</td>\n",
       "      <td>1768.050049</td>\n",
       "      <td>1783.449951</td>\n",
       "      <td>15949822.0</td>\n",
       "      <td>0.0</td>\n",
       "      <td>0.0</td>\n",
       "      <td>HDFCBANK.NS</td>\n",
       "    </tr>\n",
       "    <tr>\n",
       "      <th>2024-09-27</th>\n",
       "      <td>1777.000000</td>\n",
       "      <td>1778.199951</td>\n",
       "      <td>1750.000000</td>\n",
       "      <td>1752.650024</td>\n",
       "      <td>17805173.0</td>\n",
       "      <td>0.0</td>\n",
       "      <td>0.0</td>\n",
       "      <td>HDFCBANK.NS</td>\n",
       "    </tr>\n",
       "  </tbody>\n",
       "</table>\n",
       "</div>"
      ],
      "text/plain": [
       "                   Open         High          Low        Close       Volume  \\\n",
       "Date                                                                          \n",
       "2024-08-29  1642.000000  1644.400024  1631.150024  1638.550049   24526302.0   \n",
       "2024-08-30  1656.000000  1662.000000  1621.150024  1636.900024  222671050.0   \n",
       "2024-09-02  1646.800049  1646.800049  1623.199951  1626.949951   17024840.0   \n",
       "2024-09-03  1634.000000  1639.949951  1624.599976  1637.349976   18641430.0   \n",
       "2024-09-04  1639.000000  1644.800049  1632.000000  1641.800049   12341372.0   \n",
       "2024-09-05  1646.000000  1649.900024  1642.000000  1645.449951   11438159.0   \n",
       "2024-09-06  1638.300049  1647.750000  1634.099976  1636.949951   13014801.0   \n",
       "2024-09-09  1638.000000  1648.500000  1630.099976  1646.500000   11896457.0   \n",
       "2024-09-10  1654.000000  1654.000000  1638.000000  1650.349976   13303323.0   \n",
       "2024-09-11  1650.400024  1652.500000  1639.199951  1643.900024   11113342.0   \n",
       "2024-09-12  1654.000000  1670.000000  1647.050049  1666.599976   16212023.0   \n",
       "2024-09-13  1674.000000  1674.000000  1657.050049  1665.949951   11930266.0   \n",
       "2024-09-16  1667.000000  1677.800049  1664.050049  1670.949951    7586410.0   \n",
       "2024-09-17  1678.000000  1678.000000  1664.150024  1668.800049   10063561.0   \n",
       "2024-09-18  1671.849976  1698.900024  1671.099976  1694.800049   20458671.0   \n",
       "2024-09-19  1699.199951  1719.000000  1699.150024  1708.500000   15325888.0   \n",
       "2024-09-20  1716.500000  1744.949951  1707.550049  1741.199951   30311693.0   \n",
       "2024-09-23  1749.000000  1766.349976  1740.250000  1759.800049   13482675.0   \n",
       "2024-09-24  1765.000000  1781.650024  1754.250000  1768.050049   16519518.0   \n",
       "2024-09-25  1760.150024  1788.000000  1760.150024  1779.099976   15982656.0   \n",
       "2024-09-26  1773.050049  1788.000000  1768.050049  1783.449951   15949822.0   \n",
       "2024-09-27  1777.000000  1778.199951  1750.000000  1752.650024   17805173.0   \n",
       "\n",
       "            Dividends  Stock Splits       Ticker  \n",
       "Date                                              \n",
       "2024-08-29        0.0           0.0  HDFCBANK.NS  \n",
       "2024-08-30        0.0           0.0  HDFCBANK.NS  \n",
       "2024-09-02        0.0           0.0  HDFCBANK.NS  \n",
       "2024-09-03        0.0           0.0  HDFCBANK.NS  \n",
       "2024-09-04        0.0           0.0  HDFCBANK.NS  \n",
       "2024-09-05        0.0           0.0  HDFCBANK.NS  \n",
       "2024-09-06        0.0           0.0  HDFCBANK.NS  \n",
       "2024-09-09        0.0           0.0  HDFCBANK.NS  \n",
       "2024-09-10        0.0           0.0  HDFCBANK.NS  \n",
       "2024-09-11        0.0           0.0  HDFCBANK.NS  \n",
       "2024-09-12        0.0           0.0  HDFCBANK.NS  \n",
       "2024-09-13        0.0           0.0  HDFCBANK.NS  \n",
       "2024-09-16        0.0           0.0  HDFCBANK.NS  \n",
       "2024-09-17        0.0           0.0  HDFCBANK.NS  \n",
       "2024-09-18        0.0           0.0  HDFCBANK.NS  \n",
       "2024-09-19        0.0           0.0  HDFCBANK.NS  \n",
       "2024-09-20        0.0           0.0  HDFCBANK.NS  \n",
       "2024-09-23        0.0           0.0  HDFCBANK.NS  \n",
       "2024-09-24        0.0           0.0  HDFCBANK.NS  \n",
       "2024-09-25        0.0           0.0  HDFCBANK.NS  \n",
       "2024-09-26        0.0           0.0  HDFCBANK.NS  \n",
       "2024-09-27        0.0           0.0  HDFCBANK.NS  "
      ]
     },
     "execution_count": 120,
     "metadata": {},
     "output_type": "execute_result"
    }
   ],
   "source": [
    "#### 17. What is the trend in stock prices over different time periods (daily, weekly, monthly)?\n",
    "\n",
    "data_set_17 =   df_stock[df_stock['Ticker'] == stock_name] \n",
    "\n",
    "daily_30_days = data_set_17.resample('D').max().tail(30)\n",
    "\n",
    "daily_30_days =daily_30_days[daily_30_days['Ticker'] != 0 ]\n",
    "daily_30_days = daily_30_days.dropna()\n",
    "\n",
    "daily_30_days"
   ]
  },
  {
   "cell_type": "code",
   "execution_count": 121,
   "metadata": {},
   "outputs": [
    {
     "data": {
      "text/html": [
       "<div>\n",
       "<style scoped>\n",
       "    .dataframe tbody tr th:only-of-type {\n",
       "        vertical-align: middle;\n",
       "    }\n",
       "\n",
       "    .dataframe tbody tr th {\n",
       "        vertical-align: top;\n",
       "    }\n",
       "\n",
       "    .dataframe thead th {\n",
       "        text-align: right;\n",
       "    }\n",
       "</style>\n",
       "<table border=\"1\" class=\"dataframe\">\n",
       "  <thead>\n",
       "    <tr style=\"text-align: right;\">\n",
       "      <th></th>\n",
       "      <th>Open</th>\n",
       "      <th>High</th>\n",
       "      <th>Low</th>\n",
       "      <th>Close</th>\n",
       "      <th>Volume</th>\n",
       "      <th>Dividends</th>\n",
       "      <th>Stock Splits</th>\n",
       "      <th>Ticker</th>\n",
       "    </tr>\n",
       "    <tr>\n",
       "      <th>Date</th>\n",
       "      <th></th>\n",
       "      <th></th>\n",
       "      <th></th>\n",
       "      <th></th>\n",
       "      <th></th>\n",
       "      <th></th>\n",
       "      <th></th>\n",
       "      <th></th>\n",
       "    </tr>\n",
       "  </thead>\n",
       "  <tbody>\n",
       "    <tr>\n",
       "      <th>2024-09-01</th>\n",
       "      <td>1656.000000</td>\n",
       "      <td>1662.000000</td>\n",
       "      <td>1631.150024</td>\n",
       "      <td>1638.550049</td>\n",
       "      <td>222671050.0</td>\n",
       "      <td>0.0</td>\n",
       "      <td>0.0</td>\n",
       "      <td>HDFCBANK.NS</td>\n",
       "    </tr>\n",
       "    <tr>\n",
       "      <th>2024-09-08</th>\n",
       "      <td>1646.800049</td>\n",
       "      <td>1649.900024</td>\n",
       "      <td>1642.000000</td>\n",
       "      <td>1645.449951</td>\n",
       "      <td>18641430.0</td>\n",
       "      <td>0.0</td>\n",
       "      <td>0.0</td>\n",
       "      <td>HDFCBANK.NS</td>\n",
       "    </tr>\n",
       "    <tr>\n",
       "      <th>2024-09-15</th>\n",
       "      <td>1674.000000</td>\n",
       "      <td>1674.000000</td>\n",
       "      <td>1657.050049</td>\n",
       "      <td>1666.599976</td>\n",
       "      <td>16212023.0</td>\n",
       "      <td>0.0</td>\n",
       "      <td>0.0</td>\n",
       "      <td>HDFCBANK.NS</td>\n",
       "    </tr>\n",
       "    <tr>\n",
       "      <th>2024-09-22</th>\n",
       "      <td>1716.500000</td>\n",
       "      <td>1744.949951</td>\n",
       "      <td>1707.550049</td>\n",
       "      <td>1741.199951</td>\n",
       "      <td>30311693.0</td>\n",
       "      <td>0.0</td>\n",
       "      <td>0.0</td>\n",
       "      <td>HDFCBANK.NS</td>\n",
       "    </tr>\n",
       "    <tr>\n",
       "      <th>2024-09-29</th>\n",
       "      <td>1777.000000</td>\n",
       "      <td>1788.000000</td>\n",
       "      <td>1768.050049</td>\n",
       "      <td>1783.449951</td>\n",
       "      <td>17805173.0</td>\n",
       "      <td>0.0</td>\n",
       "      <td>0.0</td>\n",
       "      <td>HDFCBANK.NS</td>\n",
       "    </tr>\n",
       "  </tbody>\n",
       "</table>\n",
       "</div>"
      ],
      "text/plain": [
       "                   Open         High          Low        Close       Volume  \\\n",
       "Date                                                                          \n",
       "2024-09-01  1656.000000  1662.000000  1631.150024  1638.550049  222671050.0   \n",
       "2024-09-08  1646.800049  1649.900024  1642.000000  1645.449951   18641430.0   \n",
       "2024-09-15  1674.000000  1674.000000  1657.050049  1666.599976   16212023.0   \n",
       "2024-09-22  1716.500000  1744.949951  1707.550049  1741.199951   30311693.0   \n",
       "2024-09-29  1777.000000  1788.000000  1768.050049  1783.449951   17805173.0   \n",
       "\n",
       "            Dividends  Stock Splits       Ticker  \n",
       "Date                                              \n",
       "2024-09-01        0.0           0.0  HDFCBANK.NS  \n",
       "2024-09-08        0.0           0.0  HDFCBANK.NS  \n",
       "2024-09-15        0.0           0.0  HDFCBANK.NS  \n",
       "2024-09-22        0.0           0.0  HDFCBANK.NS  \n",
       "2024-09-29        0.0           0.0  HDFCBANK.NS  "
      ]
     },
     "execution_count": 121,
     "metadata": {},
     "output_type": "execute_result"
    }
   ],
   "source": [
    "weekly_1_month = daily_30_days.resample('W').max()\n",
    "weekly_1_month['Ticker'] = stock_name\n",
    "\n",
    "weekly_1_month"
   ]
  },
  {
   "cell_type": "code",
   "execution_count": 122,
   "metadata": {},
   "outputs": [
    {
     "data": {
      "text/html": [
       "<div>\n",
       "<style scoped>\n",
       "    .dataframe tbody tr th:only-of-type {\n",
       "        vertical-align: middle;\n",
       "    }\n",
       "\n",
       "    .dataframe tbody tr th {\n",
       "        vertical-align: top;\n",
       "    }\n",
       "\n",
       "    .dataframe thead th {\n",
       "        text-align: right;\n",
       "    }\n",
       "</style>\n",
       "<table border=\"1\" class=\"dataframe\">\n",
       "  <thead>\n",
       "    <tr style=\"text-align: right;\">\n",
       "      <th></th>\n",
       "      <th>Open</th>\n",
       "      <th>High</th>\n",
       "      <th>Low</th>\n",
       "      <th>Close</th>\n",
       "      <th>Volume</th>\n",
       "      <th>Dividends</th>\n",
       "      <th>Stock Splits</th>\n",
       "      <th>Ticker</th>\n",
       "    </tr>\n",
       "    <tr>\n",
       "      <th>Date</th>\n",
       "      <th></th>\n",
       "      <th></th>\n",
       "      <th></th>\n",
       "      <th></th>\n",
       "      <th></th>\n",
       "      <th></th>\n",
       "      <th></th>\n",
       "      <th></th>\n",
       "    </tr>\n",
       "  </thead>\n",
       "  <tbody>\n",
       "    <tr>\n",
       "      <th>2023-10-31</th>\n",
       "      <td>1534.791783</td>\n",
       "      <td>1534.791783</td>\n",
       "      <td>1514.321315</td>\n",
       "      <td>1528.971191</td>\n",
       "      <td>27780899</td>\n",
       "      <td>0.0</td>\n",
       "      <td>0.0</td>\n",
       "      <td>HDFCBANK.NS</td>\n",
       "    </tr>\n",
       "    <tr>\n",
       "      <th>2023-11-30</th>\n",
       "      <td>1548.011205</td>\n",
       "      <td>1551.266677</td>\n",
       "      <td>1521.374936</td>\n",
       "      <td>1538.145996</td>\n",
       "      <td>34745720</td>\n",
       "      <td>0.0</td>\n",
       "      <td>0.0</td>\n",
       "      <td>HDFCBANK.NS</td>\n",
       "    </tr>\n",
       "    <tr>\n",
       "      <th>2023-12-31</th>\n",
       "      <td>1686.273199</td>\n",
       "      <td>1698.210169</td>\n",
       "      <td>1679.071492</td>\n",
       "      <td>1686.223877</td>\n",
       "      <td>69418565</td>\n",
       "      <td>0.0</td>\n",
       "      <td>0.0</td>\n",
       "      <td>HDFCBANK.NS</td>\n",
       "    </tr>\n",
       "    <tr>\n",
       "      <th>2024-01-31</th>\n",
       "      <td>1683.017598</td>\n",
       "      <td>1686.125187</td>\n",
       "      <td>1669.206199</td>\n",
       "      <td>1676.210571</td>\n",
       "      <td>85072618</td>\n",
       "      <td>0.0</td>\n",
       "      <td>0.0</td>\n",
       "      <td>HDFCBANK.NS</td>\n",
       "    </tr>\n",
       "    <tr>\n",
       "      <th>2024-02-29</th>\n",
       "      <td>1455.129536</td>\n",
       "      <td>1460.900704</td>\n",
       "      <td>1436.434898</td>\n",
       "      <td>1446.596069</td>\n",
       "      <td>45660405</td>\n",
       "      <td>0.0</td>\n",
       "      <td>0.0</td>\n",
       "      <td>HDFCBANK.NS</td>\n",
       "    </tr>\n",
       "    <tr>\n",
       "      <th>2024-03-31</th>\n",
       "      <td>1445.757590</td>\n",
       "      <td>1451.775390</td>\n",
       "      <td>1430.565026</td>\n",
       "      <td>1440.726318</td>\n",
       "      <td>71806902</td>\n",
       "      <td>0.0</td>\n",
       "      <td>0.0</td>\n",
       "      <td>HDFCBANK.NS</td>\n",
       "    </tr>\n",
       "    <tr>\n",
       "      <th>2024-04-30</th>\n",
       "      <td>1536.419530</td>\n",
       "      <td>1536.419530</td>\n",
       "      <td>1520.783118</td>\n",
       "      <td>1528.675293</td>\n",
       "      <td>44467533</td>\n",
       "      <td>0.0</td>\n",
       "      <td>0.0</td>\n",
       "      <td>HDFCBANK.NS</td>\n",
       "    </tr>\n",
       "    <tr>\n",
       "      <th>2024-05-31</th>\n",
       "      <td>1530.099976</td>\n",
       "      <td>1545.000000</td>\n",
       "      <td>1524.800049</td>\n",
       "      <td>1531.550049</td>\n",
       "      <td>37039794</td>\n",
       "      <td>19.5</td>\n",
       "      <td>0.0</td>\n",
       "      <td>HDFCBANK.NS</td>\n",
       "    </tr>\n",
       "    <tr>\n",
       "      <th>2024-06-30</th>\n",
       "      <td>1707.949951</td>\n",
       "      <td>1716.949951</td>\n",
       "      <td>1691.099976</td>\n",
       "      <td>1711.349976</td>\n",
       "      <td>45065598</td>\n",
       "      <td>0.0</td>\n",
       "      <td>0.0</td>\n",
       "      <td>HDFCBANK.NS</td>\n",
       "    </tr>\n",
       "    <tr>\n",
       "      <th>2024-07-31</th>\n",
       "      <td>1791.000000</td>\n",
       "      <td>1794.000000</td>\n",
       "      <td>1764.650024</td>\n",
       "      <td>1768.650024</td>\n",
       "      <td>61608901</td>\n",
       "      <td>0.0</td>\n",
       "      <td>0.0</td>\n",
       "      <td>HDFCBANK.NS</td>\n",
       "    </tr>\n",
       "    <tr>\n",
       "      <th>2024-08-31</th>\n",
       "      <td>1656.000000</td>\n",
       "      <td>1675.949951</td>\n",
       "      <td>1647.349976</td>\n",
       "      <td>1660.099976</td>\n",
       "      <td>222671050</td>\n",
       "      <td>0.0</td>\n",
       "      <td>0.0</td>\n",
       "      <td>HDFCBANK.NS</td>\n",
       "    </tr>\n",
       "    <tr>\n",
       "      <th>2024-09-30</th>\n",
       "      <td>1777.000000</td>\n",
       "      <td>1788.000000</td>\n",
       "      <td>1768.050049</td>\n",
       "      <td>1783.449951</td>\n",
       "      <td>30311693</td>\n",
       "      <td>0.0</td>\n",
       "      <td>0.0</td>\n",
       "      <td>HDFCBANK.NS</td>\n",
       "    </tr>\n",
       "  </tbody>\n",
       "</table>\n",
       "</div>"
      ],
      "text/plain": [
       "                   Open         High          Low        Close     Volume  \\\n",
       "Date                                                                        \n",
       "2023-10-31  1534.791783  1534.791783  1514.321315  1528.971191   27780899   \n",
       "2023-11-30  1548.011205  1551.266677  1521.374936  1538.145996   34745720   \n",
       "2023-12-31  1686.273199  1698.210169  1679.071492  1686.223877   69418565   \n",
       "2024-01-31  1683.017598  1686.125187  1669.206199  1676.210571   85072618   \n",
       "2024-02-29  1455.129536  1460.900704  1436.434898  1446.596069   45660405   \n",
       "2024-03-31  1445.757590  1451.775390  1430.565026  1440.726318   71806902   \n",
       "2024-04-30  1536.419530  1536.419530  1520.783118  1528.675293   44467533   \n",
       "2024-05-31  1530.099976  1545.000000  1524.800049  1531.550049   37039794   \n",
       "2024-06-30  1707.949951  1716.949951  1691.099976  1711.349976   45065598   \n",
       "2024-07-31  1791.000000  1794.000000  1764.650024  1768.650024   61608901   \n",
       "2024-08-31  1656.000000  1675.949951  1647.349976  1660.099976  222671050   \n",
       "2024-09-30  1777.000000  1788.000000  1768.050049  1783.449951   30311693   \n",
       "\n",
       "            Dividends  Stock Splits       Ticker  \n",
       "Date                                              \n",
       "2023-10-31        0.0           0.0  HDFCBANK.NS  \n",
       "2023-11-30        0.0           0.0  HDFCBANK.NS  \n",
       "2023-12-31        0.0           0.0  HDFCBANK.NS  \n",
       "2024-01-31        0.0           0.0  HDFCBANK.NS  \n",
       "2024-02-29        0.0           0.0  HDFCBANK.NS  \n",
       "2024-03-31        0.0           0.0  HDFCBANK.NS  \n",
       "2024-04-30        0.0           0.0  HDFCBANK.NS  \n",
       "2024-05-31       19.5           0.0  HDFCBANK.NS  \n",
       "2024-06-30        0.0           0.0  HDFCBANK.NS  \n",
       "2024-07-31        0.0           0.0  HDFCBANK.NS  \n",
       "2024-08-31        0.0           0.0  HDFCBANK.NS  \n",
       "2024-09-30        0.0           0.0  HDFCBANK.NS  "
      ]
     },
     "execution_count": 122,
     "metadata": {},
     "output_type": "execute_result"
    }
   ],
   "source": [
    "monthly_1year = data_set_17.resample('ME').max().tail(12)\n",
    "monthly_1year"
   ]
  },
  {
   "cell_type": "code",
   "execution_count": 123,
   "metadata": {},
   "outputs": [
    {
     "name": "stdout",
     "output_type": "stream",
     "text": [
      "Index(['Open', 'High', 'Low', 'Close', 'Volume', 'Dividends', 'Stock Splits',\n",
      "       'Ticker'],\n",
      "      dtype='object')\n"
     ]
    }
   ],
   "source": [
    "print(monthly_1year.columns)"
   ]
  },
  {
   "cell_type": "code",
   "execution_count": 124,
   "metadata": {},
   "outputs": [
    {
     "name": "stdout",
     "output_type": "stream",
     "text": [
      "Index(['Open', 'High', 'Low', 'Close', 'Volume', 'Dividends', 'Stock Splits',\n",
      "       'Ticker'],\n",
      "      dtype='object')\n",
      "=================================================================================================================\n"
     ]
    },
    {
     "data": {
      "image/png": "[encoded data removed]",
      "text/plain": [
       "<Figure size 1600x800 with 1 Axes>"
      ]
     },
     "metadata": {},
     "output_type": "display_data"
    }
   ],
   "source": [
    "### 17. What is the trend in stock prices over different time periods (daily, weekly, monthly)?\n",
    "\n",
    "#monthly_1year\n",
    "monthly_1year\n",
    "print(monthly_1year.columns)\n",
    "print(line_brack)\n",
    "\n",
    "plt.figure(figsize=(16,8))\n",
    "plt.plot(monthly_1year.index, monthly_1year['Close'], marker = 'o')\n",
    "plt.grid()\n",
    "plt.title(stock_name)\n",
    "plt.xlabel('monthly_1year')\n",
    "plt.ylabel('CLOSE')\n",
    "\n",
    "plt.show()"
   ]
  },
  {
   "cell_type": "code",
   "execution_count": 125,
   "metadata": {},
   "outputs": [
    {
     "name": "stdout",
     "output_type": "stream",
     "text": [
      "Index(['Open', 'High', 'Low', 'Close', 'Volume', 'Dividends', 'Stock Splits',\n",
      "       'Ticker'],\n",
      "      dtype='object')\n",
      "=================================================================================================================\n",
      "(5, 8)\n"
     ]
    },
    {
     "data": {
      "image/png": "[encoded data removed]",
      "text/plain": [
       "<Figure size 1600x800 with 1 Axes>"
      ]
     },
     "metadata": {},
     "output_type": "display_data"
    }
   ],
   "source": [
    "weekly_1_month\n",
    "print(weekly_1_month.columns)\n",
    "print(line_brack)\n",
    "print(weekly_1_month.shape)\n",
    "\n",
    "plt.figure(figsize=(16,8))\n",
    "plt.plot(weekly_1_month.index, weekly_1_month['Close'], marker = 'o')\n",
    "plt.grid()\n",
    "plt.title(stock_name)\n",
    "plt.xlabel('weekly_1_month')\n",
    "plt.ylabel('CLOSE _ VALUE')\n",
    "\n",
    "plt.show()"
   ]
  },
  {
   "cell_type": "code",
   "execution_count": 126,
   "metadata": {},
   "outputs": [
    {
     "name": "stdout",
     "output_type": "stream",
     "text": [
      "Index(['Open', 'High', 'Low', 'Close', 'Volume', 'Dividends', 'Stock Splits',\n",
      "       'Ticker'],\n",
      "      dtype='object')\n",
      "=================================================================================================================\n",
      "(22, 8)\n"
     ]
    },
    {
     "data": {
      "image/png": "[encoded data removed]",
      "text/plain": [
       "<Figure size 1600x800 with 1 Axes>"
      ]
     },
     "metadata": {},
     "output_type": "display_data"
    }
   ],
   "source": [
    "daily_30_days\n",
    "\n",
    "print(daily_30_days.columns)\n",
    "print(line_brack)\n",
    "print(daily_30_days.shape)\n",
    "\n",
    "plt.figure(figsize=(16,8))\n",
    "plt.plot(daily_30_days.index, daily_30_days['Close'], marker = 'o')\n",
    "plt.grid()\n",
    "plt.title(stock_name)\n",
    "plt.xlabel('daily_30_days')\n",
    "plt.ylabel('CLOSE _ VALUE')\n",
    "\n",
    "plt.show()"
   ]
  },
  {
   "cell_type": "markdown",
   "metadata": {},
   "source": [
    "# Visualization"
   ]
  },
  {
   "cell_type": "markdown",
   "metadata": {},
   "source": [
    "### 20. What does the price trend look like over time for each stock?\n"
   ]
  },
  {
   "cell_type": "markdown",
   "metadata": {},
   "source": [
    "### 21. How does the volume traded vary by year?\n"
   ]
  },
  {
   "cell_type": "code",
   "execution_count": 127,
   "metadata": {},
   "outputs": [
    {
     "name": "stdout",
     "output_type": "stream",
     "text": [
      "         Ticker       Date    Volume  diff_Volume\n",
      "7   HDFCBANK.NS 2020-12-31  44318732     33062122\n",
      "8   HDFCBANK.NS 2021-12-31  21412816    -22905916\n",
      "9   HDFCBANK.NS 2022-12-31  48725485     27312669\n",
      "10  HDFCBANK.NS 2023-12-31  86705601     37980116\n"
     ]
    },
    {
     "data": {
      "image/png": "[encoded data removed]",
      "text/plain": [
       "<Figure size 1000x500 with 1 Axes>"
      ]
     },
     "metadata": {},
     "output_type": "display_data"
    }
   ],
   "source": [
    "print(volumne_)\n",
    "\n",
    "#plt.bar(volumne_['Date'], volumne_['diff_Volume'])\n",
    "\n",
    "\n",
    "plt.figure(figsize=(10,5))\n",
    "plt.plot(volumne_['Date'], volumne_['diff_Volume'],marker = 'o')\n",
    "plt.grid()\n",
    "\n",
    "\n",
    "sns.lineplot(data=volumne_ ,x = volumne_['Date'] , y = volumne_['diff_Volume'])\n",
    "plt.show()"
   ]
  },
  {
   "cell_type": "markdown",
   "metadata": {},
   "source": [
    "### 22. What is the distribution of closing prices?\n"
   ]
  },
  {
   "cell_type": "code",
   "execution_count": 128,
   "metadata": {},
   "outputs": [
    {
     "data": {
      "image/png": "[encoded data removed]",
      "text/plain": [
       "<Figure size 640x480 with 1 Axes>"
      ]
     },
     "metadata": {},
     "output_type": "display_data"
    }
   ],
   "source": [
    "distribution_ =  df_stock[df_stock['Ticker'] == stock_name]['Close'].describe()\n",
    "\n",
    "plt.bar(distribution_.index,distribution_.values ,color = colors, edgecolor = 'black')\n",
    "plt.grid()\n",
    "plt.show()"
   ]
  },
  {
   "cell_type": "markdown",
   "metadata": {},
   "source": [
    "### 23. What are the distributions of daily returns?\n"
   ]
  },
  {
   "cell_type": "code",
   "execution_count": 129,
   "metadata": {},
   "outputs": [
    {
     "name": "stdout",
     "output_type": "stream",
     "text": [
      "Index(['Date', 'Open', 'High', 'Low', 'Close', 'Volume', 'Dividends',\n",
      "       'Stock Splits', 'Ticker', 'Profit'],\n",
      "      dtype='object')\n"
     ]
    },
    {
     "name": "stderr",
     "output_type": "stream",
     "text": [
      "C:\\Users\\kakan\\AppData\\Local\\Temp\\ipykernel_13916\\906177396.py:22: FutureWarning: Setting an item of incompatible dtype is deprecated and will raise an error in a future version of pandas. Value '-1.6500244140625' has dtype incompatible with int64, please explicitly cast to a compatible dtype first.\n",
      "  df_23.loc[i,'Profit'] = k\n"
     ]
    }
   ],
   "source": [
    "df_23 = df_stock[df_stock['Ticker'] == stock_name] \n",
    "\n",
    "df_23 = df_23.resample('D').max().tail(30)\n",
    "\n",
    "df_23.dropna(inplace=True)\n",
    "\n",
    "df_23.reset_index(inplace=True)\n",
    "\n",
    "df_23['Profit'] = 0\n",
    "\n",
    "start = df_23.index.min()\n",
    "end = df_23.index.max()\n",
    "\n",
    "print(df_23.columns)\n",
    "for i in df_23.index:\n",
    "  #  print(i)\n",
    "    if start < i < end:\n",
    "        #print(i)\n",
    "    \n",
    "        k = df_23.loc[i]['Close'] - df_23.loc[i-1]['Close']\n",
    "        #print(k)\n",
    "        df_23.loc[i,'Profit'] = k\n",
    "        \n",
    "df_23=df_23[df_23['Profit'] != 0.000000]\n",
    "\n",
    "df_23 = df_23[['Date','Profit']]\n"
   ]
  },
  {
   "cell_type": "code",
   "execution_count": 130,
   "metadata": {},
   "outputs": [
    {
     "data": {
      "image/png": "[encoded data removed]",
      "text/plain": [
       "<Figure size 1500x500 with 1 Axes>"
      ]
     },
     "metadata": {},
     "output_type": "display_data"
    }
   ],
   "source": [
    "df_23\n",
    "\n",
    "plt.figure(figsize=(15,5))  \n",
    "plt.plot(df_23['Date'],df_23['Profit'], marker = 'o')\n",
    "plt.grid()\n",
    "\n",
    "plt.title('distributions of daily returns')\n",
    "plt.xlabel('DATE')\n",
    "plt.ylabel('Profit')\n",
    "plt.show()\n"
   ]
  },
  {
   "cell_type": "code",
   "execution_count": 131,
   "metadata": {},
   "outputs": [
    {
     "data": {
      "text/html": [
       "<div>\n",
       "<style scoped>\n",
       "    .dataframe tbody tr th:only-of-type {\n",
       "        vertical-align: middle;\n",
       "    }\n",
       "\n",
       "    .dataframe tbody tr th {\n",
       "        vertical-align: top;\n",
       "    }\n",
       "\n",
       "    .dataframe thead th {\n",
       "        text-align: right;\n",
       "    }\n",
       "</style>\n",
       "<table border=\"1\" class=\"dataframe\">\n",
       "  <thead>\n",
       "    <tr style=\"text-align: right;\">\n",
       "      <th></th>\n",
       "      <th>Date</th>\n",
       "      <th>Profit</th>\n",
       "    </tr>\n",
       "  </thead>\n",
       "  <tbody>\n",
       "    <tr>\n",
       "      <th>1</th>\n",
       "      <td>2024-08-30</td>\n",
       "      <td>-1.650024</td>\n",
       "    </tr>\n",
       "    <tr>\n",
       "      <th>2</th>\n",
       "      <td>2024-09-02</td>\n",
       "      <td>-9.950073</td>\n",
       "    </tr>\n",
       "    <tr>\n",
       "      <th>3</th>\n",
       "      <td>2024-09-03</td>\n",
       "      <td>10.400024</td>\n",
       "    </tr>\n",
       "    <tr>\n",
       "      <th>4</th>\n",
       "      <td>2024-09-04</td>\n",
       "      <td>4.450073</td>\n",
       "    </tr>\n",
       "    <tr>\n",
       "      <th>5</th>\n",
       "      <td>2024-09-05</td>\n",
       "      <td>3.649902</td>\n",
       "    </tr>\n",
       "    <tr>\n",
       "      <th>6</th>\n",
       "      <td>2024-09-06</td>\n",
       "      <td>-8.500000</td>\n",
       "    </tr>\n",
       "    <tr>\n",
       "      <th>7</th>\n",
       "      <td>2024-09-09</td>\n",
       "      <td>9.550049</td>\n",
       "    </tr>\n",
       "    <tr>\n",
       "      <th>8</th>\n",
       "      <td>2024-09-10</td>\n",
       "      <td>3.849976</td>\n",
       "    </tr>\n",
       "    <tr>\n",
       "      <th>9</th>\n",
       "      <td>2024-09-11</td>\n",
       "      <td>-6.449951</td>\n",
       "    </tr>\n",
       "    <tr>\n",
       "      <th>10</th>\n",
       "      <td>2024-09-12</td>\n",
       "      <td>22.699951</td>\n",
       "    </tr>\n",
       "    <tr>\n",
       "      <th>11</th>\n",
       "      <td>2024-09-13</td>\n",
       "      <td>-0.650024</td>\n",
       "    </tr>\n",
       "    <tr>\n",
       "      <th>12</th>\n",
       "      <td>2024-09-16</td>\n",
       "      <td>5.000000</td>\n",
       "    </tr>\n",
       "    <tr>\n",
       "      <th>13</th>\n",
       "      <td>2024-09-17</td>\n",
       "      <td>-2.149902</td>\n",
       "    </tr>\n",
       "    <tr>\n",
       "      <th>14</th>\n",
       "      <td>2024-09-18</td>\n",
       "      <td>26.000000</td>\n",
       "    </tr>\n",
       "    <tr>\n",
       "      <th>15</th>\n",
       "      <td>2024-09-19</td>\n",
       "      <td>13.699951</td>\n",
       "    </tr>\n",
       "    <tr>\n",
       "      <th>16</th>\n",
       "      <td>2024-09-20</td>\n",
       "      <td>32.699951</td>\n",
       "    </tr>\n",
       "    <tr>\n",
       "      <th>17</th>\n",
       "      <td>2024-09-23</td>\n",
       "      <td>18.600098</td>\n",
       "    </tr>\n",
       "    <tr>\n",
       "      <th>18</th>\n",
       "      <td>2024-09-24</td>\n",
       "      <td>8.250000</td>\n",
       "    </tr>\n",
       "    <tr>\n",
       "      <th>19</th>\n",
       "      <td>2024-09-25</td>\n",
       "      <td>11.049927</td>\n",
       "    </tr>\n",
       "    <tr>\n",
       "      <th>20</th>\n",
       "      <td>2024-09-26</td>\n",
       "      <td>4.349976</td>\n",
       "    </tr>\n",
       "  </tbody>\n",
       "</table>\n",
       "</div>"
      ],
      "text/plain": [
       "         Date     Profit\n",
       "1  2024-08-30  -1.650024\n",
       "2  2024-09-02  -9.950073\n",
       "3  2024-09-03  10.400024\n",
       "4  2024-09-04   4.450073\n",
       "5  2024-09-05   3.649902\n",
       "6  2024-09-06  -8.500000\n",
       "7  2024-09-09   9.550049\n",
       "8  2024-09-10   3.849976\n",
       "9  2024-09-11  -6.449951\n",
       "10 2024-09-12  22.699951\n",
       "11 2024-09-13  -0.650024\n",
       "12 2024-09-16   5.000000\n",
       "13 2024-09-17  -2.149902\n",
       "14 2024-09-18  26.000000\n",
       "15 2024-09-19  13.699951\n",
       "16 2024-09-20  32.699951\n",
       "17 2024-09-23  18.600098\n",
       "18 2024-09-24   8.250000\n",
       "19 2024-09-25  11.049927\n",
       "20 2024-09-26   4.349976"
      ]
     },
     "execution_count": 131,
     "metadata": {},
     "output_type": "execute_result"
    }
   ],
   "source": []
  },
  {
   "cell_type": "markdown",
   "metadata": {},
   "source": [
    "### 24. Can we visualize the relationship between `Open` and `Close` prices?\n"
   ]
  },
  {
   "cell_type": "code",
   "execution_count": 132,
   "metadata": {},
   "outputs": [],
   "source": [
    "df_24 = df_stock[df_stock['Ticker'] == stock_name] \n",
    "\n",
    "\n",
    "df_24 = df_24.resample('D').max().tail(30)\n",
    "\n",
    "df_24.dropna(inplace=True)\n",
    "\n",
    "\n",
    "\n",
    "start = df_23.index.min()\n",
    "end = df_23.index.max()\n",
    "df_24\n",
    "\n",
    "df_24 = df_24[['Open','Close']]\n"
   ]
  },
  {
   "cell_type": "code",
   "execution_count": 133,
   "metadata": {},
   "outputs": [
    {
     "data": {
      "image/png": "[encoded data removed]",
      "text/plain": [
       "<Figure size 640x480 with 1 Axes>"
      ]
     },
     "metadata": {},
     "output_type": "display_data"
    }
   ],
   "source": [
    "df_24\n",
    "\n",
    "plt.scatter(df_24['Open'],df_24['Close'])\n",
    "\n",
    "plt.grid()\n",
    "plt.xlabel('Open')\n",
    "plt.ylabel('Close')\n",
    "plt.title(stock_name)\n",
    "\n",
    "plt.show()"
   ]
  },
  {
   "cell_type": "markdown",
   "metadata": {},
   "source": [
    "### 27. How do different stocks compare in terms of average closing price?\n"
   ]
  },
  {
   "cell_type": "code",
   "execution_count": 134,
   "metadata": {},
   "outputs": [
    {
     "name": "stdout",
     "output_type": "stream",
     "text": [
      "Index(['Open', 'High', 'Low', 'Close', 'Volume', 'Dividends', 'Stock Splits'], dtype='object')\n",
      "=================================================================================================================\n",
      "        Ticker       Date       Close\n",
      "0  AXISBANK.NS 2019-12-31  720.972937\n",
      "1  AXISBANK.NS 2020-12-31  513.919173\n",
      "2  AXISBANK.NS 2021-12-31  727.472274\n",
      "3  AXISBANK.NS 2022-12-31  760.894594\n",
      "4  AXISBANK.NS 2023-12-31  950.534926\n",
      "=================================================================================================================\n",
      "<class 'pandas.core.frame.DataFrame'>\n",
      "Index(['Ticker', 'Date', 'Close'], dtype='object')\n"
     ]
    }
   ],
   "source": [
    "closing_mean_24 =  all_stocks.groupby('Ticker').resample('YE').mean()\n",
    "print(closing_mean_24.columns)\n",
    "print(line_brack)\n",
    "closing_mean_24\n",
    "closing_mean_24 = closing_mean_24['Close']\n",
    "closing_mean_24\n",
    "\n",
    "closing_mean_24 = pd.DataFrame(closing_mean_24) \n",
    "closing_mean_24.reset_index(inplace=True)    \n",
    "print(closing_mean_24.head(5))\n",
    "print(line_brack)\n",
    "print(type(closing_mean_24))\n",
    "print(closing_mean_24.columns)"
   ]
  },
  {
   "cell_type": "code",
   "execution_count": 135,
   "metadata": {},
   "outputs": [
    {
     "name": "stderr",
     "output_type": "stream",
     "text": [
      "C:\\Users\\kakan\\AppData\\Local\\Temp\\ipykernel_13916\\2606711956.py:6: UserWarning: The palette list has more values (13) than needed (5), which may not be intended.\n",
      "  sns.barplot(x= 'Date',hue='Ticker', y = 'Close',data=closing_mean_24, palette=colors,edgecolor = 'black')\n"
     ]
    },
    {
     "data": {
      "image/png": "[encoded data removed]",
      "text/plain": [
       "<Figure size 1500x800 with 1 Axes>"
      ]
     },
     "metadata": {},
     "output_type": "display_data"
    }
   ],
   "source": [
    "closing_mean_24\n",
    "#plt.hist(closing_mean_24[''], bins = 50)\n",
    "plt.figure(figsize=(15,8))\n",
    "#plt.bar(closing_mean_24['Date'],closing_mean_24['Close'],color=colors, edgecolor = 'black' )\n",
    "\n",
    "sns.barplot(x= 'Date',hue='Ticker', y = 'Close',data=closing_mean_24, palette=colors,edgecolor = 'black')\n",
    "\n",
    "\n",
    "#plt.plot(closing_mean_24['Date'],closing_mean_24['Close'])\n",
    "\n",
    "#plt.scatter(closing_mean_24['Ticker'],closing_mean_24['Close'])\n",
    "\n",
    "\n",
    "#plt.hist(closing_mean_24['Close'], bins=50)\n",
    "plt.show()\n"
   ]
  }
 ],
 "metadata": {
  "kernelspec": {
   "display_name": "Python 3 (ipykernel)",
   "language": "python",
   "name": "python3"
  },
  "language_info": {
   "codemirror_mode": {
    "name": "ipython",
    "version": 3
   },
   "file_extension": ".py",
   "mimetype": "text/x-python",
   "name": "python",
   "nbconvert_exporter": "python",
   "pygments_lexer": "ipython3",
   "version": "3.12.6"
  }
 },
 "nbformat": 4,
 "nbformat_minor": 4
}
