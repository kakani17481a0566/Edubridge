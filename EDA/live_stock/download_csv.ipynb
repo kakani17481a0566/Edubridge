{
 "cells": [
  {
   "cell_type": "code",
   "execution_count": 17,
   "metadata": {},
   "outputs": [
    {
     "name": "stdout",
     "output_type": "stream",
     "text": [
      "Defaulting to user installation because normal site-packages is not writeable\n",
      "Requirement already satisfied: yfinance in c:\\users\\kakan\\appdata\\roaming\\python\\python312\\site-packages (0.2.44)\n",
      "Requirement already satisfied: pandas>=1.3.0 in c:\\programdata\\anaconda3\\lib\\site-packages (from yfinance) (2.2.2)\n",
      "Requirement already satisfied: numpy>=1.16.5 in c:\\programdata\\anaconda3\\lib\\site-packages (from yfinance) (1.26.4)\n",
      "Requirement already satisfied: requests>=2.31 in c:\\programdata\\anaconda3\\lib\\site-packages (from yfinance) (2.32.2)\n",
      "Requirement already satisfied: multitasking>=0.0.7 in c:\\users\\kakan\\appdata\\roaming\\python\\python312\\site-packages (from yfinance) (0.0.11)\n",
      "Requirement already satisfied: lxml>=4.9.1 in c:\\programdata\\anaconda3\\lib\\site-packages (from yfinance) (5.2.1)\n",
      "Requirement already satisfied: platformdirs>=2.0.0 in c:\\programdata\\anaconda3\\lib\\site-packages (from yfinance) (3.10.0)\n",
      "Requirement already satisfied: pytz>=2022.5 in c:\\programdata\\anaconda3\\lib\\site-packages (from yfinance) (2024.1)\n",
      "Requirement already satisfied: frozendict>=2.3.4 in c:\\programdata\\anaconda3\\lib\\site-packages (from yfinance) (2.4.2)\n",
      "Requirement already satisfied: peewee>=3.16.2 in c:\\users\\kakan\\appdata\\roaming\\python\\python312\\site-packages (from yfinance) (3.17.7)\n",
      "Requirement already satisfied: beautifulsoup4>=4.11.1 in c:\\programdata\\anaconda3\\lib\\site-packages (from yfinance) (4.12.3)\n",
      "Requirement already satisfied: html5lib>=1.1 in c:\\users\\kakan\\appdata\\roaming\\python\\python312\\site-packages (from yfinance) (1.1)\n",
      "Requirement already satisfied: soupsieve>1.2 in c:\\programdata\\anaconda3\\lib\\site-packages (from beautifulsoup4>=4.11.1->yfinance) (2.5)\n",
      "Requirement already satisfied: six>=1.9 in c:\\programdata\\anaconda3\\lib\\site-packages (from html5lib>=1.1->yfinance) (1.16.0)\n",
      "Requirement already satisfied: webencodings in c:\\programdata\\anaconda3\\lib\\site-packages (from html5lib>=1.1->yfinance) (0.5.1)\n",
      "Requirement already satisfied: python-dateutil>=2.8.2 in c:\\programdata\\anaconda3\\lib\\site-packages (from pandas>=1.3.0->yfinance) (2.9.0.post0)\n",
      "Requirement already satisfied: tzdata>=2022.7 in c:\\programdata\\anaconda3\\lib\\site-packages (from pandas>=1.3.0->yfinance) (2023.3)\n",
      "Requirement already satisfied: charset-normalizer<4,>=2 in c:\\programdata\\anaconda3\\lib\\site-packages (from requests>=2.31->yfinance) (2.0.4)\n",
      "Requirement already satisfied: idna<4,>=2.5 in c:\\programdata\\anaconda3\\lib\\site-packages (from requests>=2.31->yfinance) (3.7)\n",
      "Requirement already satisfied: urllib3<3,>=1.21.1 in c:\\programdata\\anaconda3\\lib\\site-packages (from requests>=2.31->yfinance) (2.2.2)\n",
      "Requirement already satisfied: certifi>=2017.4.17 in c:\\programdata\\anaconda3\\lib\\site-packages (from requests>=2.31->yfinance) (2024.6.2)\n",
      "Note: you may need to restart the kernel to use updated packages.\n"
     ]
    }
   ],
   "source": [
    "pip install yfinance\n"
   ]
  },
  {
   "cell_type": "code",
   "execution_count": 18,
   "metadata": {},
   "outputs": [
    {
     "name": "stderr",
     "output_type": "stream",
     "text": [
      "$NIFTY 50: possibly delisted; no price data found  (period=5y) (Yahoo error = \"No data found, symbol may be delisted\")\n"
     ]
    },
    {
     "name": "stdout",
     "output_type": "stream",
     "text": [
      "Empty DataFrame\n",
      "Columns: [Open, High, Low, Close, Adj Close, Volume]\n",
      "Index: []\n",
      "Data exported to hdfc_bank_historical_data_1y.csv\n"
     ]
    }
   ],
   "source": [
    "import yfinance as yf\n",
    "\n",
    "# Get stock data for HDFC Bank Ltd (NSE)\n",
    "stock = yf.Ticker(\"NIFTY 50\")\n",
    "\n",
    "# Get historical market data for the last 1 year\n",
    "hist = stock.history(period=\"5y\")\n",
    "\n",
    "# Print the historical market data\n",
    "print(hist)\n",
    "\n",
    "# Export the data to a CSV file\n",
    "hist.to_csv('hdfc_bank_historical_data_1y.csv')\n",
    "\n",
    "print(\"Data exported to hdfc_bank_historical_data_1y.csv\")\n"
   ]
  },
  {
   "cell_type": "code",
   "execution_count": 19,
   "metadata": {},
   "outputs": [
    {
     "name": "stdout",
     "output_type": "stream",
     "text": [
      "                                  Open         High          Low        Close  \\\n",
      "Date                                                                            \n",
      "2014-10-17 00:00:00+05:30   397.883988   410.765196   396.427034   409.447021   \n",
      "2014-10-20 00:00:00+05:30   413.494091   420.709413   411.713395   413.401581   \n",
      "2014-10-21 00:00:00+05:30   416.269194   418.928691   410.557066   414.210968   \n",
      "2014-10-22 00:00:00+05:30   418.604910   419.206182   412.222121   413.332184   \n",
      "2014-10-27 00:00:00+05:30   415.829786   419.645587   413.563449   414.997253   \n",
      "...                                ...          ...          ...          ...   \n",
      "2024-10-11 00:00:00+05:30  1182.500000  1188.199951  1166.000000  1172.449951   \n",
      "2024-10-14 00:00:00+05:30  1171.550049  1175.000000  1156.599976  1164.349976   \n",
      "2024-10-15 00:00:00+05:30  1166.099976  1172.000000  1149.500000  1153.849976   \n",
      "2024-10-16 00:00:00+05:30  1151.000000  1162.949951  1148.099976  1153.199951   \n",
      "2024-10-17 00:00:00+05:30  1151.000000  1151.349976  1124.000000  1131.849976   \n",
      "\n",
      "                            Volume  Dividends  Stock Splits       Ticker  \n",
      "Date                                                                      \n",
      "2014-10-17 00:00:00+05:30  4988960        0.0           0.0  HDFCBANK.NS  \n",
      "2014-10-20 00:00:00+05:30  4766002        0.0           0.0  HDFCBANK.NS  \n",
      "2014-10-21 00:00:00+05:30  8018576        0.0           0.0  HDFCBANK.NS  \n",
      "2014-10-22 00:00:00+05:30  2285772        0.0           0.0  HDFCBANK.NS  \n",
      "2014-10-27 00:00:00+05:30  3362384        0.0           0.0  HDFCBANK.NS  \n",
      "...                            ...        ...           ...          ...  \n",
      "2024-10-11 00:00:00+05:30  4754158        0.0           0.0  AXISBANK.NS  \n",
      "2024-10-14 00:00:00+05:30  9765296        0.0           0.0  AXISBANK.NS  \n",
      "2024-10-15 00:00:00+05:30  8741516        0.0           0.0  AXISBANK.NS  \n",
      "2024-10-16 00:00:00+05:30  7739854        0.0           0.0  AXISBANK.NS  \n",
      "2024-10-17 00:00:00+05:30  6593825        0.0           0.0  AXISBANK.NS  \n",
      "\n",
      "[12330 rows x 8 columns]\n",
      "Data exported to bank_stocks_historical_data.csv\n"
     ]
    }
   ],
   "source": [
    "import yfinance as yf\n",
    "import pandas as pd\n",
    "\n",
    "# List of bank stock tickers (NSE)\n",
    "tickers = [\n",
    "    \"HDFCBANK.NS\",  # HDFC Bank Ltd\n",
    "    \"ICICIBANK.NS\",  # ICICI Bank Ltd\n",
    "    \"KOTAKBANK.NS\",  # Kotak Mahindra Bank Ltd\n",
    "    \"SBIN.NS\",       # State Bank of India\n",
    "    \"AXISBANK.NS\"    # Axis Bank Ltd\n",
    "]\n",
    "\n",
    "# Create a list to store individual DataFrames\n",
    "dataframes = []\n",
    "\n",
    "# Loop through each ticker and fetch the historical data\n",
    "for ticker in tickers:\n",
    "    stock = yf.Ticker(ticker)\n",
    "    hist = stock.history(period=\"10y\")\n",
    "    \n",
    "    # Add a column for the ticker symbol\n",
    "    hist['Ticker'] = ticker\n",
    "    \n",
    "    # Append the DataFrame to the list\n",
    "    dataframes.append(hist)\n",
    "\n",
    "# Concatenate all DataFrames into a single DataFrame\n",
    "all_hist = pd.concat(dataframes)\n",
    "\n",
    "# Print the combined historical market data\n",
    "print(all_hist)\n",
    "\n",
    "# Export the data to a CSV file\n",
    "all_hist.to_csv('bank_stocks_historical_data.csv')\n",
    "\n",
    "print(\"Data exported to bank_stocks_historical_data.csv\")\n"
   ]
  },
  {
   "cell_type": "code",
   "execution_count": 20,
   "metadata": {},
   "outputs": [
    {
     "name": "stdout",
     "output_type": "stream",
     "text": [
      "                                   Open          High           Low  \\\n",
      "Date                                                                  \n",
      "2019-10-17 00:00:00+05:30  11466.299805  11599.099609  11439.650391   \n",
      "2019-10-18 00:00:00+05:30  11580.299805  11684.700195  11553.150391   \n",
      "2019-10-22 00:00:00+05:30  11657.150391  11714.349609  11573.650391   \n",
      "2019-10-23 00:00:00+05:30  11596.200195  11651.599609  11554.400391   \n",
      "2019-10-24 00:00:00+05:30  11661.650391  11679.599609  11534.650391   \n",
      "...                                 ...           ...           ...   \n",
      "2024-10-11 00:00:00+05:30  24985.300781  25028.650391  24920.050781   \n",
      "2024-10-14 00:00:00+05:30  25023.449219  25159.750000  25017.500000   \n",
      "2024-10-15 00:00:00+05:30  25186.300781  25212.050781  25008.150391   \n",
      "2024-10-16 00:00:00+05:30  25008.550781  25093.400391  24908.449219   \n",
      "2024-10-17 00:00:00+05:30  25027.400391  25029.500000  24728.900391   \n",
      "\n",
      "                                  Close  Volume  Dividends  Stock Splits  \n",
      "Date                                                                      \n",
      "2019-10-17 00:00:00+05:30  11586.349609  797600        0.0           0.0  \n",
      "2019-10-18 00:00:00+05:30  11661.849609  853400        0.0           0.0  \n",
      "2019-10-22 00:00:00+05:30  11588.349609  867600        0.0           0.0  \n",
      "2019-10-23 00:00:00+05:30  11604.099609  664200        0.0           0.0  \n",
      "2019-10-24 00:00:00+05:30  11582.599609  700500        0.0           0.0  \n",
      "...                                 ...     ...        ...           ...  \n",
      "2024-10-11 00:00:00+05:30  24964.250000  210500        0.0           0.0  \n",
      "2024-10-14 00:00:00+05:30  25127.949219  206400        0.0           0.0  \n",
      "2024-10-15 00:00:00+05:30  25057.349609  257200        0.0           0.0  \n",
      "2024-10-16 00:00:00+05:30  24971.300781  226800        0.0           0.0  \n",
      "2024-10-17 00:00:00+05:30  24749.849609  252800        0.0           0.0  \n",
      "\n",
      "[1237 rows x 7 columns]\n",
      "Data exported to nifty_50_historical_data_5y.csv\n"
     ]
    }
   ],
   "source": [
    "import yfinance as yf\n",
    "\n",
    "# Get stock data for Nifty 50\n",
    "stock = yf.Ticker(\"^NSEI\")\n",
    "\n",
    "# Get historical market data for the last 5 years\n",
    "hist = stock.history(period=\"5y\")\n",
    "\n",
    "# Print the historical market data\n",
    "print(hist)\n",
    "\n",
    "# Export the data to a CSV file\n",
    "hist.to_csv('nifty_50_historical_data_5y.csv')\n",
    "\n",
    "print(\"Data exported to nifty_50_historical_data_5y.csv\")\n"
   ]
  },
  {
   "cell_type": "code",
   "execution_count": 21,
   "metadata": {},
   "outputs": [
    {
     "name": "stdout",
     "output_type": "stream",
     "text": [
      "                                  Open         High          Low        Close  \\\n",
      "Date                                                                            \n",
      "2019-10-17 00:00:00+05:30  1178.373790  1180.629716  1164.550074  1171.173950   \n",
      "2019-10-18 00:00:00+05:30  1176.405750  1184.469594  1171.509882  1179.813721   \n",
      "2019-10-22 00:00:00+05:30  1206.693113  1206.693113  1183.269611  1189.701538   \n",
      "2019-10-23 00:00:00+05:30  1196.949312  1199.733273  1183.653631  1191.909424   \n",
      "2019-10-24 00:00:00+05:30  1198.053285  1203.957177  1177.269725  1186.629517   \n",
      "...                                ...          ...          ...          ...   \n",
      "2024-10-10 00:00:00+05:30  1177.000000  1191.000000  1175.050049  1184.250000   \n",
      "2024-10-11 00:00:00+05:30  1182.500000  1188.199951  1166.000000  1172.449951   \n",
      "2024-10-14 00:00:00+05:30  1171.550049  1175.000000  1156.599976  1164.349976   \n",
      "2024-10-15 00:00:00+05:30  1166.099976  1172.000000  1149.500000  1153.849976   \n",
      "2024-10-16 00:00:00+05:30  1151.000000  1162.949951  1148.099976  1153.199951   \n",
      "\n",
      "                             Volume  Dividends  Stock Splits       Ticker  \n",
      "Date                                                                       \n",
      "2019-10-17 00:00:00+05:30   6121807        0.0           0.0  HDFCBANK.NS  \n",
      "2019-10-18 00:00:00+05:30   5616903        0.0           0.0  HDFCBANK.NS  \n",
      "2019-10-22 00:00:00+05:30  10003114        0.0           0.0  HDFCBANK.NS  \n",
      "2019-10-23 00:00:00+05:30   5095107        0.0           0.0  HDFCBANK.NS  \n",
      "2019-10-24 00:00:00+05:30   6553747        0.0           0.0  HDFCBANK.NS  \n",
      "...                             ...        ...           ...          ...  \n",
      "2024-10-10 00:00:00+05:30   6806243        0.0           0.0  AXISBANK.NS  \n",
      "2024-10-11 00:00:00+05:30   4754158        0.0           0.0  AXISBANK.NS  \n",
      "2024-10-14 00:00:00+05:30   9765296        0.0           0.0  AXISBANK.NS  \n",
      "2024-10-15 00:00:00+05:30   8741516        0.0           0.0  AXISBANK.NS  \n",
      "2024-10-16 00:00:00+05:30   7739854        0.0           0.0  AXISBANK.NS  \n",
      "\n",
      "[6190 rows x 8 columns]\n",
      "Data exported to bank_stocks_historical_data.csv\n"
     ]
    }
   ],
   "source": [
    "import yfinance as yf\n",
    "import pandas as pd\n",
    "from datetime import datetime, timedelta\n",
    "\n",
    "# List of bank stock tickers (NSE)\n",
    "tickers = [\n",
    "    \"HDFCBANK.NS\",  # HDFC Bank Ltd\n",
    "    \"ICICIBANK.NS\",  # ICICI Bank Ltd\n",
    "    \"KOTAKBANK.NS\",  # Kotak Mahindra Bank Ltd\n",
    "    \"SBIN.NS\",       # State Bank of India\n",
    "    \"AXISBANK.NS\"    # Axis Bank Ltd\n",
    "]\n",
    "\n",
    "# Create a list to store individual DataFrames\n",
    "dataframes = []\n",
    "\n",
    "# Get yesterday's date\n",
    "yesterday = datetime.now() - timedelta(days=1)\n",
    "\n",
    "# Loop through each ticker and fetch the historical data\n",
    "for ticker in tickers:\n",
    "    stock = yf.Ticker(ticker)\n",
    "    hist = stock.history(start=(yesterday - pd.DateOffset(years=5)).strftime('%Y-%m-%d'), \n",
    "                          end=yesterday.strftime('%Y-%m-%d'))\n",
    "    \n",
    "    # Add a column for the ticker symbol\n",
    "    hist['Ticker'] = ticker\n",
    "    \n",
    "    # Append the DataFrame to the list\n",
    "    dataframes.append(hist)\n",
    "\n",
    "# Concatenate all DataFrames into a single DataFrame\n",
    "all_hist = pd.concat(dataframes)\n",
    "\n",
    "# Print the combined historical market data\n",
    "print(all_hist)\n",
    "\n",
    "# Export the data to a CSV file\n",
    "all_hist.to_csv('bank_stocks_historical_data.csv')\n",
    "\n",
    "print(\"Data exported to bank_stocks_historical_data.csv\")\n"
   ]
  },
  {
   "cell_type": "code",
   "execution_count": 22,
   "metadata": {},
   "outputs": [
    {
     "name": "stdout",
     "output_type": "stream",
     "text": [
      "Defaulting to user installation because normal site-packages is not writeable\n",
      "Requirement already satisfied: nsetools in c:\\users\\kakan\\appdata\\roaming\\python\\python312\\site-packages (1.0.11)\n",
      "Requirement already satisfied: six in c:\\programdata\\anaconda3\\lib\\site-packages (from nsetools) (1.16.0)\n",
      "Requirement already satisfied: dateutils in c:\\users\\kakan\\appdata\\roaming\\python\\python312\\site-packages (from nsetools) (0.6.12)\n",
      "Requirement already satisfied: python-dateutil in c:\\programdata\\anaconda3\\lib\\site-packages (from dateutils->nsetools) (2.9.0.post0)\n",
      "Requirement already satisfied: pytz in c:\\programdata\\anaconda3\\lib\\site-packages (from dateutils->nsetools) (2024.1)\n",
      "Note: you may need to restart the kernel to use updated packages.\n"
     ]
    }
   ],
   "source": [
    "pip install nsetools\n"
   ]
  },
  {
   "cell_type": "code",
   "execution_count": 23,
   "metadata": {},
   "outputs": [],
   "source": [
    "from nsetools import Nse\n"
   ]
  },
  {
   "cell_type": "code",
   "execution_count": 24,
   "metadata": {},
   "outputs": [
    {
     "name": "stdout",
     "output_type": "stream",
     "text": [
      "\n",
      "Columns for NASDAQ DataFrame:\n",
      "Index([0, 1], dtype='int64')\n"
     ]
    },
    {
     "ename": "KeyError",
     "evalue": "'Ticker'",
     "output_type": "error",
     "traceback": [
      "\u001b[1;31m---------------------------------------------------------------------------\u001b[0m",
      "\u001b[1;31mKeyError\u001b[0m                                  Traceback (most recent call last)",
      "File \u001b[1;32mC:\\ProgramData\\anaconda3\\Lib\\site-packages\\pandas\\core\\indexes\\base.py:3805\u001b[0m, in \u001b[0;36mIndex.get_loc\u001b[1;34m(self, key)\u001b[0m\n\u001b[0;32m   3804\u001b[0m \u001b[38;5;28;01mtry\u001b[39;00m:\n\u001b[1;32m-> 3805\u001b[0m     \u001b[38;5;28;01mreturn\u001b[39;00m \u001b[38;5;28mself\u001b[39m\u001b[38;5;241m.\u001b[39m_engine\u001b[38;5;241m.\u001b[39mget_loc(casted_key)\n\u001b[0;32m   3806\u001b[0m \u001b[38;5;28;01mexcept\u001b[39;00m \u001b[38;5;167;01mKeyError\u001b[39;00m \u001b[38;5;28;01mas\u001b[39;00m err:\n",
      "File \u001b[1;32mindex.pyx:167\u001b[0m, in \u001b[0;36mpandas._libs.index.IndexEngine.get_loc\u001b[1;34m()\u001b[0m\n",
      "File \u001b[1;32mindex.pyx:175\u001b[0m, in \u001b[0;36mpandas._libs.index.IndexEngine.get_loc\u001b[1;34m()\u001b[0m\n",
      "File \u001b[1;32mpandas\\\\_libs\\\\index_class_helper.pxi:70\u001b[0m, in \u001b[0;36mpandas._libs.index.Int64Engine._check_type\u001b[1;34m()\u001b[0m\n",
      "\u001b[1;31mKeyError\u001b[0m: 'Ticker'",
      "\nThe above exception was the direct cause of the following exception:\n",
      "\u001b[1;31mKeyError\u001b[0m                                  Traceback (most recent call last)",
      "Cell \u001b[1;32mIn[24], line 35\u001b[0m\n\u001b[0;32m     33\u001b[0m \u001b[38;5;66;03m# Example usage\u001b[39;00m\n\u001b[0;32m     34\u001b[0m \u001b[38;5;28;01mif\u001b[39;00m \u001b[38;5;18m__name__\u001b[39m \u001b[38;5;241m==\u001b[39m \u001b[38;5;124m\"\u001b[39m\u001b[38;5;124m__main__\u001b[39m\u001b[38;5;124m\"\u001b[39m:\n\u001b[1;32m---> 35\u001b[0m     symbols \u001b[38;5;241m=\u001b[39m get_stock_symbols()\n\u001b[0;32m     36\u001b[0m     \u001b[38;5;28mprint\u001b[39m(\u001b[38;5;124m\"\u001b[39m\u001b[38;5;124mStock Symbols:\u001b[39m\u001b[38;5;124m\"\u001b[39m)\n\u001b[0;32m     37\u001b[0m     \u001b[38;5;28mprint\u001b[39m(symbols)\n",
      "Cell \u001b[1;32mIn[24], line 25\u001b[0m, in \u001b[0;36mget_stock_symbols\u001b[1;34m()\u001b[0m\n\u001b[0;32m     22\u001b[0m \u001b[38;5;66;03m# Attempt to extract the stock symbols\u001b[39;00m\n\u001b[0;32m     23\u001b[0m \u001b[38;5;28;01mif\u001b[39;00m index \u001b[38;5;241m==\u001b[39m \u001b[38;5;124m'\u001b[39m\u001b[38;5;124mNASDAQ\u001b[39m\u001b[38;5;124m'\u001b[39m:\n\u001b[0;32m     24\u001b[0m     \u001b[38;5;66;03m# Adjust based on the actual column name found\u001b[39;00m\n\u001b[1;32m---> 25\u001b[0m     stock_symbols \u001b[38;5;241m+\u001b[39m\u001b[38;5;241m=\u001b[39m dfs[\u001b[38;5;241m0\u001b[39m][\u001b[38;5;124m'\u001b[39m\u001b[38;5;124mTicker\u001b[39m\u001b[38;5;124m'\u001b[39m]\u001b[38;5;241m.\u001b[39mtolist()  \u001b[38;5;66;03m# Adjust if necessary\u001b[39;00m\n\u001b[0;32m     26\u001b[0m \u001b[38;5;28;01melif\u001b[39;00m index \u001b[38;5;241m==\u001b[39m \u001b[38;5;124m'\u001b[39m\u001b[38;5;124mS&P_500\u001b[39m\u001b[38;5;124m'\u001b[39m:\n\u001b[0;32m     27\u001b[0m     stock_symbols \u001b[38;5;241m+\u001b[39m\u001b[38;5;241m=\u001b[39m dfs[\u001b[38;5;241m0\u001b[39m][\u001b[38;5;124m'\u001b[39m\u001b[38;5;124mSymbol\u001b[39m\u001b[38;5;124m'\u001b[39m]\u001b[38;5;241m.\u001b[39mtolist()  \u001b[38;5;66;03m# Adjust if necessary\u001b[39;00m\n",
      "File \u001b[1;32mC:\\ProgramData\\anaconda3\\Lib\\site-packages\\pandas\\core\\frame.py:4102\u001b[0m, in \u001b[0;36mDataFrame.__getitem__\u001b[1;34m(self, key)\u001b[0m\n\u001b[0;32m   4100\u001b[0m \u001b[38;5;28;01mif\u001b[39;00m \u001b[38;5;28mself\u001b[39m\u001b[38;5;241m.\u001b[39mcolumns\u001b[38;5;241m.\u001b[39mnlevels \u001b[38;5;241m>\u001b[39m \u001b[38;5;241m1\u001b[39m:\n\u001b[0;32m   4101\u001b[0m     \u001b[38;5;28;01mreturn\u001b[39;00m \u001b[38;5;28mself\u001b[39m\u001b[38;5;241m.\u001b[39m_getitem_multilevel(key)\n\u001b[1;32m-> 4102\u001b[0m indexer \u001b[38;5;241m=\u001b[39m \u001b[38;5;28mself\u001b[39m\u001b[38;5;241m.\u001b[39mcolumns\u001b[38;5;241m.\u001b[39mget_loc(key)\n\u001b[0;32m   4103\u001b[0m \u001b[38;5;28;01mif\u001b[39;00m is_integer(indexer):\n\u001b[0;32m   4104\u001b[0m     indexer \u001b[38;5;241m=\u001b[39m [indexer]\n",
      "File \u001b[1;32mC:\\ProgramData\\anaconda3\\Lib\\site-packages\\pandas\\core\\indexes\\base.py:3812\u001b[0m, in \u001b[0;36mIndex.get_loc\u001b[1;34m(self, key)\u001b[0m\n\u001b[0;32m   3807\u001b[0m     \u001b[38;5;28;01mif\u001b[39;00m \u001b[38;5;28misinstance\u001b[39m(casted_key, \u001b[38;5;28mslice\u001b[39m) \u001b[38;5;129;01mor\u001b[39;00m (\n\u001b[0;32m   3808\u001b[0m         \u001b[38;5;28misinstance\u001b[39m(casted_key, abc\u001b[38;5;241m.\u001b[39mIterable)\n\u001b[0;32m   3809\u001b[0m         \u001b[38;5;129;01mand\u001b[39;00m \u001b[38;5;28many\u001b[39m(\u001b[38;5;28misinstance\u001b[39m(x, \u001b[38;5;28mslice\u001b[39m) \u001b[38;5;28;01mfor\u001b[39;00m x \u001b[38;5;129;01min\u001b[39;00m casted_key)\n\u001b[0;32m   3810\u001b[0m     ):\n\u001b[0;32m   3811\u001b[0m         \u001b[38;5;28;01mraise\u001b[39;00m InvalidIndexError(key)\n\u001b[1;32m-> 3812\u001b[0m     \u001b[38;5;28;01mraise\u001b[39;00m \u001b[38;5;167;01mKeyError\u001b[39;00m(key) \u001b[38;5;28;01mfrom\u001b[39;00m \u001b[38;5;21;01merr\u001b[39;00m\n\u001b[0;32m   3813\u001b[0m \u001b[38;5;28;01mexcept\u001b[39;00m \u001b[38;5;167;01mTypeError\u001b[39;00m:\n\u001b[0;32m   3814\u001b[0m     \u001b[38;5;66;03m# If we have a listlike key, _check_indexing_error will raise\u001b[39;00m\n\u001b[0;32m   3815\u001b[0m     \u001b[38;5;66;03m#  InvalidIndexError. Otherwise we fall through and re-raise\u001b[39;00m\n\u001b[0;32m   3816\u001b[0m     \u001b[38;5;66;03m#  the TypeError.\u001b[39;00m\n\u001b[0;32m   3817\u001b[0m     \u001b[38;5;28mself\u001b[39m\u001b[38;5;241m.\u001b[39m_check_indexing_error(key)\n",
      "\u001b[1;31mKeyError\u001b[0m: 'Ticker'"
     ]
    }
   ],
   "source": [
    "import pandas as pd\n",
    "\n",
    "# Fetch stock data for major indices\n",
    "def get_stock_symbols():\n",
    "    # List of some major stock exchanges\n",
    "    exchanges = {\n",
    "        'NASDAQ': 'https://en.wikipedia.org/wiki/NASDAQ-100',\n",
    "        'S&P_500': 'https://en.wikipedia.org/wiki/List_of_S%26P_500_companies',\n",
    "        'NYSE': 'https://en.wikipedia.org/wiki/List_of_NYSE_stocks',\n",
    "    }\n",
    "    \n",
    "    stock_symbols = []\n",
    "\n",
    "    for index, url in exchanges.items():\n",
    "        # Use pandas to read the HTML tables directly from Wikipedia\n",
    "        dfs = pd.read_html(url)\n",
    "\n",
    "        # Print the first DataFrame's columns for debugging\n",
    "        print(f\"\\nColumns for {index} DataFrame:\")\n",
    "        print(dfs[0].columns)\n",
    "\n",
    "        # Attempt to extract the stock symbols\n",
    "        if index == 'NASDAQ':\n",
    "            # Adjust based on the actual column name found\n",
    "            stock_symbols += dfs[0]['Ticker'].tolist()  # Adjust if necessary\n",
    "        elif index == 'S&P_500':\n",
    "            stock_symbols += dfs[0]['Symbol'].tolist()  # Adjust if necessary\n",
    "        elif index == 'NYSE':\n",
    "            stock_symbols += dfs[0]['Symbol'].tolist()  # Adjust if necessary\n",
    "\n",
    "    return list(set(stock_symbols))  # Remove duplicates\n",
    "\n",
    "# Example usage\n",
    "if __name__ == \"__main__\":\n",
    "    symbols = get_stock_symbols()\n",
    "    print(\"Stock Symbols:\")\n",
    "    print(symbols)\n"
   ]
  },
  {
   "cell_type": "code",
   "execution_count": null,
   "metadata": {},
   "outputs": [],
   "source": []
  }
 ],
 "metadata": {
  "kernelspec": {
   "display_name": "Python 3 (ipykernel)",
   "language": "python",
   "name": "python3"
  },
  "language_info": {
   "codemirror_mode": {
    "name": "ipython",
    "version": 3
   },
   "file_extension": ".py",
   "mimetype": "text/x-python",
   "name": "python",
   "nbconvert_exporter": "python",
   "pygments_lexer": "ipython3",
   "version": "3.12.4"
  }
 },
 "nbformat": 4,
 "nbformat_minor": 4
}
