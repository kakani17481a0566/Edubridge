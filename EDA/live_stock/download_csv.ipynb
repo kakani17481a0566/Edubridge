{
 "cells": [
  {
   "cell_type": "code",
   "execution_count": 1,
   "metadata": {},
   "outputs": [
    {
     "name": "stdout",
     "output_type": "stream",
     "text": [
      "Defaulting to user installation because normal site-packages is not writeable\n",
      "Requirement already satisfied: yfinance in c:\\users\\kakan\\appdata\\roaming\\python\\python312\\site-packages (0.2.43)\n",
      "Requirement already satisfied: pandas>=1.3.0 in c:\\programdata\\anaconda3\\lib\\site-packages (from yfinance) (2.2.2)\n",
      "Requirement already satisfied: numpy>=1.16.5 in c:\\programdata\\anaconda3\\lib\\site-packages (from yfinance) (1.26.4)\n",
      "Requirement already satisfied: requests>=2.31 in c:\\programdata\\anaconda3\\lib\\site-packages (from yfinance) (2.32.2)\n",
      "Requirement already satisfied: multitasking>=0.0.7 in c:\\users\\kakan\\appdata\\roaming\\python\\python312\\site-packages (from yfinance) (0.0.11)\n",
      "Requirement already satisfied: lxml>=4.9.1 in c:\\programdata\\anaconda3\\lib\\site-packages (from yfinance) (5.2.1)\n",
      "Requirement already satisfied: platformdirs>=2.0.0 in c:\\users\\kakan\\appdata\\roaming\\python\\python312\\site-packages (from yfinance) (4.3.3)\n",
      "Requirement already satisfied: pytz>=2022.5 in c:\\programdata\\anaconda3\\lib\\site-packages (from yfinance) (2024.1)\n",
      "Requirement already satisfied: frozendict>=2.3.4 in c:\\programdata\\anaconda3\\lib\\site-packages (from yfinance) (2.4.2)\n",
      "Requirement already satisfied: peewee>=3.16.2 in c:\\users\\kakan\\appdata\\roaming\\python\\python312\\site-packages (from yfinance) (3.17.6)\n",
      "Requirement already satisfied: beautifulsoup4>=4.11.1 in c:\\programdata\\anaconda3\\lib\\site-packages (from yfinance) (4.12.3)\n",
      "Requirement already satisfied: html5lib>=1.1 in c:\\users\\kakan\\appdata\\roaming\\python\\python312\\site-packages (from yfinance) (1.1)\n",
      "Requirement already satisfied: soupsieve>1.2 in c:\\programdata\\anaconda3\\lib\\site-packages (from beautifulsoup4>=4.11.1->yfinance) (2.5)\n",
      "Requirement already satisfied: six>=1.9 in c:\\users\\kakan\\appdata\\roaming\\python\\python312\\site-packages (from html5lib>=1.1->yfinance) (1.16.0)\n",
      "Requirement already satisfied: webencodings in c:\\programdata\\anaconda3\\lib\\site-packages (from html5lib>=1.1->yfinance) (0.5.1)\n",
      "Requirement already satisfied: python-dateutil>=2.8.2 in c:\\users\\kakan\\appdata\\roaming\\python\\python312\\site-packages (from pandas>=1.3.0->yfinance) (2.9.0.post0)\n",
      "Requirement already satisfied: tzdata>=2022.7 in c:\\programdata\\anaconda3\\lib\\site-packages (from pandas>=1.3.0->yfinance) (2023.3)\n",
      "Requirement already satisfied: charset-normalizer<4,>=2 in c:\\programdata\\anaconda3\\lib\\site-packages (from requests>=2.31->yfinance) (2.0.4)\n",
      "Requirement already satisfied: idna<4,>=2.5 in c:\\programdata\\anaconda3\\lib\\site-packages (from requests>=2.31->yfinance) (3.7)\n",
      "Requirement already satisfied: urllib3<3,>=1.21.1 in c:\\programdata\\anaconda3\\lib\\site-packages (from requests>=2.31->yfinance) (2.2.2)\n",
      "Requirement already satisfied: certifi>=2017.4.17 in c:\\programdata\\anaconda3\\lib\\site-packages (from requests>=2.31->yfinance) (2024.8.30)\n",
      "Note: you may need to restart the kernel to use updated packages.\n"
     ]
    }
   ],
   "source": [
    "pip install yfinance\n"
   ]
  },
  {
   "cell_type": "code",
   "execution_count": 2,
   "metadata": {},
   "outputs": [
    {
     "name": "stderr",
     "output_type": "stream",
     "text": [
      "$NIFTY 50: possibly delisted; no price data found  (period=5y) (Yahoo error = \"No data found, symbol may be delisted\")\n"
     ]
    },
    {
     "name": "stdout",
     "output_type": "stream",
     "text": [
      "Empty DataFrame\n",
      "Columns: [Open, High, Low, Close, Adj Close, Volume]\n",
      "Index: []\n",
      "Data exported to hdfc_bank_historical_data_1y.csv\n"
     ]
    }
   ],
   "source": [
    "import yfinance as yf\n",
    "\n",
    "# Get stock data for HDFC Bank Ltd (NSE)\n",
    "stock = yf.Ticker(\"NIFTY 50\")\n",
    "\n",
    "# Get historical market data for the last 1 year\n",
    "hist = stock.history(period=\"5y\")\n",
    "\n",
    "# Print the historical market data\n",
    "print(hist)\n",
    "\n",
    "# Export the data to a CSV file\n",
    "hist.to_csv('hdfc_bank_historical_data_1y.csv')\n",
    "\n",
    "print(\"Data exported to hdfc_bank_historical_data_1y.csv\")\n"
   ]
  },
  {
   "cell_type": "code",
   "execution_count": 3,
   "metadata": {},
   "outputs": [
    {
     "name": "stdout",
     "output_type": "stream",
     "text": [
      "                                  Open         High          Low        Close  \\\n",
      "Date                                                                            \n",
      "2014-10-01 00:00:00+05:30   400.543524   402.925521   397.999656   401.468567   \n",
      "2014-10-07 00:00:00+05:30   400.080944   401.005986   395.039450   398.901520   \n",
      "2014-10-08 00:00:00+05:30   398.022708   402.393540   396.982035   401.283478   \n",
      "2014-10-09 00:00:00+05:30   404.243687   413.008472   401.584189   410.533966   \n",
      "2014-10-10 00:00:00+05:30   408.429487   409.400799   400.034741   401.144775   \n",
      "...                                ...          ...          ...          ...   \n",
      "2024-09-25 00:00:00+05:30  1238.000000  1271.000000  1231.099976  1268.099976   \n",
      "2024-09-26 00:00:00+05:30  1267.550049  1281.650024  1262.250000  1277.099976   \n",
      "2024-09-27 00:00:00+05:30  1273.000000  1281.550049  1257.250000  1273.150024   \n",
      "2024-09-30 00:00:00+05:30  1263.500000  1275.000000  1229.349976  1232.199951   \n",
      "2024-10-01 00:00:00+05:30  1228.099976  1242.949951  1224.650024  1226.650024   \n",
      "\n",
      "                             Volume  Dividends  Stock Splits       Ticker  \n",
      "Date                                                                       \n",
      "2014-10-01 00:00:00+05:30   2935094        0.0           0.0  HDFCBANK.NS  \n",
      "2014-10-07 00:00:00+05:30   2513144        0.0           0.0  HDFCBANK.NS  \n",
      "2014-10-08 00:00:00+05:30   1570192        0.0           0.0  HDFCBANK.NS  \n",
      "2014-10-09 00:00:00+05:30   3825210        0.0           0.0  HDFCBANK.NS  \n",
      "2014-10-10 00:00:00+05:30   2133490        0.0           0.0  HDFCBANK.NS  \n",
      "...                             ...        ...           ...          ...  \n",
      "2024-09-25 00:00:00+05:30   6853324        0.0           0.0  AXISBANK.NS  \n",
      "2024-09-26 00:00:00+05:30   7270078        0.0           0.0  AXISBANK.NS  \n",
      "2024-09-27 00:00:00+05:30  13372027        0.0           0.0  AXISBANK.NS  \n",
      "2024-09-30 00:00:00+05:30   8466919        0.0           0.0  AXISBANK.NS  \n",
      "2024-10-01 00:00:00+05:30  11164280        0.0           0.0  AXISBANK.NS  \n",
      "\n",
      "[12320 rows x 8 columns]\n",
      "Data exported to bank_stocks_historical_data.csv\n"
     ]
    }
   ],
   "source": [
    "import yfinance as yf\n",
    "import pandas as pd\n",
    "\n",
    "# List of bank stock tickers (NSE)\n",
    "tickers = [\n",
    "    \"HDFCBANK.NS\",  # HDFC Bank Ltd\n",
    "    \"ICICIBANK.NS\",  # ICICI Bank Ltd\n",
    "    \"KOTAKBANK.NS\",  # Kotak Mahindra Bank Ltd\n",
    "    \"SBIN.NS\",       # State Bank of India\n",
    "    \"AXISBANK.NS\"    # Axis Bank Ltd\n",
    "]\n",
    "\n",
    "# Create a list to store individual DataFrames\n",
    "dataframes = []\n",
    "\n",
    "# Loop through each ticker and fetch the historical data\n",
    "for ticker in tickers:\n",
    "    stock = yf.Ticker(ticker)\n",
    "    hist = stock.history(period=\"10y\")\n",
    "    \n",
    "    # Add a column for the ticker symbol\n",
    "    hist['Ticker'] = ticker\n",
    "    \n",
    "    # Append the DataFrame to the list\n",
    "    dataframes.append(hist)\n",
    "\n",
    "# Concatenate all DataFrames into a single DataFrame\n",
    "all_hist = pd.concat(dataframes)\n",
    "\n",
    "# Print the combined historical market data\n",
    "print(all_hist)\n",
    "\n",
    "# Export the data to a CSV file\n",
    "all_hist.to_csv('bank_stocks_historical_data.csv')\n",
    "\n",
    "print(\"Data exported to bank_stocks_historical_data.csv\")\n"
   ]
  },
  {
   "cell_type": "code",
   "execution_count": 4,
   "metadata": {},
   "outputs": [
    {
     "name": "stdout",
     "output_type": "stream",
     "text": [
      "                                   Open          High           Low  \\\n",
      "Date                                                                  \n",
      "2019-10-01 00:00:00+05:30  11515.400391  11554.200195  11247.900391   \n",
      "2019-10-03 00:00:00+05:30  11322.250000  11370.400391  11257.349609   \n",
      "2019-10-04 00:00:00+05:30  11388.450195  11400.299805  11158.349609   \n",
      "2019-10-07 00:00:00+05:30  11196.200195  11233.849609  11112.650391   \n",
      "2019-10-09 00:00:00+05:30  11152.950195  11321.599609  11090.150391   \n",
      "...                                 ...           ...           ...   \n",
      "2024-09-25 00:00:00+05:30  25899.449219  26032.800781  25871.349609   \n",
      "2024-09-26 00:00:00+05:30  26005.400391  26250.900391  25998.400391   \n",
      "2024-09-27 00:00:00+05:30  26248.250000  26277.349609  26151.400391   \n",
      "2024-09-30 00:00:00+05:30  26061.300781  26134.699219  25794.099609   \n",
      "2024-10-01 00:00:00+05:30  25788.449219  25907.599609  25739.199219   \n",
      "\n",
      "                                  Close   Volume  Dividends  Stock Splits  \n",
      "Date                                                                       \n",
      "2019-10-01 00:00:00+05:30  11359.900391  1305400        0.0           0.0  \n",
      "2019-10-03 00:00:00+05:30  11314.000000  1017500        0.0           0.0  \n",
      "2019-10-04 00:00:00+05:30  11174.750000   928500        0.0           0.0  \n",
      "2019-10-07 00:00:00+05:30  11126.400391   733200        0.0           0.0  \n",
      "2019-10-09 00:00:00+05:30  11313.299805   741100        0.0           0.0  \n",
      "...                                 ...      ...        ...           ...  \n",
      "2024-09-25 00:00:00+05:30  26004.150391   278500        0.0           0.0  \n",
      "2024-09-26 00:00:00+05:30  26216.050781   370900        0.0           0.0  \n",
      "2024-09-27 00:00:00+05:30  26178.949219   490300        0.0           0.0  \n",
      "2024-09-30 00:00:00+05:30  25810.849609   343100        0.0           0.0  \n",
      "2024-10-01 00:00:00+05:30  25796.900391   247400        0.0           0.0  \n",
      "\n",
      "[1236 rows x 7 columns]\n",
      "Data exported to nifty_50_historical_data_5y.csv\n"
     ]
    }
   ],
   "source": [
    "import yfinance as yf\n",
    "\n",
    "# Get stock data for Nifty 50\n",
    "stock = yf.Ticker(\"^NSEI\")\n",
    "\n",
    "# Get historical market data for the last 5 years\n",
    "hist = stock.history(period=\"5y\")\n",
    "\n",
    "# Print the historical market data\n",
    "print(hist)\n",
    "\n",
    "# Export the data to a CSV file\n",
    "hist.to_csv('nifty_50_historical_data_5y.csv')\n",
    "\n",
    "print(\"Data exported to nifty_50_historical_data_5y.csv\")\n"
   ]
  },
  {
   "cell_type": "code",
   "execution_count": 5,
   "metadata": {},
   "outputs": [
    {
     "name": "stdout",
     "output_type": "stream",
     "text": [
      "                                  Open         High          Low        Close  \\\n",
      "Date                                                                            \n",
      "2019-10-03 00:00:00+05:30  1190.325465  1194.021477  1167.669993  1174.581909   \n",
      "2019-10-04 00:00:00+05:30  1187.157616  1189.989506  1137.862736  1142.086548   \n",
      "2019-10-07 00:00:00+05:30  1153.126182  1171.029806  1133.878683  1139.398560   \n",
      "2019-10-09 00:00:00+05:30  1149.190300  1180.677643  1142.374476  1178.997681   \n",
      "2019-10-10 00:00:00+05:30  1172.901864  1176.885681  1149.286297  1152.502319   \n",
      "...                                ...          ...          ...          ...   \n",
      "2024-09-25 00:00:00+05:30  1238.000000  1271.000000  1231.099976  1268.099976   \n",
      "2024-09-26 00:00:00+05:30  1267.550049  1281.650024  1262.250000  1277.099976   \n",
      "2024-09-27 00:00:00+05:30  1273.000000  1281.550049  1257.250000  1273.150024   \n",
      "2024-09-30 00:00:00+05:30  1263.500000  1275.000000  1229.349976  1232.199951   \n",
      "2024-10-01 00:00:00+05:30  1228.099976  1242.949951  1224.650024  1226.650024   \n",
      "\n",
      "                             Volume  Dividends  Stock Splits       Ticker  \n",
      "Date                                                                       \n",
      "2019-10-03 00:00:00+05:30   8149438        0.0           0.0  HDFCBANK.NS  \n",
      "2019-10-04 00:00:00+05:30   9201816        0.0           0.0  HDFCBANK.NS  \n",
      "2019-10-07 00:00:00+05:30  11256610        0.0           0.0  HDFCBANK.NS  \n",
      "2019-10-09 00:00:00+05:30   8713635        0.0           0.0  HDFCBANK.NS  \n",
      "2019-10-10 00:00:00+05:30   5778429        0.0           0.0  HDFCBANK.NS  \n",
      "...                             ...        ...           ...          ...  \n",
      "2024-09-25 00:00:00+05:30   6853324        0.0           0.0  AXISBANK.NS  \n",
      "2024-09-26 00:00:00+05:30   7270078        0.0           0.0  AXISBANK.NS  \n",
      "2024-09-27 00:00:00+05:30  13372027        0.0           0.0  AXISBANK.NS  \n",
      "2024-09-30 00:00:00+05:30   8466919        0.0           0.0  AXISBANK.NS  \n",
      "2024-10-01 00:00:00+05:30  11164280        0.0           0.0  AXISBANK.NS  \n",
      "\n",
      "[6185 rows x 8 columns]\n",
      "Data exported to bank_stocks_historical_data.csv\n"
     ]
    }
   ],
   "source": [
    "import yfinance as yf\n",
    "import pandas as pd\n",
    "from datetime import datetime, timedelta\n",
    "\n",
    "# List of bank stock tickers (NSE)\n",
    "tickers = [\n",
    "    \"HDFCBANK.NS\",  # HDFC Bank Ltd\n",
    "    \"ICICIBANK.NS\",  # ICICI Bank Ltd\n",
    "    \"KOTAKBANK.NS\",  # Kotak Mahindra Bank Ltd\n",
    "    \"SBIN.NS\",       # State Bank of India\n",
    "    \"AXISBANK.NS\"    # Axis Bank Ltd\n",
    "]\n",
    "\n",
    "# Create a list to store individual DataFrames\n",
    "dataframes = []\n",
    "\n",
    "# Get yesterday's date\n",
    "yesterday = datetime.now() - timedelta(days=1)\n",
    "\n",
    "# Loop through each ticker and fetch the historical data\n",
    "for ticker in tickers:\n",
    "    stock = yf.Ticker(ticker)\n",
    "    hist = stock.history(start=(yesterday - pd.DateOffset(years=5)).strftime('%Y-%m-%d'), \n",
    "                          end=yesterday.strftime('%Y-%m-%d'))\n",
    "    \n",
    "    # Add a column for the ticker symbol\n",
    "    hist['Ticker'] = ticker\n",
    "    \n",
    "    # Append the DataFrame to the list\n",
    "    dataframes.append(hist)\n",
    "\n",
    "# Concatenate all DataFrames into a single DataFrame\n",
    "all_hist = pd.concat(dataframes)\n",
    "\n",
    "# Print the combined historical market data\n",
    "print(all_hist)\n",
    "\n",
    "# Export the data to a CSV file\n",
    "all_hist.to_csv('bank_stocks_historical_data.csv')\n",
    "\n",
    "print(\"Data exported to bank_stocks_historical_data.csv\")\n"
   ]
  },
  {
   "cell_type": "code",
   "execution_count": 5,
   "metadata": {},
   "outputs": [
    {
     "name": "stdout",
     "output_type": "stream",
     "text": [
      "Defaulting to user installation because normal site-packages is not writeable\n",
      "Collecting nsetools\n",
      "  Downloading nsetools-1.0.11-py3-none-any.whl.metadata (1.9 kB)\n",
      "Requirement already satisfied: six in c:\\users\\kakan\\appdata\\roaming\\python\\python312\\site-packages (from nsetools) (1.16.0)\n",
      "Collecting dateutils (from nsetools)\n",
      "  Downloading dateutils-0.6.12-py2.py3-none-any.whl.metadata (1.3 kB)\n",
      "Requirement already satisfied: python-dateutil in c:\\users\\kakan\\appdata\\roaming\\python\\python312\\site-packages (from dateutils->nsetools) (2.9.0.post0)\n",
      "Requirement already satisfied: pytz in c:\\programdata\\anaconda3\\lib\\site-packages (from dateutils->nsetools) (2024.1)\n",
      "Downloading nsetools-1.0.11-py3-none-any.whl (9.6 kB)\n",
      "Downloading dateutils-0.6.12-py2.py3-none-any.whl (5.7 kB)\n",
      "Installing collected packages: dateutils, nsetools\n",
      "Successfully installed dateutils-0.6.12 nsetools-1.0.11\n",
      "Note: you may need to restart the kernel to use updated packages.\n"
     ]
    },
    {
     "name": "stderr",
     "output_type": "stream",
     "text": [
      "  WARNING: The scripts dateadd.exe and datediff.exe are installed in 'C:\\Users\\kakan\\AppData\\Roaming\\Python\\Python312\\Scripts' which is not on PATH.\n",
      "  Consider adding this directory to PATH or, if you prefer to suppress this warning, use --no-warn-script-location.\n"
     ]
    }
   ],
   "source": [
    "pip install nsetools\n"
   ]
  },
  {
   "cell_type": "code",
   "execution_count": 7,
   "metadata": {},
   "outputs": [],
   "source": [
    "from nsetools import Nse\n"
   ]
  },
  {
   "cell_type": "code",
   "execution_count": 13,
   "metadata": {},
   "outputs": [
    {
     "name": "stdout",
     "output_type": "stream",
     "text": [
      "\n",
      "Columns for NASDAQ DataFrame:\n",
      "Index([0, 1], dtype='int64')\n"
     ]
    },
    {
     "ename": "KeyError",
     "evalue": "'Ticker'",
     "output_type": "error",
     "traceback": [
      "\u001b[1;31m---------------------------------------------------------------------------\u001b[0m",
      "\u001b[1;31mKeyError\u001b[0m                                  Traceback (most recent call last)",
      "File \u001b[1;32mC:\\ProgramData\\anaconda3\\Lib\\site-packages\\pandas\\core\\indexes\\base.py:3805\u001b[0m, in \u001b[0;36mIndex.get_loc\u001b[1;34m(self, key)\u001b[0m\n\u001b[0;32m   3804\u001b[0m \u001b[38;5;28;01mtry\u001b[39;00m:\n\u001b[1;32m-> 3805\u001b[0m     \u001b[38;5;28;01mreturn\u001b[39;00m \u001b[38;5;28;43mself\u001b[39;49m\u001b[38;5;241;43m.\u001b[39;49m\u001b[43m_engine\u001b[49m\u001b[38;5;241;43m.\u001b[39;49m\u001b[43mget_loc\u001b[49m\u001b[43m(\u001b[49m\u001b[43mcasted_key\u001b[49m\u001b[43m)\u001b[49m\n\u001b[0;32m   3806\u001b[0m \u001b[38;5;28;01mexcept\u001b[39;00m \u001b[38;5;167;01mKeyError\u001b[39;00m \u001b[38;5;28;01mas\u001b[39;00m err:\n",
      "File \u001b[1;32mindex.pyx:167\u001b[0m, in \u001b[0;36mpandas._libs.index.IndexEngine.get_loc\u001b[1;34m()\u001b[0m\n",
      "File \u001b[1;32mindex.pyx:175\u001b[0m, in \u001b[0;36mpandas._libs.index.IndexEngine.get_loc\u001b[1;34m()\u001b[0m\n",
      "File \u001b[1;32mpandas\\\\_libs\\\\index_class_helper.pxi:70\u001b[0m, in \u001b[0;36mpandas._libs.index.Int64Engine._check_type\u001b[1;34m()\u001b[0m\n",
      "\u001b[1;31mKeyError\u001b[0m: 'Ticker'",
      "\nThe above exception was the direct cause of the following exception:\n",
      "\u001b[1;31mKeyError\u001b[0m                                  Traceback (most recent call last)",
      "Cell \u001b[1;32mIn[13], line 35\u001b[0m\n\u001b[0;32m     33\u001b[0m \u001b[38;5;66;03m# Example usage\u001b[39;00m\n\u001b[0;32m     34\u001b[0m \u001b[38;5;28;01mif\u001b[39;00m \u001b[38;5;18m__name__\u001b[39m \u001b[38;5;241m==\u001b[39m \u001b[38;5;124m\"\u001b[39m\u001b[38;5;124m__main__\u001b[39m\u001b[38;5;124m\"\u001b[39m:\n\u001b[1;32m---> 35\u001b[0m     symbols \u001b[38;5;241m=\u001b[39m \u001b[43mget_stock_symbols\u001b[49m\u001b[43m(\u001b[49m\u001b[43m)\u001b[49m\n\u001b[0;32m     36\u001b[0m     \u001b[38;5;28mprint\u001b[39m(\u001b[38;5;124m\"\u001b[39m\u001b[38;5;124mStock Symbols:\u001b[39m\u001b[38;5;124m\"\u001b[39m)\n\u001b[0;32m     37\u001b[0m     \u001b[38;5;28mprint\u001b[39m(symbols)\n",
      "Cell \u001b[1;32mIn[13], line 25\u001b[0m, in \u001b[0;36mget_stock_symbols\u001b[1;34m()\u001b[0m\n\u001b[0;32m     22\u001b[0m \u001b[38;5;66;03m# Attempt to extract the stock symbols\u001b[39;00m\n\u001b[0;32m     23\u001b[0m \u001b[38;5;28;01mif\u001b[39;00m index \u001b[38;5;241m==\u001b[39m \u001b[38;5;124m'\u001b[39m\u001b[38;5;124mNASDAQ\u001b[39m\u001b[38;5;124m'\u001b[39m:\n\u001b[0;32m     24\u001b[0m     \u001b[38;5;66;03m# Adjust based on the actual column name found\u001b[39;00m\n\u001b[1;32m---> 25\u001b[0m     stock_symbols \u001b[38;5;241m+\u001b[39m\u001b[38;5;241m=\u001b[39m \u001b[43mdfs\u001b[49m\u001b[43m[\u001b[49m\u001b[38;5;241;43m0\u001b[39;49m\u001b[43m]\u001b[49m\u001b[43m[\u001b[49m\u001b[38;5;124;43m'\u001b[39;49m\u001b[38;5;124;43mTicker\u001b[39;49m\u001b[38;5;124;43m'\u001b[39;49m\u001b[43m]\u001b[49m\u001b[38;5;241m.\u001b[39mtolist()  \u001b[38;5;66;03m# Adjust if necessary\u001b[39;00m\n\u001b[0;32m     26\u001b[0m \u001b[38;5;28;01melif\u001b[39;00m index \u001b[38;5;241m==\u001b[39m \u001b[38;5;124m'\u001b[39m\u001b[38;5;124mS&P_500\u001b[39m\u001b[38;5;124m'\u001b[39m:\n\u001b[0;32m     27\u001b[0m     stock_symbols \u001b[38;5;241m+\u001b[39m\u001b[38;5;241m=\u001b[39m dfs[\u001b[38;5;241m0\u001b[39m][\u001b[38;5;124m'\u001b[39m\u001b[38;5;124mSymbol\u001b[39m\u001b[38;5;124m'\u001b[39m]\u001b[38;5;241m.\u001b[39mtolist()  \u001b[38;5;66;03m# Adjust if necessary\u001b[39;00m\n",
      "File \u001b[1;32mC:\\ProgramData\\anaconda3\\Lib\\site-packages\\pandas\\core\\frame.py:4102\u001b[0m, in \u001b[0;36mDataFrame.__getitem__\u001b[1;34m(self, key)\u001b[0m\n\u001b[0;32m   4100\u001b[0m \u001b[38;5;28;01mif\u001b[39;00m \u001b[38;5;28mself\u001b[39m\u001b[38;5;241m.\u001b[39mcolumns\u001b[38;5;241m.\u001b[39mnlevels \u001b[38;5;241m>\u001b[39m \u001b[38;5;241m1\u001b[39m:\n\u001b[0;32m   4101\u001b[0m     \u001b[38;5;28;01mreturn\u001b[39;00m \u001b[38;5;28mself\u001b[39m\u001b[38;5;241m.\u001b[39m_getitem_multilevel(key)\n\u001b[1;32m-> 4102\u001b[0m indexer \u001b[38;5;241m=\u001b[39m \u001b[38;5;28;43mself\u001b[39;49m\u001b[38;5;241;43m.\u001b[39;49m\u001b[43mcolumns\u001b[49m\u001b[38;5;241;43m.\u001b[39;49m\u001b[43mget_loc\u001b[49m\u001b[43m(\u001b[49m\u001b[43mkey\u001b[49m\u001b[43m)\u001b[49m\n\u001b[0;32m   4103\u001b[0m \u001b[38;5;28;01mif\u001b[39;00m is_integer(indexer):\n\u001b[0;32m   4104\u001b[0m     indexer \u001b[38;5;241m=\u001b[39m [indexer]\n",
      "File \u001b[1;32mC:\\ProgramData\\anaconda3\\Lib\\site-packages\\pandas\\core\\indexes\\base.py:3812\u001b[0m, in \u001b[0;36mIndex.get_loc\u001b[1;34m(self, key)\u001b[0m\n\u001b[0;32m   3807\u001b[0m     \u001b[38;5;28;01mif\u001b[39;00m \u001b[38;5;28misinstance\u001b[39m(casted_key, \u001b[38;5;28mslice\u001b[39m) \u001b[38;5;129;01mor\u001b[39;00m (\n\u001b[0;32m   3808\u001b[0m         \u001b[38;5;28misinstance\u001b[39m(casted_key, abc\u001b[38;5;241m.\u001b[39mIterable)\n\u001b[0;32m   3809\u001b[0m         \u001b[38;5;129;01mand\u001b[39;00m \u001b[38;5;28many\u001b[39m(\u001b[38;5;28misinstance\u001b[39m(x, \u001b[38;5;28mslice\u001b[39m) \u001b[38;5;28;01mfor\u001b[39;00m x \u001b[38;5;129;01min\u001b[39;00m casted_key)\n\u001b[0;32m   3810\u001b[0m     ):\n\u001b[0;32m   3811\u001b[0m         \u001b[38;5;28;01mraise\u001b[39;00m InvalidIndexError(key)\n\u001b[1;32m-> 3812\u001b[0m     \u001b[38;5;28;01mraise\u001b[39;00m \u001b[38;5;167;01mKeyError\u001b[39;00m(key) \u001b[38;5;28;01mfrom\u001b[39;00m \u001b[38;5;21;01merr\u001b[39;00m\n\u001b[0;32m   3813\u001b[0m \u001b[38;5;28;01mexcept\u001b[39;00m \u001b[38;5;167;01mTypeError\u001b[39;00m:\n\u001b[0;32m   3814\u001b[0m     \u001b[38;5;66;03m# If we have a listlike key, _check_indexing_error will raise\u001b[39;00m\n\u001b[0;32m   3815\u001b[0m     \u001b[38;5;66;03m#  InvalidIndexError. Otherwise we fall through and re-raise\u001b[39;00m\n\u001b[0;32m   3816\u001b[0m     \u001b[38;5;66;03m#  the TypeError.\u001b[39;00m\n\u001b[0;32m   3817\u001b[0m     \u001b[38;5;28mself\u001b[39m\u001b[38;5;241m.\u001b[39m_check_indexing_error(key)\n",
      "\u001b[1;31mKeyError\u001b[0m: 'Ticker'"
     ]
    }
   ],
   "source": [
    "import pandas as pd\n",
    "\n",
    "# Fetch stock data for major indices\n",
    "def get_stock_symbols():\n",
    "    # List of some major stock exchanges\n",
    "    exchanges = {\n",
    "        'NASDAQ': 'https://en.wikipedia.org/wiki/NASDAQ-100',\n",
    "        'S&P_500': 'https://en.wikipedia.org/wiki/List_of_S%26P_500_companies',\n",
    "        'NYSE': 'https://en.wikipedia.org/wiki/List_of_NYSE_stocks',\n",
    "    }\n",
    "    \n",
    "    stock_symbols = []\n",
    "\n",
    "    for index, url in exchanges.items():\n",
    "        # Use pandas to read the HTML tables directly from Wikipedia\n",
    "        dfs = pd.read_html(url)\n",
    "\n",
    "        # Print the first DataFrame's columns for debugging\n",
    "        print(f\"\\nColumns for {index} DataFrame:\")\n",
    "        print(dfs[0].columns)\n",
    "\n",
    "        # Attempt to extract the stock symbols\n",
    "        if index == 'NASDAQ':\n",
    "            # Adjust based on the actual column name found\n",
    "            stock_symbols += dfs[0]['Ticker'].tolist()  # Adjust if necessary\n",
    "        elif index == 'S&P_500':\n",
    "            stock_symbols += dfs[0]['Symbol'].tolist()  # Adjust if necessary\n",
    "        elif index == 'NYSE':\n",
    "            stock_symbols += dfs[0]['Symbol'].tolist()  # Adjust if necessary\n",
    "\n",
    "    return list(set(stock_symbols))  # Remove duplicates\n",
    "\n",
    "# Example usage\n",
    "if __name__ == \"__main__\":\n",
    "    symbols = get_stock_symbols()\n",
    "    print(\"Stock Symbols:\")\n",
    "    print(symbols)\n"
   ]
  },
  {
   "cell_type": "code",
   "execution_count": null,
   "metadata": {},
   "outputs": [],
   "source": []
  }
 ],
 "metadata": {
  "kernelspec": {
   "display_name": "Python 3 (ipykernel)",
   "language": "python",
   "name": "python3"
  },
  "language_info": {
   "codemirror_mode": {
    "name": "ipython",
    "version": 3
   },
   "file_extension": ".py",
   "mimetype": "text/x-python",
   "name": "python",
   "nbconvert_exporter": "python",
   "pygments_lexer": "ipython3",
   "version": "3.12.4"
  }
 },
 "nbformat": 4,
 "nbformat_minor": 4
}
