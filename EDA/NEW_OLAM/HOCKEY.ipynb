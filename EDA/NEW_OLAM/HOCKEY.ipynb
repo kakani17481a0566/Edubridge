{
 "cells": [
  {
   "cell_type": "code",
   "execution_count": 1,
   "id": "45d43c5f-1f4f-4658-a50e-e6dcbf855d35",
   "metadata": {},
   "outputs": [],
   "source": [
    "import pandas as pd\n",
    "import numpy as np\n",
    "import matplotlib.pyplot as plt\n",
    "import seaborn as sns"
   ]
  },
  {
   "cell_type": "code",
   "execution_count": 2,
   "id": "3812e6b8-cbce-41d9-9583-61174d1c209b",
   "metadata": {},
   "outputs": [],
   "source": [
    "hockey_data_load = pd.read_csv('C:/Users/kakan/Documents/GitHub/Edubridge/EDA/NEW_OLAM/archive/results/Hockey.csv')"
   ]
  },
  {
   "cell_type": "code",
   "execution_count": 3,
   "id": "9856e4d0-b3ac-42b9-a4c7-257ca500a57e",
   "metadata": {},
   "outputs": [
    {
     "data": {
      "text/plain": [
       "Index(['date', 'stage_code', 'event_code', 'event_name', 'event_stage',\n",
       "       'stage', 'gender', 'discipline_name', 'discipline_code', 'venue',\n",
       "       'participant_code', 'participant_name', 'participant_type',\n",
       "       'participant_country_code', 'participant_country', 'result',\n",
       "       'result_type', 'result_WLT', 'start_order'],\n",
       "      dtype='object')"
      ]
     },
     "execution_count": 3,
     "metadata": {},
     "output_type": "execute_result"
    }
   ],
   "source": [
    "hockey_data_load.columns"
   ]
  },
  {
   "cell_type": "code",
   "execution_count": 4,
   "id": "b7459805-c5dc-4512-97b0-64fc3850811c",
   "metadata": {},
   "outputs": [],
   "source": [
    "\n",
    "line_break =\"=================================================================================================================\"\n",
    "colors = ['lightcoral', 'lightblue', 'lightgreen', 'peachpuff', 'lavender', 'mintcream', 'palegoldenrod', 'thistle', 'lightyellow', 'skyblue', 'lightpink', 'honeydew', 'lavenderblush']\n"
   ]
  },
  {
   "cell_type": "code",
   "execution_count": 5,
   "id": "fd2fb401-d24c-4dce-a71a-2a53788a494f",
   "metadata": {},
   "outputs": [
    {
     "data": {
      "text/plain": [
       "date                        0\n",
       "stage_code                  0\n",
       "event_code                  0\n",
       "event_name                  0\n",
       "event_stage                 0\n",
       "stage                       0\n",
       "gender                      0\n",
       "discipline_name             0\n",
       "discipline_code             0\n",
       "venue                       0\n",
       "participant_code            0\n",
       "participant_name            0\n",
       "participant_type            0\n",
       "participant_country_code    0\n",
       "participant_country         0\n",
       "result                      0\n",
       "result_type                 0\n",
       "result_WLT                  0\n",
       "start_order                 0\n",
       "dtype: int64"
      ]
     },
     "execution_count": 5,
     "metadata": {},
     "output_type": "execute_result"
    }
   ],
   "source": [
    "hockey_data_load.isna().sum()"
   ]
  },
  {
   "cell_type": "markdown",
   "id": "3c1f1cd1-61ab-4104-b5c0-7b728ef6d66d",
   "metadata": {},
   "source": [
    "# General Overview"
   ]
  },
  {
   "cell_type": "markdown",
   "id": "ca2cc999-4b3a-4893-8671-dee294f77ea3",
   "metadata": {},
   "source": [
    "### 1. What is the distribution of events by gender?"
   ]
  },
  {
   "cell_type": "code",
   "execution_count": 8,
   "id": "3f0da426-070d-4a9b-be6f-c3d8eaf0afa2",
   "metadata": {},
   "outputs": [
    {
     "data": {
      "text/plain": [
       "Index(['date', 'stage_code', 'event_code', 'event_name', 'event_stage',\n",
       "       'stage', 'gender', 'discipline_name', 'discipline_code', 'venue',\n",
       "       'participant_code', 'participant_name', 'participant_type',\n",
       "       'participant_country_code', 'participant_country', 'result',\n",
       "       'result_type', 'result_WLT', 'start_order'],\n",
       "      dtype='object')"
      ]
     },
     "execution_count": 8,
     "metadata": {},
     "output_type": "execute_result"
    }
   ],
   "source": [
    "df_1 =  hockey_data_load\n",
    "df_1.columns"
   ]
  },
  {
   "cell_type": "code",
   "execution_count": 9,
   "id": "f809d5e6-f730-44fd-9e16-f25c5bc02e38",
   "metadata": {},
   "outputs": [
    {
     "name": "stdout",
     "output_type": "stream",
     "text": [
      "MALE_COUNT = 76  FEMALE_count = 76\n"
     ]
    }
   ],
   "source": [
    "MALE_COUNT = 0\n",
    "FEMALE_count = 0\n",
    "for i in df_1['gender']:\n",
    "    if i == 'M':\n",
    "        MALE_COUNT = MALE_COUNT+1\n",
    "    else:\n",
    "       FEMALE_count= FEMALE_count+1\n",
    "\n",
    "print(f'MALE_COUNT = {MALE_COUNT}  FEMALE_count = {FEMALE_count}')\n",
    "\n"
   ]
  },
  {
   "cell_type": "markdown",
   "id": "9c130c19-3904-4e4c-ab3d-028fd9df5570",
   "metadata": {},
   "source": [
    "### 2 How many unique events are there in the dataset?"
   ]
  },
  {
   "cell_type": "code",
   "execution_count": 11,
   "id": "0e51f25f-f30a-496e-b241-1fc864c978df",
   "metadata": {},
   "outputs": [
    {
     "data": {
      "text/plain": [
       "array(['Men', 'Women'], dtype=object)"
      ]
     },
     "execution_count": 11,
     "metadata": {},
     "output_type": "execute_result"
    }
   ],
   "source": [
    "df_2 = hockey_data_load\n",
    "df_2['event_name'].unique()\n"
   ]
  },
  {
   "cell_type": "markdown",
   "id": "016d0d42-2f1f-4f73-be2f-fd6183090e6a",
   "metadata": {},
   "source": [
    "### 3 What is the total number of participants, and how many are from each country?"
   ]
  },
  {
   "cell_type": "code",
   "execution_count": 13,
   "id": "ffb64862-3498-454b-96b9-c2163bdfd6c0",
   "metadata": {},
   "outputs": [
    {
     "data": {
      "text/plain": [
       "array(['Great Britain', 'Spain', 'Belgium', 'Ireland', 'Netherlands',\n",
       "       'South Africa', 'Australia', 'Argentina', 'Germany', 'France',\n",
       "       'India', 'New Zealand', 'United States', 'China', 'Japan'],\n",
       "      dtype=object)"
      ]
     },
     "execution_count": 13,
     "metadata": {},
     "output_type": "execute_result"
    }
   ],
   "source": [
    "df_3 = hockey_data_load\n",
    "df_3['participant_country'].unique()"
   ]
  },
  {
   "cell_type": "markdown",
   "id": "cc20b479-d276-4ff1-9393-29815cd6638c",
   "metadata": {},
   "source": [
    "### 4. Which venues are hosting the hockey events, and how many events are at each venue?\n"
   ]
  },
  {
   "cell_type": "code",
   "execution_count": 15,
   "id": "16a6c960-71dc-4a76-a473-73c1c96eacdf",
   "metadata": {},
   "outputs": [
    {
     "data": {
      "text/plain": [
       "Index(['date', 'stage_code', 'event_code', 'event_name', 'event_stage',\n",
       "       'stage', 'gender', 'discipline_name', 'discipline_code', 'venue',\n",
       "       'participant_code', 'participant_name', 'participant_type',\n",
       "       'participant_country_code', 'participant_country', 'result',\n",
       "       'result_type', 'result_WLT', 'start_order'],\n",
       "      dtype='object')"
      ]
     },
     "execution_count": 15,
     "metadata": {},
     "output_type": "execute_result"
    }
   ],
   "source": [
    "df_4 = hockey_data_load\n",
    "df_4.columns"
   ]
  },
  {
   "cell_type": "code",
   "execution_count": 16,
   "id": "a3829c48-d9db-478a-88e9-042bc6a442bf",
   "metadata": {},
   "outputs": [
    {
     "name": "stdout",
     "output_type": "stream",
     "text": [
      "venue\n",
      "Yves-du-Manoir Stadium    152\n",
      "Name: count, dtype: int64\n"
     ]
    }
   ],
   "source": [
    "print(df_4.value_counts('venue'))"
   ]
  },
  {
   "cell_type": "markdown",
   "id": "f1d30353-9349-43c3-aa19-6493db9e3d7b",
   "metadata": {},
   "source": [
    "### 5. What are the most common event names?\n"
   ]
  },
  {
   "cell_type": "code",
   "execution_count": 33,
   "id": "b82b2690-fd4c-4a6a-bc3a-2844fc85c96d",
   "metadata": {},
   "outputs": [
    {
     "data": {
      "text/plain": [
       "Index(['date', 'stage_code', 'event_code', 'event_name', 'event_stage',\n",
       "       'stage', 'gender', 'discipline_name', 'discipline_code', 'venue',\n",
       "       'participant_code', 'participant_name', 'participant_type',\n",
       "       'participant_country_code', 'participant_country', 'result',\n",
       "       'result_type', 'result_WLT', 'start_order'],\n",
       "      dtype='object')"
      ]
     },
     "execution_count": 33,
     "metadata": {},
     "output_type": "execute_result"
    }
   ],
   "source": [
    "df_5=hockey_data_load\n",
    "df_5.columns"
   ]
  }
 ],
 "metadata": {
  "kernelspec": {
   "display_name": "Python 3 (ipykernel)",
   "language": "python",
   "name": "python3"
  },
  "language_info": {
   "codemirror_mode": {
    "name": "ipython",
    "version": 3
   },
   "file_extension": ".py",
   "mimetype": "text/x-python",
   "name": "python",
   "nbconvert_exporter": "python",
   "pygments_lexer": "ipython3",
   "version": "3.12.4"
  }
 },
 "nbformat": 4,
 "nbformat_minor": 5
}
