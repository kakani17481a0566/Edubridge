{
 "cells": [
  {
   "cell_type": "code",
   "execution_count": 1,
   "metadata": {},
   "outputs": [],
   "source": [
    "import pandas as pd\n",
    "\n"
   ]
  },
  {
   "cell_type": "code",
   "execution_count": 3,
   "metadata": {},
   "outputs": [],
   "source": [
    "df_2024  = pd.read_csv('ipl_data24_ver24.csv')"
   ]
  },
  {
   "cell_type": "code",
   "execution_count": 5,
   "metadata": {},
   "outputs": [
    {
     "data": {
      "text/html": [
       "<div>\n",
       "<style scoped>\n",
       "    .dataframe tbody tr th:only-of-type {\n",
       "        vertical-align: middle;\n",
       "    }\n",
       "\n",
       "    .dataframe tbody tr th {\n",
       "        vertical-align: top;\n",
       "    }\n",
       "\n",
       "    .dataframe thead th {\n",
       "        text-align: right;\n",
       "    }\n",
       "</style>\n",
       "<table border=\"1\" class=\"dataframe\">\n",
       "  <thead>\n",
       "    <tr style=\"text-align: right;\">\n",
       "      <th></th>\n",
       "      <th>index</th>\n",
       "      <th>Date</th>\n",
       "      <th>First Team</th>\n",
       "      <th>First Innings Score</th>\n",
       "      <th>Second Team</th>\n",
       "      <th>Second Innings Score</th>\n",
       "      <th>Match_Number</th>\n",
       "      <th>Stadium</th>\n",
       "      <th>Winning_team</th>\n",
       "      <th>won_by</th>\n",
       "    </tr>\n",
       "  </thead>\n",
       "  <tbody>\n",
       "    <tr>\n",
       "      <th>0</th>\n",
       "      <td>0</td>\n",
       "      <td>Sun, May 12 - 7:00 PM</td>\n",
       "      <td>RCB</td>\n",
       "      <td>187/9, (20 ov)</td>\n",
       "      <td>DC</td>\n",
       "      <td>140/10, (19.1 ov)</td>\n",
       "      <td>62nd T20</td>\n",
       "      <td>M.Chinnaswamy Stadium • Bengaluru</td>\n",
       "      <td>Royal Challengers Bengaluru</td>\n",
       "      <td>47 runs.</td>\n",
       "    </tr>\n",
       "    <tr>\n",
       "      <th>1</th>\n",
       "      <td>1</td>\n",
       "      <td>Sun, May 12 - 3:00 PM</td>\n",
       "      <td>RR</td>\n",
       "      <td>141/5, (20 ov)</td>\n",
       "      <td>CSK</td>\n",
       "      <td>145/5, (18.2 ov)</td>\n",
       "      <td>61st T20</td>\n",
       "      <td>MA Chidambaram Stadium • Chennai</td>\n",
       "      <td>Chennai Super Kings</td>\n",
       "      <td>5 wickets</td>\n",
       "    </tr>\n",
       "    <tr>\n",
       "      <th>2</th>\n",
       "      <td>2</td>\n",
       "      <td>Sat, May 11 - 7:00 PM</td>\n",
       "      <td>KKR</td>\n",
       "      <td>157/7, (16 ov)</td>\n",
       "      <td>MI</td>\n",
       "      <td>139/8, (16 ov)</td>\n",
       "      <td>60th T20</td>\n",
       "      <td>Eden Gardens • Kolkata</td>\n",
       "      <td>Kolkata Knight Riders</td>\n",
       "      <td>18 runs.</td>\n",
       "    </tr>\n",
       "    <tr>\n",
       "      <th>3</th>\n",
       "      <td>3</td>\n",
       "      <td>Fri, May 10 - 7:00 PM</td>\n",
       "      <td>GT</td>\n",
       "      <td>231/3, (20 ov)</td>\n",
       "      <td>CSK</td>\n",
       "      <td>196/8, (20 ov)</td>\n",
       "      <td>59th T20</td>\n",
       "      <td>Narendra Modi Stadium • Ahmedabad</td>\n",
       "      <td>Gujarat Titans</td>\n",
       "      <td>35 runs.</td>\n",
       "    </tr>\n",
       "    <tr>\n",
       "      <th>4</th>\n",
       "      <td>4</td>\n",
       "      <td>Thu, May 9 - 7:00 PM</td>\n",
       "      <td>RCB</td>\n",
       "      <td>241/7, (20 ov)</td>\n",
       "      <td>PBKS</td>\n",
       "      <td>181/10, (17 ov)</td>\n",
       "      <td>58th T20</td>\n",
       "      <td>Himachal Pradesh Cricket Association Stadium •...</td>\n",
       "      <td>Royal Challengers Bengaluru</td>\n",
       "      <td>60 runs.</td>\n",
       "    </tr>\n",
       "    <tr>\n",
       "      <th>...</th>\n",
       "      <td>...</td>\n",
       "      <td>...</td>\n",
       "      <td>...</td>\n",
       "      <td>...</td>\n",
       "      <td>...</td>\n",
       "      <td>...</td>\n",
       "      <td>...</td>\n",
       "      <td>...</td>\n",
       "      <td>...</td>\n",
       "      <td>...</td>\n",
       "    </tr>\n",
       "    <tr>\n",
       "      <th>57</th>\n",
       "      <td>57</td>\n",
       "      <td>Sun, Mar 24 - 7:00 PM</td>\n",
       "      <td>GT</td>\n",
       "      <td>168/6, (20 ov)</td>\n",
       "      <td>MI</td>\n",
       "      <td>162/9, (20 ov)</td>\n",
       "      <td>5th T20</td>\n",
       "      <td>Narendra Modi Stadium • Ahmedabad</td>\n",
       "      <td>Gujarat Titans</td>\n",
       "      <td>6 runs.</td>\n",
       "    </tr>\n",
       "    <tr>\n",
       "      <th>58</th>\n",
       "      <td>58</td>\n",
       "      <td>Sun, Mar 24 - 3:00 PM</td>\n",
       "      <td>RR</td>\n",
       "      <td>193/4, (20 ov)</td>\n",
       "      <td>LSG</td>\n",
       "      <td>173/6, (20 ov)</td>\n",
       "      <td>4th T20</td>\n",
       "      <td>Sawai Mansingh Stadium • Jaipur</td>\n",
       "      <td>Rajasthan Royals</td>\n",
       "      <td>20 runs.</td>\n",
       "    </tr>\n",
       "    <tr>\n",
       "      <th>59</th>\n",
       "      <td>59</td>\n",
       "      <td>Sat, Mar 23 - 7:00 PM</td>\n",
       "      <td>KKR</td>\n",
       "      <td>208/7, (20 ov)</td>\n",
       "      <td>SRH</td>\n",
       "      <td>204/7, (20 ov)</td>\n",
       "      <td>3rd T20</td>\n",
       "      <td>Eden Gardens • Kolkata</td>\n",
       "      <td>Kolkata Knight Riders</td>\n",
       "      <td>4 runs.</td>\n",
       "    </tr>\n",
       "    <tr>\n",
       "      <th>60</th>\n",
       "      <td>60</td>\n",
       "      <td>Sat, Mar 23 - 3:00 PM</td>\n",
       "      <td>DC</td>\n",
       "      <td>174/9, (20 ov)</td>\n",
       "      <td>PBKS</td>\n",
       "      <td>177/6, (19.2 ov)</td>\n",
       "      <td>2nd T20</td>\n",
       "      <td>Maharaja Yadavindra Singh International Cricke...</td>\n",
       "      <td>Punjab Kings</td>\n",
       "      <td>4 wickets</td>\n",
       "    </tr>\n",
       "    <tr>\n",
       "      <th>61</th>\n",
       "      <td>61</td>\n",
       "      <td>Fri, Mar 22 - 8:00 PM</td>\n",
       "      <td>RCB</td>\n",
       "      <td>173/6, (20 ov)</td>\n",
       "      <td>CSK</td>\n",
       "      <td>176/4, (18.4 ov)</td>\n",
       "      <td>1st T20</td>\n",
       "      <td>MA Chidambaram Stadium • Chennai</td>\n",
       "      <td>Chennai Super Kings</td>\n",
       "      <td>6 wickets</td>\n",
       "    </tr>\n",
       "  </tbody>\n",
       "</table>\n",
       "<p>62 rows × 10 columns</p>\n",
       "</div>"
      ],
      "text/plain": [
       "    index                     Date First Team First Innings Score Second Team  \\\n",
       "0       0   Sun, May 12 - 7:00 PM        RCB      187/9, (20 ov)          DC    \n",
       "1       1   Sun, May 12 - 3:00 PM         RR      141/5, (20 ov)         CSK    \n",
       "2       2   Sat, May 11 - 7:00 PM        KKR      157/7, (16 ov)          MI    \n",
       "3       3   Fri, May 10 - 7:00 PM         GT      231/3, (20 ov)         CSK    \n",
       "4       4    Thu, May 9 - 7:00 PM        RCB      241/7, (20 ov)        PBKS    \n",
       "..    ...                      ...        ...                 ...         ...   \n",
       "57     57   Sun, Mar 24 - 7:00 PM         GT      168/6, (20 ov)          MI    \n",
       "58     58   Sun, Mar 24 - 3:00 PM         RR      193/4, (20 ov)         LSG    \n",
       "59     59   Sat, Mar 23 - 7:00 PM        KKR      208/7, (20 ov)         SRH    \n",
       "60     60   Sat, Mar 23 - 3:00 PM         DC      174/9, (20 ov)        PBKS    \n",
       "61     61   Fri, Mar 22 - 8:00 PM        RCB      173/6, (20 ov)         CSK    \n",
       "\n",
       "   Second Innings Score Match_Number  \\\n",
       "0    140/10, (19.1 ov)      62nd T20   \n",
       "1     145/5, (18.2 ov)      61st T20   \n",
       "2       139/8, (16 ov)      60th T20   \n",
       "3       196/8, (20 ov)      59th T20   \n",
       "4      181/10, (17 ov)      58th T20   \n",
       "..                  ...          ...   \n",
       "57      162/9, (20 ov)       5th T20   \n",
       "58      173/6, (20 ov)       4th T20   \n",
       "59      204/7, (20 ov)       3rd T20   \n",
       "60    177/6, (19.2 ov)       2nd T20   \n",
       "61    176/4, (18.4 ov)       1st T20   \n",
       "\n",
       "                                              Stadium  \\\n",
       "0                  M.Chinnaswamy Stadium • Bengaluru    \n",
       "1                   MA Chidambaram Stadium • Chennai    \n",
       "2                             Eden Gardens • Kolkata    \n",
       "3                  Narendra Modi Stadium • Ahmedabad    \n",
       "4   Himachal Pradesh Cricket Association Stadium •...   \n",
       "..                                                ...   \n",
       "57                 Narendra Modi Stadium • Ahmedabad    \n",
       "58                   Sawai Mansingh Stadium • Jaipur    \n",
       "59                            Eden Gardens • Kolkata    \n",
       "60  Maharaja Yadavindra Singh International Cricke...   \n",
       "61                  MA Chidambaram Stadium • Chennai    \n",
       "\n",
       "                     Winning_team       won_by  \n",
       "0    Royal Challengers Bengaluru     47 runs.   \n",
       "1            Chennai Super Kings    5 wickets   \n",
       "2          Kolkata Knight Riders     18 runs.   \n",
       "3                 Gujarat Titans     35 runs.   \n",
       "4    Royal Challengers Bengaluru     60 runs.   \n",
       "..                            ...          ...  \n",
       "57                Gujarat Titans      6 runs.   \n",
       "58              Rajasthan Royals     20 runs.   \n",
       "59         Kolkata Knight Riders      4 runs.   \n",
       "60                  Punjab Kings    4 wickets   \n",
       "61           Chennai Super Kings    6 wickets   \n",
       "\n",
       "[62 rows x 10 columns]"
      ]
     },
     "execution_count": 5,
     "metadata": {},
     "output_type": "execute_result"
    }
   ],
   "source": [
    "df_2024.reset_index()"
   ]
  },
  {
   "cell_type": "code",
   "execution_count": 24,
   "metadata": {},
   "outputs": [],
   "source": [
    "#renamin a column \n",
    "\n",
    "df_2024.rename(columns={'First Team':'First_Team'},inplace= True)\n",
    "df_2024.rename(columns={'First Innings Score': 'First_Innings_Score'}, inplace=True)\n",
    "df_2024.rename(columns={'Second Team': 'Second_Team'}, inplace=True)\n",
    "df_2024.rename(columns={'Second Innings Score': 'Second_Innings_Score'}, inplace=True)"
   ]
  },
  {
   "cell_type": "code",
   "execution_count": 26,
   "metadata": {},
   "outputs": [
    {
     "data": {
      "text/plain": [
       "Index(['Date', 'First_Team', 'First_Innings_Score', 'Second_Team',\n",
       "       'Second_Innings_Score', 'Match_Number', 'Stadium', 'Winning_team',\n",
       "       'won_by'],\n",
       "      dtype='object')"
      ]
     },
     "execution_count": 26,
     "metadata": {},
     "output_type": "execute_result"
    }
   ],
   "source": [
    "df_2024.columns"
   ]
  },
  {
   "cell_type": "code",
   "execution_count": 28,
   "metadata": {},
   "outputs": [],
   "source": [
    "df_2024.columns = df_2024.columns.str.lower()"
   ]
  },
  {
   "cell_type": "code",
   "execution_count": 29,
   "metadata": {},
   "outputs": [
    {
     "data": {
      "text/plain": [
       "Index(['date', 'first_team', 'first_innings_score', 'second_team',\n",
       "       'second_innings_score', 'match_number', 'stadium', 'winning_team',\n",
       "       'won_by'],\n",
       "      dtype='object')"
      ]
     },
     "execution_count": 29,
     "metadata": {},
     "output_type": "execute_result"
    }
   ],
   "source": [
    "df_2024.columns"
   ]
  },
  {
   "cell_type": "code",
   "execution_count": 95,
   "metadata": {},
   "outputs": [
    {
     "ename": "AttributeError",
     "evalue": "'DataFrame' object has no attribute 'unique'",
     "output_type": "error",
     "traceback": [
      "\u001b[1;31m---------------------------------------------------------------------------\u001b[0m",
      "\u001b[1;31mAttributeError\u001b[0m                            Traceback (most recent call last)",
      "\u001b[1;32m~\\AppData\\Local\\Temp\\ipykernel_4064\\1136853160.py\u001b[0m in \u001b[0;36m?\u001b[1;34m()\u001b[0m\n\u001b[1;32m----> 1\u001b[1;33m \u001b[0mTeams_playing\u001b[0m \u001b[1;33m=\u001b[0m \u001b[0mpd\u001b[0m\u001b[1;33m.\u001b[0m\u001b[0mDataFrame\u001b[0m\u001b[1;33m(\u001b[0m\u001b[0mdf_2024\u001b[0m\u001b[1;33m[\u001b[0m\u001b[1;33m[\u001b[0m\u001b[1;34m'first_team'\u001b[0m\u001b[1;33m]\u001b[0m\u001b[1;33m]\u001b[0m\u001b[1;33m.\u001b[0m\u001b[0munique\u001b[0m\u001b[1;33m(\u001b[0m\u001b[1;33m)\u001b[0m\u001b[1;33m)\u001b[0m\u001b[1;33m\u001b[0m\u001b[1;33m\u001b[0m\u001b[0m\n\u001b[0m\u001b[0;32m      2\u001b[0m \u001b[0mTeams_playing\u001b[0m\u001b[1;33m.\u001b[0m\u001b[0mreset_index\u001b[0m\u001b[1;33m(\u001b[0m\u001b[0minplace\u001b[0m\u001b[1;33m=\u001b[0m\u001b[1;32mTrue\u001b[0m\u001b[1;33m)\u001b[0m\u001b[1;33m\u001b[0m\u001b[1;33m\u001b[0m\u001b[0m\n\u001b[0;32m      3\u001b[0m \u001b[0mTeams_playing\u001b[0m\u001b[1;33m.\u001b[0m\u001b[0msort_values\u001b[0m\u001b[1;33m(\u001b[0m\u001b[0mby\u001b[0m \u001b[1;33m=\u001b[0m \u001b[1;36m0\u001b[0m\u001b[1;33m)\u001b[0m\u001b[1;33m\u001b[0m\u001b[1;33m\u001b[0m\u001b[0m\n",
      "\u001b[1;32mc:\\Users\\kakan\\AppData\\Local\\Programs\\Python\\Python312\\Lib\\site-packages\\pandas\\core\\generic.py\u001b[0m in \u001b[0;36m?\u001b[1;34m(self, name)\u001b[0m\n\u001b[0;32m   6295\u001b[0m             \u001b[1;32mand\u001b[0m \u001b[0mname\u001b[0m \u001b[1;32mnot\u001b[0m \u001b[1;32min\u001b[0m \u001b[0mself\u001b[0m\u001b[1;33m.\u001b[0m\u001b[0m_accessors\u001b[0m\u001b[1;33m\u001b[0m\u001b[1;33m\u001b[0m\u001b[0m\n\u001b[0;32m   6296\u001b[0m             \u001b[1;32mand\u001b[0m \u001b[0mself\u001b[0m\u001b[1;33m.\u001b[0m\u001b[0m_info_axis\u001b[0m\u001b[1;33m.\u001b[0m\u001b[0m_can_hold_identifiers_and_holds_name\u001b[0m\u001b[1;33m(\u001b[0m\u001b[0mname\u001b[0m\u001b[1;33m)\u001b[0m\u001b[1;33m\u001b[0m\u001b[1;33m\u001b[0m\u001b[0m\n\u001b[0;32m   6297\u001b[0m         \u001b[1;33m)\u001b[0m\u001b[1;33m:\u001b[0m\u001b[1;33m\u001b[0m\u001b[1;33m\u001b[0m\u001b[0m\n\u001b[0;32m   6298\u001b[0m             \u001b[1;32mreturn\u001b[0m \u001b[0mself\u001b[0m\u001b[1;33m[\u001b[0m\u001b[0mname\u001b[0m\u001b[1;33m]\u001b[0m\u001b[1;33m\u001b[0m\u001b[1;33m\u001b[0m\u001b[0m\n\u001b[1;32m-> 6299\u001b[1;33m         \u001b[1;32mreturn\u001b[0m \u001b[0mobject\u001b[0m\u001b[1;33m.\u001b[0m\u001b[0m__getattribute__\u001b[0m\u001b[1;33m(\u001b[0m\u001b[0mself\u001b[0m\u001b[1;33m,\u001b[0m \u001b[0mname\u001b[0m\u001b[1;33m)\u001b[0m\u001b[1;33m\u001b[0m\u001b[1;33m\u001b[0m\u001b[0m\n\u001b[0m",
      "\u001b[1;31mAttributeError\u001b[0m: 'DataFrame' object has no attribute 'unique'"
     ]
    }
   ],
   "source": [
    "Teams_playing = pd.DataFrame(df_2024[['first_team']].unique())\n",
    "Teams_playing.reset_index(inplace=True)\n",
    "Teams_playing.sort_values(by = 0)\n"
   ]
  },
  {
   "cell_type": "code",
   "execution_count": 96,
   "metadata": {},
   "outputs": [
    {
     "data": {
      "text/html": [
       "<div>\n",
       "<style scoped>\n",
       "    .dataframe tbody tr th:only-of-type {\n",
       "        vertical-align: middle;\n",
       "    }\n",
       "\n",
       "    .dataframe tbody tr th {\n",
       "        vertical-align: top;\n",
       "    }\n",
       "\n",
       "    .dataframe thead th {\n",
       "        text-align: right;\n",
       "    }\n",
       "</style>\n",
       "<table border=\"1\" class=\"dataframe\">\n",
       "  <thead>\n",
       "    <tr style=\"text-align: right;\">\n",
       "      <th></th>\n",
       "      <th>count</th>\n",
       "    </tr>\n",
       "    <tr>\n",
       "      <th>winning_team</th>\n",
       "      <th></th>\n",
       "    </tr>\n",
       "  </thead>\n",
       "  <tbody>\n",
       "    <tr>\n",
       "      <th>Kolkata Knight Riders</th>\n",
       "      <td>9</td>\n",
       "    </tr>\n",
       "    <tr>\n",
       "      <th>Rajasthan Royals</th>\n",
       "      <td>8</td>\n",
       "    </tr>\n",
       "    <tr>\n",
       "      <th>Sunrisers Hyderabad</th>\n",
       "      <td>7</td>\n",
       "    </tr>\n",
       "    <tr>\n",
       "      <th>Chennai Super Kings</th>\n",
       "      <td>7</td>\n",
       "    </tr>\n",
       "    <tr>\n",
       "      <th>Delhi Capitals</th>\n",
       "      <td>6</td>\n",
       "    </tr>\n",
       "    <tr>\n",
       "      <th>Lucknow Super Giants</th>\n",
       "      <td>6</td>\n",
       "    </tr>\n",
       "    <tr>\n",
       "      <th>Royal Challengers Bengaluru</th>\n",
       "      <td>6</td>\n",
       "    </tr>\n",
       "    <tr>\n",
       "      <th>Gujarat Titans</th>\n",
       "      <td>5</td>\n",
       "    </tr>\n",
       "    <tr>\n",
       "      <th>Mumbai Indians</th>\n",
       "      <td>4</td>\n",
       "    </tr>\n",
       "    <tr>\n",
       "      <th>Punjab Kings</th>\n",
       "      <td>4</td>\n",
       "    </tr>\n",
       "  </tbody>\n",
       "</table>\n",
       "</div>"
      ],
      "text/plain": [
       "                              count\n",
       "winning_team                       \n",
       "Kolkata Knight Riders             9\n",
       "Rajasthan Royals                  8\n",
       "Sunrisers Hyderabad               7\n",
       "Chennai Super Kings               7\n",
       "Delhi Capitals                    6\n",
       "Lucknow Super Giants              6\n",
       "Royal Challengers Bengaluru       6\n",
       "Gujarat Titans                    5\n",
       "Mumbai Indians                    4\n",
       "Punjab Kings                      4"
      ]
     },
     "execution_count": 96,
     "metadata": {},
     "output_type": "execute_result"
    }
   ],
   "source": [
    "win_count = pd.DataFrame(df_2024[['winning_team','first_team']].value_counts('winning_team'))\n",
    "#win_count.reset_index(inplace=True)\n",
    "win_count "
   ]
  },
  {
   "cell_type": "code",
   "execution_count": null,
   "metadata": {},
   "outputs": [],
   "source": []
  },
  {
   "cell_type": "code",
   "execution_count": 79,
   "metadata": {},
   "outputs": [
    {
     "data": {
      "text/plain": [
       "<Axes: xlabel='winning_team'>"
      ]
     },
     "execution_count": 79,
     "metadata": {},
     "output_type": "execute_result"
    },
    {
     "data": {
      "image/png": "[encoded data removed]",
      "text/plain": [
       "<Figure size 640x480 with 1 Axes>"
      ]
     },
     "metadata": {},
     "output_type": "display_data"
    }
   ],
   "source": [
    "win_count.plot(kind='bar' , x= 'winning_team', y = 'count')"
   ]
  },
  {
   "cell_type": "code",
   "execution_count": 89,
   "metadata": {},
   "outputs": [
    {
     "data": {
      "text/plain": [
       "<Axes: ylabel='count'>"
      ]
     },
     "execution_count": 89,
     "metadata": {},
     "output_type": "execute_result"
    },
    {
     "data": {
      "image/png": "[encoded data removed]",
      "text/plain": [
       "<Figure size 1500x400 with 1 Axes>"
      ]
     },
     "metadata": {},
     "output_type": "display_data"
    }
   ],
   "source": []
  }
 ],
 "metadata": {
  "kernelspec": {
   "display_name": "Python 3",
   "language": "python",
   "name": "python3"
  },
  "language_info": {
   "codemirror_mode": {
    "name": "ipython",
    "version": 3
   },
   "file_extension": ".py",
   "mimetype": "text/x-python",
   "name": "python",
   "nbconvert_exporter": "python",
   "pygments_lexer": "ipython3",
   "version": "3.12.6"
  }
 },
 "nbformat": 4,
 "nbformat_minor": 2
}
